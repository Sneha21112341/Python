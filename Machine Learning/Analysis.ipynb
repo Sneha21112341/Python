{
 "cells": [
  {
   "cell_type": "markdown",
   "id": "ae475373",
   "metadata": {},
   "source": [
    "# Lab 1\n",
    "  \n",
    "**Name: Sneha Gupta <br>\n",
    "RegNo: 21112341 <br>\n",
    "Class: 4BScEA** \n",
    "****"
   ]
  },
  {
   "cell_type": "markdown",
   "id": "289746c0",
   "metadata": {},
   "source": [
    "### **Objective:** <br>\n",
    "* The main objective is to analyze the data and perform Exploratory Data Analysis(EDA).\n",
    "* Clean the full dataset and tranform the data using Label Encoders.\n",
    "* Identify patterns in the data using EDA."
   ]
  },
  {
   "cell_type": "markdown",
   "id": "e520218e",
   "metadata": {},
   "source": [
    "### **Problem Definition:** <br>\n",
    "1. For the given data set perform preprocessing (Taking care of Missing values,Taking care of Categorical Features, Normalization of data set) or any other required preprocessing steps to clean the dataset. <br>\n",
    "2. Derive any three observations from the dataset using analytical knowledge and display the observations using graphs."
   ]
  },
  {
   "cell_type": "markdown",
   "id": "65e60d1b",
   "metadata": {},
   "source": [
    "### **Methodology:** <br>\n",
    "1. Import the dataset.\n",
    "2. Remove null values\n",
    "3. Analyze the data to check if there is a need for label encoding\n",
    "4. Perform label encoding\n",
    "5. Form problem statements and answer using EDA"
   ]
  },
  {
   "cell_type": "markdown",
   "id": "7a632e3b",
   "metadata": {},
   "source": [
    "### **Observations:** <br>\n",
    "* Australia had the highest sales and UK had the lowest sales.\n",
    "* San Jose had the highest quantity ordered and Boston had the lowest quantity ordered.\n",
    "* This is a cross sectional dataset as it has 3 years : 2003, 2004 and 2005.\n",
    "* Maximum ordered quantity is 64 andminimum is 19."
   ]
  },
  {
   "cell_type": "markdown",
   "id": "e106585d",
   "metadata": {},
   "source": [
    "| Question Number | Status |\n",
    "| --- | --- |\n",
    "| 1 | Completed |\n",
    "| 2 | Completed |\n"
   ]
  },
  {
   "cell_type": "code",
   "execution_count": 1,
   "id": "83cda96d",
   "metadata": {},
   "outputs": [],
   "source": [
    "#Importing necessary libraries\n",
    "import pandas as pd\n",
    "import matplotlib.pyplot as plt\n",
    "import seaborn as sns\n",
    "from sklearn.preprocessing import LabelEncoder\n",
    "import math"
   ]
  },
  {
   "cell_type": "markdown",
   "id": "aea714ea",
   "metadata": {},
   "source": [
    "## Importing df"
   ]
  },
  {
   "cell_type": "code",
   "execution_count": 2,
   "id": "c6b8ff70",
   "metadata": {},
   "outputs": [],
   "source": [
    "df = pd.read_excel(\"C:\\\\Users\\\\Lenovo\\\\Downloads\\\\sales.xlsx\",index_col=False)"
   ]
  },
  {
   "cell_type": "code",
   "execution_count": 3,
   "id": "2d301fc9",
   "metadata": {},
   "outputs": [
    {
     "data": {
      "text/html": [
       "<div>\n",
       "<style scoped>\n",
       "    .dataframe tbody tr th:only-of-type {\n",
       "        vertical-align: middle;\n",
       "    }\n",
       "\n",
       "    .dataframe tbody tr th {\n",
       "        vertical-align: top;\n",
       "    }\n",
       "\n",
       "    .dataframe thead th {\n",
       "        text-align: right;\n",
       "    }\n",
       "</style>\n",
       "<table border=\"1\" class=\"dataframe\">\n",
       "  <thead>\n",
       "    <tr style=\"text-align: right;\">\n",
       "      <th></th>\n",
       "      <th>ORDERNUMBER</th>\n",
       "      <th>QUANTITYORDERED</th>\n",
       "      <th>SALES</th>\n",
       "      <th>YEAR_ID</th>\n",
       "      <th>PRODUCTCODE</th>\n",
       "      <th>CUSTOMERNAME</th>\n",
       "      <th>CITY</th>\n",
       "      <th>STATE</th>\n",
       "      <th>COUNTRY</th>\n",
       "    </tr>\n",
       "  </thead>\n",
       "  <tbody>\n",
       "    <tr>\n",
       "      <th>0</th>\n",
       "      <td>10107</td>\n",
       "      <td>30.0</td>\n",
       "      <td>2871.00</td>\n",
       "      <td>2003</td>\n",
       "      <td>S10_1678</td>\n",
       "      <td>Land of Toys Inc.</td>\n",
       "      <td>NYC</td>\n",
       "      <td>NY</td>\n",
       "      <td>USA</td>\n",
       "    </tr>\n",
       "    <tr>\n",
       "      <th>1</th>\n",
       "      <td>10121</td>\n",
       "      <td>34.0</td>\n",
       "      <td>2765.90</td>\n",
       "      <td>2003</td>\n",
       "      <td>S10_1678</td>\n",
       "      <td>Reims Collectables</td>\n",
       "      <td>Reims</td>\n",
       "      <td>NaN</td>\n",
       "      <td>France</td>\n",
       "    </tr>\n",
       "    <tr>\n",
       "      <th>2</th>\n",
       "      <td>10134</td>\n",
       "      <td>41.0</td>\n",
       "      <td>3884.34</td>\n",
       "      <td>2003</td>\n",
       "      <td>S10_1678</td>\n",
       "      <td>Lyon Souveniers</td>\n",
       "      <td>Paris</td>\n",
       "      <td>NaN</td>\n",
       "      <td>France</td>\n",
       "    </tr>\n",
       "    <tr>\n",
       "      <th>3</th>\n",
       "      <td>10145</td>\n",
       "      <td>45.0</td>\n",
       "      <td>3746.70</td>\n",
       "      <td>2003</td>\n",
       "      <td>S10_1678</td>\n",
       "      <td>Toys4GrownUps.com</td>\n",
       "      <td>Pasadena</td>\n",
       "      <td>CA</td>\n",
       "      <td>USA</td>\n",
       "    </tr>\n",
       "    <tr>\n",
       "      <th>4</th>\n",
       "      <td>10159</td>\n",
       "      <td>49.0</td>\n",
       "      <td>5205.27</td>\n",
       "      <td>2003</td>\n",
       "      <td>S10_1678</td>\n",
       "      <td>Corporate Gift Ideas Co.</td>\n",
       "      <td>San Francisco</td>\n",
       "      <td>CA</td>\n",
       "      <td>USA</td>\n",
       "    </tr>\n",
       "  </tbody>\n",
       "</table>\n",
       "</div>"
      ],
      "text/plain": [
       "   ORDERNUMBER  QUANTITYORDERED    SALES YEAR_ID PRODUCTCODE  \\\n",
       "0        10107             30.0  2871.00    2003    S10_1678   \n",
       "1        10121             34.0  2765.90    2003    S10_1678   \n",
       "2        10134             41.0  3884.34    2003    S10_1678   \n",
       "3        10145             45.0  3746.70    2003    S10_1678   \n",
       "4        10159             49.0  5205.27    2003    S10_1678   \n",
       "\n",
       "               CUSTOMERNAME           CITY STATE COUNTRY  \n",
       "0         Land of Toys Inc.            NYC    NY     USA  \n",
       "1        Reims Collectables          Reims   NaN  France  \n",
       "2           Lyon Souveniers          Paris   NaN  France  \n",
       "3         Toys4GrownUps.com       Pasadena    CA     USA  \n",
       "4  Corporate Gift Ideas Co.  San Francisco    CA     USA  "
      ]
     },
     "execution_count": 3,
     "metadata": {},
     "output_type": "execute_result"
    }
   ],
   "source": [
    "df.head(5)"
   ]
  },
  {
   "cell_type": "markdown",
   "id": "224584e4",
   "metadata": {},
   "source": [
    "### Q1. For the given data set perform preprocessing (Taking care of Missing values,Taking care of Categorical Features, Normalization of data set) or any other required preprocessing steps to clean the dataset."
   ]
  },
  {
   "cell_type": "code",
   "execution_count": 4,
   "id": "bdb9ae3a",
   "metadata": {},
   "outputs": [
    {
     "data": {
      "text/plain": [
       "ORDERNUMBER          0\n",
       "QUANTITYORDERED      7\n",
       "SALES                5\n",
       "YEAR_ID              5\n",
       "PRODUCTCODE          6\n",
       "CUSTOMERNAME         5\n",
       "CITY                 5\n",
       "STATE              140\n",
       "COUNTRY              5\n",
       "dtype: int64"
      ]
     },
     "execution_count": 4,
     "metadata": {},
     "output_type": "execute_result"
    }
   ],
   "source": [
    "#Checking for null values\n",
    "df.isnull().sum()"
   ]
  },
  {
   "cell_type": "code",
   "execution_count": 5,
   "id": "ea172ee3",
   "metadata": {},
   "outputs": [],
   "source": [
    "#Dropping NA values\n",
    "df = df.dropna()"
   ]
  },
  {
   "cell_type": "code",
   "execution_count": 6,
   "id": "5536697c",
   "metadata": {},
   "outputs": [],
   "source": [
    "#Reset index\n",
    "df.reset_index(inplace = True, drop = True)"
   ]
  },
  {
   "cell_type": "code",
   "execution_count": 7,
   "id": "76cde516",
   "metadata": {},
   "outputs": [
    {
     "data": {
      "text/html": [
       "<style>#sk-container-id-1 {color: black;background-color: white;}#sk-container-id-1 pre{padding: 0;}#sk-container-id-1 div.sk-toggleable {background-color: white;}#sk-container-id-1 label.sk-toggleable__label {cursor: pointer;display: block;width: 100%;margin-bottom: 0;padding: 0.3em;box-sizing: border-box;text-align: center;}#sk-container-id-1 label.sk-toggleable__label-arrow:before {content: \"▸\";float: left;margin-right: 0.25em;color: #696969;}#sk-container-id-1 label.sk-toggleable__label-arrow:hover:before {color: black;}#sk-container-id-1 div.sk-estimator:hover label.sk-toggleable__label-arrow:before {color: black;}#sk-container-id-1 div.sk-toggleable__content {max-height: 0;max-width: 0;overflow: hidden;text-align: left;background-color: #f0f8ff;}#sk-container-id-1 div.sk-toggleable__content pre {margin: 0.2em;color: black;border-radius: 0.25em;background-color: #f0f8ff;}#sk-container-id-1 input.sk-toggleable__control:checked~div.sk-toggleable__content {max-height: 200px;max-width: 100%;overflow: auto;}#sk-container-id-1 input.sk-toggleable__control:checked~label.sk-toggleable__label-arrow:before {content: \"▾\";}#sk-container-id-1 div.sk-estimator input.sk-toggleable__control:checked~label.sk-toggleable__label {background-color: #d4ebff;}#sk-container-id-1 div.sk-label input.sk-toggleable__control:checked~label.sk-toggleable__label {background-color: #d4ebff;}#sk-container-id-1 input.sk-hidden--visually {border: 0;clip: rect(1px 1px 1px 1px);clip: rect(1px, 1px, 1px, 1px);height: 1px;margin: -1px;overflow: hidden;padding: 0;position: absolute;width: 1px;}#sk-container-id-1 div.sk-estimator {font-family: monospace;background-color: #f0f8ff;border: 1px dotted black;border-radius: 0.25em;box-sizing: border-box;margin-bottom: 0.5em;}#sk-container-id-1 div.sk-estimator:hover {background-color: #d4ebff;}#sk-container-id-1 div.sk-parallel-item::after {content: \"\";width: 100%;border-bottom: 1px solid gray;flex-grow: 1;}#sk-container-id-1 div.sk-label:hover label.sk-toggleable__label {background-color: #d4ebff;}#sk-container-id-1 div.sk-serial::before {content: \"\";position: absolute;border-left: 1px solid gray;box-sizing: border-box;top: 0;bottom: 0;left: 50%;z-index: 0;}#sk-container-id-1 div.sk-serial {display: flex;flex-direction: column;align-items: center;background-color: white;padding-right: 0.2em;padding-left: 0.2em;position: relative;}#sk-container-id-1 div.sk-item {position: relative;z-index: 1;}#sk-container-id-1 div.sk-parallel {display: flex;align-items: stretch;justify-content: center;background-color: white;position: relative;}#sk-container-id-1 div.sk-item::before, #sk-container-id-1 div.sk-parallel-item::before {content: \"\";position: absolute;border-left: 1px solid gray;box-sizing: border-box;top: 0;bottom: 0;left: 50%;z-index: -1;}#sk-container-id-1 div.sk-parallel-item {display: flex;flex-direction: column;z-index: 1;position: relative;background-color: white;}#sk-container-id-1 div.sk-parallel-item:first-child::after {align-self: flex-end;width: 50%;}#sk-container-id-1 div.sk-parallel-item:last-child::after {align-self: flex-start;width: 50%;}#sk-container-id-1 div.sk-parallel-item:only-child::after {width: 0;}#sk-container-id-1 div.sk-dashed-wrapped {border: 1px dashed gray;margin: 0 0.4em 0.5em 0.4em;box-sizing: border-box;padding-bottom: 0.4em;background-color: white;}#sk-container-id-1 div.sk-label label {font-family: monospace;font-weight: bold;display: inline-block;line-height: 1.2em;}#sk-container-id-1 div.sk-label-container {text-align: center;}#sk-container-id-1 div.sk-container {/* jupyter's `normalize.less` sets `[hidden] { display: none; }` but bootstrap.min.css set `[hidden] { display: none !important; }` so we also need the `!important` here to be able to override the default hidden behavior on the sphinx rendered scikit-learn.org. See: https://github.com/scikit-learn/scikit-learn/issues/21755 */display: inline-block !important;position: relative;}#sk-container-id-1 div.sk-text-repr-fallback {display: none;}</style><div id=\"sk-container-id-1\" class=\"sk-top-container\"><div class=\"sk-text-repr-fallback\"><pre>LabelEncoder()</pre><b>In a Jupyter environment, please rerun this cell to show the HTML representation or trust the notebook. <br />On GitHub, the HTML representation is unable to render, please try loading this page with nbviewer.org.</b></div><div class=\"sk-container\" hidden><div class=\"sk-item\"><div class=\"sk-estimator sk-toggleable\"><input class=\"sk-toggleable__control sk-hidden--visually\" id=\"sk-estimator-id-1\" type=\"checkbox\" checked><label for=\"sk-estimator-id-1\" class=\"sk-toggleable__label sk-toggleable__label-arrow\">LabelEncoder</label><div class=\"sk-toggleable__content\"><pre>LabelEncoder()</pre></div></div></div></div></div>"
      ],
      "text/plain": [
       "LabelEncoder()"
      ]
     },
     "execution_count": 7,
     "metadata": {},
     "output_type": "execute_result"
    }
   ],
   "source": [
    "#Label Encoding\n",
    "le = LabelEncoder()\n",
    "le"
   ]
  },
  {
   "cell_type": "code",
   "execution_count": 8,
   "id": "2adb3622",
   "metadata": {},
   "outputs": [
    {
     "data": {
      "text/html": [
       "<style>#sk-container-id-2 {color: black;background-color: white;}#sk-container-id-2 pre{padding: 0;}#sk-container-id-2 div.sk-toggleable {background-color: white;}#sk-container-id-2 label.sk-toggleable__label {cursor: pointer;display: block;width: 100%;margin-bottom: 0;padding: 0.3em;box-sizing: border-box;text-align: center;}#sk-container-id-2 label.sk-toggleable__label-arrow:before {content: \"▸\";float: left;margin-right: 0.25em;color: #696969;}#sk-container-id-2 label.sk-toggleable__label-arrow:hover:before {color: black;}#sk-container-id-2 div.sk-estimator:hover label.sk-toggleable__label-arrow:before {color: black;}#sk-container-id-2 div.sk-toggleable__content {max-height: 0;max-width: 0;overflow: hidden;text-align: left;background-color: #f0f8ff;}#sk-container-id-2 div.sk-toggleable__content pre {margin: 0.2em;color: black;border-radius: 0.25em;background-color: #f0f8ff;}#sk-container-id-2 input.sk-toggleable__control:checked~div.sk-toggleable__content {max-height: 200px;max-width: 100%;overflow: auto;}#sk-container-id-2 input.sk-toggleable__control:checked~label.sk-toggleable__label-arrow:before {content: \"▾\";}#sk-container-id-2 div.sk-estimator input.sk-toggleable__control:checked~label.sk-toggleable__label {background-color: #d4ebff;}#sk-container-id-2 div.sk-label input.sk-toggleable__control:checked~label.sk-toggleable__label {background-color: #d4ebff;}#sk-container-id-2 input.sk-hidden--visually {border: 0;clip: rect(1px 1px 1px 1px);clip: rect(1px, 1px, 1px, 1px);height: 1px;margin: -1px;overflow: hidden;padding: 0;position: absolute;width: 1px;}#sk-container-id-2 div.sk-estimator {font-family: monospace;background-color: #f0f8ff;border: 1px dotted black;border-radius: 0.25em;box-sizing: border-box;margin-bottom: 0.5em;}#sk-container-id-2 div.sk-estimator:hover {background-color: #d4ebff;}#sk-container-id-2 div.sk-parallel-item::after {content: \"\";width: 100%;border-bottom: 1px solid gray;flex-grow: 1;}#sk-container-id-2 div.sk-label:hover label.sk-toggleable__label {background-color: #d4ebff;}#sk-container-id-2 div.sk-serial::before {content: \"\";position: absolute;border-left: 1px solid gray;box-sizing: border-box;top: 0;bottom: 0;left: 50%;z-index: 0;}#sk-container-id-2 div.sk-serial {display: flex;flex-direction: column;align-items: center;background-color: white;padding-right: 0.2em;padding-left: 0.2em;position: relative;}#sk-container-id-2 div.sk-item {position: relative;z-index: 1;}#sk-container-id-2 div.sk-parallel {display: flex;align-items: stretch;justify-content: center;background-color: white;position: relative;}#sk-container-id-2 div.sk-item::before, #sk-container-id-2 div.sk-parallel-item::before {content: \"\";position: absolute;border-left: 1px solid gray;box-sizing: border-box;top: 0;bottom: 0;left: 50%;z-index: -1;}#sk-container-id-2 div.sk-parallel-item {display: flex;flex-direction: column;z-index: 1;position: relative;background-color: white;}#sk-container-id-2 div.sk-parallel-item:first-child::after {align-self: flex-end;width: 50%;}#sk-container-id-2 div.sk-parallel-item:last-child::after {align-self: flex-start;width: 50%;}#sk-container-id-2 div.sk-parallel-item:only-child::after {width: 0;}#sk-container-id-2 div.sk-dashed-wrapped {border: 1px dashed gray;margin: 0 0.4em 0.5em 0.4em;box-sizing: border-box;padding-bottom: 0.4em;background-color: white;}#sk-container-id-2 div.sk-label label {font-family: monospace;font-weight: bold;display: inline-block;line-height: 1.2em;}#sk-container-id-2 div.sk-label-container {text-align: center;}#sk-container-id-2 div.sk-container {/* jupyter's `normalize.less` sets `[hidden] { display: none; }` but bootstrap.min.css set `[hidden] { display: none !important; }` so we also need the `!important` here to be able to override the default hidden behavior on the sphinx rendered scikit-learn.org. See: https://github.com/scikit-learn/scikit-learn/issues/21755 */display: inline-block !important;position: relative;}#sk-container-id-2 div.sk-text-repr-fallback {display: none;}</style><div id=\"sk-container-id-2\" class=\"sk-top-container\"><div class=\"sk-text-repr-fallback\"><pre>LabelEncoder()</pre><b>In a Jupyter environment, please rerun this cell to show the HTML representation or trust the notebook. <br />On GitHub, the HTML representation is unable to render, please try loading this page with nbviewer.org.</b></div><div class=\"sk-container\" hidden><div class=\"sk-item\"><div class=\"sk-estimator sk-toggleable\"><input class=\"sk-toggleable__control sk-hidden--visually\" id=\"sk-estimator-id-2\" type=\"checkbox\" checked><label for=\"sk-estimator-id-2\" class=\"sk-toggleable__label sk-toggleable__label-arrow\">LabelEncoder</label><div class=\"sk-toggleable__content\"><pre>LabelEncoder()</pre></div></div></div></div></div>"
      ],
      "text/plain": [
       "LabelEncoder()"
      ]
     },
     "execution_count": 8,
     "metadata": {},
     "output_type": "execute_result"
    }
   ],
   "source": [
    "le.fit(df['STATE'])"
   ]
  },
  {
   "cell_type": "code",
   "execution_count": 9,
   "id": "d6a6dbdb",
   "metadata": {},
   "outputs": [],
   "source": [
    "df['STATE'] = le.transform(df['STATE'])"
   ]
  },
  {
   "cell_type": "code",
   "execution_count": 10,
   "id": "57192fc8",
   "metadata": {},
   "outputs": [
    {
     "data": {
      "text/plain": [
       "ORDERNUMBER          int64\n",
       "QUANTITYORDERED    float64\n",
       "SALES              float64\n",
       "YEAR_ID             object\n",
       "PRODUCTCODE         object\n",
       "CUSTOMERNAME        object\n",
       "CITY                object\n",
       "STATE                int32\n",
       "COUNTRY             object\n",
       "dtype: object"
      ]
     },
     "execution_count": 10,
     "metadata": {},
     "output_type": "execute_result"
    }
   ],
   "source": [
    "df.dtypes"
   ]
  },
  {
   "cell_type": "code",
   "execution_count": 11,
   "id": "1d793ccb",
   "metadata": {},
   "outputs": [],
   "source": [
    "#Log transformation\n",
    "country_wise_sales = pd.DataFrame(columns = ['Country', 'Sales', 'LogScales'])\n",
    "for country in df['COUNTRY'].unique():\n",
    "    sales = df[df['COUNTRY']==country]['SALES'].sum()\n",
    "    log_scales = math.log(sales)\n",
    "    country_wise_sales = country_wise_sales.append({'Country': country, 'Sales' : sales, 'LogScales':log_scales},\n",
    "                                                   ignore_index = True)"
   ]
  },
  {
   "cell_type": "code",
   "execution_count": 12,
   "id": "ae11bd16",
   "metadata": {},
   "outputs": [
    {
     "data": {
      "text/html": [
       "<div>\n",
       "<style scoped>\n",
       "    .dataframe tbody tr th:only-of-type {\n",
       "        vertical-align: middle;\n",
       "    }\n",
       "\n",
       "    .dataframe tbody tr th {\n",
       "        vertical-align: top;\n",
       "    }\n",
       "\n",
       "    .dataframe thead th {\n",
       "        text-align: right;\n",
       "    }\n",
       "</style>\n",
       "<table border=\"1\" class=\"dataframe\">\n",
       "  <thead>\n",
       "    <tr style=\"text-align: right;\">\n",
       "      <th></th>\n",
       "      <th>Country</th>\n",
       "      <th>Sales</th>\n",
       "      <th>LogScales</th>\n",
       "    </tr>\n",
       "  </thead>\n",
       "  <tbody>\n",
       "    <tr>\n",
       "      <th>0</th>\n",
       "      <td>USA</td>\n",
       "      <td>5.975956e+05</td>\n",
       "      <td>13.300670</td>\n",
       "    </tr>\n",
       "    <tr>\n",
       "      <th>1</th>\n",
       "      <td>Australia</td>\n",
       "      <td>2.345784e+09</td>\n",
       "      <td>21.575886</td>\n",
       "    </tr>\n",
       "    <tr>\n",
       "      <th>2</th>\n",
       "      <td>Canada</td>\n",
       "      <td>3.921082e+04</td>\n",
       "      <td>10.576708</td>\n",
       "    </tr>\n",
       "    <tr>\n",
       "      <th>3</th>\n",
       "      <td>Japan</td>\n",
       "      <td>3.509030e+04</td>\n",
       "      <td>10.465680</td>\n",
       "    </tr>\n",
       "    <tr>\n",
       "      <th>4</th>\n",
       "      <td>UK</td>\n",
       "      <td>4.128960e+03</td>\n",
       "      <td>8.325781</td>\n",
       "    </tr>\n",
       "  </tbody>\n",
       "</table>\n",
       "</div>"
      ],
      "text/plain": [
       "     Country         Sales  LogScales\n",
       "0        USA  5.975956e+05  13.300670\n",
       "1  Australia  2.345784e+09  21.575886\n",
       "2     Canada  3.921082e+04  10.576708\n",
       "3      Japan  3.509030e+04  10.465680\n",
       "4         UK  4.128960e+03   8.325781"
      ]
     },
     "execution_count": 12,
     "metadata": {},
     "output_type": "execute_result"
    }
   ],
   "source": [
    "country_wise_sales"
   ]
  },
  {
   "cell_type": "markdown",
   "id": "45118e9c",
   "metadata": {},
   "source": [
    "### Q2. Derive any three observations from the dataset using analytical knowledge and display the observations using graphs."
   ]
  },
  {
   "cell_type": "markdown",
   "id": "3878ac8c",
   "metadata": {},
   "source": [
    "#### 1) Which Country has the highest sales?"
   ]
  },
  {
   "cell_type": "code",
   "execution_count": 13,
   "id": "af20df4a",
   "metadata": {},
   "outputs": [
    {
     "data": {
      "text/plain": [
       "<AxesSubplot:xlabel='Country', ylabel='LogScales'>"
      ]
     },
     "execution_count": 13,
     "metadata": {},
     "output_type": "execute_result"
    },
    {
     "data": {
      "image/png": "[encoded data removed]",
      "text/plain": [
       "<Figure size 432x288 with 1 Axes>"
      ]
     },
     "metadata": {
      "needs_background": "light"
     },
     "output_type": "display_data"
    }
   ],
   "source": [
    "sns.barplot(data = country_wise_sales, y = 'LogScales', x = 'Country')"
   ]
  },
  {
   "cell_type": "markdown",
   "id": "c8cefbac",
   "metadata": {},
   "source": [
    "Observation : Australia had the highest sales and UK had the lowest sales."
   ]
  },
  {
   "cell_type": "markdown",
   "id": "d1aa83c9",
   "metadata": {},
   "source": [
    "#### 2) Which city had the highest and the lowest quantity ordered?"
   ]
  },
  {
   "cell_type": "code",
   "execution_count": 14,
   "id": "8ee467d7",
   "metadata": {},
   "outputs": [
    {
     "data": {
      "image/png": "[encoded data removed]",
      "text/plain": [
       "<Figure size 2880x720 with 1 Axes>"
      ]
     },
     "metadata": {
      "needs_background": "light"
     },
     "output_type": "display_data"
    }
   ],
   "source": [
    "fig, ax = plt.subplots(figsize=(40, 10))\n",
    "bar = sns.barplot(x = df['CITY'], y = df['QUANTITYORDERED'],ci=None)\n",
    "bar.tick_params(axis='x', rotation=90)"
   ]
  },
  {
   "cell_type": "markdown",
   "id": "ed5b1c32",
   "metadata": {},
   "source": [
    "Observation : San Jose had the highest quantity ordered and Boston had the lowest quantity ordered."
   ]
  },
  {
   "cell_type": "markdown",
   "id": "e90a3143",
   "metadata": {},
   "source": [
    "#### 3) Show if this is a time series or cross sectional dataset"
   ]
  },
  {
   "cell_type": "code",
   "execution_count": 15,
   "id": "2a249a3b",
   "metadata": {},
   "outputs": [
    {
     "data": {
      "text/plain": [
       "Text(0.5, 1.0, 'YEAR_ID')"
      ]
     },
     "execution_count": 15,
     "metadata": {},
     "output_type": "execute_result"
    },
    {
     "data": {
      "image/png": "[encoded data removed]",
      "text/plain": [
       "<Figure size 432x288 with 1 Axes>"
      ]
     },
     "metadata": {},
     "output_type": "display_data"
    }
   ],
   "source": [
    "df.groupby('YEAR_ID').size().plot(kind='pie',shadow=True,startangle=90, autopct='%1.1f%%')\n",
    "\n",
    "font1 = {'family':'serif','color':'black','size':20}\n",
    "plt.title('YEAR_ID',fontdict = font1)"
   ]
  },
  {
   "cell_type": "markdown",
   "id": "0f75461c",
   "metadata": {},
   "source": [
    "Observation : This is a cross sectional dataset as it has 3 years : 2003, 2004 and 2005."
   ]
  },
  {
   "cell_type": "markdown",
   "id": "3e3bea08",
   "metadata": {},
   "source": [
    "#### 4) What is the highest and the lowest quantity ordered ?"
   ]
  },
  {
   "cell_type": "code",
   "execution_count": 16,
   "id": "f51eba7c",
   "metadata": {},
   "outputs": [
    {
     "name": "stdout",
     "output_type": "stream",
     "text": [
      "----------------------------------------\n",
      "Maximum quantity ordered: \n",
      " 64.0\n",
      "Minimum quantity ordered: \n",
      " 19.0\n",
      "----------------------------------------\n"
     ]
    }
   ],
   "source": [
    "print(\"-\"*40)\n",
    "\n",
    "maxValues = df['QUANTITYORDERED'].max() \n",
    "print(\"Maximum quantity ordered:\",\"\\n\",maxValues)\n",
    "\n",
    "minValues = df['QUANTITYORDERED'].min()\n",
    "print(\"Minimum quantity ordered:\",\"\\n\",minValues)\n",
    "\n",
    "print(\"-\"*40)"
   ]
  },
  {
   "cell_type": "markdown",
   "id": "845c30a7",
   "metadata": {},
   "source": [
    "<br>"
   ]
  }
 ],
 "metadata": {
  "kernelspec": {
   "display_name": "Python 3",
   "language": "python",
   "name": "python3"
  },
  "language_info": {
   "codemirror_mode": {
    "name": "ipython",
    "version": 3
   },
   "file_extension": ".py",
   "mimetype": "text/x-python",
   "name": "python",
   "nbconvert_exporter": "python",
   "pygments_lexer": "ipython3",
   "version": "3.8.8"
  }
 },
 "nbformat": 4,
 "nbformat_minor": 5
}
