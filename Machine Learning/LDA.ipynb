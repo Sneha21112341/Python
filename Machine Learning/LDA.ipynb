{
 "cells": [
  {
   "cell_type": "code",
   "execution_count": 1,
   "id": "5bf0c493",
   "metadata": {},
   "outputs": [],
   "source": [
    "from sklearn.datasets import load_wine\n",
    "import pandas as pd\n",
    "import numpy as np\n",
    "np.set_printoptions(precision=4)\n",
    "from matplotlib import pyplot as plt\n",
    "import seaborn as sns\n",
    "sns.set()\n",
    "from sklearn.preprocessing import LabelEncoder\n",
    "from sklearn.tree import DecisionTreeClassifier\n",
    "from sklearn.model_selection import train_test_split\n",
    "from sklearn.metrics import confusion_matrix"
   ]
  },
  {
   "cell_type": "code",
   "execution_count": 2,
   "id": "befee794",
   "metadata": {},
   "outputs": [],
   "source": [
    "wine = load_wine()\n",
    "X = pd.DataFrame(wine.data, columns=wine.feature_names)\n",
    "y = pd.Categorical.from_codes(wine.target, wine.target_names)"
   ]
  },
  {
   "cell_type": "code",
   "execution_count": 5,
   "id": "ac42f5eb",
   "metadata": {},
   "outputs": [
    {
     "data": {
      "text/plain": [
       "array(['class_0', 'class_1', 'class_2'], dtype='<U7')"
      ]
     },
     "execution_count": 5,
     "metadata": {},
     "output_type": "execute_result"
    }
   ],
   "source": [
    "wine.target_names"
   ]
  },
  {
   "cell_type": "code",
   "execution_count": 3,
   "id": "a3f0184d",
   "metadata": {},
   "outputs": [],
   "source": [
    "# create a DataFrame containing both the features and classes.\n",
    "df = X.join(pd.Series(y, name='class'))"
   ]
  },
  {
   "cell_type": "code",
   "execution_count": 4,
   "id": "cd8c8cf7",
   "metadata": {},
   "outputs": [
    {
     "data": {
      "text/html": [
       "<div>\n",
       "<style scoped>\n",
       "    .dataframe tbody tr th:only-of-type {\n",
       "        vertical-align: middle;\n",
       "    }\n",
       "\n",
       "    .dataframe tbody tr th {\n",
       "        vertical-align: top;\n",
       "    }\n",
       "\n",
       "    .dataframe thead th {\n",
       "        text-align: right;\n",
       "    }\n",
       "</style>\n",
       "<table border=\"1\" class=\"dataframe\">\n",
       "  <thead>\n",
       "    <tr style=\"text-align: right;\">\n",
       "      <th></th>\n",
       "      <th>alcohol</th>\n",
       "      <th>malic_acid</th>\n",
       "      <th>ash</th>\n",
       "      <th>alcalinity_of_ash</th>\n",
       "      <th>magnesium</th>\n",
       "      <th>total_phenols</th>\n",
       "      <th>flavanoids</th>\n",
       "      <th>nonflavanoid_phenols</th>\n",
       "      <th>proanthocyanins</th>\n",
       "      <th>color_intensity</th>\n",
       "      <th>hue</th>\n",
       "      <th>od280/od315_of_diluted_wines</th>\n",
       "      <th>proline</th>\n",
       "      <th>class</th>\n",
       "    </tr>\n",
       "  </thead>\n",
       "  <tbody>\n",
       "    <tr>\n",
       "      <th>0</th>\n",
       "      <td>14.23</td>\n",
       "      <td>1.71</td>\n",
       "      <td>2.43</td>\n",
       "      <td>15.6</td>\n",
       "      <td>127.0</td>\n",
       "      <td>2.80</td>\n",
       "      <td>3.06</td>\n",
       "      <td>0.28</td>\n",
       "      <td>2.29</td>\n",
       "      <td>5.64</td>\n",
       "      <td>1.04</td>\n",
       "      <td>3.92</td>\n",
       "      <td>1065.0</td>\n",
       "      <td>class_0</td>\n",
       "    </tr>\n",
       "    <tr>\n",
       "      <th>1</th>\n",
       "      <td>13.20</td>\n",
       "      <td>1.78</td>\n",
       "      <td>2.14</td>\n",
       "      <td>11.2</td>\n",
       "      <td>100.0</td>\n",
       "      <td>2.65</td>\n",
       "      <td>2.76</td>\n",
       "      <td>0.26</td>\n",
       "      <td>1.28</td>\n",
       "      <td>4.38</td>\n",
       "      <td>1.05</td>\n",
       "      <td>3.40</td>\n",
       "      <td>1050.0</td>\n",
       "      <td>class_0</td>\n",
       "    </tr>\n",
       "    <tr>\n",
       "      <th>2</th>\n",
       "      <td>13.16</td>\n",
       "      <td>2.36</td>\n",
       "      <td>2.67</td>\n",
       "      <td>18.6</td>\n",
       "      <td>101.0</td>\n",
       "      <td>2.80</td>\n",
       "      <td>3.24</td>\n",
       "      <td>0.30</td>\n",
       "      <td>2.81</td>\n",
       "      <td>5.68</td>\n",
       "      <td>1.03</td>\n",
       "      <td>3.17</td>\n",
       "      <td>1185.0</td>\n",
       "      <td>class_0</td>\n",
       "    </tr>\n",
       "    <tr>\n",
       "      <th>3</th>\n",
       "      <td>14.37</td>\n",
       "      <td>1.95</td>\n",
       "      <td>2.50</td>\n",
       "      <td>16.8</td>\n",
       "      <td>113.0</td>\n",
       "      <td>3.85</td>\n",
       "      <td>3.49</td>\n",
       "      <td>0.24</td>\n",
       "      <td>2.18</td>\n",
       "      <td>7.80</td>\n",
       "      <td>0.86</td>\n",
       "      <td>3.45</td>\n",
       "      <td>1480.0</td>\n",
       "      <td>class_0</td>\n",
       "    </tr>\n",
       "    <tr>\n",
       "      <th>4</th>\n",
       "      <td>13.24</td>\n",
       "      <td>2.59</td>\n",
       "      <td>2.87</td>\n",
       "      <td>21.0</td>\n",
       "      <td>118.0</td>\n",
       "      <td>2.80</td>\n",
       "      <td>2.69</td>\n",
       "      <td>0.39</td>\n",
       "      <td>1.82</td>\n",
       "      <td>4.32</td>\n",
       "      <td>1.04</td>\n",
       "      <td>2.93</td>\n",
       "      <td>735.0</td>\n",
       "      <td>class_0</td>\n",
       "    </tr>\n",
       "  </tbody>\n",
       "</table>\n",
       "</div>"
      ],
      "text/plain": [
       "   alcohol  malic_acid   ash  alcalinity_of_ash  magnesium  total_phenols  \\\n",
       "0    14.23        1.71  2.43               15.6      127.0           2.80   \n",
       "1    13.20        1.78  2.14               11.2      100.0           2.65   \n",
       "2    13.16        2.36  2.67               18.6      101.0           2.80   \n",
       "3    14.37        1.95  2.50               16.8      113.0           3.85   \n",
       "4    13.24        2.59  2.87               21.0      118.0           2.80   \n",
       "\n",
       "   flavanoids  nonflavanoid_phenols  proanthocyanins  color_intensity   hue  \\\n",
       "0        3.06                  0.28             2.29             5.64  1.04   \n",
       "1        2.76                  0.26             1.28             4.38  1.05   \n",
       "2        3.24                  0.30             2.81             5.68  1.03   \n",
       "3        3.49                  0.24             2.18             7.80  0.86   \n",
       "4        2.69                  0.39             1.82             4.32  1.04   \n",
       "\n",
       "   od280/od315_of_diluted_wines  proline    class  \n",
       "0                          3.92   1065.0  class_0  \n",
       "1                          3.40   1050.0  class_0  \n",
       "2                          3.17   1185.0  class_0  \n",
       "3                          3.45   1480.0  class_0  \n",
       "4                          2.93    735.0  class_0  "
      ]
     },
     "execution_count": 4,
     "metadata": {},
     "output_type": "execute_result"
    }
   ],
   "source": [
    "df.head()"
   ]
  },
  {
   "cell_type": "code",
   "execution_count": 6,
   "id": "c97dcc2c",
   "metadata": {
    "scrolled": true
   },
   "outputs": [
    {
     "data": {
      "text/html": [
       "<div>\n",
       "<style scoped>\n",
       "    .dataframe tbody tr th:only-of-type {\n",
       "        vertical-align: middle;\n",
       "    }\n",
       "\n",
       "    .dataframe tbody tr th {\n",
       "        vertical-align: top;\n",
       "    }\n",
       "\n",
       "    .dataframe thead th {\n",
       "        text-align: right;\n",
       "    }\n",
       "</style>\n",
       "<table border=\"1\" class=\"dataframe\">\n",
       "  <thead>\n",
       "    <tr style=\"text-align: right;\">\n",
       "      <th></th>\n",
       "      <th>class_0</th>\n",
       "      <th>class_1</th>\n",
       "      <th>class_2</th>\n",
       "    </tr>\n",
       "  </thead>\n",
       "  <tbody>\n",
       "    <tr>\n",
       "      <th>alcohol</th>\n",
       "      <td>13.744746</td>\n",
       "      <td>12.278732</td>\n",
       "      <td>13.153750</td>\n",
       "    </tr>\n",
       "    <tr>\n",
       "      <th>malic_acid</th>\n",
       "      <td>2.010678</td>\n",
       "      <td>1.932676</td>\n",
       "      <td>3.333750</td>\n",
       "    </tr>\n",
       "    <tr>\n",
       "      <th>ash</th>\n",
       "      <td>2.455593</td>\n",
       "      <td>2.244789</td>\n",
       "      <td>2.437083</td>\n",
       "    </tr>\n",
       "    <tr>\n",
       "      <th>alcalinity_of_ash</th>\n",
       "      <td>17.037288</td>\n",
       "      <td>20.238028</td>\n",
       "      <td>21.416667</td>\n",
       "    </tr>\n",
       "    <tr>\n",
       "      <th>magnesium</th>\n",
       "      <td>106.338983</td>\n",
       "      <td>94.549296</td>\n",
       "      <td>99.312500</td>\n",
       "    </tr>\n",
       "    <tr>\n",
       "      <th>total_phenols</th>\n",
       "      <td>2.840169</td>\n",
       "      <td>2.258873</td>\n",
       "      <td>1.678750</td>\n",
       "    </tr>\n",
       "    <tr>\n",
       "      <th>flavanoids</th>\n",
       "      <td>2.982373</td>\n",
       "      <td>2.080845</td>\n",
       "      <td>0.781458</td>\n",
       "    </tr>\n",
       "    <tr>\n",
       "      <th>nonflavanoid_phenols</th>\n",
       "      <td>0.290000</td>\n",
       "      <td>0.363662</td>\n",
       "      <td>0.447500</td>\n",
       "    </tr>\n",
       "    <tr>\n",
       "      <th>proanthocyanins</th>\n",
       "      <td>1.899322</td>\n",
       "      <td>1.630282</td>\n",
       "      <td>1.153542</td>\n",
       "    </tr>\n",
       "    <tr>\n",
       "      <th>color_intensity</th>\n",
       "      <td>5.528305</td>\n",
       "      <td>3.086620</td>\n",
       "      <td>7.396250</td>\n",
       "    </tr>\n",
       "    <tr>\n",
       "      <th>hue</th>\n",
       "      <td>1.062034</td>\n",
       "      <td>1.056282</td>\n",
       "      <td>0.682708</td>\n",
       "    </tr>\n",
       "    <tr>\n",
       "      <th>od280/od315_of_diluted_wines</th>\n",
       "      <td>3.157797</td>\n",
       "      <td>2.785352</td>\n",
       "      <td>1.683542</td>\n",
       "    </tr>\n",
       "    <tr>\n",
       "      <th>proline</th>\n",
       "      <td>1115.711864</td>\n",
       "      <td>519.507042</td>\n",
       "      <td>629.895833</td>\n",
       "    </tr>\n",
       "  </tbody>\n",
       "</table>\n",
       "</div>"
      ],
      "text/plain": [
       "                                  class_0     class_1     class_2\n",
       "alcohol                         13.744746   12.278732   13.153750\n",
       "malic_acid                       2.010678    1.932676    3.333750\n",
       "ash                              2.455593    2.244789    2.437083\n",
       "alcalinity_of_ash               17.037288   20.238028   21.416667\n",
       "magnesium                      106.338983   94.549296   99.312500\n",
       "total_phenols                    2.840169    2.258873    1.678750\n",
       "flavanoids                       2.982373    2.080845    0.781458\n",
       "nonflavanoid_phenols             0.290000    0.363662    0.447500\n",
       "proanthocyanins                  1.899322    1.630282    1.153542\n",
       "color_intensity                  5.528305    3.086620    7.396250\n",
       "hue                              1.062034    1.056282    0.682708\n",
       "od280/od315_of_diluted_wines     3.157797    2.785352    1.683542\n",
       "proline                       1115.711864  519.507042  629.895833"
      ]
     },
     "execution_count": 6,
     "metadata": {},
     "output_type": "execute_result"
    }
   ],
   "source": [
    "class_feature_means = pd.DataFrame(columns=wine.target_names)\n",
    "for c, rows in df.groupby('class'):\n",
    "    class_feature_means[c] = rows.mean()\n",
    "class_feature_means"
   ]
  },
  {
   "cell_type": "markdown",
   "id": "84de0d5d",
   "metadata": {},
   "source": [
    "### Compute the within class and between class scatter matrices"
   ]
  },
  {
   "cell_type": "code",
   "execution_count": 14,
   "id": "8ed699a9",
   "metadata": {},
   "outputs": [],
   "source": [
    "within_class_scatter_matrix = np.zeros((13,13))\n",
    "for c, rows in df.groupby('class'):\n",
    "    rows = rows.drop(['class'],axis=1)\n",
    "    \n",
    "    s = np.zeros((13,13))\n",
    "for index, row in rows.iterrows():\n",
    "    x, mc = row.values.reshape(13,1), class_feature_means[c].values.reshape(13,1)\n",
    "    s += (x - mc).dot((x - mc).T)\n",
    "    within_class_scatter_matrix += s"
   ]
  },
  {
   "cell_type": "code",
   "execution_count": 29,
   "id": "46ce5c12",
   "metadata": {},
   "outputs": [
    {
     "data": {
      "text/plain": [
       "array([[ 2.9229e+02,  6.2033e+01,  1.4718e+01,  1.9552e+02, -6.7906e+02,\n",
       "         3.0044e+01,  3.9477e+00,  1.1577e+00,  7.3445e+01,  4.5908e+02,\n",
       "        -5.8483e+00,  4.0079e+01, -1.3837e+04],\n",
       "       [ 6.2033e+01,  1.5010e+03,  1.4554e+01,  5.0418e+02, -3.8950e+03,\n",
       "        -7.4734e+01, -1.3327e+02,  3.6566e+01, -9.6153e+01, -3.2497e+02,\n",
       "         9.7079e+00,  2.0324e+01, -9.8806e+03],\n",
       "       [ 1.4718e+01,  1.4554e+01,  3.8050e+01,  3.5658e+02,  4.2941e+02,\n",
       "         2.8423e+01,  1.1072e+01,  9.1072e-01,  8.6140e+00,  4.7579e+01,\n",
       "         4.5713e+00,  1.5737e+01, -5.4286e+03],\n",
       "       [ 1.9552e+02,  5.0418e+02,  3.5658e+02,  6.1133e+03,  4.1436e+03,\n",
       "         2.5940e+02,  1.5286e+02, -2.7083e-01,  1.9003e+02,  1.0519e+03,\n",
       "        -5.0408e+00,  5.1747e+01, -5.5516e+04],\n",
       "       [-6.7906e+02, -3.8950e+03,  4.2941e+02,  4.1436e+03,  1.3430e+05,\n",
       "        -3.2224e+02,  2.7906e+03, -1.0904e+03,  5.7724e+02,  2.9508e+03,\n",
       "        -3.8039e+01, -1.0529e+03,  5.5890e+03],\n",
       "       [ 3.0044e+01, -7.4734e+01,  2.8423e+01,  2.5940e+02, -3.2224e+02,\n",
       "         1.4785e+02,  1.0846e+01,  2.2131e+01,  9.5662e+01,  3.0789e+02,\n",
       "         3.1736e+00,  3.3217e+01,  1.7042e+03],\n",
       "       [ 3.9477e+00, -1.3327e+02,  1.1072e+01,  1.5286e+02,  2.7906e+03,\n",
       "         1.0846e+01,  1.2056e+02, -3.7907e+01,  4.6664e+01,  2.8599e+02,\n",
       "        -1.2625e+01, -5.8318e+01, -1.2299e+04],\n",
       "       [ 1.1577e+00,  3.6566e+01,  9.1072e-01, -2.7083e-01, -1.0904e+03,\n",
       "         2.2131e+01, -3.7907e+01,  2.3526e+01,  1.1744e+01,  1.9492e+01,\n",
       "         3.5282e+00,  1.9193e+01,  3.8033e+03],\n",
       "       [ 7.3445e+01, -9.6153e+01,  8.6140e+00,  1.9003e+02,  5.7724e+02,\n",
       "         9.5662e+01,  4.6664e+01,  1.1744e+01,  1.8182e+02,  7.8835e+02,\n",
       "        -2.6393e+01, -1.7742e+01,  7.0694e+03],\n",
       "       [ 4.5908e+02, -3.2497e+02,  4.7579e+01,  1.0519e+03,  2.9508e+03,\n",
       "         3.0789e+02,  2.8599e+02,  1.9492e+01,  7.8835e+02,  6.4776e+03,\n",
       "        -2.0420e+02, -3.5949e+01,  2.3941e+04],\n",
       "       [-5.8483e+00,  9.7079e+00,  4.5713e+00, -5.0408e+00, -3.8039e+01,\n",
       "         3.1736e+00, -1.2625e+01,  3.5282e+00, -2.6393e+01, -2.0420e+02,\n",
       "         1.6133e+01,  1.4240e+01, -5.7871e+02],\n",
       "       [ 4.0079e+01,  2.0324e+01,  1.5737e+01,  5.1747e+01, -1.0529e+03,\n",
       "         3.3217e+01, -5.8318e+01,  1.9193e+01, -1.7742e+01, -3.5949e+01,\n",
       "         1.4240e+01,  1.1767e+02,  1.0245e+04],\n",
       "       [-1.3837e+04, -9.8806e+03, -5.4286e+03, -5.5516e+04,  5.5890e+03,\n",
       "         1.7042e+03, -1.2299e+04,  3.8033e+03,  7.0694e+03,  2.3941e+04,\n",
       "        -5.7871e+02,  1.0245e+04,  1.3857e+07]])"
      ]
     },
     "execution_count": 29,
     "metadata": {},
     "output_type": "execute_result"
    }
   ],
   "source": [
    "within_class_scatter_matrix"
   ]
  },
  {
   "cell_type": "code",
   "execution_count": 15,
   "id": "7c889eb6",
   "metadata": {},
   "outputs": [],
   "source": [
    "feature_means = df.mean()\n",
    "between_class_scatter_matrix = np.zeros((13,13))\n",
    "for c in class_feature_means:    \n",
    "    n = len(df.loc[df['class'] == c].index)\n",
    "    \n",
    "    mc, m = class_feature_means[c].values.reshape(13,1), feature_means.values.reshape(13,1)\n",
    "    \n",
    "    between_class_scatter_matrix += n * (mc - m).dot((mc - m).T)"
   ]
  },
  {
   "cell_type": "code",
   "execution_count": 30,
   "id": "ddd88fc2",
   "metadata": {},
   "outputs": [
    {
     "data": {
      "text/plain": [
       "array([[ 7.0795e+01,  1.3723e+01,  1.0668e+01, -1.3186e+02,  5.5262e+02,\n",
       "         2.1257e+01,  3.0029e+01, -2.6178e+00,  8.3076e+00,  1.3888e+02,\n",
       "        -2.4933e+00,  8.2530e+00,  2.6987e+04],\n",
       "       [ 1.3723e+01,  6.5578e+01,  5.1556e+00,  1.1793e+02,  1.5062e+00,\n",
       "        -3.8943e+01, -7.9531e+01,  5.4292e+00, -2.7994e+01,  1.5941e+02,\n",
       "        -1.7995e+01, -5.9906e+01, -6.1709e+03],\n",
       "       [ 1.0668e+01,  5.1556e+00,  1.7592e+00, -1.2829e+01,  7.8095e+01,\n",
       "         1.0900e+00,  3.3671e-01, -1.0316e-01, -2.0087e-01,  2.7430e+01,\n",
       "        -1.2351e+00, -1.7747e+00,  3.5073e+03],\n",
       "       [-1.3186e+02,  1.1793e+02, -1.2829e+01,  5.7283e+02, -1.2702e+03,\n",
       "        -1.3780e+02, -2.5058e+02,  1.8415e+01, -8.2987e+01,  4.3483e+01,\n",
       "        -3.5293e+01, -1.5564e+02, -7.6268e+04],\n",
       "       [ 5.5262e+02,  1.5062e+00,  7.8095e+01, -1.2702e+03,  4.4910e+03,\n",
       "         2.3822e+02,  3.7768e+02, -3.0399e+01,  1.1454e+02,  8.6166e+02,\n",
       "         9.9330e+00,  1.6767e+02,  2.2980e+05],\n",
       "       [ 2.1257e+01, -3.8943e+01,  1.0900e+00, -1.3780e+02,  2.3822e+02,\n",
       "         3.5857e+01,  6.7435e+01, -4.8492e+00,  2.2756e+01, -4.8981e+01,\n",
       "         1.1237e+01,  4.4575e+01,  1.5907e+04],\n",
       "       [ 3.0029e+01, -7.9531e+01,  3.3671e-01, -2.5058e+02,  3.7768e+02,\n",
       "         6.7435e+01,  1.2852e+02, -9.1637e+00,  4.3683e+01, -1.2082e+02,\n",
       "         2.2699e+01,  8.6937e+01,  2.6915e+04],\n",
       "       [-2.6178e+00,  5.4292e+00, -1.0316e-01,  1.8415e+01, -3.0399e+01,\n",
       "        -4.8492e+00, -9.1637e+00,  6.5694e-01, -3.1004e+00,  7.3657e+00,\n",
       "        -1.5602e+00, -6.1085e+00, -2.0737e+03],\n",
       "       [ 8.3076e+00, -2.7994e+01, -2.0087e-01, -8.2987e+01,  1.1454e+02,\n",
       "         2.2756e+01,  4.3683e+01, -3.1004e+00,  1.4904e+01, -4.6041e+01,\n",
       "         7.9472e+00,  2.9908e+01,  8.5317e+03],\n",
       "       [ 1.3888e+02,  1.5941e+02,  2.7430e+01,  4.3483e+01,  8.6166e+02,\n",
       "        -4.8981e+01, -1.2082e+02,  7.3657e+00, -4.6041e+01,  5.5142e+02,\n",
       "        -4.1767e+01, -1.1333e+02,  2.8929e+04],\n",
       "       [-2.4933e+00, -1.7995e+01, -1.2351e+00, -3.5293e+01,  9.9330e+00,\n",
       "         1.1237e+01,  2.2699e+01, -1.5602e+00,  7.9472e+00, -4.1767e+01,\n",
       "         4.9620e+00,  1.6828e+01,  2.2231e+03],\n",
       "       [ 8.2530e+00, -5.9906e+01, -1.7747e+00, -1.5564e+02,  1.6767e+02,\n",
       "         4.4575e+01,  8.6937e+01, -6.1085e+00,  2.9908e+01, -1.1333e+02,\n",
       "         1.6828e+01,  6.1087e+01,  1.4292e+04],\n",
       "       [ 2.6987e+04, -6.1709e+03,  3.5073e+03, -7.6268e+04,  2.2980e+05,\n",
       "         1.5907e+04,  2.6915e+04, -2.0737e+03,  8.5317e+03,  2.8929e+04,\n",
       "         2.2231e+03,  1.4292e+04,  1.2354e+07]])"
      ]
     },
     "execution_count": 30,
     "metadata": {},
     "output_type": "execute_result"
    }
   ],
   "source": [
    "between_class_scatter_matrix"
   ]
  },
  {
   "cell_type": "markdown",
   "id": "a143050d",
   "metadata": {},
   "source": [
    "### Compute the eigenvectors and corresponding eigenvalues for the scatter matrices"
   ]
  },
  {
   "cell_type": "code",
   "execution_count": 16,
   "id": "d2424a52",
   "metadata": {},
   "outputs": [],
   "source": [
    "eigen_values, eigen_vectors = np.linalg.eig(np.linalg.inv(within_class_scatter_matrix).dot(between_class_scatter_matrix))"
   ]
  },
  {
   "cell_type": "code",
   "execution_count": 31,
   "id": "18400677",
   "metadata": {},
   "outputs": [
    {
     "data": {
      "text/plain": [
       "array([ 4.4409e-16+0.0000e+00j,  2.9034e+00+0.0000e+00j,\n",
       "        9.8845e+00+0.0000e+00j, -2.6099e-16+3.6939e-16j,\n",
       "       -2.6099e-16-3.6939e-16j, -4.9900e-16+0.0000e+00j,\n",
       "        3.8407e-16+2.0685e-16j,  3.8407e-16-2.0685e-16j,\n",
       "        2.5881e-16+1.8145e-16j,  2.5881e-16-1.8145e-16j,\n",
       "        8.1893e-17+0.0000e+00j, -2.0356e-17+3.3398e-17j,\n",
       "       -2.0356e-17-3.3398e-17j])"
      ]
     },
     "execution_count": 31,
     "metadata": {},
     "output_type": "execute_result"
    }
   ],
   "source": [
    "eigen_values"
   ]
  },
  {
   "cell_type": "code",
   "execution_count": 32,
   "id": "be84251e",
   "metadata": {},
   "outputs": [
    {
     "data": {
      "text/plain": [
       "array([[-5.1663e-01+0.0000e+00j,  2.0879e-01+0.0000e+00j,\n",
       "        -4.1562e-02+0.0000e+00j, -7.7688e-02-7.3030e-02j,\n",
       "        -7.7688e-02+7.3030e-02j,  4.5170e-02+0.0000e+00j,\n",
       "        -1.6341e-01+2.4440e-01j, -1.6341e-01-2.4440e-01j,\n",
       "         2.6958e-01+1.9831e-02j,  2.6958e-01-1.9831e-02j,\n",
       "        -2.9595e-01+0.0000e+00j,  1.5512e-01+1.3694e-01j,\n",
       "         1.5512e-01-1.3694e-01j],\n",
       "       [ 6.5020e-03+0.0000e+00j,  3.6500e-03+0.0000e+00j,\n",
       "        -1.6684e-02+0.0000e+00j, -1.9099e-02+1.5779e-01j,\n",
       "        -1.9099e-02-1.5779e-01j,  1.9110e-02+0.0000e+00j,\n",
       "         1.0327e-01+1.5778e-01j,  1.0327e-01-1.5778e-01j,\n",
       "         2.1503e-01-1.3121e-01j,  2.1503e-01+1.3121e-01j,\n",
       "         9.6905e-03+0.0000e+00j, -2.0572e-02-1.2808e-02j,\n",
       "        -2.0572e-02+1.2808e-02j],\n",
       "       [ 3.7477e-01+0.0000e+00j,  4.5911e-01+0.0000e+00j,\n",
       "        -4.4776e-03+0.0000e+00j,  2.7418e-01-1.8562e-02j,\n",
       "         2.7418e-01+1.8562e-02j, -7.8043e-01+0.0000e+00j,\n",
       "         1.0257e-01-3.6877e-02j,  1.0257e-01+3.6877e-02j,\n",
       "         1.7529e-01+3.9909e-01j,  1.7529e-01-3.9909e-01j,\n",
       "         8.1587e-01+0.0000e+00j,  6.4960e-02+2.4439e-01j,\n",
       "         6.4960e-02-2.4439e-01j],\n",
       "       [-2.1909e-02+0.0000e+00j, -2.4950e-02+0.0000e+00j,\n",
       "         7.5359e-03+0.0000e+00j,  2.2669e-03-1.2313e-02j,\n",
       "         2.2669e-03+1.2313e-02j, -5.2181e-03+0.0000e+00j,\n",
       "         2.5609e-02+3.1752e-02j,  2.5609e-02-3.1752e-02j,\n",
       "         1.0893e-02-4.6975e-02j,  1.0893e-02+4.6975e-02j,\n",
       "        -4.0478e-04+0.0000e+00j,  3.0448e-02+9.4759e-03j,\n",
       "         3.0448e-02-9.4759e-03j],\n",
       "       [ 1.1686e-03+0.0000e+00j,  3.1071e-03+0.0000e+00j,\n",
       "         6.4335e-03+0.0000e+00j,  9.7024e-03-6.3432e-03j,\n",
       "         9.7024e-03+6.3432e-03j, -9.4307e-03+0.0000e+00j,\n",
       "         1.1014e-02+8.3121e-05j,  1.1014e-02-8.3121e-05j,\n",
       "        -6.0830e-03-2.2205e-02j, -6.0830e-03+2.2205e-02j,\n",
       "        -3.2922e-03+0.0000e+00j, -1.1166e-02-2.0628e-03j,\n",
       "        -1.1166e-02+2.0628e-03j],\n",
       "       [ 1.3481e-01+0.0000e+00j,  1.9083e-01+0.0000e+00j,\n",
       "         9.7213e-02+0.0000e+00j,  6.3594e-02-3.4974e-02j,\n",
       "         6.3594e-02+3.4974e-02j, -4.5208e-02+0.0000e+00j,\n",
       "         9.4516e-02-6.7571e-02j,  9.4516e-02+6.7571e-02j,\n",
       "         2.0016e-02-1.5671e-01j,  2.0016e-02+1.5671e-01j,\n",
       "        -2.0177e-01+0.0000e+00j, -7.2309e-02+3.6772e-02j,\n",
       "        -7.2309e-02-3.6772e-02j],\n",
       "       [ 1.7400e-01+0.0000e+00j,  2.6494e-02+0.0000e+00j,\n",
       "        -7.2041e-01+0.0000e+00j,  4.5882e-02+6.8523e-02j,\n",
       "         4.5882e-02-6.8523e-02j, -8.3818e-02+0.0000e+00j,\n",
       "         4.6974e-02-3.4743e-01j,  4.6974e-02+3.4743e-01j,\n",
       "        -3.2001e-01+1.0567e-01j, -3.2001e-01-1.0567e-01j,\n",
       "         1.4202e-01+0.0000e+00j, -5.1515e-02-6.6916e-02j,\n",
       "        -5.1515e-02+6.6916e-02j],\n",
       "       [ 4.1741e-01+0.0000e+00j,  3.4334e-01+0.0000e+00j,\n",
       "        -6.5156e-01+0.0000e+00j,  7.7501e-01+0.0000e+00j,\n",
       "         7.7501e-01-0.0000e+00j,  5.5624e-01+0.0000e+00j,\n",
       "         5.3402e-01+0.0000e+00j,  5.3402e-01-0.0000e+00j,\n",
       "        -1.4559e-01-3.1447e-01j, -1.4559e-01+3.1447e-01j,\n",
       "        -3.6249e-01+0.0000e+00j, -6.3538e-01+0.0000e+00j,\n",
       "        -6.3538e-01-0.0000e+00j],\n",
       "       [-3.3290e-01+0.0000e+00j, -4.0468e-01+0.0000e+00j,\n",
       "         1.6083e-02+0.0000e+00j, -1.2244e-01-1.4447e-02j,\n",
       "        -1.2244e-01+1.4447e-02j,  1.4581e-01+0.0000e+00j,\n",
       "        -3.8406e-02+3.8206e-01j, -3.8406e-02-3.8206e-01j,\n",
       "         5.6483e-01+0.0000e+00j,  5.6483e-01-0.0000e+00j,\n",
       "        -1.5616e-01+0.0000e+00j,  7.8991e-02+5.8340e-02j,\n",
       "         7.8991e-02-5.8340e-02j],\n",
       "       [-2.7571e-04+0.0000e+00j,  6.7012e-03+0.0000e+00j,\n",
       "         2.7091e-02+0.0000e+00j, -3.5679e-02+1.1060e-02j,\n",
       "        -3.5679e-02-1.1060e-02j,  1.6703e-02+0.0000e+00j,\n",
       "        -3.4698e-02-4.6646e-02j, -3.4698e-02+4.6646e-02j,\n",
       "        -9.0978e-02+9.9599e-02j, -9.0978e-02-9.9599e-02j,\n",
       "        -2.7568e-02+0.0000e+00j, -2.2562e-02-6.5912e-02j,\n",
       "        -2.2562e-02+6.5912e-02j],\n",
       "       [-4.6551e-01+0.0000e+00j, -5.7682e-01+0.0000e+00j,\n",
       "        -1.9634e-02+0.0000e+00j, -4.8806e-01-6.1831e-02j,\n",
       "        -4.8806e-01+6.1831e-02j,  2.1964e-01+0.0000e+00j,\n",
       "        -1.1976e-01+3.4996e-01j, -1.1976e-01-3.4996e-01j,\n",
       "        -6.1035e-02+2.3321e-02j, -6.1035e-02-2.3321e-02j,\n",
       "        -1.3050e-01+0.0000e+00j,  5.1772e-01+3.6448e-01j,\n",
       "         5.1772e-01-3.6448e-01j],\n",
       "       [-2.0474e-01+0.0000e+00j, -3.0567e-01+0.0000e+00j,\n",
       "        -2.0866e-01+0.0000e+00j,  6.1420e-02+1.1164e-01j,\n",
       "         6.1420e-02-1.1164e-01j,  1.2094e-02+0.0000e+00j,\n",
       "        -1.4112e-02+3.9358e-01j, -1.4112e-02-3.9358e-01j,\n",
       "         2.6232e-01+4.1295e-02j,  2.6232e-01-4.1295e-02j,\n",
       "        -1.1053e-01+0.0000e+00j, -1.3587e-01-2.0062e-01j,\n",
       "        -1.3587e-01+2.0062e-01j],\n",
       "       [ 9.3702e-04+0.0000e+00j,  9.9706e-04+0.0000e+00j,\n",
       "        -5.9173e-04+0.0000e+00j,  4.8975e-05+4.7387e-05j,\n",
       "         4.8975e-05-4.7387e-05j,  4.1651e-04+0.0000e+00j,\n",
       "         3.4392e-04-7.9121e-05j,  3.4392e-04+7.9121e-05j,\n",
       "        -1.7339e-04-4.6557e-04j, -1.7339e-04+4.6557e-04j,\n",
       "         6.9176e-04+0.0000e+00j,  1.8908e-04+1.0094e-04j,\n",
       "         1.8908e-04-1.0094e-04j]])"
      ]
     },
     "execution_count": 32,
     "metadata": {},
     "output_type": "execute_result"
    }
   ],
   "source": [
    "eigen_vectors"
   ]
  },
  {
   "cell_type": "markdown",
   "id": "0cfe9f3c",
   "metadata": {},
   "source": [
    "### Sort the eigenvalues and select the top k"
   ]
  },
  {
   "cell_type": "code",
   "execution_count": 17,
   "id": "a9e47d99",
   "metadata": {},
   "outputs": [
    {
     "name": "stdout",
     "output_type": "stream",
     "text": [
      "9.884546449232978\n",
      "2.903361061716055\n",
      "4.989996735217528e-16\n",
      "4.522860853851705e-16\n",
      "4.522860853851705e-16\n",
      "4.440892098500626e-16\n",
      "4.362274126993647e-16\n",
      "4.362274126993647e-16\n",
      "3.1607984533921466e-16\n",
      "3.1607984533921466e-16\n",
      "8.189333581319344e-17\n",
      "3.911241445201244e-17\n",
      "3.911241445201244e-17\n"
     ]
    }
   ],
   "source": [
    "# sort the eigenvalues from highest to lowest and select the first k eigenvectors\n",
    "pairs = [(np.abs(eigen_values[i]), eigen_vectors[:,i]) for i in range(len(eigen_values))]\n",
    "pairs = sorted(pairs, key=lambda x: x[0], reverse=True)\n",
    "for pair in pairs:\n",
    "    print(pair[0])"
   ]
  },
  {
   "cell_type": "code",
   "execution_count": 18,
   "id": "55357eaa",
   "metadata": {},
   "outputs": [
    {
     "name": "stdout",
     "output_type": "stream",
     "text": [
      "Explained Variance\n",
      "Eigenvector 0: 0.7729604269322256\n",
      "Eigenvector 1: 0.22703957306777445\n",
      "Eigenvector 2: 3.902121383772195e-17\n",
      "Eigenvector 3: 3.536826372867666e-17\n",
      "Eigenvector 4: 3.536826372867666e-17\n",
      "Eigenvector 5: 3.4727277271111986e-17\n",
      "Eigenvector 6: 3.4112493566743885e-17\n",
      "Eigenvector 7: 3.4112493566743885e-17\n",
      "Eigenvector 8: 2.471708878630741e-17\n",
      "Eigenvector 9: 2.471708878630741e-17\n",
      "Eigenvector 10: 6.403966852518772e-18\n",
      "Eigenvector 11: 3.0585468669150374e-18\n",
      "Eigenvector 12: 3.0585468669150374e-18\n"
     ]
    }
   ],
   "source": [
    "# expressing the values as percentage\n",
    "eigen_value_sums = sum(eigen_values)\n",
    "print('Explained Variance')\n",
    "for i, pair in enumerate(pairs):\n",
    "    print('Eigenvector {}: {}'.format(i, (pair[0]/eigen_value_sums).real))"
   ]
  },
  {
   "cell_type": "markdown",
   "id": "4851cfe3",
   "metadata": {},
   "source": [
    "### Create a new matrix containing eigenvectors that map to the k eigenvalues"
   ]
  },
  {
   "cell_type": "code",
   "execution_count": 19,
   "id": "6a1dc213",
   "metadata": {},
   "outputs": [],
   "source": [
    "#create a matrix W with the first two eigenvectors.\n",
    "w_matrix = np.hstack((pairs[0][1].reshape(13,1), pairs[1][1].reshape(13,1))).real"
   ]
  },
  {
   "cell_type": "code",
   "execution_count": 20,
   "id": "81776f7a",
   "metadata": {},
   "outputs": [],
   "source": [
    "X_lda = np.array(X.dot(w_matrix))"
   ]
  },
  {
   "cell_type": "code",
   "execution_count": 21,
   "id": "5c50df83",
   "metadata": {},
   "outputs": [],
   "source": [
    "le = LabelEncoder()\n",
    "y = le.fit_transform(df['class'])"
   ]
  },
  {
   "cell_type": "markdown",
   "id": "512d6272",
   "metadata": {},
   "source": [
    "### Obtain the new features (i.e. LDA components) by taking the dot product of the data and the matrix from step 4"
   ]
  },
  {
   "cell_type": "code",
   "execution_count": 22,
   "id": "21bed705",
   "metadata": {},
   "outputs": [
    {
     "data": {
      "text/plain": [
       "<matplotlib.collections.PathCollection at 0x16437271910>"
      ]
     },
     "execution_count": 22,
     "metadata": {},
     "output_type": "execute_result"
    },
    {
     "data": {
      "image/png": "[encoded data removed]",
      "text/plain": [
       "<Figure size 432x288 with 1 Axes>"
      ]
     },
     "metadata": {},
     "output_type": "display_data"
    }
   ],
   "source": [
    "plt.xlabel('LD1')\n",
    "plt.ylabel('LD2')\n",
    "plt.scatter(\n",
    "    X_lda[:,0],\n",
    "    X_lda[:,1],\n",
    "    c=y,\n",
    "    cmap='rainbow',\n",
    "    alpha=0.7,\n",
    "    edgecolors='b'\n",
    ")"
   ]
  },
  {
   "cell_type": "code",
   "execution_count": 23,
   "id": "4f8d80a6",
   "metadata": {},
   "outputs": [],
   "source": [
    "from sklearn.discriminant_analysis import LinearDiscriminantAnalysis\n",
    "lda = LinearDiscriminantAnalysis()\n",
    "X_lda = lda.fit_transform(X, y)"
   ]
  },
  {
   "cell_type": "code",
   "execution_count": 24,
   "id": "9ed4228d",
   "metadata": {},
   "outputs": [
    {
     "data": {
      "text/plain": [
       "array([0.6875, 0.3125])"
      ]
     },
     "execution_count": 24,
     "metadata": {},
     "output_type": "execute_result"
    }
   ],
   "source": [
    "lda.explained_variance_ratio_"
   ]
  },
  {
   "cell_type": "code",
   "execution_count": 25,
   "id": "6ab87cbb",
   "metadata": {},
   "outputs": [
    {
     "data": {
      "text/plain": [
       "<matplotlib.collections.PathCollection at 0x16437a07490>"
      ]
     },
     "execution_count": 25,
     "metadata": {},
     "output_type": "execute_result"
    },
    {
     "data": {
      "image/png": "[encoded data removed]",
      "text/plain": [
       "<Figure size 432x288 with 1 Axes>"
      ]
     },
     "metadata": {},
     "output_type": "display_data"
    }
   ],
   "source": [
    "plt.xlabel('LD1')\n",
    "plt.ylabel('LD2')\n",
    "plt.scatter(\n",
    "    X_lda[:,0],\n",
    "    X_lda[:,1],\n",
    "    c=y,\n",
    "    cmap='rainbow',\n",
    "    alpha=0.7,\n",
    "    edgecolors='b'\n",
    ")"
   ]
  },
  {
   "cell_type": "code",
   "execution_count": null,
   "id": "4277161d",
   "metadata": {},
   "outputs": [],
   "source": []
  }
 ],
 "metadata": {
  "kernelspec": {
   "display_name": "Python 3",
   "language": "python",
   "name": "python3"
  },
  "language_info": {
   "codemirror_mode": {
    "name": "ipython",
    "version": 3
   },
   "file_extension": ".py",
   "mimetype": "text/x-python",
   "name": "python",
   "nbconvert_exporter": "python",
   "pygments_lexer": "ipython3",
   "version": "3.8.8"
  }
 },
 "nbformat": 4,
 "nbformat_minor": 5
}
