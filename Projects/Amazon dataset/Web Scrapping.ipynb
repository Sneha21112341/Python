{
 "cells": [
  {
   "cell_type": "code",
   "execution_count": 2,
   "id": "0705086a",
   "metadata": {},
   "outputs": [],
   "source": [
    "from bs4 import BeautifulSoup\n",
    "import requests\n",
    "import pandas as pd\n",
    "import numpy as np\n",
    "import re\n",
    "from sklearn.preprocessing import LabelEncoder\n",
    "from matplotlib import pyplot as plt\n",
    "from sklearn.impute import SimpleImputer\n",
    "import numpy as np\n",
    "import plotly.express as px\n",
    "import seaborn as sns\n",
    "from numpy.random import seed\n",
    "from numpy.random import randn\n",
    "from numpy import percentile\n",
    "import warnings\n",
    "from scipy import stats"
   ]
  },
  {
   "cell_type": "markdown",
   "id": "121b99b9",
   "metadata": {},
   "source": [
    "### `WEB SCRAPING`"
   ]
  },
  {
   "cell_type": "code",
   "execution_count": 20,
   "id": "6ed7ddfd",
   "metadata": {},
   "outputs": [],
   "source": [
    "# Function to extract Product Title\n",
    "def get_title(soup):\n",
    "\n",
    "    try:\n",
    "        # Outer Tag Object\n",
    "        title = soup.find(\"span\", attrs={\"id\":'productTitle'})\n",
    "        \n",
    "        # Inner NavigatableString Object\n",
    "        title_value = title.text\n",
    "\n",
    "        # Title as a string value\n",
    "        title_string = title_value.strip()\n",
    "\n",
    "    except AttributeError:\n",
    "        title_string = \"\"\n",
    "\n",
    "    return title_string\n",
    "\n",
    "# Function to extract Product Price\n",
    "def get_price(soup):\n",
    "\n",
    "    try:\n",
    "        price = soup.find(\"span\", attrs={'class':'a-price-whole'}).text.strip()\n",
    "\n",
    "    except AttributeError:\n",
    "        price = \"\"\n",
    "\n",
    "    return price\n",
    "\n",
    "# Function to extract Product Rating\n",
    "def get_rating(soup):\n",
    "\n",
    "    try:\n",
    "        rating = soup.find(\"i\", attrs={'class':'a-icon a-icon-star a-star-4-5'}).string.strip()\n",
    "    \n",
    "    except AttributeError:\n",
    "        try:\n",
    "            rating = soup.find(\"span\", attrs={'class':'a-icon-alt'}).string.strip()\n",
    "        except:\n",
    "            rating = \"\"\n",
    "\n",
    "    return rating\n",
    "\n",
    "# Function to extract Number of User Reviews\n",
    "def get_review_count(soup):\n",
    "    try:\n",
    "        review_count = soup.find(\"span\", attrs={'id':'acrCustomerReviewText'}).string.strip()\n",
    "\n",
    "    except AttributeError:\n",
    "        review_count = \"\"\n",
    "\n",
    "    return review_count\n",
    "\n",
    "# Function to extract Availability Status\n",
    "def get_availability(soup):\n",
    "    try:\n",
    "        available = soup.find(\"div\", attrs={'id':'availability'})\n",
    "        available = available.find(\"span\").string.strip()\n",
    "\n",
    "    except AttributeError:\n",
    "        available = \"Not Available\"\n",
    "\n",
    "    return available\n",
    "\n",
    "# Function to extract Brand\n",
    "def get_brand(soup):\n",
    "    try:\n",
    "        brand = soup.find_all(\"span\", attrs = {'class': 'a-size-base po-break-word'})[1].text\n",
    "        \n",
    "    except AttributeError:\n",
    "        brand = \"\"\n",
    "\n",
    "    return brand\n",
    "\n",
    "# Function to extract Discount\n",
    "def get_discount(soup):\n",
    "    try:\n",
    "        discount = soup.find(\"span\" , attrs = {\"class\" :\"a-size-large a-color-price savingPriceOverride aok-align-center reinventPriceSavingsPercentageMargin savingsPercentage\"}).text\n",
    "        \n",
    "    except AttributeError:\n",
    "        discount = \"\"\n",
    "\n",
    "    return discount\n",
    "\n",
    "# Function to extract Technology\n",
    "def get_tech(soup):\n",
    "    try:\n",
    "        tech =  soup.find_all(\"span\", attrs = {'class': 'a-size-base po-break-word'})[3].text\n",
    "        \n",
    "    except AttributeError:\n",
    "        tech = \"\"\n",
    "\n",
    "    return tech\n",
    "\n",
    "# Function to extract Product Dimesions\n",
    "def get_dim(soup):\n",
    "    try:\n",
    "        dim =  soup.find_all(\"span\", attrs = {'class': 'a-size-base po-break-word'})[4].text\n",
    "        \n",
    "    except AttributeError:\n",
    "        dim = \"\"\n",
    "\n",
    "    return dim\n",
    "\n",
    "# Function to extract Resolution\n",
    "def get_res(soup):\n",
    "    try:\n",
    "        res =  soup.find_all(\"span\", attrs = {'class': 'a-size-base po-break-word'})[5].text\n",
    "        \n",
    "    except AttributeError:\n",
    "        res = \"\"\n",
    "\n",
    "    return res\n",
    "\n",
    "\n",
    "# Function to extract Refresh Rate\n",
    "def get_refresh(soup):\n",
    "    try:\n",
    "        refresh =  soup.find_all(\"span\", attrs = {'class': 'a-size-base po-break-word'})[6].text\n",
    "        \n",
    "    except AttributeError:\n",
    "        refresh = \"\"\n",
    "\n",
    "    return refresh\n",
    "\n",
    "\n",
    "# Function to extract Screen Size\n",
    "def get_size(soup):\n",
    "    try:\n",
    "        size =  soup.find(\"span\", attrs = {'class': 'a-size-base po-break-word'}).text\n",
    "        \n",
    "    except AttributeError:\n",
    "        size = \"\"\n",
    "\n",
    "    return size\n",
    "\n",
    "# Function to extract Ratings_no\n",
    "def get_ratingsNo(soup):\n",
    "    try:\n",
    "        ratingsNo =  soup.find(\"span\", attrs = {'class': 'a-size-base', 'id': 'acrCustomerReviewText'}).text\n",
    "        \n",
    "    except AttributeError:\n",
    "        ratingsNo= \"\"\n",
    "\n",
    "    return ratingsNo\n",
    "\n",
    "# Function to extract Connectivity\n",
    "def get_Connect(soup):\n",
    "    try:\n",
    "        Connect =  soup.find(\"tr\", attrs = {'class': 'a-spacing-small po-connectivity_technology'}).text.strip()\n",
    "        \n",
    "    except AttributeError:\n",
    "        Connect= \"\"\n",
    "\n",
    "    return Connect\n"
   ]
  },
  {
   "cell_type": "code",
   "execution_count": 21,
   "id": "7db48370",
   "metadata": {},
   "outputs": [],
   "source": [
    "if __name__ == '__main__':\n",
    "    \n",
    "    # Headers for request\n",
    "    HEADERS = ({'User-Agent' : 'Mozilla/5.0 (Windows NT 10.0; Win64; x64) AppleWebKit/537.36 (KHTML, like Gecko) Chrome/111.0.0.0 Safari/537.36', 'Accept Language' : 'en-US,en:q=0.5'})\n",
    "    \n",
    "    # The webpage URL \n",
    "    url = \"https://www.amazon.in/s?k=tv&crid=2AVBQD9DITO08&sprefix=tv%2Caps%2C500&ref=nb_sb_noss_1\"\n",
    "    \n",
    "    # HTTP Request\n",
    "    webpage = requests.get(url, headers = HEADERS)\n",
    "    \n",
    "    # SOUP object containing all data\n",
    "    soup = BeautifulSoup(webpage.content,'html.parser')\n",
    "\n",
    "    # Fetch links as list of tag objects\n",
    "    links = soup.find_all(\"a\", attrs = {'class': 'a-link-normal s-underline-text s-underline-link-text s-link-style a-text-normal'})\n",
    "    \n",
    "    # Store the links\n",
    "    links_list = []\n",
    "    \n",
    "    # Loop for extracting links from Tag Objects\n",
    "    for link in links:\n",
    "        links_list.append(link.get('href'))\n",
    "    d = {'title': [] , 'price' : [] , 'ratings': [] , 'reviews' : [] , 'availability': [] , 'brand' : [], 'discount' : [] ,  'tech' : [] ,  'dim' : [] ,  'res' : [] ,  'refresh' : [] ,  'size' : [] , 'ratingsNo' : [], 'Connect' : []}   \n",
    "      \n",
    "    # Loop for extracting product detils from each link\n",
    "    for link in links_list:\n",
    "        new_webpage = requests.get(\"https://www.amazon.in\" + link , headers = HEADERS)\n",
    "        new_soup = BeautifulSoup(new_webpage.content,\"html.parser\")\n",
    "        \n",
    "        # Function calls to display all necessary product information\n",
    "        d['title'].append(get_title(new_soup))\n",
    "        d['price'].append(get_price(new_soup))\n",
    "        d['ratings'].append(get_rating(new_soup))\n",
    "        d['availability'].append(get_availability(new_soup))    \n",
    "        d['brand'].append(get_brand(new_soup))\n",
    "        d['discount'].append(get_discount(new_soup))\n",
    "        d['tech'].append(get_tech(new_soup))\n",
    "        d['dim'].append(get_dim(new_soup))\n",
    "        d['res'].append(get_res(new_soup))\n",
    "        d['refresh'].append(get_refresh(new_soup))\n",
    "        d['size'].append(get_size(new_soup))\n",
    "        d['ratingsNo'].append(get_ratingsNo(new_soup))\n",
    "        d['Connect'].append(get_Connect(new_soup))"
   ]
  },
  {
   "cell_type": "code",
   "execution_count": 22,
   "id": "ead8c20a",
   "metadata": {},
   "outputs": [],
   "source": [
    "amazon_df = pd.DataFrame.from_dict(d, orient='index')\n",
    "amazon_df = amazon_df.transpose()\n",
    "amazon_df['title'].replace('', np.nan, inplace=True)\n",
    "amazon_df = amazon_df.dropna(subset=['title'])\n",
    "amazon_df.to_csv(\"amazon_data.csv\", header=True, index=False)"
   ]
  },
  {
   "cell_type": "markdown",
   "id": "f952a5e4",
   "metadata": {},
   "source": [
    "### Amazon Page 1"
   ]
  },
  {
   "cell_type": "code",
   "execution_count": 23,
   "id": "8d585cc9",
   "metadata": {},
   "outputs": [
    {
     "data": {
      "text/html": [
       "<div>\n",
       "<style scoped>\n",
       "    .dataframe tbody tr th:only-of-type {\n",
       "        vertical-align: middle;\n",
       "    }\n",
       "\n",
       "    .dataframe tbody tr th {\n",
       "        vertical-align: top;\n",
       "    }\n",
       "\n",
       "    .dataframe thead th {\n",
       "        text-align: right;\n",
       "    }\n",
       "</style>\n",
       "<table border=\"1\" class=\"dataframe\">\n",
       "  <thead>\n",
       "    <tr style=\"text-align: right;\">\n",
       "      <th></th>\n",
       "      <th>title</th>\n",
       "      <th>price</th>\n",
       "      <th>ratings</th>\n",
       "      <th>reviews</th>\n",
       "      <th>availability</th>\n",
       "      <th>brand</th>\n",
       "      <th>discount</th>\n",
       "      <th>tech</th>\n",
       "      <th>dim</th>\n",
       "      <th>res</th>\n",
       "      <th>refresh</th>\n",
       "      <th>size</th>\n",
       "      <th>ratingsNo</th>\n",
       "      <th>Connect</th>\n",
       "    </tr>\n",
       "  </thead>\n",
       "  <tbody>\n",
       "    <tr>\n",
       "      <th>0</th>\n",
       "      <td>VU 139 cm (55 inches) The GloLED Series 4K Sma...</td>\n",
       "      <td>37,999.</td>\n",
       "      <td>4.5 out of 5 stars</td>\n",
       "      <td>None</td>\n",
       "      <td>In stock</td>\n",
       "      <td>VU</td>\n",
       "      <td>-42%</td>\n",
       "      <td>LED</td>\n",
       "      <td>30.5D x 123W x 71.4H Centimeters</td>\n",
       "      <td>4K</td>\n",
       "      <td>60 Hz</td>\n",
       "      <td>55 Inches</td>\n",
       "      <td>1,569 ratings</td>\n",
       "      <td></td>\n",
       "    </tr>\n",
       "    <tr>\n",
       "      <th>1</th>\n",
       "      <td>TOSHIBA 126 cm (50 inches) C350LP Series 4K Ul...</td>\n",
       "      <td>33,999.</td>\n",
       "      <td>4.5 out of 5 stars</td>\n",
       "      <td>None</td>\n",
       "      <td>In stock</td>\n",
       "      <td>TOSHIBA</td>\n",
       "      <td>-38%</td>\n",
       "      <td>LED</td>\n",
       "      <td>24.7D x 111.7W x 64.6H Centimeters</td>\n",
       "      <td>4K</td>\n",
       "      <td>60 Hz</td>\n",
       "      <td>50 Inches</td>\n",
       "      <td>1,219 ratings</td>\n",
       "      <td>Connector Type   Wi-Fi, USB, Ethernet, HDMI</td>\n",
       "    </tr>\n",
       "    <tr>\n",
       "      <th>2</th>\n",
       "      <td>Redmi 80 cm (32 inches) HD Ready Smart LED Fir...</td>\n",
       "      <td>13,999.</td>\n",
       "      <td>4.1 out of 5 stars</td>\n",
       "      <td>None</td>\n",
       "      <td>In stock</td>\n",
       "      <td>Redmi</td>\n",
       "      <td>-44%</td>\n",
       "      <td>LED</td>\n",
       "      <td>8.3D x 71.6W x 42.4H Centimeters</td>\n",
       "      <td>720p</td>\n",
       "      <td>60 Hz</td>\n",
       "      <td>32 Inches</td>\n",
       "      <td>161 ratings</td>\n",
       "      <td>Connector Type   Wi-Fi, USB, Ethernet, HDMI</td>\n",
       "    </tr>\n",
       "    <tr>\n",
       "      <th>3</th>\n",
       "      <td>OnePlus 80 cm (32 inches) Y Series HD Ready LE...</td>\n",
       "      <td>11,999.</td>\n",
       "      <td>4.2 out of 5 stars</td>\n",
       "      <td>None</td>\n",
       "      <td>In stock</td>\n",
       "      <td>OnePlus</td>\n",
       "      <td>-40%</td>\n",
       "      <td>LED</td>\n",
       "      <td>6.5D x 42W x 71.3H Centimeters</td>\n",
       "      <td>8K</td>\n",
       "      <td>60 Hz</td>\n",
       "      <td>32 Inches</td>\n",
       "      <td>37,682 ratings</td>\n",
       "      <td></td>\n",
       "    </tr>\n",
       "    <tr>\n",
       "      <th>4</th>\n",
       "      <td>Samsung 80 cm (32 Inches) Wondertainment Serie...</td>\n",
       "      <td>12,490.</td>\n",
       "      <td>4.4 stars</td>\n",
       "      <td>None</td>\n",
       "      <td>In stock</td>\n",
       "      <td>Samsung</td>\n",
       "      <td>-45%</td>\n",
       "      <td>LED</td>\n",
       "      <td>8.3D x 73.2W x 43.9H Centimeters</td>\n",
       "      <td>768p</td>\n",
       "      <td>60 Hz</td>\n",
       "      <td>32 Inches</td>\n",
       "      <td>9,204 ratings</td>\n",
       "      <td>Connector Type   Wi-Fi, USB, Ethernet, HDMI</td>\n",
       "    </tr>\n",
       "  </tbody>\n",
       "</table>\n",
       "</div>"
      ],
      "text/plain": [
       "                                               title    price  \\\n",
       "0  VU 139 cm (55 inches) The GloLED Series 4K Sma...  37,999.   \n",
       "1  TOSHIBA 126 cm (50 inches) C350LP Series 4K Ul...  33,999.   \n",
       "2  Redmi 80 cm (32 inches) HD Ready Smart LED Fir...  13,999.   \n",
       "3  OnePlus 80 cm (32 inches) Y Series HD Ready LE...  11,999.   \n",
       "4  Samsung 80 cm (32 Inches) Wondertainment Serie...  12,490.   \n",
       "\n",
       "              ratings reviews availability    brand discount tech  \\\n",
       "0  4.5 out of 5 stars    None     In stock       VU     -42%  LED   \n",
       "1  4.5 out of 5 stars    None     In stock  TOSHIBA     -38%  LED   \n",
       "2  4.1 out of 5 stars    None     In stock    Redmi     -44%  LED   \n",
       "3  4.2 out of 5 stars    None     In stock  OnePlus     -40%  LED   \n",
       "4           4.4 stars    None     In stock  Samsung     -45%  LED   \n",
       "\n",
       "                                  dim   res refresh       size  \\\n",
       "0    30.5D x 123W x 71.4H Centimeters    4K   60 Hz  55 Inches   \n",
       "1  24.7D x 111.7W x 64.6H Centimeters    4K   60 Hz  50 Inches   \n",
       "2    8.3D x 71.6W x 42.4H Centimeters  720p   60 Hz  32 Inches   \n",
       "3      6.5D x 42W x 71.3H Centimeters    8K   60 Hz  32 Inches   \n",
       "4    8.3D x 73.2W x 43.9H Centimeters  768p   60 Hz  32 Inches   \n",
       "\n",
       "        ratingsNo                                      Connect  \n",
       "0   1,569 ratings                                               \n",
       "1   1,219 ratings  Connector Type   Wi-Fi, USB, Ethernet, HDMI  \n",
       "2     161 ratings  Connector Type   Wi-Fi, USB, Ethernet, HDMI  \n",
       "3  37,682 ratings                                               \n",
       "4   9,204 ratings  Connector Type   Wi-Fi, USB, Ethernet, HDMI  "
      ]
     },
     "execution_count": 23,
     "metadata": {},
     "output_type": "execute_result"
    }
   ],
   "source": [
    "amazon_df.head()"
   ]
  },
  {
   "cell_type": "code",
   "execution_count": 24,
   "id": "e54233e5",
   "metadata": {},
   "outputs": [],
   "source": [
    "if __name__ == '__main__':\n",
    "    \n",
    "    # Headers for request\n",
    "    HEADERS = ({'User-Agent' : 'Mozilla/5.0 (Windows NT 10.0; Win64; x64) AppleWebKit/537.36 (KHTML, like Gecko) Chrome/111.0.0.0 Safari/537.36', 'Accept Language' : 'en-US,en:q=0.5'})\n",
    "    \n",
    "    # The webpage URL \n",
    "    url1 = \"https://www.amazon.in/s?k=tv&page=2&crid=2AVBQD9DITO08&qid=1680235332&sprefix=tv%2Caps%2C500&ref=sr_pg_2\"\n",
    "    \n",
    "    # HTTP Request\n",
    "    webpage1 = requests.get(url1, headers = HEADERS)\n",
    "    \n",
    "    # SOUP object containing all data\n",
    "    soup1 = BeautifulSoup(webpage1.content,'html.parser')\n",
    "\n",
    "    # Fetch links as list of tag objects\n",
    "    links1 = soup1.find_all(\"a\", attrs = {'class': 'a-link-normal s-underline-text s-underline-link-text s-link-style a-text-normal'})\n",
    "    \n",
    "    # Store the links\n",
    "    links_list1 = []\n",
    "    \n",
    "    # Loop for extracting links from Tag Objects\n",
    "    for link1 in links1:\n",
    "        links_list1.append(link1.get('href'))\n",
    "    d1 = {'title': [] , 'price' : [] , 'ratings': [] , 'reviews' : [] , 'availability': [] , 'brand' : [], 'discount' : [] ,  'tech' : [] ,  'dim' : [] ,  'res' : [] ,  'refresh' : [] ,  'size' : [] , 'ratingsNo' : [], 'Connect' : []}   \n",
    "      \n",
    "    # Loop for extracting product detils from each link\n",
    "    for link1 in links_list1:\n",
    "        new_webpage1 = requests.get(\"https://www.amazon.in\" + link1 , headers = HEADERS)\n",
    "        new_soup1 = BeautifulSoup(new_webpage1.content,\"html.parser\")\n",
    "        \n",
    "        # Function calls to display all necessary product information\n",
    "        d1['title'].append(get_title(new_soup1))\n",
    "        d1['price'].append(get_price(new_soup1))\n",
    "        d1['ratings'].append(get_rating(new_soup1))\n",
    "        d1['availability'].append(get_availability(new_soup1))    \n",
    "        d1['brand'].append(get_brand(new_soup1))\n",
    "        d1['discount'].append(get_discount(new_soup1))\n",
    "        d1['tech'].append(get_tech(new_soup1))\n",
    "        d1['dim'].append(get_dim(new_soup1))\n",
    "        d1['res'].append(get_res(new_soup1))\n",
    "        d1['refresh'].append(get_refresh(new_soup1))\n",
    "        d1['size'].append(get_size(new_soup1))\n",
    "        d1['ratingsNo'].append(get_ratingsNo(new_soup1))\n",
    "        d1['Connect'].append(get_Connect(new_soup1))"
   ]
  },
  {
   "cell_type": "code",
   "execution_count": 25,
   "id": "5692492c",
   "metadata": {},
   "outputs": [],
   "source": [
    "amazon_df1 = pd.DataFrame.from_dict(d1, orient='index')\n",
    "amazon_df1 = amazon_df1.transpose()\n",
    "amazon_df1['title'].replace('', np.nan, inplace=True)\n",
    "amazon_df1 = amazon_df1.dropna(subset=['title'])\n",
    "amazon_df1.to_csv(\"amazon_data1.csv\", header=True, index=False)"
   ]
  },
  {
   "cell_type": "markdown",
   "id": "84011ffe",
   "metadata": {},
   "source": [
    "### Amazon Page 2"
   ]
  },
  {
   "cell_type": "code",
   "execution_count": 26,
   "id": "e2003dc6",
   "metadata": {},
   "outputs": [
    {
     "data": {
      "text/html": [
       "<div>\n",
       "<style scoped>\n",
       "    .dataframe tbody tr th:only-of-type {\n",
       "        vertical-align: middle;\n",
       "    }\n",
       "\n",
       "    .dataframe tbody tr th {\n",
       "        vertical-align: top;\n",
       "    }\n",
       "\n",
       "    .dataframe thead th {\n",
       "        text-align: right;\n",
       "    }\n",
       "</style>\n",
       "<table border=\"1\" class=\"dataframe\">\n",
       "  <thead>\n",
       "    <tr style=\"text-align: right;\">\n",
       "      <th></th>\n",
       "      <th>title</th>\n",
       "      <th>price</th>\n",
       "      <th>ratings</th>\n",
       "      <th>reviews</th>\n",
       "      <th>availability</th>\n",
       "      <th>brand</th>\n",
       "      <th>discount</th>\n",
       "      <th>tech</th>\n",
       "      <th>dim</th>\n",
       "      <th>res</th>\n",
       "      <th>refresh</th>\n",
       "      <th>size</th>\n",
       "      <th>ratingsNo</th>\n",
       "      <th>Connect</th>\n",
       "    </tr>\n",
       "  </thead>\n",
       "  <tbody>\n",
       "    <tr>\n",
       "      <th>0</th>\n",
       "      <td>iFFALCON 80.04 cm (32 inches) Bezel-Less S Ser...</td>\n",
       "      <td>12,999.</td>\n",
       "      <td>4.3 out of 5 stars</td>\n",
       "      <td>None</td>\n",
       "      <td>In stock</td>\n",
       "      <td>iFFALCON</td>\n",
       "      <td>-35%</td>\n",
       "      <td>8D x 71.5W x 46.8H Centimeters</td>\n",
       "      <td>768p</td>\n",
       "      <td>60 Hz</td>\n",
       "      <td>iFF32S53</td>\n",
       "      <td>32 Inches</td>\n",
       "      <td>219 ratings</td>\n",
       "      <td></td>\n",
       "    </tr>\n",
       "    <tr>\n",
       "      <th>1</th>\n",
       "      <td>TCL 100 cm (40 inches) Full HD Certified Andro...</td>\n",
       "      <td>16,990.</td>\n",
       "      <td>4.2 out of 5 stars</td>\n",
       "      <td>None</td>\n",
       "      <td>In stock</td>\n",
       "      <td>TCL</td>\n",
       "      <td>-59%</td>\n",
       "      <td>18.5D x 90.5W x 51.8H Centimeters</td>\n",
       "      <td>1080p</td>\n",
       "      <td>60 Hz</td>\n",
       "      <td>Wi-Fi, USB, Ethernet, HDMI</td>\n",
       "      <td>40 Inches</td>\n",
       "      <td>1,583 ratings</td>\n",
       "      <td>Connector Type   Wi-Fi, USB, Ethernet, HDMI</td>\n",
       "    </tr>\n",
       "    <tr>\n",
       "      <th>2</th>\n",
       "      <td>Acer 139 cm (55 inches) I Series 4K Ultra HD A...</td>\n",
       "      <td>30,999.</td>\n",
       "      <td>4.4 out of 5 stars</td>\n",
       "      <td>None</td>\n",
       "      <td>In stock</td>\n",
       "      <td>Acer</td>\n",
       "      <td>-35%</td>\n",
       "      <td>LED</td>\n",
       "      <td>9.1D x 123.4W x 71.4H Centimeters</td>\n",
       "      <td>4K</td>\n",
       "      <td>60 Hz</td>\n",
       "      <td>55 Inches</td>\n",
       "      <td>9,197 ratings</td>\n",
       "      <td></td>\n",
       "    </tr>\n",
       "    <tr>\n",
       "      <th>3</th>\n",
       "      <td>OnePlus 126 cm (50 inches) Y Series 4K Ultra H...</td>\n",
       "      <td>32,999.</td>\n",
       "      <td>4.2 out of 5 stars</td>\n",
       "      <td>None</td>\n",
       "      <td>In stock</td>\n",
       "      <td>OnePlus</td>\n",
       "      <td>-28%</td>\n",
       "      <td>LED</td>\n",
       "      <td>24.6D x 110W x 70.2H Centimeters</td>\n",
       "      <td>4K</td>\n",
       "      <td>60 Hz</td>\n",
       "      <td>50 Inches</td>\n",
       "      <td>8,837 ratings</td>\n",
       "      <td></td>\n",
       "    </tr>\n",
       "    <tr>\n",
       "      <th>4</th>\n",
       "      <td>Sony Bravia 108 cm (43 inches) 4K Ultra HD Sma...</td>\n",
       "      <td>41,990.</td>\n",
       "      <td>4.7 out of 5 stars</td>\n",
       "      <td>None</td>\n",
       "      <td>In stock</td>\n",
       "      <td>Sony</td>\n",
       "      <td>-40%</td>\n",
       "      <td>LED</td>\n",
       "      <td>7.7D x 97.1W x 57.5H Centimeters</td>\n",
       "      <td>4K</td>\n",
       "      <td>60 Hz</td>\n",
       "      <td>43 Inches</td>\n",
       "      <td>8,763 ratings</td>\n",
       "      <td></td>\n",
       "    </tr>\n",
       "  </tbody>\n",
       "</table>\n",
       "</div>"
      ],
      "text/plain": [
       "                                               title    price  \\\n",
       "0  iFFALCON 80.04 cm (32 inches) Bezel-Less S Ser...  12,999.   \n",
       "1  TCL 100 cm (40 inches) Full HD Certified Andro...  16,990.   \n",
       "2  Acer 139 cm (55 inches) I Series 4K Ultra HD A...  30,999.   \n",
       "3  OnePlus 126 cm (50 inches) Y Series 4K Ultra H...  32,999.   \n",
       "4  Sony Bravia 108 cm (43 inches) 4K Ultra HD Sma...  41,990.   \n",
       "\n",
       "              ratings reviews availability     brand discount  \\\n",
       "0  4.3 out of 5 stars    None     In stock  iFFALCON     -35%   \n",
       "1  4.2 out of 5 stars    None     In stock       TCL     -59%   \n",
       "2  4.4 out of 5 stars    None     In stock      Acer     -35%   \n",
       "3  4.2 out of 5 stars    None     In stock   OnePlus     -28%   \n",
       "4  4.7 out of 5 stars    None     In stock      Sony     -40%   \n",
       "\n",
       "                                tech                                dim  \\\n",
       "0     8D x 71.5W x 46.8H Centimeters                               768p   \n",
       "1  18.5D x 90.5W x 51.8H Centimeters                              1080p   \n",
       "2                                LED  9.1D x 123.4W x 71.4H Centimeters   \n",
       "3                                LED   24.6D x 110W x 70.2H Centimeters   \n",
       "4                                LED   7.7D x 97.1W x 57.5H Centimeters   \n",
       "\n",
       "     res                     refresh       size      ratingsNo  \\\n",
       "0  60 Hz                    iFF32S53  32 Inches    219 ratings   \n",
       "1  60 Hz  Wi-Fi, USB, Ethernet, HDMI  40 Inches  1,583 ratings   \n",
       "2     4K                       60 Hz  55 Inches  9,197 ratings   \n",
       "3     4K                       60 Hz  50 Inches  8,837 ratings   \n",
       "4     4K                       60 Hz  43 Inches  8,763 ratings   \n",
       "\n",
       "                                       Connect  \n",
       "0                                               \n",
       "1  Connector Type   Wi-Fi, USB, Ethernet, HDMI  \n",
       "2                                               \n",
       "3                                               \n",
       "4                                               "
      ]
     },
     "execution_count": 26,
     "metadata": {},
     "output_type": "execute_result"
    }
   ],
   "source": [
    "amazon_df1.head()"
   ]
  },
  {
   "cell_type": "code",
   "execution_count": 27,
   "id": "244001fc",
   "metadata": {},
   "outputs": [],
   "source": [
    "if __name__ == '__main__':\n",
    "    \n",
    "    # Headers for request\n",
    "    HEADERS = ({'User-Agent' : 'Mozilla/5.0 (Windows NT 10.0; Win64; x64) AppleWebKit/537.36 (KHTML, like Gecko) Chrome/111.0.0.0 Safari/537.36', 'Accept Language' : 'en-US,en:q=0.5'})\n",
    "    \n",
    "    # The webpage URL \n",
    "    url2 = \"https://www.amazon.in/s?k=tv&page=3&crid=2AVBQD9DITO08&qid=1680235337&sprefix=tv%2Caps%2C500&ref=sr_pg_3\"\n",
    "    \n",
    "    # HTTP Request\n",
    "    webpage2 = requests.get(url2, headers = HEADERS)\n",
    "    \n",
    "    # SOUP object containing all data\n",
    "    soup2 = BeautifulSoup(webpage2.content,'html.parser')\n",
    "\n",
    "    # Fetch links as list of tag objects\n",
    "    links2 = soup2.find_all(\"a\", attrs = {'class': 'a-link-normal s-underline-text s-underline-link-text s-link-style a-text-normal'})\n",
    "    \n",
    "    # Store the links\n",
    "    links_list2 = []\n",
    "    \n",
    "    # Loop for extracting links from Tag Objects\n",
    "    for link2 in links2:\n",
    "        links_list2.append(link2.get('href'))\n",
    "    d2 = {'title': [] , 'price' : [] , 'ratings': [] , 'reviews' : [] , 'availability': [] , 'brand' : [], 'discount' : [] ,  'tech' : [] ,  'dim' : [] ,  'res' : [] ,  'refresh' : [] ,  'size' : [] , 'ratingsNo' : [], 'Connect' : []}   \n",
    "      \n",
    "    # Loop for extracting product detils from each link\n",
    "    for link2 in links_list2:\n",
    "        new_webpage2 = requests.get(\"https://www.amazon.in\" + link2 , headers = HEADERS)\n",
    "        new_soup2 = BeautifulSoup(new_webpage2.content,\"html.parser\")\n",
    "        \n",
    "        # Function calls to display all necessary product information\n",
    "        d2['title'].append(get_title(new_soup2))\n",
    "        d2['price'].append(get_price(new_soup2))\n",
    "        d2['ratings'].append(get_rating(new_soup2))\n",
    "        d2['availability'].append(get_availability(new_soup2))    \n",
    "        d2['brand'].append(get_brand(new_soup2))\n",
    "        d2['discount'].append(get_discount(new_soup2))\n",
    "        d2['tech'].append(get_tech(new_soup2))\n",
    "        d2['dim'].append(get_dim(new_soup2))\n",
    "        d2['res'].append(get_res(new_soup2))\n",
    "        d2['refresh'].append(get_refresh(new_soup2))\n",
    "        d2['size'].append(get_size(new_soup2))\n",
    "        d2['ratingsNo'].append(get_ratingsNo(new_soup2))\n",
    "        d2['Connect'].append(get_Connect(new_soup2))"
   ]
  },
  {
   "cell_type": "code",
   "execution_count": 28,
   "id": "4adb535a",
   "metadata": {},
   "outputs": [],
   "source": [
    "amazon_df2 = pd.DataFrame.from_dict(d2, orient='index')\n",
    "amazon_df2 = amazon_df2.transpose()\n",
    "amazon_df2['title'].replace('', np.nan, inplace=True)\n",
    "amazon_df2 = amazon_df2.dropna(subset=['title'])\n",
    "amazon_df2.to_csv(\"amazon_data2.csv\", header=True, index=False)"
   ]
  },
  {
   "cell_type": "markdown",
   "id": "86eb41e7",
   "metadata": {},
   "source": [
    "### Amazon Page 3"
   ]
  },
  {
   "cell_type": "code",
   "execution_count": 29,
   "id": "c31e7f14",
   "metadata": {},
   "outputs": [
    {
     "data": {
      "text/html": [
       "<div>\n",
       "<style scoped>\n",
       "    .dataframe tbody tr th:only-of-type {\n",
       "        vertical-align: middle;\n",
       "    }\n",
       "\n",
       "    .dataframe tbody tr th {\n",
       "        vertical-align: top;\n",
       "    }\n",
       "\n",
       "    .dataframe thead th {\n",
       "        text-align: right;\n",
       "    }\n",
       "</style>\n",
       "<table border=\"1\" class=\"dataframe\">\n",
       "  <thead>\n",
       "    <tr style=\"text-align: right;\">\n",
       "      <th></th>\n",
       "      <th>title</th>\n",
       "      <th>price</th>\n",
       "      <th>ratings</th>\n",
       "      <th>reviews</th>\n",
       "      <th>availability</th>\n",
       "      <th>brand</th>\n",
       "      <th>discount</th>\n",
       "      <th>tech</th>\n",
       "      <th>dim</th>\n",
       "      <th>res</th>\n",
       "      <th>refresh</th>\n",
       "      <th>size</th>\n",
       "      <th>ratingsNo</th>\n",
       "      <th>Connect</th>\n",
       "    </tr>\n",
       "  </thead>\n",
       "  <tbody>\n",
       "    <tr>\n",
       "      <th>0</th>\n",
       "      <td>iFFALCON 80.04 cm (32 inches) Bezel-Less S Ser...</td>\n",
       "      <td>12,999.</td>\n",
       "      <td>4.3 out of 5 stars</td>\n",
       "      <td>None</td>\n",
       "      <td>In stock</td>\n",
       "      <td>iFFALCON</td>\n",
       "      <td>-35%</td>\n",
       "      <td>8D x 71.5W x 46.8H Centimeters</td>\n",
       "      <td>768p</td>\n",
       "      <td>60 Hz</td>\n",
       "      <td>iFF32S53</td>\n",
       "      <td>32 Inches</td>\n",
       "      <td>219 ratings</td>\n",
       "      <td></td>\n",
       "    </tr>\n",
       "    <tr>\n",
       "      <th>1</th>\n",
       "      <td>Samsung 108 cm (43 inches) Crystal 4K Neo Seri...</td>\n",
       "      <td>29,990.</td>\n",
       "      <td>4.3 out of 5 stars</td>\n",
       "      <td>None</td>\n",
       "      <td>In stock</td>\n",
       "      <td>Samsung</td>\n",
       "      <td>-37%</td>\n",
       "      <td>LED</td>\n",
       "      <td>7.8D x 96.3W x 56.2H Centimeters</td>\n",
       "      <td>4K</td>\n",
       "      <td>50 Hz</td>\n",
       "      <td>43 Inches</td>\n",
       "      <td>8,239 ratings</td>\n",
       "      <td></td>\n",
       "    </tr>\n",
       "    <tr>\n",
       "      <th>2</th>\n",
       "      <td>Samsung 108 cm (43 inches) Crystal 4K Series U...</td>\n",
       "      <td>29,990.</td>\n",
       "      <td>4.3 out of 5 stars</td>\n",
       "      <td>None</td>\n",
       "      <td>In stock</td>\n",
       "      <td>Samsung</td>\n",
       "      <td>-43%</td>\n",
       "      <td>LED</td>\n",
       "      <td>19.3D x 123.1W x 62.7H Centimeters</td>\n",
       "      <td>4K</td>\n",
       "      <td>60 Hz</td>\n",
       "      <td>43 Inches</td>\n",
       "      <td>8,239 ratings</td>\n",
       "      <td></td>\n",
       "    </tr>\n",
       "    <tr>\n",
       "      <th>3</th>\n",
       "      <td>Kodak 80 cm (32 inches) HD Ready Certified And...</td>\n",
       "      <td>9,499.</td>\n",
       "      <td>4.2 out of 5 stars</td>\n",
       "      <td>None</td>\n",
       "      <td>In stock</td>\n",
       "      <td>Kodak</td>\n",
       "      <td>-27%</td>\n",
       "      <td>LED</td>\n",
       "      <td>11D x 73.5W x 44H Centimeters</td>\n",
       "      <td>720p</td>\n",
       "      <td>60 Hz</td>\n",
       "      <td>32 Inches</td>\n",
       "      <td>13,263 ratings</td>\n",
       "      <td>Connector Type   Wi-Fi</td>\n",
       "    </tr>\n",
       "    <tr>\n",
       "      <th>4</th>\n",
       "      <td>Acer 109 cm (43 inches) I Series 4K Ultra HD A...</td>\n",
       "      <td>22,999.</td>\n",
       "      <td>4.4 out of 5 stars</td>\n",
       "      <td>None</td>\n",
       "      <td>In stock</td>\n",
       "      <td>Acer</td>\n",
       "      <td>-34%</td>\n",
       "      <td>LED</td>\n",
       "      <td>8.9D x 96.6W x 56.6H Centimeters</td>\n",
       "      <td>4K</td>\n",
       "      <td>60 Hz</td>\n",
       "      <td>43 Inches</td>\n",
       "      <td>9,197 ratings</td>\n",
       "      <td></td>\n",
       "    </tr>\n",
       "  </tbody>\n",
       "</table>\n",
       "</div>"
      ],
      "text/plain": [
       "                                               title    price  \\\n",
       "0  iFFALCON 80.04 cm (32 inches) Bezel-Less S Ser...  12,999.   \n",
       "1  Samsung 108 cm (43 inches) Crystal 4K Neo Seri...  29,990.   \n",
       "2  Samsung 108 cm (43 inches) Crystal 4K Series U...  29,990.   \n",
       "3  Kodak 80 cm (32 inches) HD Ready Certified And...   9,499.   \n",
       "4  Acer 109 cm (43 inches) I Series 4K Ultra HD A...  22,999.   \n",
       "\n",
       "              ratings reviews availability     brand discount  \\\n",
       "0  4.3 out of 5 stars    None     In stock  iFFALCON     -35%   \n",
       "1  4.3 out of 5 stars    None     In stock   Samsung     -37%   \n",
       "2  4.3 out of 5 stars    None     In stock   Samsung     -43%   \n",
       "3  4.2 out of 5 stars    None     In stock     Kodak     -27%   \n",
       "4  4.4 out of 5 stars    None     In stock      Acer     -34%   \n",
       "\n",
       "                             tech                                 dim    res  \\\n",
       "0  8D x 71.5W x 46.8H Centimeters                                768p  60 Hz   \n",
       "1                             LED    7.8D x 96.3W x 56.2H Centimeters     4K   \n",
       "2                             LED  19.3D x 123.1W x 62.7H Centimeters     4K   \n",
       "3                             LED       11D x 73.5W x 44H Centimeters   720p   \n",
       "4                             LED    8.9D x 96.6W x 56.6H Centimeters     4K   \n",
       "\n",
       "    refresh       size       ratingsNo                 Connect  \n",
       "0  iFF32S53  32 Inches     219 ratings                          \n",
       "1     50 Hz  43 Inches   8,239 ratings                          \n",
       "2     60 Hz  43 Inches   8,239 ratings                          \n",
       "3     60 Hz  32 Inches  13,263 ratings  Connector Type   Wi-Fi  \n",
       "4     60 Hz  43 Inches   9,197 ratings                          "
      ]
     },
     "execution_count": 29,
     "metadata": {},
     "output_type": "execute_result"
    }
   ],
   "source": [
    "amazon_df2.head()"
   ]
  },
  {
   "cell_type": "code",
   "execution_count": 30,
   "id": "4e8f025f",
   "metadata": {},
   "outputs": [],
   "source": [
    "if __name__ == '__main__':\n",
    "    \n",
    "    # Headers for request\n",
    "    HEADERS = ({'User-Agent' : 'Mozilla/5.0 (Windows NT 10.0; Win64; x64) AppleWebKit/537.36 (KHTML, like Gecko) Chrome/111.0.0.0 Safari/537.36', 'Accept Language' : 'en-US,en:q=0.5'})\n",
    "    \n",
    "    # The webpage URL \n",
    "    url3 = \"https://www.amazon.in/s?k=tv&page=4&crid=2AVBQD9DITO08&qid=1680237143&sprefix=tv%2Caps%2C500&ref=sr_pg_4\"\n",
    "    \n",
    "    # HTTP Request\n",
    "    webpage3 = requests.get(url3, headers = HEADERS)\n",
    "    \n",
    "    # SOUP object containing all data\n",
    "    soup3 = BeautifulSoup(webpage3.content,'html.parser')\n",
    "\n",
    "    # Fetch links as list of tag objects\n",
    "    links3 = soup3.find_all(\"a\", attrs = {'class': 'a-link-normal s-underline-text s-underline-link-text s-link-style a-text-normal'})\n",
    "    \n",
    "    # Store the links\n",
    "    links_list3 = []\n",
    "    \n",
    "    # Loop for extracting links from Tag Objects\n",
    "    for link3 in links3:\n",
    "        links_list3.append(link3.get('href'))\n",
    "    d3 = {'title': [] , 'price' : [] , 'ratings': [] , 'reviews' : [] , 'availability': [] , 'brand' : [], 'discount' : [] ,  'tech' : [] ,  'dim' : [] ,  'res' : [] ,  'refresh' : [] ,  'size' : [] , 'ratingsNo' : [], 'Connect' : []}   \n",
    "      \n",
    "    # Loop for extracting product detils from each link\n",
    "    for link3 in links_list3:\n",
    "        new_webpage3 = requests.get(\"https://www.amazon.in\" + link3 , headers = HEADERS)\n",
    "        new_soup3 = BeautifulSoup(new_webpage3.content,\"html.parser\")\n",
    "        \n",
    "        # Function calls to display all necessary product information\n",
    "        d3['title'].append(get_title(new_soup3))\n",
    "        d3['price'].append(get_price(new_soup3))\n",
    "        d3['ratings'].append(get_rating(new_soup3))\n",
    "        d3['availability'].append(get_availability(new_soup3))    \n",
    "        d3['brand'].append(get_brand(new_soup3))\n",
    "        d3['discount'].append(get_discount(new_soup3))\n",
    "        d3['tech'].append(get_tech(new_soup3))\n",
    "        d3['dim'].append(get_dim(new_soup3))\n",
    "        d3['res'].append(get_res(new_soup3))\n",
    "        d3['refresh'].append(get_refresh(new_soup3))\n",
    "        d3['size'].append(get_size(new_soup3))\n",
    "        d3['ratingsNo'].append(get_ratingsNo(new_soup3))\n",
    "        d3['Connect'].append(get_Connect(new_soup3))"
   ]
  },
  {
   "cell_type": "code",
   "execution_count": 31,
   "id": "386edd56",
   "metadata": {},
   "outputs": [],
   "source": [
    "amazon_df3 = pd.DataFrame.from_dict(d3, orient='index')\n",
    "amazon_df3 = amazon_df3.transpose()\n",
    "amazon_df3['title'].replace('', np.nan, inplace=True)\n",
    "amazon_df3 = amazon_df3.dropna(subset=['title'])\n",
    "amazon_df3.to_csv(\"amazon_data3.csv\", header=True, index=False)"
   ]
  },
  {
   "cell_type": "markdown",
   "id": "e7074741",
   "metadata": {},
   "source": [
    "### Amazon Page 4"
   ]
  },
  {
   "cell_type": "code",
   "execution_count": 32,
   "id": "4fafb49a",
   "metadata": {},
   "outputs": [
    {
     "data": {
      "text/html": [
       "<div>\n",
       "<style scoped>\n",
       "    .dataframe tbody tr th:only-of-type {\n",
       "        vertical-align: middle;\n",
       "    }\n",
       "\n",
       "    .dataframe tbody tr th {\n",
       "        vertical-align: top;\n",
       "    }\n",
       "\n",
       "    .dataframe thead th {\n",
       "        text-align: right;\n",
       "    }\n",
       "</style>\n",
       "<table border=\"1\" class=\"dataframe\">\n",
       "  <thead>\n",
       "    <tr style=\"text-align: right;\">\n",
       "      <th></th>\n",
       "      <th>title</th>\n",
       "      <th>price</th>\n",
       "      <th>ratings</th>\n",
       "      <th>reviews</th>\n",
       "      <th>availability</th>\n",
       "      <th>brand</th>\n",
       "      <th>discount</th>\n",
       "      <th>tech</th>\n",
       "      <th>dim</th>\n",
       "      <th>res</th>\n",
       "      <th>refresh</th>\n",
       "      <th>size</th>\n",
       "      <th>ratingsNo</th>\n",
       "      <th>Connect</th>\n",
       "    </tr>\n",
       "  </thead>\n",
       "  <tbody>\n",
       "    <tr>\n",
       "      <th>0</th>\n",
       "      <td>iFFALCON 80.04 cm (32 inches) Bezel-Less S Ser...</td>\n",
       "      <td>12,999.</td>\n",
       "      <td>4.3 out of 5 stars</td>\n",
       "      <td>None</td>\n",
       "      <td>In stock</td>\n",
       "      <td>iFFALCON</td>\n",
       "      <td>-35%</td>\n",
       "      <td>8D x 71.5W x 46.8H Centimeters</td>\n",
       "      <td>768p</td>\n",
       "      <td>60 Hz</td>\n",
       "      <td>iFF32S53</td>\n",
       "      <td>32 Inches</td>\n",
       "      <td>219 ratings</td>\n",
       "      <td></td>\n",
       "    </tr>\n",
       "    <tr>\n",
       "      <th>1</th>\n",
       "      <td>TCL 100 cm (40 inches) Full HD Certified Andro...</td>\n",
       "      <td>16,990.</td>\n",
       "      <td>4.2 out of 5 stars</td>\n",
       "      <td>None</td>\n",
       "      <td>In stock</td>\n",
       "      <td>TCL</td>\n",
       "      <td>-59%</td>\n",
       "      <td>18.5D x 90.5W x 51.8H Centimeters</td>\n",
       "      <td>1080p</td>\n",
       "      <td>60 Hz</td>\n",
       "      <td>Wi-Fi, USB, Ethernet, HDMI</td>\n",
       "      <td>40 Inches</td>\n",
       "      <td>1,583 ratings</td>\n",
       "      <td>Connector Type   Wi-Fi, USB, Ethernet, HDMI</td>\n",
       "    </tr>\n",
       "    <tr>\n",
       "      <th>2</th>\n",
       "      <td>Onida 80 cm (32 inches) HD Ready Smart LED Fir...</td>\n",
       "      <td>12,990.</td>\n",
       "      <td>4.3 out of 5 stars</td>\n",
       "      <td>None</td>\n",
       "      <td>In stock</td>\n",
       "      <td>Onida</td>\n",
       "      <td>-48%</td>\n",
       "      <td>LED</td>\n",
       "      <td>8.2D x 72.6W x 42.7H Centimeters</td>\n",
       "      <td>720p</td>\n",
       "      <td>60 Hz</td>\n",
       "      <td>32 Inches</td>\n",
       "      <td>4,648 ratings</td>\n",
       "      <td></td>\n",
       "    </tr>\n",
       "    <tr>\n",
       "      <th>3</th>\n",
       "      <td>LG 164 cm (65 Inches) 4K Ultra HD Smart NanoCe...</td>\n",
       "      <td>1,99,999.</td>\n",
       "      <td>4.5 stars</td>\n",
       "      <td>None</td>\n",
       "      <td>Only 1 left in stock</td>\n",
       "      <td>LG</td>\n",
       "      <td>-27%</td>\n",
       "      <td>NanoCell</td>\n",
       "      <td>4K</td>\n",
       "      <td>50 Hz</td>\n",
       "      <td>Smart TV ThinQ AI | Mobile connection overlay ...</td>\n",
       "      <td>65 Inches</td>\n",
       "      <td>1 rating</td>\n",
       "      <td>Connector Type   Wi-Fi, USB, HDMI</td>\n",
       "    </tr>\n",
       "    <tr>\n",
       "      <th>4</th>\n",
       "      <td>MI 100 cm (40 inches) 5A Series Full HD Smart ...</td>\n",
       "      <td>20,999.</td>\n",
       "      <td>4.5 out of 5 stars</td>\n",
       "      <td>None</td>\n",
       "      <td>In stock</td>\n",
       "      <td>MI</td>\n",
       "      <td>-30%</td>\n",
       "      <td>LED</td>\n",
       "      <td>21D x 9.2W x 55.9H Centimeters</td>\n",
       "      <td>1080p</td>\n",
       "      <td>60 Hz</td>\n",
       "      <td>40 Inches</td>\n",
       "      <td>34,970 ratings</td>\n",
       "      <td></td>\n",
       "    </tr>\n",
       "  </tbody>\n",
       "</table>\n",
       "</div>"
      ],
      "text/plain": [
       "                                               title      price  \\\n",
       "0  iFFALCON 80.04 cm (32 inches) Bezel-Less S Ser...    12,999.   \n",
       "1  TCL 100 cm (40 inches) Full HD Certified Andro...    16,990.   \n",
       "2  Onida 80 cm (32 inches) HD Ready Smart LED Fir...    12,990.   \n",
       "3  LG 164 cm (65 Inches) 4K Ultra HD Smart NanoCe...  1,99,999.   \n",
       "4  MI 100 cm (40 inches) 5A Series Full HD Smart ...    20,999.   \n",
       "\n",
       "              ratings reviews          availability     brand discount  \\\n",
       "0  4.3 out of 5 stars    None              In stock  iFFALCON     -35%   \n",
       "1  4.2 out of 5 stars    None              In stock       TCL     -59%   \n",
       "2  4.3 out of 5 stars    None              In stock     Onida     -48%   \n",
       "3           4.5 stars    None  Only 1 left in stock        LG     -27%   \n",
       "4  4.5 out of 5 stars    None              In stock        MI     -30%   \n",
       "\n",
       "                                tech                               dim    res  \\\n",
       "0     8D x 71.5W x 46.8H Centimeters                              768p  60 Hz   \n",
       "1  18.5D x 90.5W x 51.8H Centimeters                             1080p  60 Hz   \n",
       "2                                LED  8.2D x 72.6W x 42.7H Centimeters   720p   \n",
       "3                           NanoCell                                4K  50 Hz   \n",
       "4                                LED    21D x 9.2W x 55.9H Centimeters  1080p   \n",
       "\n",
       "                                             refresh       size  \\\n",
       "0                                           iFF32S53  32 Inches   \n",
       "1                         Wi-Fi, USB, Ethernet, HDMI  40 Inches   \n",
       "2                                              60 Hz  32 Inches   \n",
       "3  Smart TV ThinQ AI | Mobile connection overlay ...  65 Inches   \n",
       "4                                              60 Hz  40 Inches   \n",
       "\n",
       "        ratingsNo                                      Connect  \n",
       "0     219 ratings                                               \n",
       "1   1,583 ratings  Connector Type   Wi-Fi, USB, Ethernet, HDMI  \n",
       "2   4,648 ratings                                               \n",
       "3        1 rating            Connector Type   Wi-Fi, USB, HDMI  \n",
       "4  34,970 ratings                                               "
      ]
     },
     "execution_count": 32,
     "metadata": {},
     "output_type": "execute_result"
    }
   ],
   "source": [
    "amazon_df3.head()"
   ]
  },
  {
   "cell_type": "code",
   "execution_count": 33,
   "id": "abe6880c",
   "metadata": {},
   "outputs": [],
   "source": [
    "if __name__ == '__main__':\n",
    "    \n",
    "    # Headers for request\n",
    "    HEADERS = ({'User-Agent' : 'Mozilla/5.0 (Windows NT 10.0; Win64; x64) AppleWebKit/537.36 (KHTML, like Gecko) Chrome/111.0.0.0 Safari/537.36', 'Accept Language' : 'en-US,en:q=0.5'})\n",
    "    \n",
    "    # The webpage URL \n",
    "    url4 = \"https://www.amazon.in/s?k=tv&page=4&crid=2AVBQD9DITO08&qid=1680237143&sprefix=tv%2Caps%2C500&ref=sr_pg_5\"\n",
    "    \n",
    "    # HTTP Request\n",
    "    webpage4 = requests.get(url4, headers = HEADERS)\n",
    "    \n",
    "    # SOUP object containing all data\n",
    "    soup4 = BeautifulSoup(webpage4.content,'html.parser')\n",
    "\n",
    "    # Fetch links as list of tag objects\n",
    "    links4 = soup4.find_all(\"a\", attrs = {'class': 'a-link-normal s-underline-text s-underline-link-text s-link-style a-text-normal'})\n",
    "    \n",
    "    # Store the links\n",
    "    links_list4 = []\n",
    "    \n",
    "    # Loop for extracting links from Tag Objects\n",
    "    for link4 in links4:\n",
    "        links_list4.append(link4.get('href'))\n",
    "    d4 = {'title': [] , 'price' : [] , 'ratings': [] , 'reviews' : [] , 'availability': [] , 'brand' : [], 'discount' : [] ,  'tech' : [] ,  'dim' : [] ,  'res' : [] ,  'refresh' : [] ,  'size' : [] , 'ratingsNo' : [], 'Connect' : []}   \n",
    "      \n",
    "    # Loop for extracting product detils from each link\n",
    "    for link4 in links_list4:\n",
    "        new_webpage4 = requests.get(\"https://www.amazon.in\" + link4 , headers = HEADERS)\n",
    "        new_soup4 = BeautifulSoup(new_webpage4.content,\"html.parser\")\n",
    "        \n",
    "        # Function calls to display all necessary product information\n",
    "        d4['title'].append(get_title(new_soup4))\n",
    "        d4['price'].append(get_price(new_soup4))\n",
    "        d4['ratings'].append(get_rating(new_soup4))\n",
    "        d4['availability'].append(get_availability(new_soup4))    \n",
    "        d4['brand'].append(get_brand(new_soup4))\n",
    "        d4['discount'].append(get_discount(new_soup4))\n",
    "        d4['tech'].append(get_tech(new_soup4))\n",
    "        d4['dim'].append(get_dim(new_soup4))\n",
    "        d4['res'].append(get_res(new_soup4))\n",
    "        d4['refresh'].append(get_refresh(new_soup4))\n",
    "        d4['size'].append(get_size(new_soup4))\n",
    "        d4['ratingsNo'].append(get_ratingsNo(new_soup4))\n",
    "        d4['Connect'].append(get_Connect(new_soup4))"
   ]
  },
  {
   "cell_type": "code",
   "execution_count": 34,
   "id": "79309b90",
   "metadata": {},
   "outputs": [],
   "source": [
    "amazon_df4 = pd.DataFrame.from_dict(d4, orient='index')\n",
    "amazon_df4 = amazon_df4.transpose()\n",
    "amazon_df4['title'].replace('', np.nan, inplace=True)\n",
    "amazon_df4 = amazon_df4.dropna(subset=['title'])\n",
    "amazon_df4.to_csv(\"amazon_data4.csv\", header=True, index=False)"
   ]
  },
  {
   "cell_type": "markdown",
   "id": "1c15e2ca",
   "metadata": {},
   "source": [
    "### Amazon Page 5"
   ]
  },
  {
   "cell_type": "code",
   "execution_count": 35,
   "id": "38c0cc35",
   "metadata": {},
   "outputs": [
    {
     "data": {
      "text/html": [
       "<div>\n",
       "<style scoped>\n",
       "    .dataframe tbody tr th:only-of-type {\n",
       "        vertical-align: middle;\n",
       "    }\n",
       "\n",
       "    .dataframe tbody tr th {\n",
       "        vertical-align: top;\n",
       "    }\n",
       "\n",
       "    .dataframe thead th {\n",
       "        text-align: right;\n",
       "    }\n",
       "</style>\n",
       "<table border=\"1\" class=\"dataframe\">\n",
       "  <thead>\n",
       "    <tr style=\"text-align: right;\">\n",
       "      <th></th>\n",
       "      <th>title</th>\n",
       "      <th>price</th>\n",
       "      <th>ratings</th>\n",
       "      <th>reviews</th>\n",
       "      <th>availability</th>\n",
       "      <th>brand</th>\n",
       "      <th>discount</th>\n",
       "      <th>tech</th>\n",
       "      <th>dim</th>\n",
       "      <th>res</th>\n",
       "      <th>refresh</th>\n",
       "      <th>size</th>\n",
       "      <th>ratingsNo</th>\n",
       "      <th>Connect</th>\n",
       "    </tr>\n",
       "  </thead>\n",
       "  <tbody>\n",
       "    <tr>\n",
       "      <th>0</th>\n",
       "      <td>iFFALCON 80.04 cm (32 inches) Bezel-Less S Ser...</td>\n",
       "      <td>12,999.</td>\n",
       "      <td>4.3 out of 5 stars</td>\n",
       "      <td>None</td>\n",
       "      <td>In stock</td>\n",
       "      <td>iFFALCON</td>\n",
       "      <td>-35%</td>\n",
       "      <td>8D x 71.5W x 46.8H Centimeters</td>\n",
       "      <td>768p</td>\n",
       "      <td>60 Hz</td>\n",
       "      <td>iFF32S53</td>\n",
       "      <td>32 Inches</td>\n",
       "      <td>219 ratings</td>\n",
       "      <td></td>\n",
       "    </tr>\n",
       "    <tr>\n",
       "      <th>1</th>\n",
       "      <td>TCL 100 cm (40 inches) Full HD Certified Andro...</td>\n",
       "      <td>16,990.</td>\n",
       "      <td>4.2 out of 5 stars</td>\n",
       "      <td>None</td>\n",
       "      <td>In stock</td>\n",
       "      <td>TCL</td>\n",
       "      <td>-59%</td>\n",
       "      <td>18.5D x 90.5W x 51.8H Centimeters</td>\n",
       "      <td>1080p</td>\n",
       "      <td>60 Hz</td>\n",
       "      <td>Wi-Fi, USB, Ethernet, HDMI</td>\n",
       "      <td>40 Inches</td>\n",
       "      <td>1,583 ratings</td>\n",
       "      <td>Connector Type   Wi-Fi, USB, Ethernet, HDMI</td>\n",
       "    </tr>\n",
       "    <tr>\n",
       "      <th>2</th>\n",
       "      <td>Onida 80 cm (32 inches) HD Ready Smart LED Fir...</td>\n",
       "      <td>12,990.</td>\n",
       "      <td>4.3 out of 5 stars</td>\n",
       "      <td>None</td>\n",
       "      <td>In stock</td>\n",
       "      <td>Onida</td>\n",
       "      <td>-48%</td>\n",
       "      <td>LED</td>\n",
       "      <td>8.2D x 72.6W x 42.7H Centimeters</td>\n",
       "      <td>720p</td>\n",
       "      <td>60 Hz</td>\n",
       "      <td>32 Inches</td>\n",
       "      <td>4,648 ratings</td>\n",
       "      <td></td>\n",
       "    </tr>\n",
       "    <tr>\n",
       "      <th>3</th>\n",
       "      <td>LG 164 cm (65 Inches) 4K Ultra HD Smart NanoCe...</td>\n",
       "      <td>1,99,999.</td>\n",
       "      <td>4.5 stars</td>\n",
       "      <td>None</td>\n",
       "      <td>Only 1 left in stock</td>\n",
       "      <td>LG</td>\n",
       "      <td>-27%</td>\n",
       "      <td>NanoCell</td>\n",
       "      <td>4K</td>\n",
       "      <td>50 Hz</td>\n",
       "      <td>Smart TV ThinQ AI | Mobile connection overlay ...</td>\n",
       "      <td>65 Inches</td>\n",
       "      <td>1 rating</td>\n",
       "      <td>Connector Type   Wi-Fi, USB, HDMI</td>\n",
       "    </tr>\n",
       "    <tr>\n",
       "      <th>4</th>\n",
       "      <td>MI 100 cm (40 inches) 5A Series Full HD Smart ...</td>\n",
       "      <td>20,999.</td>\n",
       "      <td>4.2 out of 5 stars</td>\n",
       "      <td>None</td>\n",
       "      <td>In stock</td>\n",
       "      <td>MI</td>\n",
       "      <td>-30%</td>\n",
       "      <td>LED</td>\n",
       "      <td>21D x 9.2W x 55.9H Centimeters</td>\n",
       "      <td>1080p</td>\n",
       "      <td>60 Hz</td>\n",
       "      <td>40 Inches</td>\n",
       "      <td>34,970 ratings</td>\n",
       "      <td></td>\n",
       "    </tr>\n",
       "  </tbody>\n",
       "</table>\n",
       "</div>"
      ],
      "text/plain": [
       "                                               title      price  \\\n",
       "0  iFFALCON 80.04 cm (32 inches) Bezel-Less S Ser...    12,999.   \n",
       "1  TCL 100 cm (40 inches) Full HD Certified Andro...    16,990.   \n",
       "2  Onida 80 cm (32 inches) HD Ready Smart LED Fir...    12,990.   \n",
       "3  LG 164 cm (65 Inches) 4K Ultra HD Smart NanoCe...  1,99,999.   \n",
       "4  MI 100 cm (40 inches) 5A Series Full HD Smart ...    20,999.   \n",
       "\n",
       "              ratings reviews          availability     brand discount  \\\n",
       "0  4.3 out of 5 stars    None              In stock  iFFALCON     -35%   \n",
       "1  4.2 out of 5 stars    None              In stock       TCL     -59%   \n",
       "2  4.3 out of 5 stars    None              In stock     Onida     -48%   \n",
       "3           4.5 stars    None  Only 1 left in stock        LG     -27%   \n",
       "4  4.2 out of 5 stars    None              In stock        MI     -30%   \n",
       "\n",
       "                                tech                               dim    res  \\\n",
       "0     8D x 71.5W x 46.8H Centimeters                              768p  60 Hz   \n",
       "1  18.5D x 90.5W x 51.8H Centimeters                             1080p  60 Hz   \n",
       "2                                LED  8.2D x 72.6W x 42.7H Centimeters   720p   \n",
       "3                           NanoCell                                4K  50 Hz   \n",
       "4                                LED    21D x 9.2W x 55.9H Centimeters  1080p   \n",
       "\n",
       "                                             refresh       size  \\\n",
       "0                                           iFF32S53  32 Inches   \n",
       "1                         Wi-Fi, USB, Ethernet, HDMI  40 Inches   \n",
       "2                                              60 Hz  32 Inches   \n",
       "3  Smart TV ThinQ AI | Mobile connection overlay ...  65 Inches   \n",
       "4                                              60 Hz  40 Inches   \n",
       "\n",
       "        ratingsNo                                      Connect  \n",
       "0     219 ratings                                               \n",
       "1   1,583 ratings  Connector Type   Wi-Fi, USB, Ethernet, HDMI  \n",
       "2   4,648 ratings                                               \n",
       "3        1 rating            Connector Type   Wi-Fi, USB, HDMI  \n",
       "4  34,970 ratings                                               "
      ]
     },
     "execution_count": 35,
     "metadata": {},
     "output_type": "execute_result"
    }
   ],
   "source": [
    "amazon_df4.head()"
   ]
  },
  {
   "cell_type": "markdown",
   "id": "de4926c2",
   "metadata": {},
   "source": [
    "### Merging 5 pages together"
   ]
  },
  {
   "cell_type": "code",
   "execution_count": 36,
   "id": "35a68141",
   "metadata": {},
   "outputs": [
    {
     "data": {
      "text/html": [
       "<div>\n",
       "<style scoped>\n",
       "    .dataframe tbody tr th:only-of-type {\n",
       "        vertical-align: middle;\n",
       "    }\n",
       "\n",
       "    .dataframe tbody tr th {\n",
       "        vertical-align: top;\n",
       "    }\n",
       "\n",
       "    .dataframe thead th {\n",
       "        text-align: right;\n",
       "    }\n",
       "</style>\n",
       "<table border=\"1\" class=\"dataframe\">\n",
       "  <thead>\n",
       "    <tr style=\"text-align: right;\">\n",
       "      <th></th>\n",
       "      <th>title</th>\n",
       "      <th>price</th>\n",
       "      <th>ratings</th>\n",
       "      <th>reviews</th>\n",
       "      <th>availability</th>\n",
       "      <th>brand</th>\n",
       "      <th>discount</th>\n",
       "      <th>tech</th>\n",
       "      <th>dim</th>\n",
       "      <th>res</th>\n",
       "      <th>refresh</th>\n",
       "      <th>size</th>\n",
       "      <th>ratingsNo</th>\n",
       "      <th>Connect</th>\n",
       "    </tr>\n",
       "  </thead>\n",
       "  <tbody>\n",
       "    <tr>\n",
       "      <th>0</th>\n",
       "      <td>VU 139 cm (55 inches) The GloLED Series 4K Sma...</td>\n",
       "      <td>37,999.</td>\n",
       "      <td>4.5 out of 5 stars</td>\n",
       "      <td>None</td>\n",
       "      <td>In stock</td>\n",
       "      <td>VU</td>\n",
       "      <td>-42%</td>\n",
       "      <td>LED</td>\n",
       "      <td>30.5D x 123W x 71.4H Centimeters</td>\n",
       "      <td>4K</td>\n",
       "      <td>60 Hz</td>\n",
       "      <td>55 Inches</td>\n",
       "      <td>1,569 ratings</td>\n",
       "      <td></td>\n",
       "    </tr>\n",
       "    <tr>\n",
       "      <th>1</th>\n",
       "      <td>TOSHIBA 126 cm (50 inches) C350LP Series 4K Ul...</td>\n",
       "      <td>33,999.</td>\n",
       "      <td>4.5 out of 5 stars</td>\n",
       "      <td>None</td>\n",
       "      <td>In stock</td>\n",
       "      <td>TOSHIBA</td>\n",
       "      <td>-38%</td>\n",
       "      <td>LED</td>\n",
       "      <td>24.7D x 111.7W x 64.6H Centimeters</td>\n",
       "      <td>4K</td>\n",
       "      <td>60 Hz</td>\n",
       "      <td>50 Inches</td>\n",
       "      <td>1,219 ratings</td>\n",
       "      <td>Connector Type   Wi-Fi, USB, Ethernet, HDMI</td>\n",
       "    </tr>\n",
       "    <tr>\n",
       "      <th>2</th>\n",
       "      <td>Redmi 80 cm (32 inches) HD Ready Smart LED Fir...</td>\n",
       "      <td>13,999.</td>\n",
       "      <td>4.1 out of 5 stars</td>\n",
       "      <td>None</td>\n",
       "      <td>In stock</td>\n",
       "      <td>Redmi</td>\n",
       "      <td>-44%</td>\n",
       "      <td>LED</td>\n",
       "      <td>8.3D x 71.6W x 42.4H Centimeters</td>\n",
       "      <td>720p</td>\n",
       "      <td>60 Hz</td>\n",
       "      <td>32 Inches</td>\n",
       "      <td>161 ratings</td>\n",
       "      <td>Connector Type   Wi-Fi, USB, Ethernet, HDMI</td>\n",
       "    </tr>\n",
       "    <tr>\n",
       "      <th>3</th>\n",
       "      <td>OnePlus 80 cm (32 inches) Y Series HD Ready LE...</td>\n",
       "      <td>11,999.</td>\n",
       "      <td>4.2 out of 5 stars</td>\n",
       "      <td>None</td>\n",
       "      <td>In stock</td>\n",
       "      <td>OnePlus</td>\n",
       "      <td>-40%</td>\n",
       "      <td>LED</td>\n",
       "      <td>6.5D x 42W x 71.3H Centimeters</td>\n",
       "      <td>8K</td>\n",
       "      <td>60 Hz</td>\n",
       "      <td>32 Inches</td>\n",
       "      <td>37,682 ratings</td>\n",
       "      <td></td>\n",
       "    </tr>\n",
       "    <tr>\n",
       "      <th>4</th>\n",
       "      <td>Samsung 80 cm (32 Inches) Wondertainment Serie...</td>\n",
       "      <td>12,490.</td>\n",
       "      <td>4.4 stars</td>\n",
       "      <td>None</td>\n",
       "      <td>In stock</td>\n",
       "      <td>Samsung</td>\n",
       "      <td>-45%</td>\n",
       "      <td>LED</td>\n",
       "      <td>8.3D x 73.2W x 43.9H Centimeters</td>\n",
       "      <td>768p</td>\n",
       "      <td>60 Hz</td>\n",
       "      <td>32 Inches</td>\n",
       "      <td>9,204 ratings</td>\n",
       "      <td>Connector Type   Wi-Fi, USB, Ethernet, HDMI</td>\n",
       "    </tr>\n",
       "    <tr>\n",
       "      <th>...</th>\n",
       "      <td>...</td>\n",
       "      <td>...</td>\n",
       "      <td>...</td>\n",
       "      <td>...</td>\n",
       "      <td>...</td>\n",
       "      <td>...</td>\n",
       "      <td>...</td>\n",
       "      <td>...</td>\n",
       "      <td>...</td>\n",
       "      <td>...</td>\n",
       "      <td>...</td>\n",
       "      <td>...</td>\n",
       "      <td>...</td>\n",
       "      <td>...</td>\n",
       "    </tr>\n",
       "    <tr>\n",
       "      <th>17</th>\n",
       "      <td>Hisense 126 cm (50 inches) Tornado 2.0 Series ...</td>\n",
       "      <td>34,999.</td>\n",
       "      <td>4.4 out of 5 stars</td>\n",
       "      <td>None</td>\n",
       "      <td>In stock</td>\n",
       "      <td>Hisense</td>\n",
       "      <td>-36%</td>\n",
       "      <td>LED</td>\n",
       "      <td>7.8D x 111.8W x 67.6H Centimeters</td>\n",
       "      <td>4K</td>\n",
       "      <td>60 Hz</td>\n",
       "      <td>50 Inches</td>\n",
       "      <td>539 ratings</td>\n",
       "      <td></td>\n",
       "    </tr>\n",
       "    <tr>\n",
       "      <th>18</th>\n",
       "      <td>Kodak 80 cm (32 inches) HD Ready Certified And...</td>\n",
       "      <td>9,499.</td>\n",
       "      <td>4.1 out of 5 stars</td>\n",
       "      <td>None</td>\n",
       "      <td>In stock</td>\n",
       "      <td>Kodak</td>\n",
       "      <td>-51%</td>\n",
       "      <td>LED</td>\n",
       "      <td>44D x 73.5W x 9H Centimeters</td>\n",
       "      <td>720p</td>\n",
       "      <td>60 Hz</td>\n",
       "      <td>32 Inches</td>\n",
       "      <td>2,765 ratings</td>\n",
       "      <td>Connector Type   Wi-Fi, USB, Ethernet, HDMI</td>\n",
       "    </tr>\n",
       "    <tr>\n",
       "      <th>19</th>\n",
       "      <td>VU 108 cm (43 inches) The GloLED 84 Watt DJ So...</td>\n",
       "      <td>31,490.</td>\n",
       "      <td>4.5 out of 5 stars</td>\n",
       "      <td>None</td>\n",
       "      <td>In stock</td>\n",
       "      <td>VU</td>\n",
       "      <td>-21%</td>\n",
       "      <td>LED</td>\n",
       "      <td>8.6D x 96.2W x 56H Centimeters</td>\n",
       "      <td>4K</td>\n",
       "      <td>60 Hz</td>\n",
       "      <td>43 Inches</td>\n",
       "      <td>1,569 ratings</td>\n",
       "      <td></td>\n",
       "    </tr>\n",
       "    <tr>\n",
       "      <th>20</th>\n",
       "      <td>MI 80 cm (32 inches) 5A Series HD Ready Smart ...</td>\n",
       "      <td>12,999.</td>\n",
       "      <td>4.2 out of 5 stars</td>\n",
       "      <td>None</td>\n",
       "      <td>In stock</td>\n",
       "      <td>MI</td>\n",
       "      <td>-48%</td>\n",
       "      <td>LED</td>\n",
       "      <td>19D x 71.5W x 47H Centimeters</td>\n",
       "      <td>720p</td>\n",
       "      <td>60 Hz</td>\n",
       "      <td>32 Inches</td>\n",
       "      <td>34,970 ratings</td>\n",
       "      <td></td>\n",
       "    </tr>\n",
       "    <tr>\n",
       "      <th>21</th>\n",
       "      <td>Toshiba 108 cm (43 inches) V Series Full HD Sm...</td>\n",
       "      <td>19,999.</td>\n",
       "      <td>4.1 stars</td>\n",
       "      <td>None</td>\n",
       "      <td>In stock</td>\n",
       "      <td>TOSHIBA</td>\n",
       "      <td>-43%</td>\n",
       "      <td>LED</td>\n",
       "      <td>7.9D x 37.6W x 23.9H Centimeters</td>\n",
       "      <td>1080p</td>\n",
       "      <td>60 Hz</td>\n",
       "      <td>43 Inches</td>\n",
       "      <td>2,064 ratings</td>\n",
       "      <td></td>\n",
       "    </tr>\n",
       "  </tbody>\n",
       "</table>\n",
       "<p>110 rows × 14 columns</p>\n",
       "</div>"
      ],
      "text/plain": [
       "                                                title    price  \\\n",
       "0   VU 139 cm (55 inches) The GloLED Series 4K Sma...  37,999.   \n",
       "1   TOSHIBA 126 cm (50 inches) C350LP Series 4K Ul...  33,999.   \n",
       "2   Redmi 80 cm (32 inches) HD Ready Smart LED Fir...  13,999.   \n",
       "3   OnePlus 80 cm (32 inches) Y Series HD Ready LE...  11,999.   \n",
       "4   Samsung 80 cm (32 Inches) Wondertainment Serie...  12,490.   \n",
       "..                                                ...      ...   \n",
       "17  Hisense 126 cm (50 inches) Tornado 2.0 Series ...  34,999.   \n",
       "18  Kodak 80 cm (32 inches) HD Ready Certified And...   9,499.   \n",
       "19  VU 108 cm (43 inches) The GloLED 84 Watt DJ So...  31,490.   \n",
       "20  MI 80 cm (32 inches) 5A Series HD Ready Smart ...  12,999.   \n",
       "21  Toshiba 108 cm (43 inches) V Series Full HD Sm...  19,999.   \n",
       "\n",
       "               ratings reviews availability    brand discount tech  \\\n",
       "0   4.5 out of 5 stars    None     In stock       VU     -42%  LED   \n",
       "1   4.5 out of 5 stars    None     In stock  TOSHIBA     -38%  LED   \n",
       "2   4.1 out of 5 stars    None     In stock    Redmi     -44%  LED   \n",
       "3   4.2 out of 5 stars    None     In stock  OnePlus     -40%  LED   \n",
       "4            4.4 stars    None     In stock  Samsung     -45%  LED   \n",
       "..                 ...     ...          ...      ...      ...  ...   \n",
       "17  4.4 out of 5 stars    None     In stock  Hisense     -36%  LED   \n",
       "18  4.1 out of 5 stars    None     In stock    Kodak     -51%  LED   \n",
       "19  4.5 out of 5 stars    None     In stock       VU     -21%  LED   \n",
       "20  4.2 out of 5 stars    None     In stock       MI     -48%  LED   \n",
       "21           4.1 stars    None     In stock  TOSHIBA     -43%  LED   \n",
       "\n",
       "                                   dim    res refresh       size  \\\n",
       "0     30.5D x 123W x 71.4H Centimeters     4K   60 Hz  55 Inches   \n",
       "1   24.7D x 111.7W x 64.6H Centimeters     4K   60 Hz  50 Inches   \n",
       "2     8.3D x 71.6W x 42.4H Centimeters   720p   60 Hz  32 Inches   \n",
       "3       6.5D x 42W x 71.3H Centimeters     8K   60 Hz  32 Inches   \n",
       "4     8.3D x 73.2W x 43.9H Centimeters   768p   60 Hz  32 Inches   \n",
       "..                                 ...    ...     ...        ...   \n",
       "17   7.8D x 111.8W x 67.6H Centimeters     4K   60 Hz  50 Inches   \n",
       "18        44D x 73.5W x 9H Centimeters   720p   60 Hz  32 Inches   \n",
       "19      8.6D x 96.2W x 56H Centimeters     4K   60 Hz  43 Inches   \n",
       "20       19D x 71.5W x 47H Centimeters   720p   60 Hz  32 Inches   \n",
       "21    7.9D x 37.6W x 23.9H Centimeters  1080p   60 Hz  43 Inches   \n",
       "\n",
       "         ratingsNo                                      Connect  \n",
       "0    1,569 ratings                                               \n",
       "1    1,219 ratings  Connector Type   Wi-Fi, USB, Ethernet, HDMI  \n",
       "2      161 ratings  Connector Type   Wi-Fi, USB, Ethernet, HDMI  \n",
       "3   37,682 ratings                                               \n",
       "4    9,204 ratings  Connector Type   Wi-Fi, USB, Ethernet, HDMI  \n",
       "..             ...                                          ...  \n",
       "17     539 ratings                                               \n",
       "18   2,765 ratings  Connector Type   Wi-Fi, USB, Ethernet, HDMI  \n",
       "19   1,569 ratings                                               \n",
       "20  34,970 ratings                                               \n",
       "21   2,064 ratings                                               \n",
       "\n",
       "[110 rows x 14 columns]"
      ]
     },
     "execution_count": 36,
     "metadata": {},
     "output_type": "execute_result"
    }
   ],
   "source": [
    "final_df = pd.concat([amazon_df,amazon_df1,amazon_df2,amazon_df3,amazon_df4])\n",
    "final_df"
   ]
  },
  {
   "cell_type": "code",
   "execution_count": 37,
   "id": "142c97cd",
   "metadata": {},
   "outputs": [],
   "source": [
    "final_df['title'].replace('', np.nan, inplace=True)\n",
    "final_df = final_df.dropna(subset=['title'])\n",
    "final_df.to_csv(\"final_df.csv\", header=True, index=False)"
   ]
  },
  {
   "cell_type": "markdown",
   "id": "356b070a",
   "metadata": {},
   "source": [
    "### `Using Excel to remove duplicate entries` \n",
    "**To remove duplicate entries of products of TV  in excel:** <br>\n",
    " Data -> Data Tools -> Remove Duplicates -> Title -> OK <br>\n",
    "Result : 35 duplicates found and removed, 75 remained"
   ]
  },
  {
   "cell_type": "markdown",
   "id": "aaaf2cd7",
   "metadata": {},
   "source": [
    "### `FINAL DF`"
   ]
  },
  {
   "cell_type": "code",
   "execution_count": 108,
   "id": "edeb7f3e",
   "metadata": {},
   "outputs": [],
   "source": [
    "df = pd.read_csv(\"C:\\\\Users\\\\Lenovo\\\\Downloads\\\\final_df.csv\",index_col=False)"
   ]
  },
  {
   "cell_type": "code",
   "execution_count": 109,
   "id": "8ade97ec",
   "metadata": {},
   "outputs": [
    {
     "data": {
      "text/html": [
       "<div>\n",
       "<style scoped>\n",
       "    .dataframe tbody tr th:only-of-type {\n",
       "        vertical-align: middle;\n",
       "    }\n",
       "\n",
       "    .dataframe tbody tr th {\n",
       "        vertical-align: top;\n",
       "    }\n",
       "\n",
       "    .dataframe thead th {\n",
       "        text-align: right;\n",
       "    }\n",
       "</style>\n",
       "<table border=\"1\" class=\"dataframe\">\n",
       "  <thead>\n",
       "    <tr style=\"text-align: right;\">\n",
       "      <th></th>\n",
       "      <th>title</th>\n",
       "      <th>price</th>\n",
       "      <th>ratings</th>\n",
       "      <th>reviews</th>\n",
       "      <th>availability</th>\n",
       "      <th>brand</th>\n",
       "      <th>discount</th>\n",
       "      <th>tech</th>\n",
       "      <th>dim</th>\n",
       "      <th>res</th>\n",
       "      <th>refresh</th>\n",
       "      <th>size</th>\n",
       "      <th>ratingsNo</th>\n",
       "      <th>Connect</th>\n",
       "    </tr>\n",
       "  </thead>\n",
       "  <tbody>\n",
       "    <tr>\n",
       "      <th>0</th>\n",
       "      <td>Kodak 139 cm (55 inches) 4K Ultra HD Smart Cer...</td>\n",
       "      <td>29999.0</td>\n",
       "      <td>4.4 out of 5 stars</td>\n",
       "      <td>NaN</td>\n",
       "      <td>In stock</td>\n",
       "      <td>Kodak</td>\n",
       "      <td>-45%</td>\n",
       "      <td>LED</td>\n",
       "      <td>29D x 124W x 78H Centimeters</td>\n",
       "      <td>4000.0</td>\n",
       "      <td>60 Hz</td>\n",
       "      <td>55 Inches</td>\n",
       "      <td>597 ratings</td>\n",
       "      <td>NaN</td>\n",
       "    </tr>\n",
       "    <tr>\n",
       "      <th>1</th>\n",
       "      <td>OnePlus 138 cm (55 inches) Y Series 4K Ultra H...</td>\n",
       "      <td>39999.0</td>\n",
       "      <td>4.2 out of 5 stars</td>\n",
       "      <td>NaN</td>\n",
       "      <td>In stock</td>\n",
       "      <td>OnePlus</td>\n",
       "      <td>-20%</td>\n",
       "      <td>LED</td>\n",
       "      <td>24.6D x 135W x 77.1H Centimeters</td>\n",
       "      <td>4000.0</td>\n",
       "      <td>60 Hz</td>\n",
       "      <td>55 Inches</td>\n",
       "      <td>8532 ratings</td>\n",
       "      <td>NaN</td>\n",
       "    </tr>\n",
       "    <tr>\n",
       "      <th>2</th>\n",
       "      <td>Redmi 80 cm (32 inches) HD Ready Smart LED Fir...</td>\n",
       "      <td>13999.0</td>\n",
       "      <td>4.0 out of 5 stars</td>\n",
       "      <td>NaN</td>\n",
       "      <td>In stock</td>\n",
       "      <td>Redmi</td>\n",
       "      <td>-44%</td>\n",
       "      <td>LED</td>\n",
       "      <td>8.3D x 71.6W x 42.4H Centimeters</td>\n",
       "      <td>7500.0</td>\n",
       "      <td>60 Hz</td>\n",
       "      <td>32 Inches</td>\n",
       "      <td>69 ratings</td>\n",
       "      <td>Connector Type   Wi-Fi, USB, Ethernet, HDMI</td>\n",
       "    </tr>\n",
       "    <tr>\n",
       "      <th>3</th>\n",
       "      <td>OnePlus 80 cm (32 inches) Y Series HD Ready LE...</td>\n",
       "      <td>14999.0</td>\n",
       "      <td>4.5 out of 5 stars</td>\n",
       "      <td>NaN</td>\n",
       "      <td>In stock</td>\n",
       "      <td>OnePlus</td>\n",
       "      <td>-25%</td>\n",
       "      <td>LED</td>\n",
       "      <td>6.5D x 42W x 71.3H Centimeters</td>\n",
       "      <td>8000.0</td>\n",
       "      <td>60 Hz</td>\n",
       "      <td>32 Inches</td>\n",
       "      <td>37174 ratings</td>\n",
       "      <td>NaN</td>\n",
       "    </tr>\n",
       "    <tr>\n",
       "      <th>4</th>\n",
       "      <td>Acer 100 cm (40 inches) P Series Full HD Andro...</td>\n",
       "      <td>16999.0</td>\n",
       "      <td>4.4 out of 5 stars</td>\n",
       "      <td>NaN</td>\n",
       "      <td>In stock</td>\n",
       "      <td>Acer</td>\n",
       "      <td>-32%</td>\n",
       "      <td>LED</td>\n",
       "      <td>8.5D x 90.4W x 51.6H Centimeters</td>\n",
       "      <td>11225.0</td>\n",
       "      <td>60 Hz</td>\n",
       "      <td>40 Inches</td>\n",
       "      <td>8521 ratings</td>\n",
       "      <td>NaN</td>\n",
       "    </tr>\n",
       "  </tbody>\n",
       "</table>\n",
       "</div>"
      ],
      "text/plain": [
       "                                               title    price  \\\n",
       "0  Kodak 139 cm (55 inches) 4K Ultra HD Smart Cer...  29999.0   \n",
       "1  OnePlus 138 cm (55 inches) Y Series 4K Ultra H...  39999.0   \n",
       "2  Redmi 80 cm (32 inches) HD Ready Smart LED Fir...  13999.0   \n",
       "3  OnePlus 80 cm (32 inches) Y Series HD Ready LE...  14999.0   \n",
       "4  Acer 100 cm (40 inches) P Series Full HD Andro...  16999.0   \n",
       "\n",
       "              ratings  reviews availability    brand discount tech  \\\n",
       "0  4.4 out of 5 stars      NaN     In stock    Kodak     -45%  LED   \n",
       "1  4.2 out of 5 stars      NaN     In stock  OnePlus     -20%  LED   \n",
       "2  4.0 out of 5 stars      NaN     In stock    Redmi     -44%  LED   \n",
       "3  4.5 out of 5 stars      NaN     In stock  OnePlus     -25%  LED   \n",
       "4  4.4 out of 5 stars      NaN     In stock     Acer     -32%  LED   \n",
       "\n",
       "                                dim      res refresh       size  \\\n",
       "0      29D x 124W x 78H Centimeters   4000.0   60 Hz  55 Inches   \n",
       "1  24.6D x 135W x 77.1H Centimeters   4000.0   60 Hz  55 Inches   \n",
       "2  8.3D x 71.6W x 42.4H Centimeters   7500.0   60 Hz  32 Inches   \n",
       "3    6.5D x 42W x 71.3H Centimeters   8000.0   60 Hz  32 Inches   \n",
       "4  8.5D x 90.4W x 51.6H Centimeters  11225.0   60 Hz  40 Inches   \n",
       "\n",
       "       ratingsNo                                      Connect  \n",
       "0    597 ratings                                          NaN  \n",
       "1   8532 ratings                                          NaN  \n",
       "2     69 ratings  Connector Type   Wi-Fi, USB, Ethernet, HDMI  \n",
       "3  37174 ratings                                          NaN  \n",
       "4   8521 ratings                                          NaN  "
      ]
     },
     "execution_count": 109,
     "metadata": {},
     "output_type": "execute_result"
    }
   ],
   "source": [
    "df.head()"
   ]
  },
  {
   "cell_type": "markdown",
   "id": "46b20bce",
   "metadata": {},
   "source": [
    "### `DATA PRE PROCESSING`"
   ]
  },
  {
   "cell_type": "code",
   "execution_count": 110,
   "id": "83e9d8b1",
   "metadata": {},
   "outputs": [
    {
     "data": {
      "text/plain": [
       "title            0\n",
       "price            6\n",
       "ratings          2\n",
       "reviews         75\n",
       "availability     0\n",
       "brand            0\n",
       "discount        10\n",
       "tech             0\n",
       "dim              2\n",
       "res              1\n",
       "refresh          0\n",
       "size             0\n",
       "ratingsNo        3\n",
       "Connect         51\n",
       "dtype: int64"
      ]
     },
     "execution_count": 110,
     "metadata": {},
     "output_type": "execute_result"
    }
   ],
   "source": [
    "#Checking for null values\n",
    "\n",
    "df.isnull().sum()"
   ]
  },
  {
   "cell_type": "markdown",
   "id": "368b848f",
   "metadata": {},
   "source": [
    "### 1) Extracting numerical values from columns"
   ]
  },
  {
   "cell_type": "markdown",
   "id": "3e6391f3",
   "metadata": {},
   "source": [
    "##### BEFORE"
   ]
  },
  {
   "cell_type": "code",
   "execution_count": 111,
   "id": "11cedfad",
   "metadata": {},
   "outputs": [
    {
     "data": {
      "text/html": [
       "<div>\n",
       "<style scoped>\n",
       "    .dataframe tbody tr th:only-of-type {\n",
       "        vertical-align: middle;\n",
       "    }\n",
       "\n",
       "    .dataframe tbody tr th {\n",
       "        vertical-align: top;\n",
       "    }\n",
       "\n",
       "    .dataframe thead th {\n",
       "        text-align: right;\n",
       "    }\n",
       "</style>\n",
       "<table border=\"1\" class=\"dataframe\">\n",
       "  <thead>\n",
       "    <tr style=\"text-align: right;\">\n",
       "      <th></th>\n",
       "      <th>title</th>\n",
       "      <th>price</th>\n",
       "      <th>ratings</th>\n",
       "      <th>reviews</th>\n",
       "      <th>availability</th>\n",
       "      <th>brand</th>\n",
       "      <th>discount</th>\n",
       "      <th>tech</th>\n",
       "      <th>dim</th>\n",
       "      <th>res</th>\n",
       "      <th>refresh</th>\n",
       "      <th>size</th>\n",
       "      <th>ratingsNo</th>\n",
       "      <th>Connect</th>\n",
       "    </tr>\n",
       "  </thead>\n",
       "  <tbody>\n",
       "    <tr>\n",
       "      <th>0</th>\n",
       "      <td>Kodak 139 cm (55 inches) 4K Ultra HD Smart Cer...</td>\n",
       "      <td>29999.0</td>\n",
       "      <td>4.4 out of 5 stars</td>\n",
       "      <td>NaN</td>\n",
       "      <td>In stock</td>\n",
       "      <td>Kodak</td>\n",
       "      <td>-45%</td>\n",
       "      <td>LED</td>\n",
       "      <td>29D x 124W x 78H Centimeters</td>\n",
       "      <td>4000.0</td>\n",
       "      <td>60 Hz</td>\n",
       "      <td>55 Inches</td>\n",
       "      <td>597 ratings</td>\n",
       "      <td>NaN</td>\n",
       "    </tr>\n",
       "    <tr>\n",
       "      <th>1</th>\n",
       "      <td>OnePlus 138 cm (55 inches) Y Series 4K Ultra H...</td>\n",
       "      <td>39999.0</td>\n",
       "      <td>4.2 out of 5 stars</td>\n",
       "      <td>NaN</td>\n",
       "      <td>In stock</td>\n",
       "      <td>OnePlus</td>\n",
       "      <td>-20%</td>\n",
       "      <td>LED</td>\n",
       "      <td>24.6D x 135W x 77.1H Centimeters</td>\n",
       "      <td>4000.0</td>\n",
       "      <td>60 Hz</td>\n",
       "      <td>55 Inches</td>\n",
       "      <td>8532 ratings</td>\n",
       "      <td>NaN</td>\n",
       "    </tr>\n",
       "    <tr>\n",
       "      <th>2</th>\n",
       "      <td>Redmi 80 cm (32 inches) HD Ready Smart LED Fir...</td>\n",
       "      <td>13999.0</td>\n",
       "      <td>4.0 out of 5 stars</td>\n",
       "      <td>NaN</td>\n",
       "      <td>In stock</td>\n",
       "      <td>Redmi</td>\n",
       "      <td>-44%</td>\n",
       "      <td>LED</td>\n",
       "      <td>8.3D x 71.6W x 42.4H Centimeters</td>\n",
       "      <td>7500.0</td>\n",
       "      <td>60 Hz</td>\n",
       "      <td>32 Inches</td>\n",
       "      <td>69 ratings</td>\n",
       "      <td>Connector Type   Wi-Fi, USB, Ethernet, HDMI</td>\n",
       "    </tr>\n",
       "    <tr>\n",
       "      <th>3</th>\n",
       "      <td>OnePlus 80 cm (32 inches) Y Series HD Ready LE...</td>\n",
       "      <td>14999.0</td>\n",
       "      <td>4.5 out of 5 stars</td>\n",
       "      <td>NaN</td>\n",
       "      <td>In stock</td>\n",
       "      <td>OnePlus</td>\n",
       "      <td>-25%</td>\n",
       "      <td>LED</td>\n",
       "      <td>6.5D x 42W x 71.3H Centimeters</td>\n",
       "      <td>8000.0</td>\n",
       "      <td>60 Hz</td>\n",
       "      <td>32 Inches</td>\n",
       "      <td>37174 ratings</td>\n",
       "      <td>NaN</td>\n",
       "    </tr>\n",
       "    <tr>\n",
       "      <th>4</th>\n",
       "      <td>Acer 100 cm (40 inches) P Series Full HD Andro...</td>\n",
       "      <td>16999.0</td>\n",
       "      <td>4.4 out of 5 stars</td>\n",
       "      <td>NaN</td>\n",
       "      <td>In stock</td>\n",
       "      <td>Acer</td>\n",
       "      <td>-32%</td>\n",
       "      <td>LED</td>\n",
       "      <td>8.5D x 90.4W x 51.6H Centimeters</td>\n",
       "      <td>11225.0</td>\n",
       "      <td>60 Hz</td>\n",
       "      <td>40 Inches</td>\n",
       "      <td>8521 ratings</td>\n",
       "      <td>NaN</td>\n",
       "    </tr>\n",
       "  </tbody>\n",
       "</table>\n",
       "</div>"
      ],
      "text/plain": [
       "                                               title    price  \\\n",
       "0  Kodak 139 cm (55 inches) 4K Ultra HD Smart Cer...  29999.0   \n",
       "1  OnePlus 138 cm (55 inches) Y Series 4K Ultra H...  39999.0   \n",
       "2  Redmi 80 cm (32 inches) HD Ready Smart LED Fir...  13999.0   \n",
       "3  OnePlus 80 cm (32 inches) Y Series HD Ready LE...  14999.0   \n",
       "4  Acer 100 cm (40 inches) P Series Full HD Andro...  16999.0   \n",
       "\n",
       "              ratings  reviews availability    brand discount tech  \\\n",
       "0  4.4 out of 5 stars      NaN     In stock    Kodak     -45%  LED   \n",
       "1  4.2 out of 5 stars      NaN     In stock  OnePlus     -20%  LED   \n",
       "2  4.0 out of 5 stars      NaN     In stock    Redmi     -44%  LED   \n",
       "3  4.5 out of 5 stars      NaN     In stock  OnePlus     -25%  LED   \n",
       "4  4.4 out of 5 stars      NaN     In stock     Acer     -32%  LED   \n",
       "\n",
       "                                dim      res refresh       size  \\\n",
       "0      29D x 124W x 78H Centimeters   4000.0   60 Hz  55 Inches   \n",
       "1  24.6D x 135W x 77.1H Centimeters   4000.0   60 Hz  55 Inches   \n",
       "2  8.3D x 71.6W x 42.4H Centimeters   7500.0   60 Hz  32 Inches   \n",
       "3    6.5D x 42W x 71.3H Centimeters   8000.0   60 Hz  32 Inches   \n",
       "4  8.5D x 90.4W x 51.6H Centimeters  11225.0   60 Hz  40 Inches   \n",
       "\n",
       "       ratingsNo                                      Connect  \n",
       "0    597 ratings                                          NaN  \n",
       "1   8532 ratings                                          NaN  \n",
       "2     69 ratings  Connector Type   Wi-Fi, USB, Ethernet, HDMI  \n",
       "3  37174 ratings                                          NaN  \n",
       "4   8521 ratings                                          NaN  "
      ]
     },
     "execution_count": 111,
     "metadata": {},
     "output_type": "execute_result"
    }
   ],
   "source": [
    "df.head()"
   ]
  },
  {
   "cell_type": "code",
   "execution_count": 112,
   "id": "3d801e94",
   "metadata": {},
   "outputs": [],
   "source": [
    "# Dropping reviews column as it is empty\n",
    "\n",
    "df = df.drop(df.columns[3], axis=1)"
   ]
  },
  {
   "cell_type": "code",
   "execution_count": 113,
   "id": "70e8c44a",
   "metadata": {},
   "outputs": [],
   "source": [
    "# Dropping connect column as 51 are empty\n",
    "\n",
    "df = df.drop(df.columns[12], axis=1)"
   ]
  },
  {
   "cell_type": "markdown",
   "id": "67f16959",
   "metadata": {},
   "source": [
    "#### Using Regex to extract numerical values from columns with categorical and numerical values together. "
   ]
  },
  {
   "cell_type": "code",
   "execution_count": 114,
   "id": "e2bc3357",
   "metadata": {},
   "outputs": [],
   "source": [
    "# extracting ratings from string\n",
    "\n",
    "df['ratingsNo'] = df.ratingsNo.str.extract('(\\d+\\d*)')"
   ]
  },
  {
   "cell_type": "code",
   "execution_count": 115,
   "id": "f4905be5",
   "metadata": {},
   "outputs": [],
   "source": [
    "# extracting discount from string\n",
    "\n",
    "df['refresh'] = df.refresh.str.extract('(\\d+)')"
   ]
  },
  {
   "cell_type": "code",
   "execution_count": 116,
   "id": "fa52acca",
   "metadata": {},
   "outputs": [],
   "source": [
    "# extracting discount from string\n",
    "\n",
    "df['discount'] = df.discount.str.extract('(\\d+)')"
   ]
  },
  {
   "cell_type": "code",
   "execution_count": 117,
   "id": "fe0ec895",
   "metadata": {},
   "outputs": [],
   "source": [
    "# extracting discount from string\n",
    "\n",
    "df['ratings'] = df.ratings.str.extract('(\\d+\\.?\\d*)')"
   ]
  },
  {
   "cell_type": "markdown",
   "id": "981c9461",
   "metadata": {},
   "source": [
    "##### AFTER"
   ]
  },
  {
   "cell_type": "code",
   "execution_count": 118,
   "id": "796abcdb",
   "metadata": {},
   "outputs": [
    {
     "data": {
      "text/html": [
       "<div>\n",
       "<style scoped>\n",
       "    .dataframe tbody tr th:only-of-type {\n",
       "        vertical-align: middle;\n",
       "    }\n",
       "\n",
       "    .dataframe tbody tr th {\n",
       "        vertical-align: top;\n",
       "    }\n",
       "\n",
       "    .dataframe thead th {\n",
       "        text-align: right;\n",
       "    }\n",
       "</style>\n",
       "<table border=\"1\" class=\"dataframe\">\n",
       "  <thead>\n",
       "    <tr style=\"text-align: right;\">\n",
       "      <th></th>\n",
       "      <th>title</th>\n",
       "      <th>price</th>\n",
       "      <th>ratings</th>\n",
       "      <th>availability</th>\n",
       "      <th>brand</th>\n",
       "      <th>discount</th>\n",
       "      <th>tech</th>\n",
       "      <th>dim</th>\n",
       "      <th>res</th>\n",
       "      <th>refresh</th>\n",
       "      <th>size</th>\n",
       "      <th>ratingsNo</th>\n",
       "    </tr>\n",
       "  </thead>\n",
       "  <tbody>\n",
       "    <tr>\n",
       "      <th>0</th>\n",
       "      <td>Kodak 139 cm (55 inches) 4K Ultra HD Smart Cer...</td>\n",
       "      <td>29999.0</td>\n",
       "      <td>4.4</td>\n",
       "      <td>In stock</td>\n",
       "      <td>Kodak</td>\n",
       "      <td>45</td>\n",
       "      <td>LED</td>\n",
       "      <td>29D x 124W x 78H Centimeters</td>\n",
       "      <td>4000.0</td>\n",
       "      <td>60</td>\n",
       "      <td>55 Inches</td>\n",
       "      <td>597</td>\n",
       "    </tr>\n",
       "    <tr>\n",
       "      <th>1</th>\n",
       "      <td>OnePlus 138 cm (55 inches) Y Series 4K Ultra H...</td>\n",
       "      <td>39999.0</td>\n",
       "      <td>4.2</td>\n",
       "      <td>In stock</td>\n",
       "      <td>OnePlus</td>\n",
       "      <td>20</td>\n",
       "      <td>LED</td>\n",
       "      <td>24.6D x 135W x 77.1H Centimeters</td>\n",
       "      <td>4000.0</td>\n",
       "      <td>60</td>\n",
       "      <td>55 Inches</td>\n",
       "      <td>8532</td>\n",
       "    </tr>\n",
       "    <tr>\n",
       "      <th>2</th>\n",
       "      <td>Redmi 80 cm (32 inches) HD Ready Smart LED Fir...</td>\n",
       "      <td>13999.0</td>\n",
       "      <td>4.0</td>\n",
       "      <td>In stock</td>\n",
       "      <td>Redmi</td>\n",
       "      <td>44</td>\n",
       "      <td>LED</td>\n",
       "      <td>8.3D x 71.6W x 42.4H Centimeters</td>\n",
       "      <td>7500.0</td>\n",
       "      <td>60</td>\n",
       "      <td>32 Inches</td>\n",
       "      <td>69</td>\n",
       "    </tr>\n",
       "    <tr>\n",
       "      <th>3</th>\n",
       "      <td>OnePlus 80 cm (32 inches) Y Series HD Ready LE...</td>\n",
       "      <td>14999.0</td>\n",
       "      <td>4.5</td>\n",
       "      <td>In stock</td>\n",
       "      <td>OnePlus</td>\n",
       "      <td>25</td>\n",
       "      <td>LED</td>\n",
       "      <td>6.5D x 42W x 71.3H Centimeters</td>\n",
       "      <td>8000.0</td>\n",
       "      <td>60</td>\n",
       "      <td>32 Inches</td>\n",
       "      <td>37174</td>\n",
       "    </tr>\n",
       "    <tr>\n",
       "      <th>4</th>\n",
       "      <td>Acer 100 cm (40 inches) P Series Full HD Andro...</td>\n",
       "      <td>16999.0</td>\n",
       "      <td>4.4</td>\n",
       "      <td>In stock</td>\n",
       "      <td>Acer</td>\n",
       "      <td>32</td>\n",
       "      <td>LED</td>\n",
       "      <td>8.5D x 90.4W x 51.6H Centimeters</td>\n",
       "      <td>11225.0</td>\n",
       "      <td>60</td>\n",
       "      <td>40 Inches</td>\n",
       "      <td>8521</td>\n",
       "    </tr>\n",
       "  </tbody>\n",
       "</table>\n",
       "</div>"
      ],
      "text/plain": [
       "                                               title    price ratings  \\\n",
       "0  Kodak 139 cm (55 inches) 4K Ultra HD Smart Cer...  29999.0     4.4   \n",
       "1  OnePlus 138 cm (55 inches) Y Series 4K Ultra H...  39999.0     4.2   \n",
       "2  Redmi 80 cm (32 inches) HD Ready Smart LED Fir...  13999.0     4.0   \n",
       "3  OnePlus 80 cm (32 inches) Y Series HD Ready LE...  14999.0     4.5   \n",
       "4  Acer 100 cm (40 inches) P Series Full HD Andro...  16999.0     4.4   \n",
       "\n",
       "  availability    brand discount tech                               dim  \\\n",
       "0     In stock    Kodak       45  LED      29D x 124W x 78H Centimeters   \n",
       "1     In stock  OnePlus       20  LED  24.6D x 135W x 77.1H Centimeters   \n",
       "2     In stock    Redmi       44  LED  8.3D x 71.6W x 42.4H Centimeters   \n",
       "3     In stock  OnePlus       25  LED    6.5D x 42W x 71.3H Centimeters   \n",
       "4     In stock     Acer       32  LED  8.5D x 90.4W x 51.6H Centimeters   \n",
       "\n",
       "       res refresh       size ratingsNo  \n",
       "0   4000.0      60  55 Inches       597  \n",
       "1   4000.0      60  55 Inches      8532  \n",
       "2   7500.0      60  32 Inches        69  \n",
       "3   8000.0      60  32 Inches     37174  \n",
       "4  11225.0      60  40 Inches      8521  "
      ]
     },
     "execution_count": 118,
     "metadata": {},
     "output_type": "execute_result"
    }
   ],
   "source": [
    "df.head()"
   ]
  },
  {
   "cell_type": "code",
   "execution_count": 119,
   "id": "49969009",
   "metadata": {},
   "outputs": [],
   "source": [
    "## Used on features : ratingsNo, refresh, discount, ratings\n",
    "## Result: Able to extract numerical values"
   ]
  },
  {
   "cell_type": "markdown",
   "id": "0dcee2f2",
   "metadata": {},
   "source": [
    "### 2) ONE HOT ENCODING"
   ]
  },
  {
   "cell_type": "markdown",
   "id": "bb6ca4ac",
   "metadata": {},
   "source": [
    "#### Used to give labels and get the value assigned to each label."
   ]
  },
  {
   "cell_type": "code",
   "execution_count": 120,
   "id": "d61aab1f",
   "metadata": {},
   "outputs": [
    {
     "data": {
      "text/plain": [
       "LED     70\n",
       "QLED     4\n",
       "OLED     1\n",
       "Name: tech, dtype: int64"
      ]
     },
     "execution_count": 120,
     "metadata": {},
     "output_type": "execute_result"
    }
   ],
   "source": [
    "df['tech'].value_counts()"
   ]
  },
  {
   "cell_type": "code",
   "execution_count": 121,
   "id": "f3c8c792",
   "metadata": {},
   "outputs": [
    {
     "data": {
      "text/plain": [
       "In stock                  72\n",
       "Currently unavailable.     2\n",
       "Only 2 left in stock       1\n",
       "Name: availability, dtype: int64"
      ]
     },
     "execution_count": 121,
     "metadata": {},
     "output_type": "execute_result"
    }
   ],
   "source": [
    "df['availability'].value_counts()"
   ]
  },
  {
   "cell_type": "code",
   "execution_count": 122,
   "id": "1060992e",
   "metadata": {},
   "outputs": [],
   "source": [
    "df['tech'] = pd.get_dummies(df['tech'] )"
   ]
  },
  {
   "cell_type": "code",
   "execution_count": 123,
   "id": "16bac8e8",
   "metadata": {},
   "outputs": [],
   "source": [
    "df['availability'] = pd.get_dummies(df['availability'] )"
   ]
  },
  {
   "cell_type": "markdown",
   "id": "9fa6d6de",
   "metadata": {},
   "source": [
    "##### AFTER"
   ]
  },
  {
   "cell_type": "code",
   "execution_count": 124,
   "id": "6b6b6012",
   "metadata": {},
   "outputs": [
    {
     "data": {
      "text/html": [
       "<div>\n",
       "<style scoped>\n",
       "    .dataframe tbody tr th:only-of-type {\n",
       "        vertical-align: middle;\n",
       "    }\n",
       "\n",
       "    .dataframe tbody tr th {\n",
       "        vertical-align: top;\n",
       "    }\n",
       "\n",
       "    .dataframe thead th {\n",
       "        text-align: right;\n",
       "    }\n",
       "</style>\n",
       "<table border=\"1\" class=\"dataframe\">\n",
       "  <thead>\n",
       "    <tr style=\"text-align: right;\">\n",
       "      <th></th>\n",
       "      <th>title</th>\n",
       "      <th>price</th>\n",
       "      <th>ratings</th>\n",
       "      <th>availability</th>\n",
       "      <th>brand</th>\n",
       "      <th>discount</th>\n",
       "      <th>tech</th>\n",
       "      <th>dim</th>\n",
       "      <th>res</th>\n",
       "      <th>refresh</th>\n",
       "      <th>size</th>\n",
       "      <th>ratingsNo</th>\n",
       "    </tr>\n",
       "  </thead>\n",
       "  <tbody>\n",
       "    <tr>\n",
       "      <th>0</th>\n",
       "      <td>Kodak 139 cm (55 inches) 4K Ultra HD Smart Cer...</td>\n",
       "      <td>29999.0</td>\n",
       "      <td>4.4</td>\n",
       "      <td>0</td>\n",
       "      <td>Kodak</td>\n",
       "      <td>45</td>\n",
       "      <td>1</td>\n",
       "      <td>29D x 124W x 78H Centimeters</td>\n",
       "      <td>4000.0</td>\n",
       "      <td>60</td>\n",
       "      <td>55 Inches</td>\n",
       "      <td>597</td>\n",
       "    </tr>\n",
       "    <tr>\n",
       "      <th>1</th>\n",
       "      <td>OnePlus 138 cm (55 inches) Y Series 4K Ultra H...</td>\n",
       "      <td>39999.0</td>\n",
       "      <td>4.2</td>\n",
       "      <td>0</td>\n",
       "      <td>OnePlus</td>\n",
       "      <td>20</td>\n",
       "      <td>1</td>\n",
       "      <td>24.6D x 135W x 77.1H Centimeters</td>\n",
       "      <td>4000.0</td>\n",
       "      <td>60</td>\n",
       "      <td>55 Inches</td>\n",
       "      <td>8532</td>\n",
       "    </tr>\n",
       "    <tr>\n",
       "      <th>2</th>\n",
       "      <td>Redmi 80 cm (32 inches) HD Ready Smart LED Fir...</td>\n",
       "      <td>13999.0</td>\n",
       "      <td>4.0</td>\n",
       "      <td>0</td>\n",
       "      <td>Redmi</td>\n",
       "      <td>44</td>\n",
       "      <td>1</td>\n",
       "      <td>8.3D x 71.6W x 42.4H Centimeters</td>\n",
       "      <td>7500.0</td>\n",
       "      <td>60</td>\n",
       "      <td>32 Inches</td>\n",
       "      <td>69</td>\n",
       "    </tr>\n",
       "    <tr>\n",
       "      <th>3</th>\n",
       "      <td>OnePlus 80 cm (32 inches) Y Series HD Ready LE...</td>\n",
       "      <td>14999.0</td>\n",
       "      <td>4.5</td>\n",
       "      <td>0</td>\n",
       "      <td>OnePlus</td>\n",
       "      <td>25</td>\n",
       "      <td>1</td>\n",
       "      <td>6.5D x 42W x 71.3H Centimeters</td>\n",
       "      <td>8000.0</td>\n",
       "      <td>60</td>\n",
       "      <td>32 Inches</td>\n",
       "      <td>37174</td>\n",
       "    </tr>\n",
       "    <tr>\n",
       "      <th>4</th>\n",
       "      <td>Acer 100 cm (40 inches) P Series Full HD Andro...</td>\n",
       "      <td>16999.0</td>\n",
       "      <td>4.4</td>\n",
       "      <td>0</td>\n",
       "      <td>Acer</td>\n",
       "      <td>32</td>\n",
       "      <td>1</td>\n",
       "      <td>8.5D x 90.4W x 51.6H Centimeters</td>\n",
       "      <td>11225.0</td>\n",
       "      <td>60</td>\n",
       "      <td>40 Inches</td>\n",
       "      <td>8521</td>\n",
       "    </tr>\n",
       "  </tbody>\n",
       "</table>\n",
       "</div>"
      ],
      "text/plain": [
       "                                               title    price ratings  \\\n",
       "0  Kodak 139 cm (55 inches) 4K Ultra HD Smart Cer...  29999.0     4.4   \n",
       "1  OnePlus 138 cm (55 inches) Y Series 4K Ultra H...  39999.0     4.2   \n",
       "2  Redmi 80 cm (32 inches) HD Ready Smart LED Fir...  13999.0     4.0   \n",
       "3  OnePlus 80 cm (32 inches) Y Series HD Ready LE...  14999.0     4.5   \n",
       "4  Acer 100 cm (40 inches) P Series Full HD Andro...  16999.0     4.4   \n",
       "\n",
       "   availability    brand discount  tech                               dim  \\\n",
       "0             0    Kodak       45     1      29D x 124W x 78H Centimeters   \n",
       "1             0  OnePlus       20     1  24.6D x 135W x 77.1H Centimeters   \n",
       "2             0    Redmi       44     1  8.3D x 71.6W x 42.4H Centimeters   \n",
       "3             0  OnePlus       25     1    6.5D x 42W x 71.3H Centimeters   \n",
       "4             0     Acer       32     1  8.5D x 90.4W x 51.6H Centimeters   \n",
       "\n",
       "       res refresh       size ratingsNo  \n",
       "0   4000.0      60  55 Inches       597  \n",
       "1   4000.0      60  55 Inches      8532  \n",
       "2   7500.0      60  32 Inches        69  \n",
       "3   8000.0      60  32 Inches     37174  \n",
       "4  11225.0      60  40 Inches      8521  "
      ]
     },
     "execution_count": 124,
     "metadata": {},
     "output_type": "execute_result"
    }
   ],
   "source": [
    "df.head()"
   ]
  },
  {
   "cell_type": "code",
   "execution_count": 125,
   "id": "6495d3c6",
   "metadata": {},
   "outputs": [],
   "source": [
    "## Used on features : tech, availability\n",
    "## Assigned labels to tech and availability"
   ]
  },
  {
   "cell_type": "markdown",
   "id": "ef5e750b",
   "metadata": {},
   "source": [
    "### 3) IMPUTATION"
   ]
  },
  {
   "cell_type": "markdown",
   "id": "78c378f2",
   "metadata": {},
   "source": [
    "#### Used mean imputation to replace nan values."
   ]
  },
  {
   "cell_type": "markdown",
   "id": "2b8de565",
   "metadata": {},
   "source": [
    "##### BEFORE"
   ]
  },
  {
   "cell_type": "code",
   "execution_count": 126,
   "id": "10ecd592",
   "metadata": {},
   "outputs": [
    {
     "data": {
      "text/plain": [
       "title            0\n",
       "price            6\n",
       "ratings          2\n",
       "availability     0\n",
       "brand            0\n",
       "discount        10\n",
       "tech             0\n",
       "dim              2\n",
       "res              1\n",
       "refresh          0\n",
       "size             0\n",
       "ratingsNo        3\n",
       "dtype: int64"
      ]
     },
     "execution_count": 126,
     "metadata": {},
     "output_type": "execute_result"
    }
   ],
   "source": [
    "#Checking for null values\n",
    "\n",
    "df.isnull().sum()"
   ]
  },
  {
   "cell_type": "code",
   "execution_count": 127,
   "id": "74ad1370",
   "metadata": {},
   "outputs": [],
   "source": [
    "# Mean Imputation\n",
    "mean_imputer = SimpleImputer(strategy='mean')\n",
    "df['discount'] = mean_imputer.fit_transform(df['discount'].values.reshape(-1,1))"
   ]
  },
  {
   "cell_type": "code",
   "execution_count": 128,
   "id": "6fddf11f",
   "metadata": {},
   "outputs": [],
   "source": [
    "# Mean Imputation\n",
    "mean_imputer = SimpleImputer(strategy='mean')\n",
    "df['res'] = mean_imputer.fit_transform(df['res'].values.reshape(-1,1))"
   ]
  },
  {
   "cell_type": "code",
   "execution_count": 129,
   "id": "86f6ff56",
   "metadata": {},
   "outputs": [],
   "source": [
    "# Mean Imputation\n",
    "\n",
    "mean_imputer = SimpleImputer(strategy='mean')\n",
    "df['price'] = mean_imputer.fit_transform(df['price'].values.reshape(-1,1))"
   ]
  },
  {
   "cell_type": "code",
   "execution_count": 130,
   "id": "8a05be2e",
   "metadata": {},
   "outputs": [],
   "source": [
    "# Mean Imputation\n",
    "\n",
    "mean_imputer = SimpleImputer(strategy='mean')\n",
    "df['ratings'] = mean_imputer.fit_transform(df['ratings'].values.reshape(-1,1))"
   ]
  },
  {
   "cell_type": "code",
   "execution_count": 131,
   "id": "7ec903f1",
   "metadata": {},
   "outputs": [],
   "source": [
    "# Mean Imputation\n",
    "\n",
    "mean_imputer = SimpleImputer(strategy='mean')\n",
    "df['ratingsNo'] = mean_imputer.fit_transform(df['ratingsNo'].values.reshape(-1,1))"
   ]
  },
  {
   "cell_type": "markdown",
   "id": "b89a75b3",
   "metadata": {},
   "source": [
    "##### AFTER"
   ]
  },
  {
   "cell_type": "code",
   "execution_count": 132,
   "id": "151ec988",
   "metadata": {},
   "outputs": [
    {
     "data": {
      "text/plain": [
       "title           0\n",
       "price           0\n",
       "ratings         0\n",
       "availability    0\n",
       "brand           0\n",
       "discount        0\n",
       "tech            0\n",
       "dim             2\n",
       "res             0\n",
       "refresh         0\n",
       "size            0\n",
       "ratingsNo       0\n",
       "dtype: int64"
      ]
     },
     "execution_count": 132,
     "metadata": {},
     "output_type": "execute_result"
    }
   ],
   "source": [
    "#Checking for null values\n",
    "\n",
    "df.isnull().sum()"
   ]
  },
  {
   "cell_type": "code",
   "execution_count": 133,
   "id": "9f1f7970",
   "metadata": {},
   "outputs": [],
   "source": [
    "## Used on features : discount, res, price, ratings, ratingsNo\n",
    "## Result : Removed null values"
   ]
  },
  {
   "cell_type": "markdown",
   "id": "0fc31296",
   "metadata": {},
   "source": [
    "### 4) OUTLIERS DETECTION"
   ]
  },
  {
   "cell_type": "markdown",
   "id": "09b70d4c",
   "metadata": {},
   "source": [
    "#### Used box plot to detect outliers"
   ]
  },
  {
   "cell_type": "markdown",
   "id": "23ef45b6",
   "metadata": {},
   "source": [
    "##### BEFORE"
   ]
  },
  {
   "cell_type": "code",
   "execution_count": 134,
   "id": "9f3e7f51",
   "metadata": {
    "scrolled": false
   },
   "outputs": [
    {
     "data": {
      "application/vnd.plotly.v1+json": {
       "config": {
        "plotlyServerURL": "https://plot.ly"
       },
       "data": [
        {
         "alignmentgroup": "True",
         "hovertemplate": "variable=%{x}<br>value=%{y}<extra></extra>",
         "legendgroup": "",
         "marker": {
          "color": "#636efa"
         },
         "name": "",
         "notched": false,
         "offsetgroup": "",
         "orientation": "v",
         "showlegend": false,
         "type": "box",
         "x": [
          "discount",
          "discount",
          "discount",
          "discount",
          "discount",
          "discount",
          "discount",
          "discount",
          "discount",
          "discount",
          "discount",
          "discount",
          "discount",
          "discount",
          "discount",
          "discount",
          "discount",
          "discount",
          "discount",
          "discount",
          "discount",
          "discount",
          "discount",
          "discount",
          "discount",
          "discount",
          "discount",
          "discount",
          "discount",
          "discount",
          "discount",
          "discount",
          "discount",
          "discount",
          "discount",
          "discount",
          "discount",
          "discount",
          "discount",
          "discount",
          "discount",
          "discount",
          "discount",
          "discount",
          "discount",
          "discount",
          "discount",
          "discount",
          "discount",
          "discount",
          "discount",
          "discount",
          "discount",
          "discount",
          "discount",
          "discount",
          "discount",
          "discount",
          "discount",
          "discount",
          "discount",
          "discount",
          "discount",
          "discount",
          "discount",
          "discount",
          "discount",
          "discount",
          "discount",
          "discount",
          "discount",
          "discount",
          "discount",
          "discount",
          "discount"
         ],
         "x0": " ",
         "xaxis": "x",
         "y": [
          45,
          20,
          44,
          25,
          32,
          39,
          36,
          39,
          44,
          40,
          35,
          37,
          56,
          32,
          34,
          38,
          25,
          28,
          56,
          60,
          43,
          44,
          34,
          43,
          27,
          42,
          42,
          39,
          40,
          27,
          29,
          28,
          50,
          36,
          57,
          31,
          40,
          22,
          40.04615384615385,
          27,
          28,
          28,
          22,
          61,
          40,
          43,
          68,
          40.04615384615385,
          27,
          28,
          50,
          37,
          40.04615384615385,
          48,
          40,
          31,
          40.04615384615385,
          40.04615384615385,
          40.04615384615385,
          40.04615384615385,
          22,
          40.04615384615385,
          56,
          49,
          70,
          44,
          27,
          77,
          40.04615384615385,
          33,
          43,
          39,
          40,
          86,
          40.04615384615385
         ],
         "y0": " ",
         "yaxis": "y"
        }
       ],
       "layout": {
        "boxmode": "group",
        "legend": {
         "tracegroupgap": 0
        },
        "margin": {
         "t": 60
        },
        "template": {
         "data": {
          "bar": [
           {
            "error_x": {
             "color": "#2a3f5f"
            },
            "error_y": {
             "color": "#2a3f5f"
            },
            "marker": {
             "line": {
              "color": "#E5ECF6",
              "width": 0.5
             },
             "pattern": {
              "fillmode": "overlay",
              "size": 10,
              "solidity": 0.2
             }
            },
            "type": "bar"
           }
          ],
          "barpolar": [
           {
            "marker": {
             "line": {
              "color": "#E5ECF6",
              "width": 0.5
             },
             "pattern": {
              "fillmode": "overlay",
              "size": 10,
              "solidity": 0.2
             }
            },
            "type": "barpolar"
           }
          ],
          "carpet": [
           {
            "aaxis": {
             "endlinecolor": "#2a3f5f",
             "gridcolor": "white",
             "linecolor": "white",
             "minorgridcolor": "white",
             "startlinecolor": "#2a3f5f"
            },
            "baxis": {
             "endlinecolor": "#2a3f5f",
             "gridcolor": "white",
             "linecolor": "white",
             "minorgridcolor": "white",
             "startlinecolor": "#2a3f5f"
            },
            "type": "carpet"
           }
          ],
          "choropleth": [
           {
            "colorbar": {
             "outlinewidth": 0,
             "ticks": ""
            },
            "type": "choropleth"
           }
          ],
          "contour": [
           {
            "colorbar": {
             "outlinewidth": 0,
             "ticks": ""
            },
            "colorscale": [
             [
              0,
              "#0d0887"
             ],
             [
              0.1111111111111111,
              "#46039f"
             ],
             [
              0.2222222222222222,
              "#7201a8"
             ],
             [
              0.3333333333333333,
              "#9c179e"
             ],
             [
              0.4444444444444444,
              "#bd3786"
             ],
             [
              0.5555555555555556,
              "#d8576b"
             ],
             [
              0.6666666666666666,
              "#ed7953"
             ],
             [
              0.7777777777777778,
              "#fb9f3a"
             ],
             [
              0.8888888888888888,
              "#fdca26"
             ],
             [
              1,
              "#f0f921"
             ]
            ],
            "type": "contour"
           }
          ],
          "contourcarpet": [
           {
            "colorbar": {
             "outlinewidth": 0,
             "ticks": ""
            },
            "type": "contourcarpet"
           }
          ],
          "heatmap": [
           {
            "colorbar": {
             "outlinewidth": 0,
             "ticks": ""
            },
            "colorscale": [
             [
              0,
              "#0d0887"
             ],
             [
              0.1111111111111111,
              "#46039f"
             ],
             [
              0.2222222222222222,
              "#7201a8"
             ],
             [
              0.3333333333333333,
              "#9c179e"
             ],
             [
              0.4444444444444444,
              "#bd3786"
             ],
             [
              0.5555555555555556,
              "#d8576b"
             ],
             [
              0.6666666666666666,
              "#ed7953"
             ],
             [
              0.7777777777777778,
              "#fb9f3a"
             ],
             [
              0.8888888888888888,
              "#fdca26"
             ],
             [
              1,
              "#f0f921"
             ]
            ],
            "type": "heatmap"
           }
          ],
          "heatmapgl": [
           {
            "colorbar": {
             "outlinewidth": 0,
             "ticks": ""
            },
            "colorscale": [
             [
              0,
              "#0d0887"
             ],
             [
              0.1111111111111111,
              "#46039f"
             ],
             [
              0.2222222222222222,
              "#7201a8"
             ],
             [
              0.3333333333333333,
              "#9c179e"
             ],
             [
              0.4444444444444444,
              "#bd3786"
             ],
             [
              0.5555555555555556,
              "#d8576b"
             ],
             [
              0.6666666666666666,
              "#ed7953"
             ],
             [
              0.7777777777777778,
              "#fb9f3a"
             ],
             [
              0.8888888888888888,
              "#fdca26"
             ],
             [
              1,
              "#f0f921"
             ]
            ],
            "type": "heatmapgl"
           }
          ],
          "histogram": [
           {
            "marker": {
             "pattern": {
              "fillmode": "overlay",
              "size": 10,
              "solidity": 0.2
             }
            },
            "type": "histogram"
           }
          ],
          "histogram2d": [
           {
            "colorbar": {
             "outlinewidth": 0,
             "ticks": ""
            },
            "colorscale": [
             [
              0,
              "#0d0887"
             ],
             [
              0.1111111111111111,
              "#46039f"
             ],
             [
              0.2222222222222222,
              "#7201a8"
             ],
             [
              0.3333333333333333,
              "#9c179e"
             ],
             [
              0.4444444444444444,
              "#bd3786"
             ],
             [
              0.5555555555555556,
              "#d8576b"
             ],
             [
              0.6666666666666666,
              "#ed7953"
             ],
             [
              0.7777777777777778,
              "#fb9f3a"
             ],
             [
              0.8888888888888888,
              "#fdca26"
             ],
             [
              1,
              "#f0f921"
             ]
            ],
            "type": "histogram2d"
           }
          ],
          "histogram2dcontour": [
           {
            "colorbar": {
             "outlinewidth": 0,
             "ticks": ""
            },
            "colorscale": [
             [
              0,
              "#0d0887"
             ],
             [
              0.1111111111111111,
              "#46039f"
             ],
             [
              0.2222222222222222,
              "#7201a8"
             ],
             [
              0.3333333333333333,
              "#9c179e"
             ],
             [
              0.4444444444444444,
              "#bd3786"
             ],
             [
              0.5555555555555556,
              "#d8576b"
             ],
             [
              0.6666666666666666,
              "#ed7953"
             ],
             [
              0.7777777777777778,
              "#fb9f3a"
             ],
             [
              0.8888888888888888,
              "#fdca26"
             ],
             [
              1,
              "#f0f921"
             ]
            ],
            "type": "histogram2dcontour"
           }
          ],
          "mesh3d": [
           {
            "colorbar": {
             "outlinewidth": 0,
             "ticks": ""
            },
            "type": "mesh3d"
           }
          ],
          "parcoords": [
           {
            "line": {
             "colorbar": {
              "outlinewidth": 0,
              "ticks": ""
             }
            },
            "type": "parcoords"
           }
          ],
          "pie": [
           {
            "automargin": true,
            "type": "pie"
           }
          ],
          "scatter": [
           {
            "fillpattern": {
             "fillmode": "overlay",
             "size": 10,
             "solidity": 0.2
            },
            "type": "scatter"
           }
          ],
          "scatter3d": [
           {
            "line": {
             "colorbar": {
              "outlinewidth": 0,
              "ticks": ""
             }
            },
            "marker": {
             "colorbar": {
              "outlinewidth": 0,
              "ticks": ""
             }
            },
            "type": "scatter3d"
           }
          ],
          "scattercarpet": [
           {
            "marker": {
             "colorbar": {
              "outlinewidth": 0,
              "ticks": ""
             }
            },
            "type": "scattercarpet"
           }
          ],
          "scattergeo": [
           {
            "marker": {
             "colorbar": {
              "outlinewidth": 0,
              "ticks": ""
             }
            },
            "type": "scattergeo"
           }
          ],
          "scattergl": [
           {
            "marker": {
             "colorbar": {
              "outlinewidth": 0,
              "ticks": ""
             }
            },
            "type": "scattergl"
           }
          ],
          "scattermapbox": [
           {
            "marker": {
             "colorbar": {
              "outlinewidth": 0,
              "ticks": ""
             }
            },
            "type": "scattermapbox"
           }
          ],
          "scatterpolar": [
           {
            "marker": {
             "colorbar": {
              "outlinewidth": 0,
              "ticks": ""
             }
            },
            "type": "scatterpolar"
           }
          ],
          "scatterpolargl": [
           {
            "marker": {
             "colorbar": {
              "outlinewidth": 0,
              "ticks": ""
             }
            },
            "type": "scatterpolargl"
           }
          ],
          "scatterternary": [
           {
            "marker": {
             "colorbar": {
              "outlinewidth": 0,
              "ticks": ""
             }
            },
            "type": "scatterternary"
           }
          ],
          "surface": [
           {
            "colorbar": {
             "outlinewidth": 0,
             "ticks": ""
            },
            "colorscale": [
             [
              0,
              "#0d0887"
             ],
             [
              0.1111111111111111,
              "#46039f"
             ],
             [
              0.2222222222222222,
              "#7201a8"
             ],
             [
              0.3333333333333333,
              "#9c179e"
             ],
             [
              0.4444444444444444,
              "#bd3786"
             ],
             [
              0.5555555555555556,
              "#d8576b"
             ],
             [
              0.6666666666666666,
              "#ed7953"
             ],
             [
              0.7777777777777778,
              "#fb9f3a"
             ],
             [
              0.8888888888888888,
              "#fdca26"
             ],
             [
              1,
              "#f0f921"
             ]
            ],
            "type": "surface"
           }
          ],
          "table": [
           {
            "cells": {
             "fill": {
              "color": "#EBF0F8"
             },
             "line": {
              "color": "white"
             }
            },
            "header": {
             "fill": {
              "color": "#C8D4E3"
             },
             "line": {
              "color": "white"
             }
            },
            "type": "table"
           }
          ]
         },
         "layout": {
          "annotationdefaults": {
           "arrowcolor": "#2a3f5f",
           "arrowhead": 0,
           "arrowwidth": 1
          },
          "autotypenumbers": "strict",
          "coloraxis": {
           "colorbar": {
            "outlinewidth": 0,
            "ticks": ""
           }
          },
          "colorscale": {
           "diverging": [
            [
             0,
             "#8e0152"
            ],
            [
             0.1,
             "#c51b7d"
            ],
            [
             0.2,
             "#de77ae"
            ],
            [
             0.3,
             "#f1b6da"
            ],
            [
             0.4,
             "#fde0ef"
            ],
            [
             0.5,
             "#f7f7f7"
            ],
            [
             0.6,
             "#e6f5d0"
            ],
            [
             0.7,
             "#b8e186"
            ],
            [
             0.8,
             "#7fbc41"
            ],
            [
             0.9,
             "#4d9221"
            ],
            [
             1,
             "#276419"
            ]
           ],
           "sequential": [
            [
             0,
             "#0d0887"
            ],
            [
             0.1111111111111111,
             "#46039f"
            ],
            [
             0.2222222222222222,
             "#7201a8"
            ],
            [
             0.3333333333333333,
             "#9c179e"
            ],
            [
             0.4444444444444444,
             "#bd3786"
            ],
            [
             0.5555555555555556,
             "#d8576b"
            ],
            [
             0.6666666666666666,
             "#ed7953"
            ],
            [
             0.7777777777777778,
             "#fb9f3a"
            ],
            [
             0.8888888888888888,
             "#fdca26"
            ],
            [
             1,
             "#f0f921"
            ]
           ],
           "sequentialminus": [
            [
             0,
             "#0d0887"
            ],
            [
             0.1111111111111111,
             "#46039f"
            ],
            [
             0.2222222222222222,
             "#7201a8"
            ],
            [
             0.3333333333333333,
             "#9c179e"
            ],
            [
             0.4444444444444444,
             "#bd3786"
            ],
            [
             0.5555555555555556,
             "#d8576b"
            ],
            [
             0.6666666666666666,
             "#ed7953"
            ],
            [
             0.7777777777777778,
             "#fb9f3a"
            ],
            [
             0.8888888888888888,
             "#fdca26"
            ],
            [
             1,
             "#f0f921"
            ]
           ]
          },
          "colorway": [
           "#636efa",
           "#EF553B",
           "#00cc96",
           "#ab63fa",
           "#FFA15A",
           "#19d3f3",
           "#FF6692",
           "#B6E880",
           "#FF97FF",
           "#FECB52"
          ],
          "font": {
           "color": "#2a3f5f"
          },
          "geo": {
           "bgcolor": "white",
           "lakecolor": "white",
           "landcolor": "#E5ECF6",
           "showlakes": true,
           "showland": true,
           "subunitcolor": "white"
          },
          "hoverlabel": {
           "align": "left"
          },
          "hovermode": "closest",
          "mapbox": {
           "style": "light"
          },
          "paper_bgcolor": "white",
          "plot_bgcolor": "#E5ECF6",
          "polar": {
           "angularaxis": {
            "gridcolor": "white",
            "linecolor": "white",
            "ticks": ""
           },
           "bgcolor": "#E5ECF6",
           "radialaxis": {
            "gridcolor": "white",
            "linecolor": "white",
            "ticks": ""
           }
          },
          "scene": {
           "xaxis": {
            "backgroundcolor": "#E5ECF6",
            "gridcolor": "white",
            "gridwidth": 2,
            "linecolor": "white",
            "showbackground": true,
            "ticks": "",
            "zerolinecolor": "white"
           },
           "yaxis": {
            "backgroundcolor": "#E5ECF6",
            "gridcolor": "white",
            "gridwidth": 2,
            "linecolor": "white",
            "showbackground": true,
            "ticks": "",
            "zerolinecolor": "white"
           },
           "zaxis": {
            "backgroundcolor": "#E5ECF6",
            "gridcolor": "white",
            "gridwidth": 2,
            "linecolor": "white",
            "showbackground": true,
            "ticks": "",
            "zerolinecolor": "white"
           }
          },
          "shapedefaults": {
           "line": {
            "color": "#2a3f5f"
           }
          },
          "ternary": {
           "aaxis": {
            "gridcolor": "white",
            "linecolor": "white",
            "ticks": ""
           },
           "baxis": {
            "gridcolor": "white",
            "linecolor": "white",
            "ticks": ""
           },
           "bgcolor": "#E5ECF6",
           "caxis": {
            "gridcolor": "white",
            "linecolor": "white",
            "ticks": ""
           }
          },
          "title": {
           "x": 0.05
          },
          "xaxis": {
           "automargin": true,
           "gridcolor": "white",
           "linecolor": "white",
           "ticks": "",
           "title": {
            "standoff": 15
           },
           "zerolinecolor": "white",
           "zerolinewidth": 2
          },
          "yaxis": {
           "automargin": true,
           "gridcolor": "white",
           "linecolor": "white",
           "ticks": "",
           "title": {
            "standoff": 15
           },
           "zerolinecolor": "white",
           "zerolinewidth": 2
          }
         }
        },
        "xaxis": {
         "anchor": "y",
         "domain": [
          0,
          1
         ],
         "title": {
          "text": "variable"
         }
        },
        "yaxis": {
         "anchor": "x",
         "domain": [
          0,
          1
         ],
         "title": {
          "text": "value"
         }
        }
       }
      },
      "text/html": [
       "<div>                            <div id=\"d4e25216-ba45-4a46-afc4-ef7bdac2417c\" class=\"plotly-graph-div\" style=\"height:525px; width:100%;\"></div>            <script type=\"text/javascript\">                require([\"plotly\"], function(Plotly) {                    window.PLOTLYENV=window.PLOTLYENV || {};                                    if (document.getElementById(\"d4e25216-ba45-4a46-afc4-ef7bdac2417c\")) {                    Plotly.newPlot(                        \"d4e25216-ba45-4a46-afc4-ef7bdac2417c\",                        [{\"alignmentgroup\":\"True\",\"hovertemplate\":\"variable=%{x}<br>value=%{y}<extra></extra>\",\"legendgroup\":\"\",\"marker\":{\"color\":\"#636efa\"},\"name\":\"\",\"notched\":false,\"offsetgroup\":\"\",\"orientation\":\"v\",\"showlegend\":false,\"x\":[\"discount\",\"discount\",\"discount\",\"discount\",\"discount\",\"discount\",\"discount\",\"discount\",\"discount\",\"discount\",\"discount\",\"discount\",\"discount\",\"discount\",\"discount\",\"discount\",\"discount\",\"discount\",\"discount\",\"discount\",\"discount\",\"discount\",\"discount\",\"discount\",\"discount\",\"discount\",\"discount\",\"discount\",\"discount\",\"discount\",\"discount\",\"discount\",\"discount\",\"discount\",\"discount\",\"discount\",\"discount\",\"discount\",\"discount\",\"discount\",\"discount\",\"discount\",\"discount\",\"discount\",\"discount\",\"discount\",\"discount\",\"discount\",\"discount\",\"discount\",\"discount\",\"discount\",\"discount\",\"discount\",\"discount\",\"discount\",\"discount\",\"discount\",\"discount\",\"discount\",\"discount\",\"discount\",\"discount\",\"discount\",\"discount\",\"discount\",\"discount\",\"discount\",\"discount\",\"discount\",\"discount\",\"discount\",\"discount\",\"discount\",\"discount\"],\"x0\":\" \",\"xaxis\":\"x\",\"y\":[45.0,20.0,44.0,25.0,32.0,39.0,36.0,39.0,44.0,40.0,35.0,37.0,56.0,32.0,34.0,38.0,25.0,28.0,56.0,60.0,43.0,44.0,34.0,43.0,27.0,42.0,42.0,39.0,40.0,27.0,29.0,28.0,50.0,36.0,57.0,31.0,40.0,22.0,40.04615384615385,27.0,28.0,28.0,22.0,61.0,40.0,43.0,68.0,40.04615384615385,27.0,28.0,50.0,37.0,40.04615384615385,48.0,40.0,31.0,40.04615384615385,40.04615384615385,40.04615384615385,40.04615384615385,22.0,40.04615384615385,56.0,49.0,70.0,44.0,27.0,77.0,40.04615384615385,33.0,43.0,39.0,40.0,86.0,40.04615384615385],\"y0\":\" \",\"yaxis\":\"y\",\"type\":\"box\"}],                        {\"template\":{\"data\":{\"histogram2dcontour\":[{\"type\":\"histogram2dcontour\",\"colorbar\":{\"outlinewidth\":0,\"ticks\":\"\"},\"colorscale\":[[0.0,\"#0d0887\"],[0.1111111111111111,\"#46039f\"],[0.2222222222222222,\"#7201a8\"],[0.3333333333333333,\"#9c179e\"],[0.4444444444444444,\"#bd3786\"],[0.5555555555555556,\"#d8576b\"],[0.6666666666666666,\"#ed7953\"],[0.7777777777777778,\"#fb9f3a\"],[0.8888888888888888,\"#fdca26\"],[1.0,\"#f0f921\"]]}],\"choropleth\":[{\"type\":\"choropleth\",\"colorbar\":{\"outlinewidth\":0,\"ticks\":\"\"}}],\"histogram2d\":[{\"type\":\"histogram2d\",\"colorbar\":{\"outlinewidth\":0,\"ticks\":\"\"},\"colorscale\":[[0.0,\"#0d0887\"],[0.1111111111111111,\"#46039f\"],[0.2222222222222222,\"#7201a8\"],[0.3333333333333333,\"#9c179e\"],[0.4444444444444444,\"#bd3786\"],[0.5555555555555556,\"#d8576b\"],[0.6666666666666666,\"#ed7953\"],[0.7777777777777778,\"#fb9f3a\"],[0.8888888888888888,\"#fdca26\"],[1.0,\"#f0f921\"]]}],\"heatmap\":[{\"type\":\"heatmap\",\"colorbar\":{\"outlinewidth\":0,\"ticks\":\"\"},\"colorscale\":[[0.0,\"#0d0887\"],[0.1111111111111111,\"#46039f\"],[0.2222222222222222,\"#7201a8\"],[0.3333333333333333,\"#9c179e\"],[0.4444444444444444,\"#bd3786\"],[0.5555555555555556,\"#d8576b\"],[0.6666666666666666,\"#ed7953\"],[0.7777777777777778,\"#fb9f3a\"],[0.8888888888888888,\"#fdca26\"],[1.0,\"#f0f921\"]]}],\"heatmapgl\":[{\"type\":\"heatmapgl\",\"colorbar\":{\"outlinewidth\":0,\"ticks\":\"\"},\"colorscale\":[[0.0,\"#0d0887\"],[0.1111111111111111,\"#46039f\"],[0.2222222222222222,\"#7201a8\"],[0.3333333333333333,\"#9c179e\"],[0.4444444444444444,\"#bd3786\"],[0.5555555555555556,\"#d8576b\"],[0.6666666666666666,\"#ed7953\"],[0.7777777777777778,\"#fb9f3a\"],[0.8888888888888888,\"#fdca26\"],[1.0,\"#f0f921\"]]}],\"contourcarpet\":[{\"type\":\"contourcarpet\",\"colorbar\":{\"outlinewidth\":0,\"ticks\":\"\"}}],\"contour\":[{\"type\":\"contour\",\"colorbar\":{\"outlinewidth\":0,\"ticks\":\"\"},\"colorscale\":[[0.0,\"#0d0887\"],[0.1111111111111111,\"#46039f\"],[0.2222222222222222,\"#7201a8\"],[0.3333333333333333,\"#9c179e\"],[0.4444444444444444,\"#bd3786\"],[0.5555555555555556,\"#d8576b\"],[0.6666666666666666,\"#ed7953\"],[0.7777777777777778,\"#fb9f3a\"],[0.8888888888888888,\"#fdca26\"],[1.0,\"#f0f921\"]]}],\"surface\":[{\"type\":\"surface\",\"colorbar\":{\"outlinewidth\":0,\"ticks\":\"\"},\"colorscale\":[[0.0,\"#0d0887\"],[0.1111111111111111,\"#46039f\"],[0.2222222222222222,\"#7201a8\"],[0.3333333333333333,\"#9c179e\"],[0.4444444444444444,\"#bd3786\"],[0.5555555555555556,\"#d8576b\"],[0.6666666666666666,\"#ed7953\"],[0.7777777777777778,\"#fb9f3a\"],[0.8888888888888888,\"#fdca26\"],[1.0,\"#f0f921\"]]}],\"mesh3d\":[{\"type\":\"mesh3d\",\"colorbar\":{\"outlinewidth\":0,\"ticks\":\"\"}}],\"scatter\":[{\"fillpattern\":{\"fillmode\":\"overlay\",\"size\":10,\"solidity\":0.2},\"type\":\"scatter\"}],\"parcoords\":[{\"type\":\"parcoords\",\"line\":{\"colorbar\":{\"outlinewidth\":0,\"ticks\":\"\"}}}],\"scatterpolargl\":[{\"type\":\"scatterpolargl\",\"marker\":{\"colorbar\":{\"outlinewidth\":0,\"ticks\":\"\"}}}],\"bar\":[{\"error_x\":{\"color\":\"#2a3f5f\"},\"error_y\":{\"color\":\"#2a3f5f\"},\"marker\":{\"line\":{\"color\":\"#E5ECF6\",\"width\":0.5},\"pattern\":{\"fillmode\":\"overlay\",\"size\":10,\"solidity\":0.2}},\"type\":\"bar\"}],\"scattergeo\":[{\"type\":\"scattergeo\",\"marker\":{\"colorbar\":{\"outlinewidth\":0,\"ticks\":\"\"}}}],\"scatterpolar\":[{\"type\":\"scatterpolar\",\"marker\":{\"colorbar\":{\"outlinewidth\":0,\"ticks\":\"\"}}}],\"histogram\":[{\"marker\":{\"pattern\":{\"fillmode\":\"overlay\",\"size\":10,\"solidity\":0.2}},\"type\":\"histogram\"}],\"scattergl\":[{\"type\":\"scattergl\",\"marker\":{\"colorbar\":{\"outlinewidth\":0,\"ticks\":\"\"}}}],\"scatter3d\":[{\"type\":\"scatter3d\",\"line\":{\"colorbar\":{\"outlinewidth\":0,\"ticks\":\"\"}},\"marker\":{\"colorbar\":{\"outlinewidth\":0,\"ticks\":\"\"}}}],\"scattermapbox\":[{\"type\":\"scattermapbox\",\"marker\":{\"colorbar\":{\"outlinewidth\":0,\"ticks\":\"\"}}}],\"scatterternary\":[{\"type\":\"scatterternary\",\"marker\":{\"colorbar\":{\"outlinewidth\":0,\"ticks\":\"\"}}}],\"scattercarpet\":[{\"type\":\"scattercarpet\",\"marker\":{\"colorbar\":{\"outlinewidth\":0,\"ticks\":\"\"}}}],\"carpet\":[{\"aaxis\":{\"endlinecolor\":\"#2a3f5f\",\"gridcolor\":\"white\",\"linecolor\":\"white\",\"minorgridcolor\":\"white\",\"startlinecolor\":\"#2a3f5f\"},\"baxis\":{\"endlinecolor\":\"#2a3f5f\",\"gridcolor\":\"white\",\"linecolor\":\"white\",\"minorgridcolor\":\"white\",\"startlinecolor\":\"#2a3f5f\"},\"type\":\"carpet\"}],\"table\":[{\"cells\":{\"fill\":{\"color\":\"#EBF0F8\"},\"line\":{\"color\":\"white\"}},\"header\":{\"fill\":{\"color\":\"#C8D4E3\"},\"line\":{\"color\":\"white\"}},\"type\":\"table\"}],\"barpolar\":[{\"marker\":{\"line\":{\"color\":\"#E5ECF6\",\"width\":0.5},\"pattern\":{\"fillmode\":\"overlay\",\"size\":10,\"solidity\":0.2}},\"type\":\"barpolar\"}],\"pie\":[{\"automargin\":true,\"type\":\"pie\"}]},\"layout\":{\"autotypenumbers\":\"strict\",\"colorway\":[\"#636efa\",\"#EF553B\",\"#00cc96\",\"#ab63fa\",\"#FFA15A\",\"#19d3f3\",\"#FF6692\",\"#B6E880\",\"#FF97FF\",\"#FECB52\"],\"font\":{\"color\":\"#2a3f5f\"},\"hovermode\":\"closest\",\"hoverlabel\":{\"align\":\"left\"},\"paper_bgcolor\":\"white\",\"plot_bgcolor\":\"#E5ECF6\",\"polar\":{\"bgcolor\":\"#E5ECF6\",\"angularaxis\":{\"gridcolor\":\"white\",\"linecolor\":\"white\",\"ticks\":\"\"},\"radialaxis\":{\"gridcolor\":\"white\",\"linecolor\":\"white\",\"ticks\":\"\"}},\"ternary\":{\"bgcolor\":\"#E5ECF6\",\"aaxis\":{\"gridcolor\":\"white\",\"linecolor\":\"white\",\"ticks\":\"\"},\"baxis\":{\"gridcolor\":\"white\",\"linecolor\":\"white\",\"ticks\":\"\"},\"caxis\":{\"gridcolor\":\"white\",\"linecolor\":\"white\",\"ticks\":\"\"}},\"coloraxis\":{\"colorbar\":{\"outlinewidth\":0,\"ticks\":\"\"}},\"colorscale\":{\"sequential\":[[0.0,\"#0d0887\"],[0.1111111111111111,\"#46039f\"],[0.2222222222222222,\"#7201a8\"],[0.3333333333333333,\"#9c179e\"],[0.4444444444444444,\"#bd3786\"],[0.5555555555555556,\"#d8576b\"],[0.6666666666666666,\"#ed7953\"],[0.7777777777777778,\"#fb9f3a\"],[0.8888888888888888,\"#fdca26\"],[1.0,\"#f0f921\"]],\"sequentialminus\":[[0.0,\"#0d0887\"],[0.1111111111111111,\"#46039f\"],[0.2222222222222222,\"#7201a8\"],[0.3333333333333333,\"#9c179e\"],[0.4444444444444444,\"#bd3786\"],[0.5555555555555556,\"#d8576b\"],[0.6666666666666666,\"#ed7953\"],[0.7777777777777778,\"#fb9f3a\"],[0.8888888888888888,\"#fdca26\"],[1.0,\"#f0f921\"]],\"diverging\":[[0,\"#8e0152\"],[0.1,\"#c51b7d\"],[0.2,\"#de77ae\"],[0.3,\"#f1b6da\"],[0.4,\"#fde0ef\"],[0.5,\"#f7f7f7\"],[0.6,\"#e6f5d0\"],[0.7,\"#b8e186\"],[0.8,\"#7fbc41\"],[0.9,\"#4d9221\"],[1,\"#276419\"]]},\"xaxis\":{\"gridcolor\":\"white\",\"linecolor\":\"white\",\"ticks\":\"\",\"title\":{\"standoff\":15},\"zerolinecolor\":\"white\",\"automargin\":true,\"zerolinewidth\":2},\"yaxis\":{\"gridcolor\":\"white\",\"linecolor\":\"white\",\"ticks\":\"\",\"title\":{\"standoff\":15},\"zerolinecolor\":\"white\",\"automargin\":true,\"zerolinewidth\":2},\"scene\":{\"xaxis\":{\"backgroundcolor\":\"#E5ECF6\",\"gridcolor\":\"white\",\"linecolor\":\"white\",\"showbackground\":true,\"ticks\":\"\",\"zerolinecolor\":\"white\",\"gridwidth\":2},\"yaxis\":{\"backgroundcolor\":\"#E5ECF6\",\"gridcolor\":\"white\",\"linecolor\":\"white\",\"showbackground\":true,\"ticks\":\"\",\"zerolinecolor\":\"white\",\"gridwidth\":2},\"zaxis\":{\"backgroundcolor\":\"#E5ECF6\",\"gridcolor\":\"white\",\"linecolor\":\"white\",\"showbackground\":true,\"ticks\":\"\",\"zerolinecolor\":\"white\",\"gridwidth\":2}},\"shapedefaults\":{\"line\":{\"color\":\"#2a3f5f\"}},\"annotationdefaults\":{\"arrowcolor\":\"#2a3f5f\",\"arrowhead\":0,\"arrowwidth\":1},\"geo\":{\"bgcolor\":\"white\",\"landcolor\":\"#E5ECF6\",\"subunitcolor\":\"white\",\"showland\":true,\"showlakes\":true,\"lakecolor\":\"white\"},\"title\":{\"x\":0.05},\"mapbox\":{\"style\":\"light\"}}},\"xaxis\":{\"anchor\":\"y\",\"domain\":[0.0,1.0],\"title\":{\"text\":\"variable\"}},\"yaxis\":{\"anchor\":\"x\",\"domain\":[0.0,1.0],\"title\":{\"text\":\"value\"}},\"legend\":{\"tracegroupgap\":0},\"margin\":{\"t\":60},\"boxmode\":\"group\"},                        {\"responsive\": true}                    ).then(function(){\n",
       "                            \n",
       "var gd = document.getElementById('d4e25216-ba45-4a46-afc4-ef7bdac2417c');\n",
       "var x = new MutationObserver(function (mutations, observer) {{\n",
       "        var display = window.getComputedStyle(gd).display;\n",
       "        if (!display || display === 'none') {{\n",
       "            console.log([gd, 'removed!']);\n",
       "            Plotly.purge(gd);\n",
       "            observer.disconnect();\n",
       "        }}\n",
       "}});\n",
       "\n",
       "// Listen for the removal of the full notebook cells\n",
       "var notebookContainer = gd.closest('#notebook-container');\n",
       "if (notebookContainer) {{\n",
       "    x.observe(notebookContainer, {childList: true});\n",
       "}}\n",
       "\n",
       "// Listen for the clearing of the current output cell\n",
       "var outputEl = gd.closest('.output');\n",
       "if (outputEl) {{\n",
       "    x.observe(outputEl, {childList: true});\n",
       "}}\n",
       "\n",
       "                        })                };                });            </script>        </div>"
      ]
     },
     "metadata": {},
     "output_type": "display_data"
    }
   ],
   "source": [
    "plot = px.box(df['discount'])\n",
    "plot.show()"
   ]
  },
  {
   "cell_type": "markdown",
   "id": "0fdc4aff",
   "metadata": {},
   "source": [
    "**Observation** : 4 outliers present"
   ]
  },
  {
   "cell_type": "code",
   "execution_count": 135,
   "id": "e3a00919",
   "metadata": {},
   "outputs": [
    {
     "data": {
      "application/vnd.plotly.v1+json": {
       "config": {
        "plotlyServerURL": "https://plot.ly"
       },
       "data": [
        {
         "alignmentgroup": "True",
         "hovertemplate": "variable=%{x}<br>value=%{y}<extra></extra>",
         "legendgroup": "",
         "marker": {
          "color": "#636efa"
         },
         "name": "",
         "notched": false,
         "offsetgroup": "",
         "orientation": "v",
         "showlegend": false,
         "type": "box",
         "x": [
          "price",
          "price",
          "price",
          "price",
          "price",
          "price",
          "price",
          "price",
          "price",
          "price",
          "price",
          "price",
          "price",
          "price",
          "price",
          "price",
          "price",
          "price",
          "price",
          "price",
          "price",
          "price",
          "price",
          "price",
          "price",
          "price",
          "price",
          "price",
          "price",
          "price",
          "price",
          "price",
          "price",
          "price",
          "price",
          "price",
          "price",
          "price",
          "price",
          "price",
          "price",
          "price",
          "price",
          "price",
          "price",
          "price",
          "price",
          "price",
          "price",
          "price",
          "price",
          "price",
          "price",
          "price",
          "price",
          "price",
          "price",
          "price",
          "price",
          "price",
          "price",
          "price",
          "price",
          "price",
          "price",
          "price",
          "price",
          "price",
          "price",
          "price",
          "price",
          "price",
          "price",
          "price",
          "price"
         ],
         "x0": " ",
         "xaxis": "x",
         "y": [
          29999,
          39999,
          13999,
          14999,
          16999,
          51999,
          13990,
          13990,
          13999,
          33990,
          30990,
          21999,
          21999,
          27999,
          46990,
          42990,
          29999,
          32999,
          17990,
          33999,
          22999,
          13999,
          45990,
          29990,
          21999,
          11499,
          57990,
          30490,
          32999,
          15999,
          14999,
          42999,
          69990,
          15999,
          26990,
          32999,
          14999,
          1249990,
          48215.260869565216,
          32999,
          35999,
          24999,
          24999,
          10499,
          59999,
          16999,
          7699,
          119999,
          9490,
          30999,
          124990,
          40990,
          3599,
          12990,
          38999,
          58990,
          48215.260869565216,
          3599,
          48215.260869565216,
          48215.260869565216,
          31999,
          48215.260869565216,
          22990,
          26990,
          10499,
          21990,
          26999,
          8499,
          48215.260869565216,
          46999,
          19999,
          48490,
          87228,
          6899,
          3599
         ],
         "y0": " ",
         "yaxis": "y"
        }
       ],
       "layout": {
        "boxmode": "group",
        "legend": {
         "tracegroupgap": 0
        },
        "margin": {
         "t": 60
        },
        "template": {
         "data": {
          "bar": [
           {
            "error_x": {
             "color": "#2a3f5f"
            },
            "error_y": {
             "color": "#2a3f5f"
            },
            "marker": {
             "line": {
              "color": "#E5ECF6",
              "width": 0.5
             },
             "pattern": {
              "fillmode": "overlay",
              "size": 10,
              "solidity": 0.2
             }
            },
            "type": "bar"
           }
          ],
          "barpolar": [
           {
            "marker": {
             "line": {
              "color": "#E5ECF6",
              "width": 0.5
             },
             "pattern": {
              "fillmode": "overlay",
              "size": 10,
              "solidity": 0.2
             }
            },
            "type": "barpolar"
           }
          ],
          "carpet": [
           {
            "aaxis": {
             "endlinecolor": "#2a3f5f",
             "gridcolor": "white",
             "linecolor": "white",
             "minorgridcolor": "white",
             "startlinecolor": "#2a3f5f"
            },
            "baxis": {
             "endlinecolor": "#2a3f5f",
             "gridcolor": "white",
             "linecolor": "white",
             "minorgridcolor": "white",
             "startlinecolor": "#2a3f5f"
            },
            "type": "carpet"
           }
          ],
          "choropleth": [
           {
            "colorbar": {
             "outlinewidth": 0,
             "ticks": ""
            },
            "type": "choropleth"
           }
          ],
          "contour": [
           {
            "colorbar": {
             "outlinewidth": 0,
             "ticks": ""
            },
            "colorscale": [
             [
              0,
              "#0d0887"
             ],
             [
              0.1111111111111111,
              "#46039f"
             ],
             [
              0.2222222222222222,
              "#7201a8"
             ],
             [
              0.3333333333333333,
              "#9c179e"
             ],
             [
              0.4444444444444444,
              "#bd3786"
             ],
             [
              0.5555555555555556,
              "#d8576b"
             ],
             [
              0.6666666666666666,
              "#ed7953"
             ],
             [
              0.7777777777777778,
              "#fb9f3a"
             ],
             [
              0.8888888888888888,
              "#fdca26"
             ],
             [
              1,
              "#f0f921"
             ]
            ],
            "type": "contour"
           }
          ],
          "contourcarpet": [
           {
            "colorbar": {
             "outlinewidth": 0,
             "ticks": ""
            },
            "type": "contourcarpet"
           }
          ],
          "heatmap": [
           {
            "colorbar": {
             "outlinewidth": 0,
             "ticks": ""
            },
            "colorscale": [
             [
              0,
              "#0d0887"
             ],
             [
              0.1111111111111111,
              "#46039f"
             ],
             [
              0.2222222222222222,
              "#7201a8"
             ],
             [
              0.3333333333333333,
              "#9c179e"
             ],
             [
              0.4444444444444444,
              "#bd3786"
             ],
             [
              0.5555555555555556,
              "#d8576b"
             ],
             [
              0.6666666666666666,
              "#ed7953"
             ],
             [
              0.7777777777777778,
              "#fb9f3a"
             ],
             [
              0.8888888888888888,
              "#fdca26"
             ],
             [
              1,
              "#f0f921"
             ]
            ],
            "type": "heatmap"
           }
          ],
          "heatmapgl": [
           {
            "colorbar": {
             "outlinewidth": 0,
             "ticks": ""
            },
            "colorscale": [
             [
              0,
              "#0d0887"
             ],
             [
              0.1111111111111111,
              "#46039f"
             ],
             [
              0.2222222222222222,
              "#7201a8"
             ],
             [
              0.3333333333333333,
              "#9c179e"
             ],
             [
              0.4444444444444444,
              "#bd3786"
             ],
             [
              0.5555555555555556,
              "#d8576b"
             ],
             [
              0.6666666666666666,
              "#ed7953"
             ],
             [
              0.7777777777777778,
              "#fb9f3a"
             ],
             [
              0.8888888888888888,
              "#fdca26"
             ],
             [
              1,
              "#f0f921"
             ]
            ],
            "type": "heatmapgl"
           }
          ],
          "histogram": [
           {
            "marker": {
             "pattern": {
              "fillmode": "overlay",
              "size": 10,
              "solidity": 0.2
             }
            },
            "type": "histogram"
           }
          ],
          "histogram2d": [
           {
            "colorbar": {
             "outlinewidth": 0,
             "ticks": ""
            },
            "colorscale": [
             [
              0,
              "#0d0887"
             ],
             [
              0.1111111111111111,
              "#46039f"
             ],
             [
              0.2222222222222222,
              "#7201a8"
             ],
             [
              0.3333333333333333,
              "#9c179e"
             ],
             [
              0.4444444444444444,
              "#bd3786"
             ],
             [
              0.5555555555555556,
              "#d8576b"
             ],
             [
              0.6666666666666666,
              "#ed7953"
             ],
             [
              0.7777777777777778,
              "#fb9f3a"
             ],
             [
              0.8888888888888888,
              "#fdca26"
             ],
             [
              1,
              "#f0f921"
             ]
            ],
            "type": "histogram2d"
           }
          ],
          "histogram2dcontour": [
           {
            "colorbar": {
             "outlinewidth": 0,
             "ticks": ""
            },
            "colorscale": [
             [
              0,
              "#0d0887"
             ],
             [
              0.1111111111111111,
              "#46039f"
             ],
             [
              0.2222222222222222,
              "#7201a8"
             ],
             [
              0.3333333333333333,
              "#9c179e"
             ],
             [
              0.4444444444444444,
              "#bd3786"
             ],
             [
              0.5555555555555556,
              "#d8576b"
             ],
             [
              0.6666666666666666,
              "#ed7953"
             ],
             [
              0.7777777777777778,
              "#fb9f3a"
             ],
             [
              0.8888888888888888,
              "#fdca26"
             ],
             [
              1,
              "#f0f921"
             ]
            ],
            "type": "histogram2dcontour"
           }
          ],
          "mesh3d": [
           {
            "colorbar": {
             "outlinewidth": 0,
             "ticks": ""
            },
            "type": "mesh3d"
           }
          ],
          "parcoords": [
           {
            "line": {
             "colorbar": {
              "outlinewidth": 0,
              "ticks": ""
             }
            },
            "type": "parcoords"
           }
          ],
          "pie": [
           {
            "automargin": true,
            "type": "pie"
           }
          ],
          "scatter": [
           {
            "fillpattern": {
             "fillmode": "overlay",
             "size": 10,
             "solidity": 0.2
            },
            "type": "scatter"
           }
          ],
          "scatter3d": [
           {
            "line": {
             "colorbar": {
              "outlinewidth": 0,
              "ticks": ""
             }
            },
            "marker": {
             "colorbar": {
              "outlinewidth": 0,
              "ticks": ""
             }
            },
            "type": "scatter3d"
           }
          ],
          "scattercarpet": [
           {
            "marker": {
             "colorbar": {
              "outlinewidth": 0,
              "ticks": ""
             }
            },
            "type": "scattercarpet"
           }
          ],
          "scattergeo": [
           {
            "marker": {
             "colorbar": {
              "outlinewidth": 0,
              "ticks": ""
             }
            },
            "type": "scattergeo"
           }
          ],
          "scattergl": [
           {
            "marker": {
             "colorbar": {
              "outlinewidth": 0,
              "ticks": ""
             }
            },
            "type": "scattergl"
           }
          ],
          "scattermapbox": [
           {
            "marker": {
             "colorbar": {
              "outlinewidth": 0,
              "ticks": ""
             }
            },
            "type": "scattermapbox"
           }
          ],
          "scatterpolar": [
           {
            "marker": {
             "colorbar": {
              "outlinewidth": 0,
              "ticks": ""
             }
            },
            "type": "scatterpolar"
           }
          ],
          "scatterpolargl": [
           {
            "marker": {
             "colorbar": {
              "outlinewidth": 0,
              "ticks": ""
             }
            },
            "type": "scatterpolargl"
           }
          ],
          "scatterternary": [
           {
            "marker": {
             "colorbar": {
              "outlinewidth": 0,
              "ticks": ""
             }
            },
            "type": "scatterternary"
           }
          ],
          "surface": [
           {
            "colorbar": {
             "outlinewidth": 0,
             "ticks": ""
            },
            "colorscale": [
             [
              0,
              "#0d0887"
             ],
             [
              0.1111111111111111,
              "#46039f"
             ],
             [
              0.2222222222222222,
              "#7201a8"
             ],
             [
              0.3333333333333333,
              "#9c179e"
             ],
             [
              0.4444444444444444,
              "#bd3786"
             ],
             [
              0.5555555555555556,
              "#d8576b"
             ],
             [
              0.6666666666666666,
              "#ed7953"
             ],
             [
              0.7777777777777778,
              "#fb9f3a"
             ],
             [
              0.8888888888888888,
              "#fdca26"
             ],
             [
              1,
              "#f0f921"
             ]
            ],
            "type": "surface"
           }
          ],
          "table": [
           {
            "cells": {
             "fill": {
              "color": "#EBF0F8"
             },
             "line": {
              "color": "white"
             }
            },
            "header": {
             "fill": {
              "color": "#C8D4E3"
             },
             "line": {
              "color": "white"
             }
            },
            "type": "table"
           }
          ]
         },
         "layout": {
          "annotationdefaults": {
           "arrowcolor": "#2a3f5f",
           "arrowhead": 0,
           "arrowwidth": 1
          },
          "autotypenumbers": "strict",
          "coloraxis": {
           "colorbar": {
            "outlinewidth": 0,
            "ticks": ""
           }
          },
          "colorscale": {
           "diverging": [
            [
             0,
             "#8e0152"
            ],
            [
             0.1,
             "#c51b7d"
            ],
            [
             0.2,
             "#de77ae"
            ],
            [
             0.3,
             "#f1b6da"
            ],
            [
             0.4,
             "#fde0ef"
            ],
            [
             0.5,
             "#f7f7f7"
            ],
            [
             0.6,
             "#e6f5d0"
            ],
            [
             0.7,
             "#b8e186"
            ],
            [
             0.8,
             "#7fbc41"
            ],
            [
             0.9,
             "#4d9221"
            ],
            [
             1,
             "#276419"
            ]
           ],
           "sequential": [
            [
             0,
             "#0d0887"
            ],
            [
             0.1111111111111111,
             "#46039f"
            ],
            [
             0.2222222222222222,
             "#7201a8"
            ],
            [
             0.3333333333333333,
             "#9c179e"
            ],
            [
             0.4444444444444444,
             "#bd3786"
            ],
            [
             0.5555555555555556,
             "#d8576b"
            ],
            [
             0.6666666666666666,
             "#ed7953"
            ],
            [
             0.7777777777777778,
             "#fb9f3a"
            ],
            [
             0.8888888888888888,
             "#fdca26"
            ],
            [
             1,
             "#f0f921"
            ]
           ],
           "sequentialminus": [
            [
             0,
             "#0d0887"
            ],
            [
             0.1111111111111111,
             "#46039f"
            ],
            [
             0.2222222222222222,
             "#7201a8"
            ],
            [
             0.3333333333333333,
             "#9c179e"
            ],
            [
             0.4444444444444444,
             "#bd3786"
            ],
            [
             0.5555555555555556,
             "#d8576b"
            ],
            [
             0.6666666666666666,
             "#ed7953"
            ],
            [
             0.7777777777777778,
             "#fb9f3a"
            ],
            [
             0.8888888888888888,
             "#fdca26"
            ],
            [
             1,
             "#f0f921"
            ]
           ]
          },
          "colorway": [
           "#636efa",
           "#EF553B",
           "#00cc96",
           "#ab63fa",
           "#FFA15A",
           "#19d3f3",
           "#FF6692",
           "#B6E880",
           "#FF97FF",
           "#FECB52"
          ],
          "font": {
           "color": "#2a3f5f"
          },
          "geo": {
           "bgcolor": "white",
           "lakecolor": "white",
           "landcolor": "#E5ECF6",
           "showlakes": true,
           "showland": true,
           "subunitcolor": "white"
          },
          "hoverlabel": {
           "align": "left"
          },
          "hovermode": "closest",
          "mapbox": {
           "style": "light"
          },
          "paper_bgcolor": "white",
          "plot_bgcolor": "#E5ECF6",
          "polar": {
           "angularaxis": {
            "gridcolor": "white",
            "linecolor": "white",
            "ticks": ""
           },
           "bgcolor": "#E5ECF6",
           "radialaxis": {
            "gridcolor": "white",
            "linecolor": "white",
            "ticks": ""
           }
          },
          "scene": {
           "xaxis": {
            "backgroundcolor": "#E5ECF6",
            "gridcolor": "white",
            "gridwidth": 2,
            "linecolor": "white",
            "showbackground": true,
            "ticks": "",
            "zerolinecolor": "white"
           },
           "yaxis": {
            "backgroundcolor": "#E5ECF6",
            "gridcolor": "white",
            "gridwidth": 2,
            "linecolor": "white",
            "showbackground": true,
            "ticks": "",
            "zerolinecolor": "white"
           },
           "zaxis": {
            "backgroundcolor": "#E5ECF6",
            "gridcolor": "white",
            "gridwidth": 2,
            "linecolor": "white",
            "showbackground": true,
            "ticks": "",
            "zerolinecolor": "white"
           }
          },
          "shapedefaults": {
           "line": {
            "color": "#2a3f5f"
           }
          },
          "ternary": {
           "aaxis": {
            "gridcolor": "white",
            "linecolor": "white",
            "ticks": ""
           },
           "baxis": {
            "gridcolor": "white",
            "linecolor": "white",
            "ticks": ""
           },
           "bgcolor": "#E5ECF6",
           "caxis": {
            "gridcolor": "white",
            "linecolor": "white",
            "ticks": ""
           }
          },
          "title": {
           "x": 0.05
          },
          "xaxis": {
           "automargin": true,
           "gridcolor": "white",
           "linecolor": "white",
           "ticks": "",
           "title": {
            "standoff": 15
           },
           "zerolinecolor": "white",
           "zerolinewidth": 2
          },
          "yaxis": {
           "automargin": true,
           "gridcolor": "white",
           "linecolor": "white",
           "ticks": "",
           "title": {
            "standoff": 15
           },
           "zerolinecolor": "white",
           "zerolinewidth": 2
          }
         }
        },
        "xaxis": {
         "anchor": "y",
         "domain": [
          0,
          1
         ],
         "title": {
          "text": "variable"
         }
        },
        "yaxis": {
         "anchor": "x",
         "domain": [
          0,
          1
         ],
         "title": {
          "text": "value"
         }
        }
       }
      },
      "text/html": [
       "<div>                            <div id=\"f092d88a-3784-4ecf-8a99-3b24918454fa\" class=\"plotly-graph-div\" style=\"height:525px; width:100%;\"></div>            <script type=\"text/javascript\">                require([\"plotly\"], function(Plotly) {                    window.PLOTLYENV=window.PLOTLYENV || {};                                    if (document.getElementById(\"f092d88a-3784-4ecf-8a99-3b24918454fa\")) {                    Plotly.newPlot(                        \"f092d88a-3784-4ecf-8a99-3b24918454fa\",                        [{\"alignmentgroup\":\"True\",\"hovertemplate\":\"variable=%{x}<br>value=%{y}<extra></extra>\",\"legendgroup\":\"\",\"marker\":{\"color\":\"#636efa\"},\"name\":\"\",\"notched\":false,\"offsetgroup\":\"\",\"orientation\":\"v\",\"showlegend\":false,\"x\":[\"price\",\"price\",\"price\",\"price\",\"price\",\"price\",\"price\",\"price\",\"price\",\"price\",\"price\",\"price\",\"price\",\"price\",\"price\",\"price\",\"price\",\"price\",\"price\",\"price\",\"price\",\"price\",\"price\",\"price\",\"price\",\"price\",\"price\",\"price\",\"price\",\"price\",\"price\",\"price\",\"price\",\"price\",\"price\",\"price\",\"price\",\"price\",\"price\",\"price\",\"price\",\"price\",\"price\",\"price\",\"price\",\"price\",\"price\",\"price\",\"price\",\"price\",\"price\",\"price\",\"price\",\"price\",\"price\",\"price\",\"price\",\"price\",\"price\",\"price\",\"price\",\"price\",\"price\",\"price\",\"price\",\"price\",\"price\",\"price\",\"price\",\"price\",\"price\",\"price\",\"price\",\"price\",\"price\"],\"x0\":\" \",\"xaxis\":\"x\",\"y\":[29999.0,39999.0,13999.0,14999.0,16999.0,51999.0,13990.0,13990.0,13999.0,33990.0,30990.0,21999.0,21999.0,27999.0,46990.0,42990.0,29999.0,32999.0,17990.0,33999.0,22999.0,13999.0,45990.0,29990.0,21999.0,11499.0,57990.0,30490.0,32999.0,15999.0,14999.0,42999.0,69990.0,15999.0,26990.0,32999.0,14999.0,1249990.0,48215.260869565216,32999.0,35999.0,24999.0,24999.0,10499.0,59999.0,16999.0,7699.0,119999.0,9490.0,30999.0,124990.0,40990.0,3599.0,12990.0,38999.0,58990.0,48215.260869565216,3599.0,48215.260869565216,48215.260869565216,31999.0,48215.260869565216,22990.0,26990.0,10499.0,21990.0,26999.0,8499.0,48215.260869565216,46999.0,19999.0,48490.0,87228.0,6899.0,3599.0],\"y0\":\" \",\"yaxis\":\"y\",\"type\":\"box\"}],                        {\"template\":{\"data\":{\"histogram2dcontour\":[{\"type\":\"histogram2dcontour\",\"colorbar\":{\"outlinewidth\":0,\"ticks\":\"\"},\"colorscale\":[[0.0,\"#0d0887\"],[0.1111111111111111,\"#46039f\"],[0.2222222222222222,\"#7201a8\"],[0.3333333333333333,\"#9c179e\"],[0.4444444444444444,\"#bd3786\"],[0.5555555555555556,\"#d8576b\"],[0.6666666666666666,\"#ed7953\"],[0.7777777777777778,\"#fb9f3a\"],[0.8888888888888888,\"#fdca26\"],[1.0,\"#f0f921\"]]}],\"choropleth\":[{\"type\":\"choropleth\",\"colorbar\":{\"outlinewidth\":0,\"ticks\":\"\"}}],\"histogram2d\":[{\"type\":\"histogram2d\",\"colorbar\":{\"outlinewidth\":0,\"ticks\":\"\"},\"colorscale\":[[0.0,\"#0d0887\"],[0.1111111111111111,\"#46039f\"],[0.2222222222222222,\"#7201a8\"],[0.3333333333333333,\"#9c179e\"],[0.4444444444444444,\"#bd3786\"],[0.5555555555555556,\"#d8576b\"],[0.6666666666666666,\"#ed7953\"],[0.7777777777777778,\"#fb9f3a\"],[0.8888888888888888,\"#fdca26\"],[1.0,\"#f0f921\"]]}],\"heatmap\":[{\"type\":\"heatmap\",\"colorbar\":{\"outlinewidth\":0,\"ticks\":\"\"},\"colorscale\":[[0.0,\"#0d0887\"],[0.1111111111111111,\"#46039f\"],[0.2222222222222222,\"#7201a8\"],[0.3333333333333333,\"#9c179e\"],[0.4444444444444444,\"#bd3786\"],[0.5555555555555556,\"#d8576b\"],[0.6666666666666666,\"#ed7953\"],[0.7777777777777778,\"#fb9f3a\"],[0.8888888888888888,\"#fdca26\"],[1.0,\"#f0f921\"]]}],\"heatmapgl\":[{\"type\":\"heatmapgl\",\"colorbar\":{\"outlinewidth\":0,\"ticks\":\"\"},\"colorscale\":[[0.0,\"#0d0887\"],[0.1111111111111111,\"#46039f\"],[0.2222222222222222,\"#7201a8\"],[0.3333333333333333,\"#9c179e\"],[0.4444444444444444,\"#bd3786\"],[0.5555555555555556,\"#d8576b\"],[0.6666666666666666,\"#ed7953\"],[0.7777777777777778,\"#fb9f3a\"],[0.8888888888888888,\"#fdca26\"],[1.0,\"#f0f921\"]]}],\"contourcarpet\":[{\"type\":\"contourcarpet\",\"colorbar\":{\"outlinewidth\":0,\"ticks\":\"\"}}],\"contour\":[{\"type\":\"contour\",\"colorbar\":{\"outlinewidth\":0,\"ticks\":\"\"},\"colorscale\":[[0.0,\"#0d0887\"],[0.1111111111111111,\"#46039f\"],[0.2222222222222222,\"#7201a8\"],[0.3333333333333333,\"#9c179e\"],[0.4444444444444444,\"#bd3786\"],[0.5555555555555556,\"#d8576b\"],[0.6666666666666666,\"#ed7953\"],[0.7777777777777778,\"#fb9f3a\"],[0.8888888888888888,\"#fdca26\"],[1.0,\"#f0f921\"]]}],\"surface\":[{\"type\":\"surface\",\"colorbar\":{\"outlinewidth\":0,\"ticks\":\"\"},\"colorscale\":[[0.0,\"#0d0887\"],[0.1111111111111111,\"#46039f\"],[0.2222222222222222,\"#7201a8\"],[0.3333333333333333,\"#9c179e\"],[0.4444444444444444,\"#bd3786\"],[0.5555555555555556,\"#d8576b\"],[0.6666666666666666,\"#ed7953\"],[0.7777777777777778,\"#fb9f3a\"],[0.8888888888888888,\"#fdca26\"],[1.0,\"#f0f921\"]]}],\"mesh3d\":[{\"type\":\"mesh3d\",\"colorbar\":{\"outlinewidth\":0,\"ticks\":\"\"}}],\"scatter\":[{\"fillpattern\":{\"fillmode\":\"overlay\",\"size\":10,\"solidity\":0.2},\"type\":\"scatter\"}],\"parcoords\":[{\"type\":\"parcoords\",\"line\":{\"colorbar\":{\"outlinewidth\":0,\"ticks\":\"\"}}}],\"scatterpolargl\":[{\"type\":\"scatterpolargl\",\"marker\":{\"colorbar\":{\"outlinewidth\":0,\"ticks\":\"\"}}}],\"bar\":[{\"error_x\":{\"color\":\"#2a3f5f\"},\"error_y\":{\"color\":\"#2a3f5f\"},\"marker\":{\"line\":{\"color\":\"#E5ECF6\",\"width\":0.5},\"pattern\":{\"fillmode\":\"overlay\",\"size\":10,\"solidity\":0.2}},\"type\":\"bar\"}],\"scattergeo\":[{\"type\":\"scattergeo\",\"marker\":{\"colorbar\":{\"outlinewidth\":0,\"ticks\":\"\"}}}],\"scatterpolar\":[{\"type\":\"scatterpolar\",\"marker\":{\"colorbar\":{\"outlinewidth\":0,\"ticks\":\"\"}}}],\"histogram\":[{\"marker\":{\"pattern\":{\"fillmode\":\"overlay\",\"size\":10,\"solidity\":0.2}},\"type\":\"histogram\"}],\"scattergl\":[{\"type\":\"scattergl\",\"marker\":{\"colorbar\":{\"outlinewidth\":0,\"ticks\":\"\"}}}],\"scatter3d\":[{\"type\":\"scatter3d\",\"line\":{\"colorbar\":{\"outlinewidth\":0,\"ticks\":\"\"}},\"marker\":{\"colorbar\":{\"outlinewidth\":0,\"ticks\":\"\"}}}],\"scattermapbox\":[{\"type\":\"scattermapbox\",\"marker\":{\"colorbar\":{\"outlinewidth\":0,\"ticks\":\"\"}}}],\"scatterternary\":[{\"type\":\"scatterternary\",\"marker\":{\"colorbar\":{\"outlinewidth\":0,\"ticks\":\"\"}}}],\"scattercarpet\":[{\"type\":\"scattercarpet\",\"marker\":{\"colorbar\":{\"outlinewidth\":0,\"ticks\":\"\"}}}],\"carpet\":[{\"aaxis\":{\"endlinecolor\":\"#2a3f5f\",\"gridcolor\":\"white\",\"linecolor\":\"white\",\"minorgridcolor\":\"white\",\"startlinecolor\":\"#2a3f5f\"},\"baxis\":{\"endlinecolor\":\"#2a3f5f\",\"gridcolor\":\"white\",\"linecolor\":\"white\",\"minorgridcolor\":\"white\",\"startlinecolor\":\"#2a3f5f\"},\"type\":\"carpet\"}],\"table\":[{\"cells\":{\"fill\":{\"color\":\"#EBF0F8\"},\"line\":{\"color\":\"white\"}},\"header\":{\"fill\":{\"color\":\"#C8D4E3\"},\"line\":{\"color\":\"white\"}},\"type\":\"table\"}],\"barpolar\":[{\"marker\":{\"line\":{\"color\":\"#E5ECF6\",\"width\":0.5},\"pattern\":{\"fillmode\":\"overlay\",\"size\":10,\"solidity\":0.2}},\"type\":\"barpolar\"}],\"pie\":[{\"automargin\":true,\"type\":\"pie\"}]},\"layout\":{\"autotypenumbers\":\"strict\",\"colorway\":[\"#636efa\",\"#EF553B\",\"#00cc96\",\"#ab63fa\",\"#FFA15A\",\"#19d3f3\",\"#FF6692\",\"#B6E880\",\"#FF97FF\",\"#FECB52\"],\"font\":{\"color\":\"#2a3f5f\"},\"hovermode\":\"closest\",\"hoverlabel\":{\"align\":\"left\"},\"paper_bgcolor\":\"white\",\"plot_bgcolor\":\"#E5ECF6\",\"polar\":{\"bgcolor\":\"#E5ECF6\",\"angularaxis\":{\"gridcolor\":\"white\",\"linecolor\":\"white\",\"ticks\":\"\"},\"radialaxis\":{\"gridcolor\":\"white\",\"linecolor\":\"white\",\"ticks\":\"\"}},\"ternary\":{\"bgcolor\":\"#E5ECF6\",\"aaxis\":{\"gridcolor\":\"white\",\"linecolor\":\"white\",\"ticks\":\"\"},\"baxis\":{\"gridcolor\":\"white\",\"linecolor\":\"white\",\"ticks\":\"\"},\"caxis\":{\"gridcolor\":\"white\",\"linecolor\":\"white\",\"ticks\":\"\"}},\"coloraxis\":{\"colorbar\":{\"outlinewidth\":0,\"ticks\":\"\"}},\"colorscale\":{\"sequential\":[[0.0,\"#0d0887\"],[0.1111111111111111,\"#46039f\"],[0.2222222222222222,\"#7201a8\"],[0.3333333333333333,\"#9c179e\"],[0.4444444444444444,\"#bd3786\"],[0.5555555555555556,\"#d8576b\"],[0.6666666666666666,\"#ed7953\"],[0.7777777777777778,\"#fb9f3a\"],[0.8888888888888888,\"#fdca26\"],[1.0,\"#f0f921\"]],\"sequentialminus\":[[0.0,\"#0d0887\"],[0.1111111111111111,\"#46039f\"],[0.2222222222222222,\"#7201a8\"],[0.3333333333333333,\"#9c179e\"],[0.4444444444444444,\"#bd3786\"],[0.5555555555555556,\"#d8576b\"],[0.6666666666666666,\"#ed7953\"],[0.7777777777777778,\"#fb9f3a\"],[0.8888888888888888,\"#fdca26\"],[1.0,\"#f0f921\"]],\"diverging\":[[0,\"#8e0152\"],[0.1,\"#c51b7d\"],[0.2,\"#de77ae\"],[0.3,\"#f1b6da\"],[0.4,\"#fde0ef\"],[0.5,\"#f7f7f7\"],[0.6,\"#e6f5d0\"],[0.7,\"#b8e186\"],[0.8,\"#7fbc41\"],[0.9,\"#4d9221\"],[1,\"#276419\"]]},\"xaxis\":{\"gridcolor\":\"white\",\"linecolor\":\"white\",\"ticks\":\"\",\"title\":{\"standoff\":15},\"zerolinecolor\":\"white\",\"automargin\":true,\"zerolinewidth\":2},\"yaxis\":{\"gridcolor\":\"white\",\"linecolor\":\"white\",\"ticks\":\"\",\"title\":{\"standoff\":15},\"zerolinecolor\":\"white\",\"automargin\":true,\"zerolinewidth\":2},\"scene\":{\"xaxis\":{\"backgroundcolor\":\"#E5ECF6\",\"gridcolor\":\"white\",\"linecolor\":\"white\",\"showbackground\":true,\"ticks\":\"\",\"zerolinecolor\":\"white\",\"gridwidth\":2},\"yaxis\":{\"backgroundcolor\":\"#E5ECF6\",\"gridcolor\":\"white\",\"linecolor\":\"white\",\"showbackground\":true,\"ticks\":\"\",\"zerolinecolor\":\"white\",\"gridwidth\":2},\"zaxis\":{\"backgroundcolor\":\"#E5ECF6\",\"gridcolor\":\"white\",\"linecolor\":\"white\",\"showbackground\":true,\"ticks\":\"\",\"zerolinecolor\":\"white\",\"gridwidth\":2}},\"shapedefaults\":{\"line\":{\"color\":\"#2a3f5f\"}},\"annotationdefaults\":{\"arrowcolor\":\"#2a3f5f\",\"arrowhead\":0,\"arrowwidth\":1},\"geo\":{\"bgcolor\":\"white\",\"landcolor\":\"#E5ECF6\",\"subunitcolor\":\"white\",\"showland\":true,\"showlakes\":true,\"lakecolor\":\"white\"},\"title\":{\"x\":0.05},\"mapbox\":{\"style\":\"light\"}}},\"xaxis\":{\"anchor\":\"y\",\"domain\":[0.0,1.0],\"title\":{\"text\":\"variable\"}},\"yaxis\":{\"anchor\":\"x\",\"domain\":[0.0,1.0],\"title\":{\"text\":\"value\"}},\"legend\":{\"tracegroupgap\":0},\"margin\":{\"t\":60},\"boxmode\":\"group\"},                        {\"responsive\": true}                    ).then(function(){\n",
       "                            \n",
       "var gd = document.getElementById('f092d88a-3784-4ecf-8a99-3b24918454fa');\n",
       "var x = new MutationObserver(function (mutations, observer) {{\n",
       "        var display = window.getComputedStyle(gd).display;\n",
       "        if (!display || display === 'none') {{\n",
       "            console.log([gd, 'removed!']);\n",
       "            Plotly.purge(gd);\n",
       "            observer.disconnect();\n",
       "        }}\n",
       "}});\n",
       "\n",
       "// Listen for the removal of the full notebook cells\n",
       "var notebookContainer = gd.closest('#notebook-container');\n",
       "if (notebookContainer) {{\n",
       "    x.observe(notebookContainer, {childList: true});\n",
       "}}\n",
       "\n",
       "// Listen for the clearing of the current output cell\n",
       "var outputEl = gd.closest('.output');\n",
       "if (outputEl) {{\n",
       "    x.observe(outputEl, {childList: true});\n",
       "}}\n",
       "\n",
       "                        })                };                });            </script>        </div>"
      ]
     },
     "metadata": {},
     "output_type": "display_data"
    }
   ],
   "source": [
    "plot = px.box(df['price'])\n",
    "plot.show()"
   ]
  },
  {
   "cell_type": "markdown",
   "id": "bbcefb07",
   "metadata": {},
   "source": [
    "**Observation** : 2 outliers present"
   ]
  },
  {
   "cell_type": "code",
   "execution_count": 136,
   "id": "fbec1bb4",
   "metadata": {},
   "outputs": [
    {
     "data": {
      "application/vnd.plotly.v1+json": {
       "config": {
        "plotlyServerURL": "https://plot.ly"
       },
       "data": [
        {
         "alignmentgroup": "True",
         "hovertemplate": "variable=%{x}<br>value=%{y}<extra></extra>",
         "legendgroup": "",
         "marker": {
          "color": "#636efa"
         },
         "name": "",
         "notched": false,
         "offsetgroup": "",
         "orientation": "v",
         "showlegend": false,
         "type": "box",
         "x": [
          "ratingsNo",
          "ratingsNo",
          "ratingsNo",
          "ratingsNo",
          "ratingsNo",
          "ratingsNo",
          "ratingsNo",
          "ratingsNo",
          "ratingsNo",
          "ratingsNo",
          "ratingsNo",
          "ratingsNo",
          "ratingsNo",
          "ratingsNo",
          "ratingsNo",
          "ratingsNo",
          "ratingsNo",
          "ratingsNo",
          "ratingsNo",
          "ratingsNo",
          "ratingsNo",
          "ratingsNo",
          "ratingsNo",
          "ratingsNo",
          "ratingsNo",
          "ratingsNo",
          "ratingsNo",
          "ratingsNo",
          "ratingsNo",
          "ratingsNo",
          "ratingsNo",
          "ratingsNo",
          "ratingsNo",
          "ratingsNo",
          "ratingsNo",
          "ratingsNo",
          "ratingsNo",
          "ratingsNo",
          "ratingsNo",
          "ratingsNo",
          "ratingsNo",
          "ratingsNo",
          "ratingsNo",
          "ratingsNo",
          "ratingsNo",
          "ratingsNo",
          "ratingsNo",
          "ratingsNo",
          "ratingsNo",
          "ratingsNo",
          "ratingsNo",
          "ratingsNo",
          "ratingsNo",
          "ratingsNo",
          "ratingsNo",
          "ratingsNo",
          "ratingsNo",
          "ratingsNo",
          "ratingsNo",
          "ratingsNo",
          "ratingsNo",
          "ratingsNo",
          "ratingsNo",
          "ratingsNo",
          "ratingsNo",
          "ratingsNo",
          "ratingsNo",
          "ratingsNo",
          "ratingsNo",
          "ratingsNo",
          "ratingsNo",
          "ratingsNo",
          "ratingsNo",
          "ratingsNo",
          "ratingsNo"
         ],
         "x0": " ",
         "xaxis": "x",
         "y": [
          597,
          8532,
          69,
          37174,
          8521,
          8364,
          12602,
          9042,
          48129,
          736,
          8033,
          48129,
          2082,
          8521,
          8033,
          8364,
          8532,
          8532,
          1365,
          2082,
          597,
          34585,
          8033,
          8033,
          34585,
          8521,
          8364,
          1719,
          1396,
          37174,
          2431,
          7092,
          8364,
          970,
          2867,
          8521,
          13203,
          10,
          1396,
          48129,
          2909,
          870,
          37174,
          4016,
          24,
          2687,
          33,
          4,
          13203,
          2909,
          216,
          61,
          8118.819444444444,
          4606,
          1396,
          16,
          8118.819444444444,
          1,
          3,
          8118.819444444444,
          339,
          13,
          2867,
          2867,
          5,
          4606,
          2909,
          346,
          654,
          21662,
          1989,
          1719,
          859,
          143,
          20
         ],
         "y0": " ",
         "yaxis": "y"
        }
       ],
       "layout": {
        "boxmode": "group",
        "legend": {
         "tracegroupgap": 0
        },
        "margin": {
         "t": 60
        },
        "template": {
         "data": {
          "bar": [
           {
            "error_x": {
             "color": "#2a3f5f"
            },
            "error_y": {
             "color": "#2a3f5f"
            },
            "marker": {
             "line": {
              "color": "#E5ECF6",
              "width": 0.5
             },
             "pattern": {
              "fillmode": "overlay",
              "size": 10,
              "solidity": 0.2
             }
            },
            "type": "bar"
           }
          ],
          "barpolar": [
           {
            "marker": {
             "line": {
              "color": "#E5ECF6",
              "width": 0.5
             },
             "pattern": {
              "fillmode": "overlay",
              "size": 10,
              "solidity": 0.2
             }
            },
            "type": "barpolar"
           }
          ],
          "carpet": [
           {
            "aaxis": {
             "endlinecolor": "#2a3f5f",
             "gridcolor": "white",
             "linecolor": "white",
             "minorgridcolor": "white",
             "startlinecolor": "#2a3f5f"
            },
            "baxis": {
             "endlinecolor": "#2a3f5f",
             "gridcolor": "white",
             "linecolor": "white",
             "minorgridcolor": "white",
             "startlinecolor": "#2a3f5f"
            },
            "type": "carpet"
           }
          ],
          "choropleth": [
           {
            "colorbar": {
             "outlinewidth": 0,
             "ticks": ""
            },
            "type": "choropleth"
           }
          ],
          "contour": [
           {
            "colorbar": {
             "outlinewidth": 0,
             "ticks": ""
            },
            "colorscale": [
             [
              0,
              "#0d0887"
             ],
             [
              0.1111111111111111,
              "#46039f"
             ],
             [
              0.2222222222222222,
              "#7201a8"
             ],
             [
              0.3333333333333333,
              "#9c179e"
             ],
             [
              0.4444444444444444,
              "#bd3786"
             ],
             [
              0.5555555555555556,
              "#d8576b"
             ],
             [
              0.6666666666666666,
              "#ed7953"
             ],
             [
              0.7777777777777778,
              "#fb9f3a"
             ],
             [
              0.8888888888888888,
              "#fdca26"
             ],
             [
              1,
              "#f0f921"
             ]
            ],
            "type": "contour"
           }
          ],
          "contourcarpet": [
           {
            "colorbar": {
             "outlinewidth": 0,
             "ticks": ""
            },
            "type": "contourcarpet"
           }
          ],
          "heatmap": [
           {
            "colorbar": {
             "outlinewidth": 0,
             "ticks": ""
            },
            "colorscale": [
             [
              0,
              "#0d0887"
             ],
             [
              0.1111111111111111,
              "#46039f"
             ],
             [
              0.2222222222222222,
              "#7201a8"
             ],
             [
              0.3333333333333333,
              "#9c179e"
             ],
             [
              0.4444444444444444,
              "#bd3786"
             ],
             [
              0.5555555555555556,
              "#d8576b"
             ],
             [
              0.6666666666666666,
              "#ed7953"
             ],
             [
              0.7777777777777778,
              "#fb9f3a"
             ],
             [
              0.8888888888888888,
              "#fdca26"
             ],
             [
              1,
              "#f0f921"
             ]
            ],
            "type": "heatmap"
           }
          ],
          "heatmapgl": [
           {
            "colorbar": {
             "outlinewidth": 0,
             "ticks": ""
            },
            "colorscale": [
             [
              0,
              "#0d0887"
             ],
             [
              0.1111111111111111,
              "#46039f"
             ],
             [
              0.2222222222222222,
              "#7201a8"
             ],
             [
              0.3333333333333333,
              "#9c179e"
             ],
             [
              0.4444444444444444,
              "#bd3786"
             ],
             [
              0.5555555555555556,
              "#d8576b"
             ],
             [
              0.6666666666666666,
              "#ed7953"
             ],
             [
              0.7777777777777778,
              "#fb9f3a"
             ],
             [
              0.8888888888888888,
              "#fdca26"
             ],
             [
              1,
              "#f0f921"
             ]
            ],
            "type": "heatmapgl"
           }
          ],
          "histogram": [
           {
            "marker": {
             "pattern": {
              "fillmode": "overlay",
              "size": 10,
              "solidity": 0.2
             }
            },
            "type": "histogram"
           }
          ],
          "histogram2d": [
           {
            "colorbar": {
             "outlinewidth": 0,
             "ticks": ""
            },
            "colorscale": [
             [
              0,
              "#0d0887"
             ],
             [
              0.1111111111111111,
              "#46039f"
             ],
             [
              0.2222222222222222,
              "#7201a8"
             ],
             [
              0.3333333333333333,
              "#9c179e"
             ],
             [
              0.4444444444444444,
              "#bd3786"
             ],
             [
              0.5555555555555556,
              "#d8576b"
             ],
             [
              0.6666666666666666,
              "#ed7953"
             ],
             [
              0.7777777777777778,
              "#fb9f3a"
             ],
             [
              0.8888888888888888,
              "#fdca26"
             ],
             [
              1,
              "#f0f921"
             ]
            ],
            "type": "histogram2d"
           }
          ],
          "histogram2dcontour": [
           {
            "colorbar": {
             "outlinewidth": 0,
             "ticks": ""
            },
            "colorscale": [
             [
              0,
              "#0d0887"
             ],
             [
              0.1111111111111111,
              "#46039f"
             ],
             [
              0.2222222222222222,
              "#7201a8"
             ],
             [
              0.3333333333333333,
              "#9c179e"
             ],
             [
              0.4444444444444444,
              "#bd3786"
             ],
             [
              0.5555555555555556,
              "#d8576b"
             ],
             [
              0.6666666666666666,
              "#ed7953"
             ],
             [
              0.7777777777777778,
              "#fb9f3a"
             ],
             [
              0.8888888888888888,
              "#fdca26"
             ],
             [
              1,
              "#f0f921"
             ]
            ],
            "type": "histogram2dcontour"
           }
          ],
          "mesh3d": [
           {
            "colorbar": {
             "outlinewidth": 0,
             "ticks": ""
            },
            "type": "mesh3d"
           }
          ],
          "parcoords": [
           {
            "line": {
             "colorbar": {
              "outlinewidth": 0,
              "ticks": ""
             }
            },
            "type": "parcoords"
           }
          ],
          "pie": [
           {
            "automargin": true,
            "type": "pie"
           }
          ],
          "scatter": [
           {
            "fillpattern": {
             "fillmode": "overlay",
             "size": 10,
             "solidity": 0.2
            },
            "type": "scatter"
           }
          ],
          "scatter3d": [
           {
            "line": {
             "colorbar": {
              "outlinewidth": 0,
              "ticks": ""
             }
            },
            "marker": {
             "colorbar": {
              "outlinewidth": 0,
              "ticks": ""
             }
            },
            "type": "scatter3d"
           }
          ],
          "scattercarpet": [
           {
            "marker": {
             "colorbar": {
              "outlinewidth": 0,
              "ticks": ""
             }
            },
            "type": "scattercarpet"
           }
          ],
          "scattergeo": [
           {
            "marker": {
             "colorbar": {
              "outlinewidth": 0,
              "ticks": ""
             }
            },
            "type": "scattergeo"
           }
          ],
          "scattergl": [
           {
            "marker": {
             "colorbar": {
              "outlinewidth": 0,
              "ticks": ""
             }
            },
            "type": "scattergl"
           }
          ],
          "scattermapbox": [
           {
            "marker": {
             "colorbar": {
              "outlinewidth": 0,
              "ticks": ""
             }
            },
            "type": "scattermapbox"
           }
          ],
          "scatterpolar": [
           {
            "marker": {
             "colorbar": {
              "outlinewidth": 0,
              "ticks": ""
             }
            },
            "type": "scatterpolar"
           }
          ],
          "scatterpolargl": [
           {
            "marker": {
             "colorbar": {
              "outlinewidth": 0,
              "ticks": ""
             }
            },
            "type": "scatterpolargl"
           }
          ],
          "scatterternary": [
           {
            "marker": {
             "colorbar": {
              "outlinewidth": 0,
              "ticks": ""
             }
            },
            "type": "scatterternary"
           }
          ],
          "surface": [
           {
            "colorbar": {
             "outlinewidth": 0,
             "ticks": ""
            },
            "colorscale": [
             [
              0,
              "#0d0887"
             ],
             [
              0.1111111111111111,
              "#46039f"
             ],
             [
              0.2222222222222222,
              "#7201a8"
             ],
             [
              0.3333333333333333,
              "#9c179e"
             ],
             [
              0.4444444444444444,
              "#bd3786"
             ],
             [
              0.5555555555555556,
              "#d8576b"
             ],
             [
              0.6666666666666666,
              "#ed7953"
             ],
             [
              0.7777777777777778,
              "#fb9f3a"
             ],
             [
              0.8888888888888888,
              "#fdca26"
             ],
             [
              1,
              "#f0f921"
             ]
            ],
            "type": "surface"
           }
          ],
          "table": [
           {
            "cells": {
             "fill": {
              "color": "#EBF0F8"
             },
             "line": {
              "color": "white"
             }
            },
            "header": {
             "fill": {
              "color": "#C8D4E3"
             },
             "line": {
              "color": "white"
             }
            },
            "type": "table"
           }
          ]
         },
         "layout": {
          "annotationdefaults": {
           "arrowcolor": "#2a3f5f",
           "arrowhead": 0,
           "arrowwidth": 1
          },
          "autotypenumbers": "strict",
          "coloraxis": {
           "colorbar": {
            "outlinewidth": 0,
            "ticks": ""
           }
          },
          "colorscale": {
           "diverging": [
            [
             0,
             "#8e0152"
            ],
            [
             0.1,
             "#c51b7d"
            ],
            [
             0.2,
             "#de77ae"
            ],
            [
             0.3,
             "#f1b6da"
            ],
            [
             0.4,
             "#fde0ef"
            ],
            [
             0.5,
             "#f7f7f7"
            ],
            [
             0.6,
             "#e6f5d0"
            ],
            [
             0.7,
             "#b8e186"
            ],
            [
             0.8,
             "#7fbc41"
            ],
            [
             0.9,
             "#4d9221"
            ],
            [
             1,
             "#276419"
            ]
           ],
           "sequential": [
            [
             0,
             "#0d0887"
            ],
            [
             0.1111111111111111,
             "#46039f"
            ],
            [
             0.2222222222222222,
             "#7201a8"
            ],
            [
             0.3333333333333333,
             "#9c179e"
            ],
            [
             0.4444444444444444,
             "#bd3786"
            ],
            [
             0.5555555555555556,
             "#d8576b"
            ],
            [
             0.6666666666666666,
             "#ed7953"
            ],
            [
             0.7777777777777778,
             "#fb9f3a"
            ],
            [
             0.8888888888888888,
             "#fdca26"
            ],
            [
             1,
             "#f0f921"
            ]
           ],
           "sequentialminus": [
            [
             0,
             "#0d0887"
            ],
            [
             0.1111111111111111,
             "#46039f"
            ],
            [
             0.2222222222222222,
             "#7201a8"
            ],
            [
             0.3333333333333333,
             "#9c179e"
            ],
            [
             0.4444444444444444,
             "#bd3786"
            ],
            [
             0.5555555555555556,
             "#d8576b"
            ],
            [
             0.6666666666666666,
             "#ed7953"
            ],
            [
             0.7777777777777778,
             "#fb9f3a"
            ],
            [
             0.8888888888888888,
             "#fdca26"
            ],
            [
             1,
             "#f0f921"
            ]
           ]
          },
          "colorway": [
           "#636efa",
           "#EF553B",
           "#00cc96",
           "#ab63fa",
           "#FFA15A",
           "#19d3f3",
           "#FF6692",
           "#B6E880",
           "#FF97FF",
           "#FECB52"
          ],
          "font": {
           "color": "#2a3f5f"
          },
          "geo": {
           "bgcolor": "white",
           "lakecolor": "white",
           "landcolor": "#E5ECF6",
           "showlakes": true,
           "showland": true,
           "subunitcolor": "white"
          },
          "hoverlabel": {
           "align": "left"
          },
          "hovermode": "closest",
          "mapbox": {
           "style": "light"
          },
          "paper_bgcolor": "white",
          "plot_bgcolor": "#E5ECF6",
          "polar": {
           "angularaxis": {
            "gridcolor": "white",
            "linecolor": "white",
            "ticks": ""
           },
           "bgcolor": "#E5ECF6",
           "radialaxis": {
            "gridcolor": "white",
            "linecolor": "white",
            "ticks": ""
           }
          },
          "scene": {
           "xaxis": {
            "backgroundcolor": "#E5ECF6",
            "gridcolor": "white",
            "gridwidth": 2,
            "linecolor": "white",
            "showbackground": true,
            "ticks": "",
            "zerolinecolor": "white"
           },
           "yaxis": {
            "backgroundcolor": "#E5ECF6",
            "gridcolor": "white",
            "gridwidth": 2,
            "linecolor": "white",
            "showbackground": true,
            "ticks": "",
            "zerolinecolor": "white"
           },
           "zaxis": {
            "backgroundcolor": "#E5ECF6",
            "gridcolor": "white",
            "gridwidth": 2,
            "linecolor": "white",
            "showbackground": true,
            "ticks": "",
            "zerolinecolor": "white"
           }
          },
          "shapedefaults": {
           "line": {
            "color": "#2a3f5f"
           }
          },
          "ternary": {
           "aaxis": {
            "gridcolor": "white",
            "linecolor": "white",
            "ticks": ""
           },
           "baxis": {
            "gridcolor": "white",
            "linecolor": "white",
            "ticks": ""
           },
           "bgcolor": "#E5ECF6",
           "caxis": {
            "gridcolor": "white",
            "linecolor": "white",
            "ticks": ""
           }
          },
          "title": {
           "x": 0.05
          },
          "xaxis": {
           "automargin": true,
           "gridcolor": "white",
           "linecolor": "white",
           "ticks": "",
           "title": {
            "standoff": 15
           },
           "zerolinecolor": "white",
           "zerolinewidth": 2
          },
          "yaxis": {
           "automargin": true,
           "gridcolor": "white",
           "linecolor": "white",
           "ticks": "",
           "title": {
            "standoff": 15
           },
           "zerolinecolor": "white",
           "zerolinewidth": 2
          }
         }
        },
        "xaxis": {
         "anchor": "y",
         "domain": [
          0,
          1
         ],
         "title": {
          "text": "variable"
         }
        },
        "yaxis": {
         "anchor": "x",
         "domain": [
          0,
          1
         ],
         "title": {
          "text": "value"
         }
        }
       }
      },
      "text/html": [
       "<div>                            <div id=\"f9ca27f9-c356-4461-98ac-734331f57b3a\" class=\"plotly-graph-div\" style=\"height:525px; width:100%;\"></div>            <script type=\"text/javascript\">                require([\"plotly\"], function(Plotly) {                    window.PLOTLYENV=window.PLOTLYENV || {};                                    if (document.getElementById(\"f9ca27f9-c356-4461-98ac-734331f57b3a\")) {                    Plotly.newPlot(                        \"f9ca27f9-c356-4461-98ac-734331f57b3a\",                        [{\"alignmentgroup\":\"True\",\"hovertemplate\":\"variable=%{x}<br>value=%{y}<extra></extra>\",\"legendgroup\":\"\",\"marker\":{\"color\":\"#636efa\"},\"name\":\"\",\"notched\":false,\"offsetgroup\":\"\",\"orientation\":\"v\",\"showlegend\":false,\"x\":[\"ratingsNo\",\"ratingsNo\",\"ratingsNo\",\"ratingsNo\",\"ratingsNo\",\"ratingsNo\",\"ratingsNo\",\"ratingsNo\",\"ratingsNo\",\"ratingsNo\",\"ratingsNo\",\"ratingsNo\",\"ratingsNo\",\"ratingsNo\",\"ratingsNo\",\"ratingsNo\",\"ratingsNo\",\"ratingsNo\",\"ratingsNo\",\"ratingsNo\",\"ratingsNo\",\"ratingsNo\",\"ratingsNo\",\"ratingsNo\",\"ratingsNo\",\"ratingsNo\",\"ratingsNo\",\"ratingsNo\",\"ratingsNo\",\"ratingsNo\",\"ratingsNo\",\"ratingsNo\",\"ratingsNo\",\"ratingsNo\",\"ratingsNo\",\"ratingsNo\",\"ratingsNo\",\"ratingsNo\",\"ratingsNo\",\"ratingsNo\",\"ratingsNo\",\"ratingsNo\",\"ratingsNo\",\"ratingsNo\",\"ratingsNo\",\"ratingsNo\",\"ratingsNo\",\"ratingsNo\",\"ratingsNo\",\"ratingsNo\",\"ratingsNo\",\"ratingsNo\",\"ratingsNo\",\"ratingsNo\",\"ratingsNo\",\"ratingsNo\",\"ratingsNo\",\"ratingsNo\",\"ratingsNo\",\"ratingsNo\",\"ratingsNo\",\"ratingsNo\",\"ratingsNo\",\"ratingsNo\",\"ratingsNo\",\"ratingsNo\",\"ratingsNo\",\"ratingsNo\",\"ratingsNo\",\"ratingsNo\",\"ratingsNo\",\"ratingsNo\",\"ratingsNo\",\"ratingsNo\",\"ratingsNo\"],\"x0\":\" \",\"xaxis\":\"x\",\"y\":[597.0,8532.0,69.0,37174.0,8521.0,8364.0,12602.0,9042.0,48129.0,736.0,8033.0,48129.0,2082.0,8521.0,8033.0,8364.0,8532.0,8532.0,1365.0,2082.0,597.0,34585.0,8033.0,8033.0,34585.0,8521.0,8364.0,1719.0,1396.0,37174.0,2431.0,7092.0,8364.0,970.0,2867.0,8521.0,13203.0,10.0,1396.0,48129.0,2909.0,870.0,37174.0,4016.0,24.0,2687.0,33.0,4.0,13203.0,2909.0,216.0,61.0,8118.819444444444,4606.0,1396.0,16.0,8118.819444444444,1.0,3.0,8118.819444444444,339.0,13.0,2867.0,2867.0,5.0,4606.0,2909.0,346.0,654.0,21662.0,1989.0,1719.0,859.0,143.0,20.0],\"y0\":\" \",\"yaxis\":\"y\",\"type\":\"box\"}],                        {\"template\":{\"data\":{\"histogram2dcontour\":[{\"type\":\"histogram2dcontour\",\"colorbar\":{\"outlinewidth\":0,\"ticks\":\"\"},\"colorscale\":[[0.0,\"#0d0887\"],[0.1111111111111111,\"#46039f\"],[0.2222222222222222,\"#7201a8\"],[0.3333333333333333,\"#9c179e\"],[0.4444444444444444,\"#bd3786\"],[0.5555555555555556,\"#d8576b\"],[0.6666666666666666,\"#ed7953\"],[0.7777777777777778,\"#fb9f3a\"],[0.8888888888888888,\"#fdca26\"],[1.0,\"#f0f921\"]]}],\"choropleth\":[{\"type\":\"choropleth\",\"colorbar\":{\"outlinewidth\":0,\"ticks\":\"\"}}],\"histogram2d\":[{\"type\":\"histogram2d\",\"colorbar\":{\"outlinewidth\":0,\"ticks\":\"\"},\"colorscale\":[[0.0,\"#0d0887\"],[0.1111111111111111,\"#46039f\"],[0.2222222222222222,\"#7201a8\"],[0.3333333333333333,\"#9c179e\"],[0.4444444444444444,\"#bd3786\"],[0.5555555555555556,\"#d8576b\"],[0.6666666666666666,\"#ed7953\"],[0.7777777777777778,\"#fb9f3a\"],[0.8888888888888888,\"#fdca26\"],[1.0,\"#f0f921\"]]}],\"heatmap\":[{\"type\":\"heatmap\",\"colorbar\":{\"outlinewidth\":0,\"ticks\":\"\"},\"colorscale\":[[0.0,\"#0d0887\"],[0.1111111111111111,\"#46039f\"],[0.2222222222222222,\"#7201a8\"],[0.3333333333333333,\"#9c179e\"],[0.4444444444444444,\"#bd3786\"],[0.5555555555555556,\"#d8576b\"],[0.6666666666666666,\"#ed7953\"],[0.7777777777777778,\"#fb9f3a\"],[0.8888888888888888,\"#fdca26\"],[1.0,\"#f0f921\"]]}],\"heatmapgl\":[{\"type\":\"heatmapgl\",\"colorbar\":{\"outlinewidth\":0,\"ticks\":\"\"},\"colorscale\":[[0.0,\"#0d0887\"],[0.1111111111111111,\"#46039f\"],[0.2222222222222222,\"#7201a8\"],[0.3333333333333333,\"#9c179e\"],[0.4444444444444444,\"#bd3786\"],[0.5555555555555556,\"#d8576b\"],[0.6666666666666666,\"#ed7953\"],[0.7777777777777778,\"#fb9f3a\"],[0.8888888888888888,\"#fdca26\"],[1.0,\"#f0f921\"]]}],\"contourcarpet\":[{\"type\":\"contourcarpet\",\"colorbar\":{\"outlinewidth\":0,\"ticks\":\"\"}}],\"contour\":[{\"type\":\"contour\",\"colorbar\":{\"outlinewidth\":0,\"ticks\":\"\"},\"colorscale\":[[0.0,\"#0d0887\"],[0.1111111111111111,\"#46039f\"],[0.2222222222222222,\"#7201a8\"],[0.3333333333333333,\"#9c179e\"],[0.4444444444444444,\"#bd3786\"],[0.5555555555555556,\"#d8576b\"],[0.6666666666666666,\"#ed7953\"],[0.7777777777777778,\"#fb9f3a\"],[0.8888888888888888,\"#fdca26\"],[1.0,\"#f0f921\"]]}],\"surface\":[{\"type\":\"surface\",\"colorbar\":{\"outlinewidth\":0,\"ticks\":\"\"},\"colorscale\":[[0.0,\"#0d0887\"],[0.1111111111111111,\"#46039f\"],[0.2222222222222222,\"#7201a8\"],[0.3333333333333333,\"#9c179e\"],[0.4444444444444444,\"#bd3786\"],[0.5555555555555556,\"#d8576b\"],[0.6666666666666666,\"#ed7953\"],[0.7777777777777778,\"#fb9f3a\"],[0.8888888888888888,\"#fdca26\"],[1.0,\"#f0f921\"]]}],\"mesh3d\":[{\"type\":\"mesh3d\",\"colorbar\":{\"outlinewidth\":0,\"ticks\":\"\"}}],\"scatter\":[{\"fillpattern\":{\"fillmode\":\"overlay\",\"size\":10,\"solidity\":0.2},\"type\":\"scatter\"}],\"parcoords\":[{\"type\":\"parcoords\",\"line\":{\"colorbar\":{\"outlinewidth\":0,\"ticks\":\"\"}}}],\"scatterpolargl\":[{\"type\":\"scatterpolargl\",\"marker\":{\"colorbar\":{\"outlinewidth\":0,\"ticks\":\"\"}}}],\"bar\":[{\"error_x\":{\"color\":\"#2a3f5f\"},\"error_y\":{\"color\":\"#2a3f5f\"},\"marker\":{\"line\":{\"color\":\"#E5ECF6\",\"width\":0.5},\"pattern\":{\"fillmode\":\"overlay\",\"size\":10,\"solidity\":0.2}},\"type\":\"bar\"}],\"scattergeo\":[{\"type\":\"scattergeo\",\"marker\":{\"colorbar\":{\"outlinewidth\":0,\"ticks\":\"\"}}}],\"scatterpolar\":[{\"type\":\"scatterpolar\",\"marker\":{\"colorbar\":{\"outlinewidth\":0,\"ticks\":\"\"}}}],\"histogram\":[{\"marker\":{\"pattern\":{\"fillmode\":\"overlay\",\"size\":10,\"solidity\":0.2}},\"type\":\"histogram\"}],\"scattergl\":[{\"type\":\"scattergl\",\"marker\":{\"colorbar\":{\"outlinewidth\":0,\"ticks\":\"\"}}}],\"scatter3d\":[{\"type\":\"scatter3d\",\"line\":{\"colorbar\":{\"outlinewidth\":0,\"ticks\":\"\"}},\"marker\":{\"colorbar\":{\"outlinewidth\":0,\"ticks\":\"\"}}}],\"scattermapbox\":[{\"type\":\"scattermapbox\",\"marker\":{\"colorbar\":{\"outlinewidth\":0,\"ticks\":\"\"}}}],\"scatterternary\":[{\"type\":\"scatterternary\",\"marker\":{\"colorbar\":{\"outlinewidth\":0,\"ticks\":\"\"}}}],\"scattercarpet\":[{\"type\":\"scattercarpet\",\"marker\":{\"colorbar\":{\"outlinewidth\":0,\"ticks\":\"\"}}}],\"carpet\":[{\"aaxis\":{\"endlinecolor\":\"#2a3f5f\",\"gridcolor\":\"white\",\"linecolor\":\"white\",\"minorgridcolor\":\"white\",\"startlinecolor\":\"#2a3f5f\"},\"baxis\":{\"endlinecolor\":\"#2a3f5f\",\"gridcolor\":\"white\",\"linecolor\":\"white\",\"minorgridcolor\":\"white\",\"startlinecolor\":\"#2a3f5f\"},\"type\":\"carpet\"}],\"table\":[{\"cells\":{\"fill\":{\"color\":\"#EBF0F8\"},\"line\":{\"color\":\"white\"}},\"header\":{\"fill\":{\"color\":\"#C8D4E3\"},\"line\":{\"color\":\"white\"}},\"type\":\"table\"}],\"barpolar\":[{\"marker\":{\"line\":{\"color\":\"#E5ECF6\",\"width\":0.5},\"pattern\":{\"fillmode\":\"overlay\",\"size\":10,\"solidity\":0.2}},\"type\":\"barpolar\"}],\"pie\":[{\"automargin\":true,\"type\":\"pie\"}]},\"layout\":{\"autotypenumbers\":\"strict\",\"colorway\":[\"#636efa\",\"#EF553B\",\"#00cc96\",\"#ab63fa\",\"#FFA15A\",\"#19d3f3\",\"#FF6692\",\"#B6E880\",\"#FF97FF\",\"#FECB52\"],\"font\":{\"color\":\"#2a3f5f\"},\"hovermode\":\"closest\",\"hoverlabel\":{\"align\":\"left\"},\"paper_bgcolor\":\"white\",\"plot_bgcolor\":\"#E5ECF6\",\"polar\":{\"bgcolor\":\"#E5ECF6\",\"angularaxis\":{\"gridcolor\":\"white\",\"linecolor\":\"white\",\"ticks\":\"\"},\"radialaxis\":{\"gridcolor\":\"white\",\"linecolor\":\"white\",\"ticks\":\"\"}},\"ternary\":{\"bgcolor\":\"#E5ECF6\",\"aaxis\":{\"gridcolor\":\"white\",\"linecolor\":\"white\",\"ticks\":\"\"},\"baxis\":{\"gridcolor\":\"white\",\"linecolor\":\"white\",\"ticks\":\"\"},\"caxis\":{\"gridcolor\":\"white\",\"linecolor\":\"white\",\"ticks\":\"\"}},\"coloraxis\":{\"colorbar\":{\"outlinewidth\":0,\"ticks\":\"\"}},\"colorscale\":{\"sequential\":[[0.0,\"#0d0887\"],[0.1111111111111111,\"#46039f\"],[0.2222222222222222,\"#7201a8\"],[0.3333333333333333,\"#9c179e\"],[0.4444444444444444,\"#bd3786\"],[0.5555555555555556,\"#d8576b\"],[0.6666666666666666,\"#ed7953\"],[0.7777777777777778,\"#fb9f3a\"],[0.8888888888888888,\"#fdca26\"],[1.0,\"#f0f921\"]],\"sequentialminus\":[[0.0,\"#0d0887\"],[0.1111111111111111,\"#46039f\"],[0.2222222222222222,\"#7201a8\"],[0.3333333333333333,\"#9c179e\"],[0.4444444444444444,\"#bd3786\"],[0.5555555555555556,\"#d8576b\"],[0.6666666666666666,\"#ed7953\"],[0.7777777777777778,\"#fb9f3a\"],[0.8888888888888888,\"#fdca26\"],[1.0,\"#f0f921\"]],\"diverging\":[[0,\"#8e0152\"],[0.1,\"#c51b7d\"],[0.2,\"#de77ae\"],[0.3,\"#f1b6da\"],[0.4,\"#fde0ef\"],[0.5,\"#f7f7f7\"],[0.6,\"#e6f5d0\"],[0.7,\"#b8e186\"],[0.8,\"#7fbc41\"],[0.9,\"#4d9221\"],[1,\"#276419\"]]},\"xaxis\":{\"gridcolor\":\"white\",\"linecolor\":\"white\",\"ticks\":\"\",\"title\":{\"standoff\":15},\"zerolinecolor\":\"white\",\"automargin\":true,\"zerolinewidth\":2},\"yaxis\":{\"gridcolor\":\"white\",\"linecolor\":\"white\",\"ticks\":\"\",\"title\":{\"standoff\":15},\"zerolinecolor\":\"white\",\"automargin\":true,\"zerolinewidth\":2},\"scene\":{\"xaxis\":{\"backgroundcolor\":\"#E5ECF6\",\"gridcolor\":\"white\",\"linecolor\":\"white\",\"showbackground\":true,\"ticks\":\"\",\"zerolinecolor\":\"white\",\"gridwidth\":2},\"yaxis\":{\"backgroundcolor\":\"#E5ECF6\",\"gridcolor\":\"white\",\"linecolor\":\"white\",\"showbackground\":true,\"ticks\":\"\",\"zerolinecolor\":\"white\",\"gridwidth\":2},\"zaxis\":{\"backgroundcolor\":\"#E5ECF6\",\"gridcolor\":\"white\",\"linecolor\":\"white\",\"showbackground\":true,\"ticks\":\"\",\"zerolinecolor\":\"white\",\"gridwidth\":2}},\"shapedefaults\":{\"line\":{\"color\":\"#2a3f5f\"}},\"annotationdefaults\":{\"arrowcolor\":\"#2a3f5f\",\"arrowhead\":0,\"arrowwidth\":1},\"geo\":{\"bgcolor\":\"white\",\"landcolor\":\"#E5ECF6\",\"subunitcolor\":\"white\",\"showland\":true,\"showlakes\":true,\"lakecolor\":\"white\"},\"title\":{\"x\":0.05},\"mapbox\":{\"style\":\"light\"}}},\"xaxis\":{\"anchor\":\"y\",\"domain\":[0.0,1.0],\"title\":{\"text\":\"variable\"}},\"yaxis\":{\"anchor\":\"x\",\"domain\":[0.0,1.0],\"title\":{\"text\":\"value\"}},\"legend\":{\"tracegroupgap\":0},\"margin\":{\"t\":60},\"boxmode\":\"group\"},                        {\"responsive\": true}                    ).then(function(){\n",
       "                            \n",
       "var gd = document.getElementById('f9ca27f9-c356-4461-98ac-734331f57b3a');\n",
       "var x = new MutationObserver(function (mutations, observer) {{\n",
       "        var display = window.getComputedStyle(gd).display;\n",
       "        if (!display || display === 'none') {{\n",
       "            console.log([gd, 'removed!']);\n",
       "            Plotly.purge(gd);\n",
       "            observer.disconnect();\n",
       "        }}\n",
       "}});\n",
       "\n",
       "// Listen for the removal of the full notebook cells\n",
       "var notebookContainer = gd.closest('#notebook-container');\n",
       "if (notebookContainer) {{\n",
       "    x.observe(notebookContainer, {childList: true});\n",
       "}}\n",
       "\n",
       "// Listen for the clearing of the current output cell\n",
       "var outputEl = gd.closest('.output');\n",
       "if (outputEl) {{\n",
       "    x.observe(outputEl, {childList: true});\n",
       "}}\n",
       "\n",
       "                        })                };                });            </script>        </div>"
      ]
     },
     "metadata": {},
     "output_type": "display_data"
    }
   ],
   "source": [
    "plot = px.box(df['ratingsNo'])\n",
    "plot.show()"
   ]
  },
  {
   "cell_type": "markdown",
   "id": "b307976d",
   "metadata": {},
   "source": [
    "**Observation** : 4 outliers present"
   ]
  },
  {
   "cell_type": "code",
   "execution_count": 137,
   "id": "e3201c6d",
   "metadata": {},
   "outputs": [
    {
     "data": {
      "application/vnd.plotly.v1+json": {
       "config": {
        "plotlyServerURL": "https://plot.ly"
       },
       "data": [
        {
         "alignmentgroup": "True",
         "hovertemplate": "variable=%{x}<br>value=%{y}<extra></extra>",
         "legendgroup": "",
         "marker": {
          "color": "#636efa"
         },
         "name": "",
         "notched": false,
         "offsetgroup": "",
         "orientation": "v",
         "showlegend": false,
         "type": "box",
         "x": [
          "ratings",
          "ratings",
          "ratings",
          "ratings",
          "ratings",
          "ratings",
          "ratings",
          "ratings",
          "ratings",
          "ratings",
          "ratings",
          "ratings",
          "ratings",
          "ratings",
          "ratings",
          "ratings",
          "ratings",
          "ratings",
          "ratings",
          "ratings",
          "ratings",
          "ratings",
          "ratings",
          "ratings",
          "ratings",
          "ratings",
          "ratings",
          "ratings",
          "ratings",
          "ratings",
          "ratings",
          "ratings",
          "ratings",
          "ratings",
          "ratings",
          "ratings",
          "ratings",
          "ratings",
          "ratings",
          "ratings",
          "ratings",
          "ratings",
          "ratings",
          "ratings",
          "ratings",
          "ratings",
          "ratings",
          "ratings",
          "ratings",
          "ratings",
          "ratings",
          "ratings",
          "ratings",
          "ratings",
          "ratings",
          "ratings",
          "ratings",
          "ratings",
          "ratings",
          "ratings",
          "ratings",
          "ratings",
          "ratings",
          "ratings",
          "ratings",
          "ratings",
          "ratings",
          "ratings",
          "ratings",
          "ratings",
          "ratings",
          "ratings",
          "ratings",
          "ratings",
          "ratings"
         ],
         "x0": " ",
         "xaxis": "x",
         "y": [
          4.4,
          4.2,
          4,
          4.5,
          4.4,
          4.7,
          4.3,
          4.4,
          4.2,
          4.3,
          4.3,
          4.2,
          4.1,
          4.4,
          4.3,
          4.7,
          4.5,
          4.5,
          4.2,
          4.1,
          4.4,
          4.2,
          4.3,
          4.3,
          4.2,
          4.4,
          4.7,
          4.3,
          4.6,
          4.2,
          4.3,
          4.1,
          4.7,
          4.3,
          4.1,
          4.4,
          4.2,
          4.4,
          4.6,
          4.2,
          4.4,
          4.7,
          4.5,
          4.5,
          4.4,
          4.1,
          4.5,
          2.8,
          4.2,
          4.4,
          4.5,
          4.5,
          4.5,
          4.3,
          4.6,
          4.5,
          4.317808219178082,
          4.5,
          4.5,
          4.317808219178082,
          4.3,
          3.9,
          4.1,
          4.1,
          4.7,
          4.3,
          4.4,
          4.4,
          4.1,
          4.3,
          4.3,
          4.3,
          4.1,
          3.4,
          4.5
         ],
         "y0": " ",
         "yaxis": "y"
        }
       ],
       "layout": {
        "boxmode": "group",
        "legend": {
         "tracegroupgap": 0
        },
        "margin": {
         "t": 60
        },
        "template": {
         "data": {
          "bar": [
           {
            "error_x": {
             "color": "#2a3f5f"
            },
            "error_y": {
             "color": "#2a3f5f"
            },
            "marker": {
             "line": {
              "color": "#E5ECF6",
              "width": 0.5
             },
             "pattern": {
              "fillmode": "overlay",
              "size": 10,
              "solidity": 0.2
             }
            },
            "type": "bar"
           }
          ],
          "barpolar": [
           {
            "marker": {
             "line": {
              "color": "#E5ECF6",
              "width": 0.5
             },
             "pattern": {
              "fillmode": "overlay",
              "size": 10,
              "solidity": 0.2
             }
            },
            "type": "barpolar"
           }
          ],
          "carpet": [
           {
            "aaxis": {
             "endlinecolor": "#2a3f5f",
             "gridcolor": "white",
             "linecolor": "white",
             "minorgridcolor": "white",
             "startlinecolor": "#2a3f5f"
            },
            "baxis": {
             "endlinecolor": "#2a3f5f",
             "gridcolor": "white",
             "linecolor": "white",
             "minorgridcolor": "white",
             "startlinecolor": "#2a3f5f"
            },
            "type": "carpet"
           }
          ],
          "choropleth": [
           {
            "colorbar": {
             "outlinewidth": 0,
             "ticks": ""
            },
            "type": "choropleth"
           }
          ],
          "contour": [
           {
            "colorbar": {
             "outlinewidth": 0,
             "ticks": ""
            },
            "colorscale": [
             [
              0,
              "#0d0887"
             ],
             [
              0.1111111111111111,
              "#46039f"
             ],
             [
              0.2222222222222222,
              "#7201a8"
             ],
             [
              0.3333333333333333,
              "#9c179e"
             ],
             [
              0.4444444444444444,
              "#bd3786"
             ],
             [
              0.5555555555555556,
              "#d8576b"
             ],
             [
              0.6666666666666666,
              "#ed7953"
             ],
             [
              0.7777777777777778,
              "#fb9f3a"
             ],
             [
              0.8888888888888888,
              "#fdca26"
             ],
             [
              1,
              "#f0f921"
             ]
            ],
            "type": "contour"
           }
          ],
          "contourcarpet": [
           {
            "colorbar": {
             "outlinewidth": 0,
             "ticks": ""
            },
            "type": "contourcarpet"
           }
          ],
          "heatmap": [
           {
            "colorbar": {
             "outlinewidth": 0,
             "ticks": ""
            },
            "colorscale": [
             [
              0,
              "#0d0887"
             ],
             [
              0.1111111111111111,
              "#46039f"
             ],
             [
              0.2222222222222222,
              "#7201a8"
             ],
             [
              0.3333333333333333,
              "#9c179e"
             ],
             [
              0.4444444444444444,
              "#bd3786"
             ],
             [
              0.5555555555555556,
              "#d8576b"
             ],
             [
              0.6666666666666666,
              "#ed7953"
             ],
             [
              0.7777777777777778,
              "#fb9f3a"
             ],
             [
              0.8888888888888888,
              "#fdca26"
             ],
             [
              1,
              "#f0f921"
             ]
            ],
            "type": "heatmap"
           }
          ],
          "heatmapgl": [
           {
            "colorbar": {
             "outlinewidth": 0,
             "ticks": ""
            },
            "colorscale": [
             [
              0,
              "#0d0887"
             ],
             [
              0.1111111111111111,
              "#46039f"
             ],
             [
              0.2222222222222222,
              "#7201a8"
             ],
             [
              0.3333333333333333,
              "#9c179e"
             ],
             [
              0.4444444444444444,
              "#bd3786"
             ],
             [
              0.5555555555555556,
              "#d8576b"
             ],
             [
              0.6666666666666666,
              "#ed7953"
             ],
             [
              0.7777777777777778,
              "#fb9f3a"
             ],
             [
              0.8888888888888888,
              "#fdca26"
             ],
             [
              1,
              "#f0f921"
             ]
            ],
            "type": "heatmapgl"
           }
          ],
          "histogram": [
           {
            "marker": {
             "pattern": {
              "fillmode": "overlay",
              "size": 10,
              "solidity": 0.2
             }
            },
            "type": "histogram"
           }
          ],
          "histogram2d": [
           {
            "colorbar": {
             "outlinewidth": 0,
             "ticks": ""
            },
            "colorscale": [
             [
              0,
              "#0d0887"
             ],
             [
              0.1111111111111111,
              "#46039f"
             ],
             [
              0.2222222222222222,
              "#7201a8"
             ],
             [
              0.3333333333333333,
              "#9c179e"
             ],
             [
              0.4444444444444444,
              "#bd3786"
             ],
             [
              0.5555555555555556,
              "#d8576b"
             ],
             [
              0.6666666666666666,
              "#ed7953"
             ],
             [
              0.7777777777777778,
              "#fb9f3a"
             ],
             [
              0.8888888888888888,
              "#fdca26"
             ],
             [
              1,
              "#f0f921"
             ]
            ],
            "type": "histogram2d"
           }
          ],
          "histogram2dcontour": [
           {
            "colorbar": {
             "outlinewidth": 0,
             "ticks": ""
            },
            "colorscale": [
             [
              0,
              "#0d0887"
             ],
             [
              0.1111111111111111,
              "#46039f"
             ],
             [
              0.2222222222222222,
              "#7201a8"
             ],
             [
              0.3333333333333333,
              "#9c179e"
             ],
             [
              0.4444444444444444,
              "#bd3786"
             ],
             [
              0.5555555555555556,
              "#d8576b"
             ],
             [
              0.6666666666666666,
              "#ed7953"
             ],
             [
              0.7777777777777778,
              "#fb9f3a"
             ],
             [
              0.8888888888888888,
              "#fdca26"
             ],
             [
              1,
              "#f0f921"
             ]
            ],
            "type": "histogram2dcontour"
           }
          ],
          "mesh3d": [
           {
            "colorbar": {
             "outlinewidth": 0,
             "ticks": ""
            },
            "type": "mesh3d"
           }
          ],
          "parcoords": [
           {
            "line": {
             "colorbar": {
              "outlinewidth": 0,
              "ticks": ""
             }
            },
            "type": "parcoords"
           }
          ],
          "pie": [
           {
            "automargin": true,
            "type": "pie"
           }
          ],
          "scatter": [
           {
            "fillpattern": {
             "fillmode": "overlay",
             "size": 10,
             "solidity": 0.2
            },
            "type": "scatter"
           }
          ],
          "scatter3d": [
           {
            "line": {
             "colorbar": {
              "outlinewidth": 0,
              "ticks": ""
             }
            },
            "marker": {
             "colorbar": {
              "outlinewidth": 0,
              "ticks": ""
             }
            },
            "type": "scatter3d"
           }
          ],
          "scattercarpet": [
           {
            "marker": {
             "colorbar": {
              "outlinewidth": 0,
              "ticks": ""
             }
            },
            "type": "scattercarpet"
           }
          ],
          "scattergeo": [
           {
            "marker": {
             "colorbar": {
              "outlinewidth": 0,
              "ticks": ""
             }
            },
            "type": "scattergeo"
           }
          ],
          "scattergl": [
           {
            "marker": {
             "colorbar": {
              "outlinewidth": 0,
              "ticks": ""
             }
            },
            "type": "scattergl"
           }
          ],
          "scattermapbox": [
           {
            "marker": {
             "colorbar": {
              "outlinewidth": 0,
              "ticks": ""
             }
            },
            "type": "scattermapbox"
           }
          ],
          "scatterpolar": [
           {
            "marker": {
             "colorbar": {
              "outlinewidth": 0,
              "ticks": ""
             }
            },
            "type": "scatterpolar"
           }
          ],
          "scatterpolargl": [
           {
            "marker": {
             "colorbar": {
              "outlinewidth": 0,
              "ticks": ""
             }
            },
            "type": "scatterpolargl"
           }
          ],
          "scatterternary": [
           {
            "marker": {
             "colorbar": {
              "outlinewidth": 0,
              "ticks": ""
             }
            },
            "type": "scatterternary"
           }
          ],
          "surface": [
           {
            "colorbar": {
             "outlinewidth": 0,
             "ticks": ""
            },
            "colorscale": [
             [
              0,
              "#0d0887"
             ],
             [
              0.1111111111111111,
              "#46039f"
             ],
             [
              0.2222222222222222,
              "#7201a8"
             ],
             [
              0.3333333333333333,
              "#9c179e"
             ],
             [
              0.4444444444444444,
              "#bd3786"
             ],
             [
              0.5555555555555556,
              "#d8576b"
             ],
             [
              0.6666666666666666,
              "#ed7953"
             ],
             [
              0.7777777777777778,
              "#fb9f3a"
             ],
             [
              0.8888888888888888,
              "#fdca26"
             ],
             [
              1,
              "#f0f921"
             ]
            ],
            "type": "surface"
           }
          ],
          "table": [
           {
            "cells": {
             "fill": {
              "color": "#EBF0F8"
             },
             "line": {
              "color": "white"
             }
            },
            "header": {
             "fill": {
              "color": "#C8D4E3"
             },
             "line": {
              "color": "white"
             }
            },
            "type": "table"
           }
          ]
         },
         "layout": {
          "annotationdefaults": {
           "arrowcolor": "#2a3f5f",
           "arrowhead": 0,
           "arrowwidth": 1
          },
          "autotypenumbers": "strict",
          "coloraxis": {
           "colorbar": {
            "outlinewidth": 0,
            "ticks": ""
           }
          },
          "colorscale": {
           "diverging": [
            [
             0,
             "#8e0152"
            ],
            [
             0.1,
             "#c51b7d"
            ],
            [
             0.2,
             "#de77ae"
            ],
            [
             0.3,
             "#f1b6da"
            ],
            [
             0.4,
             "#fde0ef"
            ],
            [
             0.5,
             "#f7f7f7"
            ],
            [
             0.6,
             "#e6f5d0"
            ],
            [
             0.7,
             "#b8e186"
            ],
            [
             0.8,
             "#7fbc41"
            ],
            [
             0.9,
             "#4d9221"
            ],
            [
             1,
             "#276419"
            ]
           ],
           "sequential": [
            [
             0,
             "#0d0887"
            ],
            [
             0.1111111111111111,
             "#46039f"
            ],
            [
             0.2222222222222222,
             "#7201a8"
            ],
            [
             0.3333333333333333,
             "#9c179e"
            ],
            [
             0.4444444444444444,
             "#bd3786"
            ],
            [
             0.5555555555555556,
             "#d8576b"
            ],
            [
             0.6666666666666666,
             "#ed7953"
            ],
            [
             0.7777777777777778,
             "#fb9f3a"
            ],
            [
             0.8888888888888888,
             "#fdca26"
            ],
            [
             1,
             "#f0f921"
            ]
           ],
           "sequentialminus": [
            [
             0,
             "#0d0887"
            ],
            [
             0.1111111111111111,
             "#46039f"
            ],
            [
             0.2222222222222222,
             "#7201a8"
            ],
            [
             0.3333333333333333,
             "#9c179e"
            ],
            [
             0.4444444444444444,
             "#bd3786"
            ],
            [
             0.5555555555555556,
             "#d8576b"
            ],
            [
             0.6666666666666666,
             "#ed7953"
            ],
            [
             0.7777777777777778,
             "#fb9f3a"
            ],
            [
             0.8888888888888888,
             "#fdca26"
            ],
            [
             1,
             "#f0f921"
            ]
           ]
          },
          "colorway": [
           "#636efa",
           "#EF553B",
           "#00cc96",
           "#ab63fa",
           "#FFA15A",
           "#19d3f3",
           "#FF6692",
           "#B6E880",
           "#FF97FF",
           "#FECB52"
          ],
          "font": {
           "color": "#2a3f5f"
          },
          "geo": {
           "bgcolor": "white",
           "lakecolor": "white",
           "landcolor": "#E5ECF6",
           "showlakes": true,
           "showland": true,
           "subunitcolor": "white"
          },
          "hoverlabel": {
           "align": "left"
          },
          "hovermode": "closest",
          "mapbox": {
           "style": "light"
          },
          "paper_bgcolor": "white",
          "plot_bgcolor": "#E5ECF6",
          "polar": {
           "angularaxis": {
            "gridcolor": "white",
            "linecolor": "white",
            "ticks": ""
           },
           "bgcolor": "#E5ECF6",
           "radialaxis": {
            "gridcolor": "white",
            "linecolor": "white",
            "ticks": ""
           }
          },
          "scene": {
           "xaxis": {
            "backgroundcolor": "#E5ECF6",
            "gridcolor": "white",
            "gridwidth": 2,
            "linecolor": "white",
            "showbackground": true,
            "ticks": "",
            "zerolinecolor": "white"
           },
           "yaxis": {
            "backgroundcolor": "#E5ECF6",
            "gridcolor": "white",
            "gridwidth": 2,
            "linecolor": "white",
            "showbackground": true,
            "ticks": "",
            "zerolinecolor": "white"
           },
           "zaxis": {
            "backgroundcolor": "#E5ECF6",
            "gridcolor": "white",
            "gridwidth": 2,
            "linecolor": "white",
            "showbackground": true,
            "ticks": "",
            "zerolinecolor": "white"
           }
          },
          "shapedefaults": {
           "line": {
            "color": "#2a3f5f"
           }
          },
          "ternary": {
           "aaxis": {
            "gridcolor": "white",
            "linecolor": "white",
            "ticks": ""
           },
           "baxis": {
            "gridcolor": "white",
            "linecolor": "white",
            "ticks": ""
           },
           "bgcolor": "#E5ECF6",
           "caxis": {
            "gridcolor": "white",
            "linecolor": "white",
            "ticks": ""
           }
          },
          "title": {
           "x": 0.05
          },
          "xaxis": {
           "automargin": true,
           "gridcolor": "white",
           "linecolor": "white",
           "ticks": "",
           "title": {
            "standoff": 15
           },
           "zerolinecolor": "white",
           "zerolinewidth": 2
          },
          "yaxis": {
           "automargin": true,
           "gridcolor": "white",
           "linecolor": "white",
           "ticks": "",
           "title": {
            "standoff": 15
           },
           "zerolinecolor": "white",
           "zerolinewidth": 2
          }
         }
        },
        "xaxis": {
         "anchor": "y",
         "domain": [
          0,
          1
         ],
         "title": {
          "text": "variable"
         }
        },
        "yaxis": {
         "anchor": "x",
         "domain": [
          0,
          1
         ],
         "title": {
          "text": "value"
         }
        }
       }
      },
      "text/html": [
       "<div>                            <div id=\"d16cf834-3435-4d35-8866-3508fb2d417f\" class=\"plotly-graph-div\" style=\"height:525px; width:100%;\"></div>            <script type=\"text/javascript\">                require([\"plotly\"], function(Plotly) {                    window.PLOTLYENV=window.PLOTLYENV || {};                                    if (document.getElementById(\"d16cf834-3435-4d35-8866-3508fb2d417f\")) {                    Plotly.newPlot(                        \"d16cf834-3435-4d35-8866-3508fb2d417f\",                        [{\"alignmentgroup\":\"True\",\"hovertemplate\":\"variable=%{x}<br>value=%{y}<extra></extra>\",\"legendgroup\":\"\",\"marker\":{\"color\":\"#636efa\"},\"name\":\"\",\"notched\":false,\"offsetgroup\":\"\",\"orientation\":\"v\",\"showlegend\":false,\"x\":[\"ratings\",\"ratings\",\"ratings\",\"ratings\",\"ratings\",\"ratings\",\"ratings\",\"ratings\",\"ratings\",\"ratings\",\"ratings\",\"ratings\",\"ratings\",\"ratings\",\"ratings\",\"ratings\",\"ratings\",\"ratings\",\"ratings\",\"ratings\",\"ratings\",\"ratings\",\"ratings\",\"ratings\",\"ratings\",\"ratings\",\"ratings\",\"ratings\",\"ratings\",\"ratings\",\"ratings\",\"ratings\",\"ratings\",\"ratings\",\"ratings\",\"ratings\",\"ratings\",\"ratings\",\"ratings\",\"ratings\",\"ratings\",\"ratings\",\"ratings\",\"ratings\",\"ratings\",\"ratings\",\"ratings\",\"ratings\",\"ratings\",\"ratings\",\"ratings\",\"ratings\",\"ratings\",\"ratings\",\"ratings\",\"ratings\",\"ratings\",\"ratings\",\"ratings\",\"ratings\",\"ratings\",\"ratings\",\"ratings\",\"ratings\",\"ratings\",\"ratings\",\"ratings\",\"ratings\",\"ratings\",\"ratings\",\"ratings\",\"ratings\",\"ratings\",\"ratings\",\"ratings\"],\"x0\":\" \",\"xaxis\":\"x\",\"y\":[4.4,4.2,4.0,4.5,4.4,4.7,4.3,4.4,4.2,4.3,4.3,4.2,4.1,4.4,4.3,4.7,4.5,4.5,4.2,4.1,4.4,4.2,4.3,4.3,4.2,4.4,4.7,4.3,4.6,4.2,4.3,4.1,4.7,4.3,4.1,4.4,4.2,4.4,4.6,4.2,4.4,4.7,4.5,4.5,4.4,4.1,4.5,2.8,4.2,4.4,4.5,4.5,4.5,4.3,4.6,4.5,4.317808219178082,4.5,4.5,4.317808219178082,4.3,3.9,4.1,4.1,4.7,4.3,4.4,4.4,4.1,4.3,4.3,4.3,4.1,3.4,4.5],\"y0\":\" \",\"yaxis\":\"y\",\"type\":\"box\"}],                        {\"template\":{\"data\":{\"histogram2dcontour\":[{\"type\":\"histogram2dcontour\",\"colorbar\":{\"outlinewidth\":0,\"ticks\":\"\"},\"colorscale\":[[0.0,\"#0d0887\"],[0.1111111111111111,\"#46039f\"],[0.2222222222222222,\"#7201a8\"],[0.3333333333333333,\"#9c179e\"],[0.4444444444444444,\"#bd3786\"],[0.5555555555555556,\"#d8576b\"],[0.6666666666666666,\"#ed7953\"],[0.7777777777777778,\"#fb9f3a\"],[0.8888888888888888,\"#fdca26\"],[1.0,\"#f0f921\"]]}],\"choropleth\":[{\"type\":\"choropleth\",\"colorbar\":{\"outlinewidth\":0,\"ticks\":\"\"}}],\"histogram2d\":[{\"type\":\"histogram2d\",\"colorbar\":{\"outlinewidth\":0,\"ticks\":\"\"},\"colorscale\":[[0.0,\"#0d0887\"],[0.1111111111111111,\"#46039f\"],[0.2222222222222222,\"#7201a8\"],[0.3333333333333333,\"#9c179e\"],[0.4444444444444444,\"#bd3786\"],[0.5555555555555556,\"#d8576b\"],[0.6666666666666666,\"#ed7953\"],[0.7777777777777778,\"#fb9f3a\"],[0.8888888888888888,\"#fdca26\"],[1.0,\"#f0f921\"]]}],\"heatmap\":[{\"type\":\"heatmap\",\"colorbar\":{\"outlinewidth\":0,\"ticks\":\"\"},\"colorscale\":[[0.0,\"#0d0887\"],[0.1111111111111111,\"#46039f\"],[0.2222222222222222,\"#7201a8\"],[0.3333333333333333,\"#9c179e\"],[0.4444444444444444,\"#bd3786\"],[0.5555555555555556,\"#d8576b\"],[0.6666666666666666,\"#ed7953\"],[0.7777777777777778,\"#fb9f3a\"],[0.8888888888888888,\"#fdca26\"],[1.0,\"#f0f921\"]]}],\"heatmapgl\":[{\"type\":\"heatmapgl\",\"colorbar\":{\"outlinewidth\":0,\"ticks\":\"\"},\"colorscale\":[[0.0,\"#0d0887\"],[0.1111111111111111,\"#46039f\"],[0.2222222222222222,\"#7201a8\"],[0.3333333333333333,\"#9c179e\"],[0.4444444444444444,\"#bd3786\"],[0.5555555555555556,\"#d8576b\"],[0.6666666666666666,\"#ed7953\"],[0.7777777777777778,\"#fb9f3a\"],[0.8888888888888888,\"#fdca26\"],[1.0,\"#f0f921\"]]}],\"contourcarpet\":[{\"type\":\"contourcarpet\",\"colorbar\":{\"outlinewidth\":0,\"ticks\":\"\"}}],\"contour\":[{\"type\":\"contour\",\"colorbar\":{\"outlinewidth\":0,\"ticks\":\"\"},\"colorscale\":[[0.0,\"#0d0887\"],[0.1111111111111111,\"#46039f\"],[0.2222222222222222,\"#7201a8\"],[0.3333333333333333,\"#9c179e\"],[0.4444444444444444,\"#bd3786\"],[0.5555555555555556,\"#d8576b\"],[0.6666666666666666,\"#ed7953\"],[0.7777777777777778,\"#fb9f3a\"],[0.8888888888888888,\"#fdca26\"],[1.0,\"#f0f921\"]]}],\"surface\":[{\"type\":\"surface\",\"colorbar\":{\"outlinewidth\":0,\"ticks\":\"\"},\"colorscale\":[[0.0,\"#0d0887\"],[0.1111111111111111,\"#46039f\"],[0.2222222222222222,\"#7201a8\"],[0.3333333333333333,\"#9c179e\"],[0.4444444444444444,\"#bd3786\"],[0.5555555555555556,\"#d8576b\"],[0.6666666666666666,\"#ed7953\"],[0.7777777777777778,\"#fb9f3a\"],[0.8888888888888888,\"#fdca26\"],[1.0,\"#f0f921\"]]}],\"mesh3d\":[{\"type\":\"mesh3d\",\"colorbar\":{\"outlinewidth\":0,\"ticks\":\"\"}}],\"scatter\":[{\"fillpattern\":{\"fillmode\":\"overlay\",\"size\":10,\"solidity\":0.2},\"type\":\"scatter\"}],\"parcoords\":[{\"type\":\"parcoords\",\"line\":{\"colorbar\":{\"outlinewidth\":0,\"ticks\":\"\"}}}],\"scatterpolargl\":[{\"type\":\"scatterpolargl\",\"marker\":{\"colorbar\":{\"outlinewidth\":0,\"ticks\":\"\"}}}],\"bar\":[{\"error_x\":{\"color\":\"#2a3f5f\"},\"error_y\":{\"color\":\"#2a3f5f\"},\"marker\":{\"line\":{\"color\":\"#E5ECF6\",\"width\":0.5},\"pattern\":{\"fillmode\":\"overlay\",\"size\":10,\"solidity\":0.2}},\"type\":\"bar\"}],\"scattergeo\":[{\"type\":\"scattergeo\",\"marker\":{\"colorbar\":{\"outlinewidth\":0,\"ticks\":\"\"}}}],\"scatterpolar\":[{\"type\":\"scatterpolar\",\"marker\":{\"colorbar\":{\"outlinewidth\":0,\"ticks\":\"\"}}}],\"histogram\":[{\"marker\":{\"pattern\":{\"fillmode\":\"overlay\",\"size\":10,\"solidity\":0.2}},\"type\":\"histogram\"}],\"scattergl\":[{\"type\":\"scattergl\",\"marker\":{\"colorbar\":{\"outlinewidth\":0,\"ticks\":\"\"}}}],\"scatter3d\":[{\"type\":\"scatter3d\",\"line\":{\"colorbar\":{\"outlinewidth\":0,\"ticks\":\"\"}},\"marker\":{\"colorbar\":{\"outlinewidth\":0,\"ticks\":\"\"}}}],\"scattermapbox\":[{\"type\":\"scattermapbox\",\"marker\":{\"colorbar\":{\"outlinewidth\":0,\"ticks\":\"\"}}}],\"scatterternary\":[{\"type\":\"scatterternary\",\"marker\":{\"colorbar\":{\"outlinewidth\":0,\"ticks\":\"\"}}}],\"scattercarpet\":[{\"type\":\"scattercarpet\",\"marker\":{\"colorbar\":{\"outlinewidth\":0,\"ticks\":\"\"}}}],\"carpet\":[{\"aaxis\":{\"endlinecolor\":\"#2a3f5f\",\"gridcolor\":\"white\",\"linecolor\":\"white\",\"minorgridcolor\":\"white\",\"startlinecolor\":\"#2a3f5f\"},\"baxis\":{\"endlinecolor\":\"#2a3f5f\",\"gridcolor\":\"white\",\"linecolor\":\"white\",\"minorgridcolor\":\"white\",\"startlinecolor\":\"#2a3f5f\"},\"type\":\"carpet\"}],\"table\":[{\"cells\":{\"fill\":{\"color\":\"#EBF0F8\"},\"line\":{\"color\":\"white\"}},\"header\":{\"fill\":{\"color\":\"#C8D4E3\"},\"line\":{\"color\":\"white\"}},\"type\":\"table\"}],\"barpolar\":[{\"marker\":{\"line\":{\"color\":\"#E5ECF6\",\"width\":0.5},\"pattern\":{\"fillmode\":\"overlay\",\"size\":10,\"solidity\":0.2}},\"type\":\"barpolar\"}],\"pie\":[{\"automargin\":true,\"type\":\"pie\"}]},\"layout\":{\"autotypenumbers\":\"strict\",\"colorway\":[\"#636efa\",\"#EF553B\",\"#00cc96\",\"#ab63fa\",\"#FFA15A\",\"#19d3f3\",\"#FF6692\",\"#B6E880\",\"#FF97FF\",\"#FECB52\"],\"font\":{\"color\":\"#2a3f5f\"},\"hovermode\":\"closest\",\"hoverlabel\":{\"align\":\"left\"},\"paper_bgcolor\":\"white\",\"plot_bgcolor\":\"#E5ECF6\",\"polar\":{\"bgcolor\":\"#E5ECF6\",\"angularaxis\":{\"gridcolor\":\"white\",\"linecolor\":\"white\",\"ticks\":\"\"},\"radialaxis\":{\"gridcolor\":\"white\",\"linecolor\":\"white\",\"ticks\":\"\"}},\"ternary\":{\"bgcolor\":\"#E5ECF6\",\"aaxis\":{\"gridcolor\":\"white\",\"linecolor\":\"white\",\"ticks\":\"\"},\"baxis\":{\"gridcolor\":\"white\",\"linecolor\":\"white\",\"ticks\":\"\"},\"caxis\":{\"gridcolor\":\"white\",\"linecolor\":\"white\",\"ticks\":\"\"}},\"coloraxis\":{\"colorbar\":{\"outlinewidth\":0,\"ticks\":\"\"}},\"colorscale\":{\"sequential\":[[0.0,\"#0d0887\"],[0.1111111111111111,\"#46039f\"],[0.2222222222222222,\"#7201a8\"],[0.3333333333333333,\"#9c179e\"],[0.4444444444444444,\"#bd3786\"],[0.5555555555555556,\"#d8576b\"],[0.6666666666666666,\"#ed7953\"],[0.7777777777777778,\"#fb9f3a\"],[0.8888888888888888,\"#fdca26\"],[1.0,\"#f0f921\"]],\"sequentialminus\":[[0.0,\"#0d0887\"],[0.1111111111111111,\"#46039f\"],[0.2222222222222222,\"#7201a8\"],[0.3333333333333333,\"#9c179e\"],[0.4444444444444444,\"#bd3786\"],[0.5555555555555556,\"#d8576b\"],[0.6666666666666666,\"#ed7953\"],[0.7777777777777778,\"#fb9f3a\"],[0.8888888888888888,\"#fdca26\"],[1.0,\"#f0f921\"]],\"diverging\":[[0,\"#8e0152\"],[0.1,\"#c51b7d\"],[0.2,\"#de77ae\"],[0.3,\"#f1b6da\"],[0.4,\"#fde0ef\"],[0.5,\"#f7f7f7\"],[0.6,\"#e6f5d0\"],[0.7,\"#b8e186\"],[0.8,\"#7fbc41\"],[0.9,\"#4d9221\"],[1,\"#276419\"]]},\"xaxis\":{\"gridcolor\":\"white\",\"linecolor\":\"white\",\"ticks\":\"\",\"title\":{\"standoff\":15},\"zerolinecolor\":\"white\",\"automargin\":true,\"zerolinewidth\":2},\"yaxis\":{\"gridcolor\":\"white\",\"linecolor\":\"white\",\"ticks\":\"\",\"title\":{\"standoff\":15},\"zerolinecolor\":\"white\",\"automargin\":true,\"zerolinewidth\":2},\"scene\":{\"xaxis\":{\"backgroundcolor\":\"#E5ECF6\",\"gridcolor\":\"white\",\"linecolor\":\"white\",\"showbackground\":true,\"ticks\":\"\",\"zerolinecolor\":\"white\",\"gridwidth\":2},\"yaxis\":{\"backgroundcolor\":\"#E5ECF6\",\"gridcolor\":\"white\",\"linecolor\":\"white\",\"showbackground\":true,\"ticks\":\"\",\"zerolinecolor\":\"white\",\"gridwidth\":2},\"zaxis\":{\"backgroundcolor\":\"#E5ECF6\",\"gridcolor\":\"white\",\"linecolor\":\"white\",\"showbackground\":true,\"ticks\":\"\",\"zerolinecolor\":\"white\",\"gridwidth\":2}},\"shapedefaults\":{\"line\":{\"color\":\"#2a3f5f\"}},\"annotationdefaults\":{\"arrowcolor\":\"#2a3f5f\",\"arrowhead\":0,\"arrowwidth\":1},\"geo\":{\"bgcolor\":\"white\",\"landcolor\":\"#E5ECF6\",\"subunitcolor\":\"white\",\"showland\":true,\"showlakes\":true,\"lakecolor\":\"white\"},\"title\":{\"x\":0.05},\"mapbox\":{\"style\":\"light\"}}},\"xaxis\":{\"anchor\":\"y\",\"domain\":[0.0,1.0],\"title\":{\"text\":\"variable\"}},\"yaxis\":{\"anchor\":\"x\",\"domain\":[0.0,1.0],\"title\":{\"text\":\"value\"}},\"legend\":{\"tracegroupgap\":0},\"margin\":{\"t\":60},\"boxmode\":\"group\"},                        {\"responsive\": true}                    ).then(function(){\n",
       "                            \n",
       "var gd = document.getElementById('d16cf834-3435-4d35-8866-3508fb2d417f');\n",
       "var x = new MutationObserver(function (mutations, observer) {{\n",
       "        var display = window.getComputedStyle(gd).display;\n",
       "        if (!display || display === 'none') {{\n",
       "            console.log([gd, 'removed!']);\n",
       "            Plotly.purge(gd);\n",
       "            observer.disconnect();\n",
       "        }}\n",
       "}});\n",
       "\n",
       "// Listen for the removal of the full notebook cells\n",
       "var notebookContainer = gd.closest('#notebook-container');\n",
       "if (notebookContainer) {{\n",
       "    x.observe(notebookContainer, {childList: true});\n",
       "}}\n",
       "\n",
       "// Listen for the clearing of the current output cell\n",
       "var outputEl = gd.closest('.output');\n",
       "if (outputEl) {{\n",
       "    x.observe(outputEl, {childList: true});\n",
       "}}\n",
       "\n",
       "                        })                };                });            </script>        </div>"
      ]
     },
     "metadata": {},
     "output_type": "display_data"
    }
   ],
   "source": [
    "plot = px.box(df['ratings'])\n",
    "plot.show()"
   ]
  },
  {
   "cell_type": "markdown",
   "id": "5b3546e1",
   "metadata": {},
   "source": [
    "**Observation** : 2 outliers present"
   ]
  },
  {
   "cell_type": "markdown",
   "id": "65271e08",
   "metadata": {},
   "source": [
    "### REMOVING OUTLIERS"
   ]
  },
  {
   "cell_type": "markdown",
   "id": "cc2646ed",
   "metadata": {},
   "source": [
    "#### Removed outliers by using percentile and interquartile range in a user defined function."
   ]
  },
  {
   "cell_type": "code",
   "execution_count": 138,
   "id": "617da2c8",
   "metadata": {},
   "outputs": [],
   "source": [
    "for x in ['discount']:\n",
    "    q75,q25 = np.percentile(df.loc[:,x],[75,25])\n",
    "    intr_qr = q75-q25\n",
    " \n",
    "    max = q75+(1.5*intr_qr)\n",
    "    min = q25-(1.5*intr_qr)\n",
    " \n",
    "    df.loc[df[x] < min,x] = np.nan\n",
    "    df.loc[df[x] > max,x] = np.nan"
   ]
  },
  {
   "cell_type": "code",
   "execution_count": 139,
   "id": "c805d368",
   "metadata": {},
   "outputs": [],
   "source": [
    "for x in ['price']:\n",
    "    q75,q25 = np.percentile(df.loc[:,x],[75,25])\n",
    "    intr_qr = q75-q25\n",
    " \n",
    "    max = q75+(1.5*intr_qr)\n",
    "    min = q25-(1.5*intr_qr)\n",
    " \n",
    "    df.loc[df[x] < min,x] = np.nan\n",
    "    df.loc[df[x] > max,x] = np.nan"
   ]
  },
  {
   "cell_type": "code",
   "execution_count": 140,
   "id": "0dda5e52",
   "metadata": {},
   "outputs": [],
   "source": [
    "for x in ['ratings']:\n",
    "    q75,q25 = np.percentile(df.loc[:,x],[75,25])\n",
    "    intr_qr = q75-q25\n",
    " \n",
    "    max = q75+(1.5*intr_qr)\n",
    "    min = q25-(1.5*intr_qr)\n",
    " \n",
    "    df.loc[df[x] < min,x] = np.nan\n",
    "    df.loc[df[x] > max,x] = np.nan"
   ]
  },
  {
   "cell_type": "code",
   "execution_count": 141,
   "id": "b0b7ad14",
   "metadata": {},
   "outputs": [],
   "source": [
    "for x in ['ratingsNo']:\n",
    "    q75,q25 = np.percentile(df.loc[:,x],[75,25])\n",
    "    intr_qr = q75-q25\n",
    " \n",
    "    max = q75+(1.5*intr_qr)\n",
    "    min = q25-(1.5*intr_qr)\n",
    " \n",
    "    df.loc[df[x] < min,x] = np.nan\n",
    "    df.loc[df[x] > max,x] = np.nan"
   ]
  },
  {
   "cell_type": "code",
   "execution_count": 142,
   "id": "923f6d56",
   "metadata": {},
   "outputs": [
    {
     "data": {
      "text/plain": [
       "title           0\n",
       "price           3\n",
       "ratings         2\n",
       "availability    0\n",
       "brand           0\n",
       "discount        4\n",
       "tech            0\n",
       "dim             2\n",
       "res             0\n",
       "refresh         0\n",
       "size            0\n",
       "ratingsNo       9\n",
       "dtype: int64"
      ]
     },
     "execution_count": 142,
     "metadata": {},
     "output_type": "execute_result"
    }
   ],
   "source": [
    "# Assigned nan values to outliers\n",
    "\n",
    "df.isnull().sum()"
   ]
  },
  {
   "cell_type": "code",
   "execution_count": 143,
   "id": "eafc184a",
   "metadata": {},
   "outputs": [],
   "source": [
    "# Removng outliers\n",
    "\n",
    "df = df[df['price'].notna()]\n",
    "df = df[df['ratings'].notna()]\n",
    "df = df[df['ratings'].notna()]\n",
    "df = df[df['discount'].notna()]\n",
    "df = df[df['ratingsNo'].notna()]"
   ]
  },
  {
   "cell_type": "markdown",
   "id": "bdfddfa0",
   "metadata": {},
   "source": [
    "##### AFTER"
   ]
  },
  {
   "cell_type": "code",
   "execution_count": 144,
   "id": "11562470",
   "metadata": {},
   "outputs": [
    {
     "data": {
      "application/vnd.plotly.v1+json": {
       "config": {
        "plotlyServerURL": "https://plot.ly"
       },
       "data": [
        {
         "alignmentgroup": "True",
         "hovertemplate": "variable=%{x}<br>value=%{y}<extra></extra>",
         "legendgroup": "",
         "marker": {
          "color": "#636efa"
         },
         "name": "",
         "notched": false,
         "offsetgroup": "",
         "orientation": "v",
         "showlegend": false,
         "type": "box",
         "x": [
          "discount",
          "discount",
          "discount",
          "discount",
          "discount",
          "discount",
          "discount",
          "discount",
          "discount",
          "discount",
          "discount",
          "discount",
          "discount",
          "discount",
          "discount",
          "discount",
          "discount",
          "discount",
          "discount",
          "discount",
          "discount",
          "discount",
          "discount",
          "discount",
          "discount",
          "discount",
          "discount",
          "discount",
          "discount",
          "discount",
          "discount",
          "discount",
          "discount",
          "discount",
          "discount",
          "discount",
          "discount",
          "discount",
          "discount",
          "discount",
          "discount",
          "discount",
          "discount",
          "discount",
          "discount",
          "discount",
          "discount",
          "discount",
          "discount",
          "discount",
          "discount",
          "discount",
          "discount",
          "discount",
          "discount",
          "discount",
          "discount",
          "discount",
          "discount"
         ],
         "x0": " ",
         "xaxis": "x",
         "y": [
          45,
          20,
          44,
          32,
          39,
          36,
          39,
          40,
          35,
          56,
          32,
          34,
          38,
          25,
          28,
          56,
          60,
          43,
          34,
          43,
          42,
          42,
          39,
          40,
          29,
          28,
          50,
          36,
          57,
          31,
          40,
          40.04615384615385,
          28,
          28,
          61,
          40,
          43,
          27,
          28,
          37,
          40.04615384615385,
          48,
          40,
          31,
          40.04615384615385,
          40.04615384615385,
          40.04615384615385,
          40.04615384615385,
          22,
          40.04615384615385,
          56,
          49,
          44,
          27,
          40.04615384615385,
          43,
          39,
          40,
          40.04615384615385
         ],
         "y0": " ",
         "yaxis": "y"
        }
       ],
       "layout": {
        "boxmode": "group",
        "legend": {
         "tracegroupgap": 0
        },
        "margin": {
         "t": 60
        },
        "template": {
         "data": {
          "bar": [
           {
            "error_x": {
             "color": "#2a3f5f"
            },
            "error_y": {
             "color": "#2a3f5f"
            },
            "marker": {
             "line": {
              "color": "#E5ECF6",
              "width": 0.5
             },
             "pattern": {
              "fillmode": "overlay",
              "size": 10,
              "solidity": 0.2
             }
            },
            "type": "bar"
           }
          ],
          "barpolar": [
           {
            "marker": {
             "line": {
              "color": "#E5ECF6",
              "width": 0.5
             },
             "pattern": {
              "fillmode": "overlay",
              "size": 10,
              "solidity": 0.2
             }
            },
            "type": "barpolar"
           }
          ],
          "carpet": [
           {
            "aaxis": {
             "endlinecolor": "#2a3f5f",
             "gridcolor": "white",
             "linecolor": "white",
             "minorgridcolor": "white",
             "startlinecolor": "#2a3f5f"
            },
            "baxis": {
             "endlinecolor": "#2a3f5f",
             "gridcolor": "white",
             "linecolor": "white",
             "minorgridcolor": "white",
             "startlinecolor": "#2a3f5f"
            },
            "type": "carpet"
           }
          ],
          "choropleth": [
           {
            "colorbar": {
             "outlinewidth": 0,
             "ticks": ""
            },
            "type": "choropleth"
           }
          ],
          "contour": [
           {
            "colorbar": {
             "outlinewidth": 0,
             "ticks": ""
            },
            "colorscale": [
             [
              0,
              "#0d0887"
             ],
             [
              0.1111111111111111,
              "#46039f"
             ],
             [
              0.2222222222222222,
              "#7201a8"
             ],
             [
              0.3333333333333333,
              "#9c179e"
             ],
             [
              0.4444444444444444,
              "#bd3786"
             ],
             [
              0.5555555555555556,
              "#d8576b"
             ],
             [
              0.6666666666666666,
              "#ed7953"
             ],
             [
              0.7777777777777778,
              "#fb9f3a"
             ],
             [
              0.8888888888888888,
              "#fdca26"
             ],
             [
              1,
              "#f0f921"
             ]
            ],
            "type": "contour"
           }
          ],
          "contourcarpet": [
           {
            "colorbar": {
             "outlinewidth": 0,
             "ticks": ""
            },
            "type": "contourcarpet"
           }
          ],
          "heatmap": [
           {
            "colorbar": {
             "outlinewidth": 0,
             "ticks": ""
            },
            "colorscale": [
             [
              0,
              "#0d0887"
             ],
             [
              0.1111111111111111,
              "#46039f"
             ],
             [
              0.2222222222222222,
              "#7201a8"
             ],
             [
              0.3333333333333333,
              "#9c179e"
             ],
             [
              0.4444444444444444,
              "#bd3786"
             ],
             [
              0.5555555555555556,
              "#d8576b"
             ],
             [
              0.6666666666666666,
              "#ed7953"
             ],
             [
              0.7777777777777778,
              "#fb9f3a"
             ],
             [
              0.8888888888888888,
              "#fdca26"
             ],
             [
              1,
              "#f0f921"
             ]
            ],
            "type": "heatmap"
           }
          ],
          "heatmapgl": [
           {
            "colorbar": {
             "outlinewidth": 0,
             "ticks": ""
            },
            "colorscale": [
             [
              0,
              "#0d0887"
             ],
             [
              0.1111111111111111,
              "#46039f"
             ],
             [
              0.2222222222222222,
              "#7201a8"
             ],
             [
              0.3333333333333333,
              "#9c179e"
             ],
             [
              0.4444444444444444,
              "#bd3786"
             ],
             [
              0.5555555555555556,
              "#d8576b"
             ],
             [
              0.6666666666666666,
              "#ed7953"
             ],
             [
              0.7777777777777778,
              "#fb9f3a"
             ],
             [
              0.8888888888888888,
              "#fdca26"
             ],
             [
              1,
              "#f0f921"
             ]
            ],
            "type": "heatmapgl"
           }
          ],
          "histogram": [
           {
            "marker": {
             "pattern": {
              "fillmode": "overlay",
              "size": 10,
              "solidity": 0.2
             }
            },
            "type": "histogram"
           }
          ],
          "histogram2d": [
           {
            "colorbar": {
             "outlinewidth": 0,
             "ticks": ""
            },
            "colorscale": [
             [
              0,
              "#0d0887"
             ],
             [
              0.1111111111111111,
              "#46039f"
             ],
             [
              0.2222222222222222,
              "#7201a8"
             ],
             [
              0.3333333333333333,
              "#9c179e"
             ],
             [
              0.4444444444444444,
              "#bd3786"
             ],
             [
              0.5555555555555556,
              "#d8576b"
             ],
             [
              0.6666666666666666,
              "#ed7953"
             ],
             [
              0.7777777777777778,
              "#fb9f3a"
             ],
             [
              0.8888888888888888,
              "#fdca26"
             ],
             [
              1,
              "#f0f921"
             ]
            ],
            "type": "histogram2d"
           }
          ],
          "histogram2dcontour": [
           {
            "colorbar": {
             "outlinewidth": 0,
             "ticks": ""
            },
            "colorscale": [
             [
              0,
              "#0d0887"
             ],
             [
              0.1111111111111111,
              "#46039f"
             ],
             [
              0.2222222222222222,
              "#7201a8"
             ],
             [
              0.3333333333333333,
              "#9c179e"
             ],
             [
              0.4444444444444444,
              "#bd3786"
             ],
             [
              0.5555555555555556,
              "#d8576b"
             ],
             [
              0.6666666666666666,
              "#ed7953"
             ],
             [
              0.7777777777777778,
              "#fb9f3a"
             ],
             [
              0.8888888888888888,
              "#fdca26"
             ],
             [
              1,
              "#f0f921"
             ]
            ],
            "type": "histogram2dcontour"
           }
          ],
          "mesh3d": [
           {
            "colorbar": {
             "outlinewidth": 0,
             "ticks": ""
            },
            "type": "mesh3d"
           }
          ],
          "parcoords": [
           {
            "line": {
             "colorbar": {
              "outlinewidth": 0,
              "ticks": ""
             }
            },
            "type": "parcoords"
           }
          ],
          "pie": [
           {
            "automargin": true,
            "type": "pie"
           }
          ],
          "scatter": [
           {
            "fillpattern": {
             "fillmode": "overlay",
             "size": 10,
             "solidity": 0.2
            },
            "type": "scatter"
           }
          ],
          "scatter3d": [
           {
            "line": {
             "colorbar": {
              "outlinewidth": 0,
              "ticks": ""
             }
            },
            "marker": {
             "colorbar": {
              "outlinewidth": 0,
              "ticks": ""
             }
            },
            "type": "scatter3d"
           }
          ],
          "scattercarpet": [
           {
            "marker": {
             "colorbar": {
              "outlinewidth": 0,
              "ticks": ""
             }
            },
            "type": "scattercarpet"
           }
          ],
          "scattergeo": [
           {
            "marker": {
             "colorbar": {
              "outlinewidth": 0,
              "ticks": ""
             }
            },
            "type": "scattergeo"
           }
          ],
          "scattergl": [
           {
            "marker": {
             "colorbar": {
              "outlinewidth": 0,
              "ticks": ""
             }
            },
            "type": "scattergl"
           }
          ],
          "scattermapbox": [
           {
            "marker": {
             "colorbar": {
              "outlinewidth": 0,
              "ticks": ""
             }
            },
            "type": "scattermapbox"
           }
          ],
          "scatterpolar": [
           {
            "marker": {
             "colorbar": {
              "outlinewidth": 0,
              "ticks": ""
             }
            },
            "type": "scatterpolar"
           }
          ],
          "scatterpolargl": [
           {
            "marker": {
             "colorbar": {
              "outlinewidth": 0,
              "ticks": ""
             }
            },
            "type": "scatterpolargl"
           }
          ],
          "scatterternary": [
           {
            "marker": {
             "colorbar": {
              "outlinewidth": 0,
              "ticks": ""
             }
            },
            "type": "scatterternary"
           }
          ],
          "surface": [
           {
            "colorbar": {
             "outlinewidth": 0,
             "ticks": ""
            },
            "colorscale": [
             [
              0,
              "#0d0887"
             ],
             [
              0.1111111111111111,
              "#46039f"
             ],
             [
              0.2222222222222222,
              "#7201a8"
             ],
             [
              0.3333333333333333,
              "#9c179e"
             ],
             [
              0.4444444444444444,
              "#bd3786"
             ],
             [
              0.5555555555555556,
              "#d8576b"
             ],
             [
              0.6666666666666666,
              "#ed7953"
             ],
             [
              0.7777777777777778,
              "#fb9f3a"
             ],
             [
              0.8888888888888888,
              "#fdca26"
             ],
             [
              1,
              "#f0f921"
             ]
            ],
            "type": "surface"
           }
          ],
          "table": [
           {
            "cells": {
             "fill": {
              "color": "#EBF0F8"
             },
             "line": {
              "color": "white"
             }
            },
            "header": {
             "fill": {
              "color": "#C8D4E3"
             },
             "line": {
              "color": "white"
             }
            },
            "type": "table"
           }
          ]
         },
         "layout": {
          "annotationdefaults": {
           "arrowcolor": "#2a3f5f",
           "arrowhead": 0,
           "arrowwidth": 1
          },
          "autotypenumbers": "strict",
          "coloraxis": {
           "colorbar": {
            "outlinewidth": 0,
            "ticks": ""
           }
          },
          "colorscale": {
           "diverging": [
            [
             0,
             "#8e0152"
            ],
            [
             0.1,
             "#c51b7d"
            ],
            [
             0.2,
             "#de77ae"
            ],
            [
             0.3,
             "#f1b6da"
            ],
            [
             0.4,
             "#fde0ef"
            ],
            [
             0.5,
             "#f7f7f7"
            ],
            [
             0.6,
             "#e6f5d0"
            ],
            [
             0.7,
             "#b8e186"
            ],
            [
             0.8,
             "#7fbc41"
            ],
            [
             0.9,
             "#4d9221"
            ],
            [
             1,
             "#276419"
            ]
           ],
           "sequential": [
            [
             0,
             "#0d0887"
            ],
            [
             0.1111111111111111,
             "#46039f"
            ],
            [
             0.2222222222222222,
             "#7201a8"
            ],
            [
             0.3333333333333333,
             "#9c179e"
            ],
            [
             0.4444444444444444,
             "#bd3786"
            ],
            [
             0.5555555555555556,
             "#d8576b"
            ],
            [
             0.6666666666666666,
             "#ed7953"
            ],
            [
             0.7777777777777778,
             "#fb9f3a"
            ],
            [
             0.8888888888888888,
             "#fdca26"
            ],
            [
             1,
             "#f0f921"
            ]
           ],
           "sequentialminus": [
            [
             0,
             "#0d0887"
            ],
            [
             0.1111111111111111,
             "#46039f"
            ],
            [
             0.2222222222222222,
             "#7201a8"
            ],
            [
             0.3333333333333333,
             "#9c179e"
            ],
            [
             0.4444444444444444,
             "#bd3786"
            ],
            [
             0.5555555555555556,
             "#d8576b"
            ],
            [
             0.6666666666666666,
             "#ed7953"
            ],
            [
             0.7777777777777778,
             "#fb9f3a"
            ],
            [
             0.8888888888888888,
             "#fdca26"
            ],
            [
             1,
             "#f0f921"
            ]
           ]
          },
          "colorway": [
           "#636efa",
           "#EF553B",
           "#00cc96",
           "#ab63fa",
           "#FFA15A",
           "#19d3f3",
           "#FF6692",
           "#B6E880",
           "#FF97FF",
           "#FECB52"
          ],
          "font": {
           "color": "#2a3f5f"
          },
          "geo": {
           "bgcolor": "white",
           "lakecolor": "white",
           "landcolor": "#E5ECF6",
           "showlakes": true,
           "showland": true,
           "subunitcolor": "white"
          },
          "hoverlabel": {
           "align": "left"
          },
          "hovermode": "closest",
          "mapbox": {
           "style": "light"
          },
          "paper_bgcolor": "white",
          "plot_bgcolor": "#E5ECF6",
          "polar": {
           "angularaxis": {
            "gridcolor": "white",
            "linecolor": "white",
            "ticks": ""
           },
           "bgcolor": "#E5ECF6",
           "radialaxis": {
            "gridcolor": "white",
            "linecolor": "white",
            "ticks": ""
           }
          },
          "scene": {
           "xaxis": {
            "backgroundcolor": "#E5ECF6",
            "gridcolor": "white",
            "gridwidth": 2,
            "linecolor": "white",
            "showbackground": true,
            "ticks": "",
            "zerolinecolor": "white"
           },
           "yaxis": {
            "backgroundcolor": "#E5ECF6",
            "gridcolor": "white",
            "gridwidth": 2,
            "linecolor": "white",
            "showbackground": true,
            "ticks": "",
            "zerolinecolor": "white"
           },
           "zaxis": {
            "backgroundcolor": "#E5ECF6",
            "gridcolor": "white",
            "gridwidth": 2,
            "linecolor": "white",
            "showbackground": true,
            "ticks": "",
            "zerolinecolor": "white"
           }
          },
          "shapedefaults": {
           "line": {
            "color": "#2a3f5f"
           }
          },
          "ternary": {
           "aaxis": {
            "gridcolor": "white",
            "linecolor": "white",
            "ticks": ""
           },
           "baxis": {
            "gridcolor": "white",
            "linecolor": "white",
            "ticks": ""
           },
           "bgcolor": "#E5ECF6",
           "caxis": {
            "gridcolor": "white",
            "linecolor": "white",
            "ticks": ""
           }
          },
          "title": {
           "x": 0.05
          },
          "xaxis": {
           "automargin": true,
           "gridcolor": "white",
           "linecolor": "white",
           "ticks": "",
           "title": {
            "standoff": 15
           },
           "zerolinecolor": "white",
           "zerolinewidth": 2
          },
          "yaxis": {
           "automargin": true,
           "gridcolor": "white",
           "linecolor": "white",
           "ticks": "",
           "title": {
            "standoff": 15
           },
           "zerolinecolor": "white",
           "zerolinewidth": 2
          }
         }
        },
        "xaxis": {
         "anchor": "y",
         "domain": [
          0,
          1
         ],
         "title": {
          "text": "variable"
         }
        },
        "yaxis": {
         "anchor": "x",
         "domain": [
          0,
          1
         ],
         "title": {
          "text": "value"
         }
        }
       }
      },
      "text/html": [
       "<div>                            <div id=\"f20395e8-9f17-4a72-b1c5-1c70a6a88bb0\" class=\"plotly-graph-div\" style=\"height:525px; width:100%;\"></div>            <script type=\"text/javascript\">                require([\"plotly\"], function(Plotly) {                    window.PLOTLYENV=window.PLOTLYENV || {};                                    if (document.getElementById(\"f20395e8-9f17-4a72-b1c5-1c70a6a88bb0\")) {                    Plotly.newPlot(                        \"f20395e8-9f17-4a72-b1c5-1c70a6a88bb0\",                        [{\"alignmentgroup\":\"True\",\"hovertemplate\":\"variable=%{x}<br>value=%{y}<extra></extra>\",\"legendgroup\":\"\",\"marker\":{\"color\":\"#636efa\"},\"name\":\"\",\"notched\":false,\"offsetgroup\":\"\",\"orientation\":\"v\",\"showlegend\":false,\"x\":[\"discount\",\"discount\",\"discount\",\"discount\",\"discount\",\"discount\",\"discount\",\"discount\",\"discount\",\"discount\",\"discount\",\"discount\",\"discount\",\"discount\",\"discount\",\"discount\",\"discount\",\"discount\",\"discount\",\"discount\",\"discount\",\"discount\",\"discount\",\"discount\",\"discount\",\"discount\",\"discount\",\"discount\",\"discount\",\"discount\",\"discount\",\"discount\",\"discount\",\"discount\",\"discount\",\"discount\",\"discount\",\"discount\",\"discount\",\"discount\",\"discount\",\"discount\",\"discount\",\"discount\",\"discount\",\"discount\",\"discount\",\"discount\",\"discount\",\"discount\",\"discount\",\"discount\",\"discount\",\"discount\",\"discount\",\"discount\",\"discount\",\"discount\",\"discount\"],\"x0\":\" \",\"xaxis\":\"x\",\"y\":[45.0,20.0,44.0,32.0,39.0,36.0,39.0,40.0,35.0,56.0,32.0,34.0,38.0,25.0,28.0,56.0,60.0,43.0,34.0,43.0,42.0,42.0,39.0,40.0,29.0,28.0,50.0,36.0,57.0,31.0,40.0,40.04615384615385,28.0,28.0,61.0,40.0,43.0,27.0,28.0,37.0,40.04615384615385,48.0,40.0,31.0,40.04615384615385,40.04615384615385,40.04615384615385,40.04615384615385,22.0,40.04615384615385,56.0,49.0,44.0,27.0,40.04615384615385,43.0,39.0,40.0,40.04615384615385],\"y0\":\" \",\"yaxis\":\"y\",\"type\":\"box\"}],                        {\"template\":{\"data\":{\"histogram2dcontour\":[{\"type\":\"histogram2dcontour\",\"colorbar\":{\"outlinewidth\":0,\"ticks\":\"\"},\"colorscale\":[[0.0,\"#0d0887\"],[0.1111111111111111,\"#46039f\"],[0.2222222222222222,\"#7201a8\"],[0.3333333333333333,\"#9c179e\"],[0.4444444444444444,\"#bd3786\"],[0.5555555555555556,\"#d8576b\"],[0.6666666666666666,\"#ed7953\"],[0.7777777777777778,\"#fb9f3a\"],[0.8888888888888888,\"#fdca26\"],[1.0,\"#f0f921\"]]}],\"choropleth\":[{\"type\":\"choropleth\",\"colorbar\":{\"outlinewidth\":0,\"ticks\":\"\"}}],\"histogram2d\":[{\"type\":\"histogram2d\",\"colorbar\":{\"outlinewidth\":0,\"ticks\":\"\"},\"colorscale\":[[0.0,\"#0d0887\"],[0.1111111111111111,\"#46039f\"],[0.2222222222222222,\"#7201a8\"],[0.3333333333333333,\"#9c179e\"],[0.4444444444444444,\"#bd3786\"],[0.5555555555555556,\"#d8576b\"],[0.6666666666666666,\"#ed7953\"],[0.7777777777777778,\"#fb9f3a\"],[0.8888888888888888,\"#fdca26\"],[1.0,\"#f0f921\"]]}],\"heatmap\":[{\"type\":\"heatmap\",\"colorbar\":{\"outlinewidth\":0,\"ticks\":\"\"},\"colorscale\":[[0.0,\"#0d0887\"],[0.1111111111111111,\"#46039f\"],[0.2222222222222222,\"#7201a8\"],[0.3333333333333333,\"#9c179e\"],[0.4444444444444444,\"#bd3786\"],[0.5555555555555556,\"#d8576b\"],[0.6666666666666666,\"#ed7953\"],[0.7777777777777778,\"#fb9f3a\"],[0.8888888888888888,\"#fdca26\"],[1.0,\"#f0f921\"]]}],\"heatmapgl\":[{\"type\":\"heatmapgl\",\"colorbar\":{\"outlinewidth\":0,\"ticks\":\"\"},\"colorscale\":[[0.0,\"#0d0887\"],[0.1111111111111111,\"#46039f\"],[0.2222222222222222,\"#7201a8\"],[0.3333333333333333,\"#9c179e\"],[0.4444444444444444,\"#bd3786\"],[0.5555555555555556,\"#d8576b\"],[0.6666666666666666,\"#ed7953\"],[0.7777777777777778,\"#fb9f3a\"],[0.8888888888888888,\"#fdca26\"],[1.0,\"#f0f921\"]]}],\"contourcarpet\":[{\"type\":\"contourcarpet\",\"colorbar\":{\"outlinewidth\":0,\"ticks\":\"\"}}],\"contour\":[{\"type\":\"contour\",\"colorbar\":{\"outlinewidth\":0,\"ticks\":\"\"},\"colorscale\":[[0.0,\"#0d0887\"],[0.1111111111111111,\"#46039f\"],[0.2222222222222222,\"#7201a8\"],[0.3333333333333333,\"#9c179e\"],[0.4444444444444444,\"#bd3786\"],[0.5555555555555556,\"#d8576b\"],[0.6666666666666666,\"#ed7953\"],[0.7777777777777778,\"#fb9f3a\"],[0.8888888888888888,\"#fdca26\"],[1.0,\"#f0f921\"]]}],\"surface\":[{\"type\":\"surface\",\"colorbar\":{\"outlinewidth\":0,\"ticks\":\"\"},\"colorscale\":[[0.0,\"#0d0887\"],[0.1111111111111111,\"#46039f\"],[0.2222222222222222,\"#7201a8\"],[0.3333333333333333,\"#9c179e\"],[0.4444444444444444,\"#bd3786\"],[0.5555555555555556,\"#d8576b\"],[0.6666666666666666,\"#ed7953\"],[0.7777777777777778,\"#fb9f3a\"],[0.8888888888888888,\"#fdca26\"],[1.0,\"#f0f921\"]]}],\"mesh3d\":[{\"type\":\"mesh3d\",\"colorbar\":{\"outlinewidth\":0,\"ticks\":\"\"}}],\"scatter\":[{\"fillpattern\":{\"fillmode\":\"overlay\",\"size\":10,\"solidity\":0.2},\"type\":\"scatter\"}],\"parcoords\":[{\"type\":\"parcoords\",\"line\":{\"colorbar\":{\"outlinewidth\":0,\"ticks\":\"\"}}}],\"scatterpolargl\":[{\"type\":\"scatterpolargl\",\"marker\":{\"colorbar\":{\"outlinewidth\":0,\"ticks\":\"\"}}}],\"bar\":[{\"error_x\":{\"color\":\"#2a3f5f\"},\"error_y\":{\"color\":\"#2a3f5f\"},\"marker\":{\"line\":{\"color\":\"#E5ECF6\",\"width\":0.5},\"pattern\":{\"fillmode\":\"overlay\",\"size\":10,\"solidity\":0.2}},\"type\":\"bar\"}],\"scattergeo\":[{\"type\":\"scattergeo\",\"marker\":{\"colorbar\":{\"outlinewidth\":0,\"ticks\":\"\"}}}],\"scatterpolar\":[{\"type\":\"scatterpolar\",\"marker\":{\"colorbar\":{\"outlinewidth\":0,\"ticks\":\"\"}}}],\"histogram\":[{\"marker\":{\"pattern\":{\"fillmode\":\"overlay\",\"size\":10,\"solidity\":0.2}},\"type\":\"histogram\"}],\"scattergl\":[{\"type\":\"scattergl\",\"marker\":{\"colorbar\":{\"outlinewidth\":0,\"ticks\":\"\"}}}],\"scatter3d\":[{\"type\":\"scatter3d\",\"line\":{\"colorbar\":{\"outlinewidth\":0,\"ticks\":\"\"}},\"marker\":{\"colorbar\":{\"outlinewidth\":0,\"ticks\":\"\"}}}],\"scattermapbox\":[{\"type\":\"scattermapbox\",\"marker\":{\"colorbar\":{\"outlinewidth\":0,\"ticks\":\"\"}}}],\"scatterternary\":[{\"type\":\"scatterternary\",\"marker\":{\"colorbar\":{\"outlinewidth\":0,\"ticks\":\"\"}}}],\"scattercarpet\":[{\"type\":\"scattercarpet\",\"marker\":{\"colorbar\":{\"outlinewidth\":0,\"ticks\":\"\"}}}],\"carpet\":[{\"aaxis\":{\"endlinecolor\":\"#2a3f5f\",\"gridcolor\":\"white\",\"linecolor\":\"white\",\"minorgridcolor\":\"white\",\"startlinecolor\":\"#2a3f5f\"},\"baxis\":{\"endlinecolor\":\"#2a3f5f\",\"gridcolor\":\"white\",\"linecolor\":\"white\",\"minorgridcolor\":\"white\",\"startlinecolor\":\"#2a3f5f\"},\"type\":\"carpet\"}],\"table\":[{\"cells\":{\"fill\":{\"color\":\"#EBF0F8\"},\"line\":{\"color\":\"white\"}},\"header\":{\"fill\":{\"color\":\"#C8D4E3\"},\"line\":{\"color\":\"white\"}},\"type\":\"table\"}],\"barpolar\":[{\"marker\":{\"line\":{\"color\":\"#E5ECF6\",\"width\":0.5},\"pattern\":{\"fillmode\":\"overlay\",\"size\":10,\"solidity\":0.2}},\"type\":\"barpolar\"}],\"pie\":[{\"automargin\":true,\"type\":\"pie\"}]},\"layout\":{\"autotypenumbers\":\"strict\",\"colorway\":[\"#636efa\",\"#EF553B\",\"#00cc96\",\"#ab63fa\",\"#FFA15A\",\"#19d3f3\",\"#FF6692\",\"#B6E880\",\"#FF97FF\",\"#FECB52\"],\"font\":{\"color\":\"#2a3f5f\"},\"hovermode\":\"closest\",\"hoverlabel\":{\"align\":\"left\"},\"paper_bgcolor\":\"white\",\"plot_bgcolor\":\"#E5ECF6\",\"polar\":{\"bgcolor\":\"#E5ECF6\",\"angularaxis\":{\"gridcolor\":\"white\",\"linecolor\":\"white\",\"ticks\":\"\"},\"radialaxis\":{\"gridcolor\":\"white\",\"linecolor\":\"white\",\"ticks\":\"\"}},\"ternary\":{\"bgcolor\":\"#E5ECF6\",\"aaxis\":{\"gridcolor\":\"white\",\"linecolor\":\"white\",\"ticks\":\"\"},\"baxis\":{\"gridcolor\":\"white\",\"linecolor\":\"white\",\"ticks\":\"\"},\"caxis\":{\"gridcolor\":\"white\",\"linecolor\":\"white\",\"ticks\":\"\"}},\"coloraxis\":{\"colorbar\":{\"outlinewidth\":0,\"ticks\":\"\"}},\"colorscale\":{\"sequential\":[[0.0,\"#0d0887\"],[0.1111111111111111,\"#46039f\"],[0.2222222222222222,\"#7201a8\"],[0.3333333333333333,\"#9c179e\"],[0.4444444444444444,\"#bd3786\"],[0.5555555555555556,\"#d8576b\"],[0.6666666666666666,\"#ed7953\"],[0.7777777777777778,\"#fb9f3a\"],[0.8888888888888888,\"#fdca26\"],[1.0,\"#f0f921\"]],\"sequentialminus\":[[0.0,\"#0d0887\"],[0.1111111111111111,\"#46039f\"],[0.2222222222222222,\"#7201a8\"],[0.3333333333333333,\"#9c179e\"],[0.4444444444444444,\"#bd3786\"],[0.5555555555555556,\"#d8576b\"],[0.6666666666666666,\"#ed7953\"],[0.7777777777777778,\"#fb9f3a\"],[0.8888888888888888,\"#fdca26\"],[1.0,\"#f0f921\"]],\"diverging\":[[0,\"#8e0152\"],[0.1,\"#c51b7d\"],[0.2,\"#de77ae\"],[0.3,\"#f1b6da\"],[0.4,\"#fde0ef\"],[0.5,\"#f7f7f7\"],[0.6,\"#e6f5d0\"],[0.7,\"#b8e186\"],[0.8,\"#7fbc41\"],[0.9,\"#4d9221\"],[1,\"#276419\"]]},\"xaxis\":{\"gridcolor\":\"white\",\"linecolor\":\"white\",\"ticks\":\"\",\"title\":{\"standoff\":15},\"zerolinecolor\":\"white\",\"automargin\":true,\"zerolinewidth\":2},\"yaxis\":{\"gridcolor\":\"white\",\"linecolor\":\"white\",\"ticks\":\"\",\"title\":{\"standoff\":15},\"zerolinecolor\":\"white\",\"automargin\":true,\"zerolinewidth\":2},\"scene\":{\"xaxis\":{\"backgroundcolor\":\"#E5ECF6\",\"gridcolor\":\"white\",\"linecolor\":\"white\",\"showbackground\":true,\"ticks\":\"\",\"zerolinecolor\":\"white\",\"gridwidth\":2},\"yaxis\":{\"backgroundcolor\":\"#E5ECF6\",\"gridcolor\":\"white\",\"linecolor\":\"white\",\"showbackground\":true,\"ticks\":\"\",\"zerolinecolor\":\"white\",\"gridwidth\":2},\"zaxis\":{\"backgroundcolor\":\"#E5ECF6\",\"gridcolor\":\"white\",\"linecolor\":\"white\",\"showbackground\":true,\"ticks\":\"\",\"zerolinecolor\":\"white\",\"gridwidth\":2}},\"shapedefaults\":{\"line\":{\"color\":\"#2a3f5f\"}},\"annotationdefaults\":{\"arrowcolor\":\"#2a3f5f\",\"arrowhead\":0,\"arrowwidth\":1},\"geo\":{\"bgcolor\":\"white\",\"landcolor\":\"#E5ECF6\",\"subunitcolor\":\"white\",\"showland\":true,\"showlakes\":true,\"lakecolor\":\"white\"},\"title\":{\"x\":0.05},\"mapbox\":{\"style\":\"light\"}}},\"xaxis\":{\"anchor\":\"y\",\"domain\":[0.0,1.0],\"title\":{\"text\":\"variable\"}},\"yaxis\":{\"anchor\":\"x\",\"domain\":[0.0,1.0],\"title\":{\"text\":\"value\"}},\"legend\":{\"tracegroupgap\":0},\"margin\":{\"t\":60},\"boxmode\":\"group\"},                        {\"responsive\": true}                    ).then(function(){\n",
       "                            \n",
       "var gd = document.getElementById('f20395e8-9f17-4a72-b1c5-1c70a6a88bb0');\n",
       "var x = new MutationObserver(function (mutations, observer) {{\n",
       "        var display = window.getComputedStyle(gd).display;\n",
       "        if (!display || display === 'none') {{\n",
       "            console.log([gd, 'removed!']);\n",
       "            Plotly.purge(gd);\n",
       "            observer.disconnect();\n",
       "        }}\n",
       "}});\n",
       "\n",
       "// Listen for the removal of the full notebook cells\n",
       "var notebookContainer = gd.closest('#notebook-container');\n",
       "if (notebookContainer) {{\n",
       "    x.observe(notebookContainer, {childList: true});\n",
       "}}\n",
       "\n",
       "// Listen for the clearing of the current output cell\n",
       "var outputEl = gd.closest('.output');\n",
       "if (outputEl) {{\n",
       "    x.observe(outputEl, {childList: true});\n",
       "}}\n",
       "\n",
       "                        })                };                });            </script>        </div>"
      ]
     },
     "metadata": {},
     "output_type": "display_data"
    }
   ],
   "source": [
    "plot = px.box(df['discount'])\n",
    "plot.show()"
   ]
  },
  {
   "cell_type": "code",
   "execution_count": 145,
   "id": "12f42a2a",
   "metadata": {},
   "outputs": [
    {
     "data": {
      "application/vnd.plotly.v1+json": {
       "config": {
        "plotlyServerURL": "https://plot.ly"
       },
       "data": [
        {
         "alignmentgroup": "True",
         "hovertemplate": "variable=%{x}<br>value=%{y}<extra></extra>",
         "legendgroup": "",
         "marker": {
          "color": "#636efa"
         },
         "name": "",
         "notched": false,
         "offsetgroup": "",
         "orientation": "v",
         "showlegend": false,
         "type": "box",
         "x": [
          "price",
          "price",
          "price",
          "price",
          "price",
          "price",
          "price",
          "price",
          "price",
          "price",
          "price",
          "price",
          "price",
          "price",
          "price",
          "price",
          "price",
          "price",
          "price",
          "price",
          "price",
          "price",
          "price",
          "price",
          "price",
          "price",
          "price",
          "price",
          "price",
          "price",
          "price",
          "price",
          "price",
          "price",
          "price",
          "price",
          "price",
          "price",
          "price",
          "price",
          "price",
          "price",
          "price",
          "price",
          "price",
          "price",
          "price",
          "price",
          "price",
          "price",
          "price",
          "price",
          "price",
          "price",
          "price",
          "price",
          "price",
          "price",
          "price"
         ],
         "x0": " ",
         "xaxis": "x",
         "y": [
          29999,
          39999,
          13999,
          16999,
          51999,
          13990,
          13990,
          33990,
          30990,
          21999,
          27999,
          46990,
          42990,
          29999,
          32999,
          17990,
          33999,
          22999,
          45990,
          29990,
          11499,
          57990,
          30490,
          32999,
          14999,
          42999,
          69990,
          15999,
          26990,
          32999,
          14999,
          48215.260869565216,
          35999,
          24999,
          10499,
          59999,
          16999,
          9490,
          30999,
          40990,
          3599,
          12990,
          38999,
          58990,
          48215.260869565216,
          3599,
          48215.260869565216,
          48215.260869565216,
          31999,
          48215.260869565216,
          22990,
          26990,
          21990,
          26999,
          48215.260869565216,
          19999,
          48490,
          87228,
          3599
         ],
         "y0": " ",
         "yaxis": "y"
        }
       ],
       "layout": {
        "boxmode": "group",
        "legend": {
         "tracegroupgap": 0
        },
        "margin": {
         "t": 60
        },
        "template": {
         "data": {
          "bar": [
           {
            "error_x": {
             "color": "#2a3f5f"
            },
            "error_y": {
             "color": "#2a3f5f"
            },
            "marker": {
             "line": {
              "color": "#E5ECF6",
              "width": 0.5
             },
             "pattern": {
              "fillmode": "overlay",
              "size": 10,
              "solidity": 0.2
             }
            },
            "type": "bar"
           }
          ],
          "barpolar": [
           {
            "marker": {
             "line": {
              "color": "#E5ECF6",
              "width": 0.5
             },
             "pattern": {
              "fillmode": "overlay",
              "size": 10,
              "solidity": 0.2
             }
            },
            "type": "barpolar"
           }
          ],
          "carpet": [
           {
            "aaxis": {
             "endlinecolor": "#2a3f5f",
             "gridcolor": "white",
             "linecolor": "white",
             "minorgridcolor": "white",
             "startlinecolor": "#2a3f5f"
            },
            "baxis": {
             "endlinecolor": "#2a3f5f",
             "gridcolor": "white",
             "linecolor": "white",
             "minorgridcolor": "white",
             "startlinecolor": "#2a3f5f"
            },
            "type": "carpet"
           }
          ],
          "choropleth": [
           {
            "colorbar": {
             "outlinewidth": 0,
             "ticks": ""
            },
            "type": "choropleth"
           }
          ],
          "contour": [
           {
            "colorbar": {
             "outlinewidth": 0,
             "ticks": ""
            },
            "colorscale": [
             [
              0,
              "#0d0887"
             ],
             [
              0.1111111111111111,
              "#46039f"
             ],
             [
              0.2222222222222222,
              "#7201a8"
             ],
             [
              0.3333333333333333,
              "#9c179e"
             ],
             [
              0.4444444444444444,
              "#bd3786"
             ],
             [
              0.5555555555555556,
              "#d8576b"
             ],
             [
              0.6666666666666666,
              "#ed7953"
             ],
             [
              0.7777777777777778,
              "#fb9f3a"
             ],
             [
              0.8888888888888888,
              "#fdca26"
             ],
             [
              1,
              "#f0f921"
             ]
            ],
            "type": "contour"
           }
          ],
          "contourcarpet": [
           {
            "colorbar": {
             "outlinewidth": 0,
             "ticks": ""
            },
            "type": "contourcarpet"
           }
          ],
          "heatmap": [
           {
            "colorbar": {
             "outlinewidth": 0,
             "ticks": ""
            },
            "colorscale": [
             [
              0,
              "#0d0887"
             ],
             [
              0.1111111111111111,
              "#46039f"
             ],
             [
              0.2222222222222222,
              "#7201a8"
             ],
             [
              0.3333333333333333,
              "#9c179e"
             ],
             [
              0.4444444444444444,
              "#bd3786"
             ],
             [
              0.5555555555555556,
              "#d8576b"
             ],
             [
              0.6666666666666666,
              "#ed7953"
             ],
             [
              0.7777777777777778,
              "#fb9f3a"
             ],
             [
              0.8888888888888888,
              "#fdca26"
             ],
             [
              1,
              "#f0f921"
             ]
            ],
            "type": "heatmap"
           }
          ],
          "heatmapgl": [
           {
            "colorbar": {
             "outlinewidth": 0,
             "ticks": ""
            },
            "colorscale": [
             [
              0,
              "#0d0887"
             ],
             [
              0.1111111111111111,
              "#46039f"
             ],
             [
              0.2222222222222222,
              "#7201a8"
             ],
             [
              0.3333333333333333,
              "#9c179e"
             ],
             [
              0.4444444444444444,
              "#bd3786"
             ],
             [
              0.5555555555555556,
              "#d8576b"
             ],
             [
              0.6666666666666666,
              "#ed7953"
             ],
             [
              0.7777777777777778,
              "#fb9f3a"
             ],
             [
              0.8888888888888888,
              "#fdca26"
             ],
             [
              1,
              "#f0f921"
             ]
            ],
            "type": "heatmapgl"
           }
          ],
          "histogram": [
           {
            "marker": {
             "pattern": {
              "fillmode": "overlay",
              "size": 10,
              "solidity": 0.2
             }
            },
            "type": "histogram"
           }
          ],
          "histogram2d": [
           {
            "colorbar": {
             "outlinewidth": 0,
             "ticks": ""
            },
            "colorscale": [
             [
              0,
              "#0d0887"
             ],
             [
              0.1111111111111111,
              "#46039f"
             ],
             [
              0.2222222222222222,
              "#7201a8"
             ],
             [
              0.3333333333333333,
              "#9c179e"
             ],
             [
              0.4444444444444444,
              "#bd3786"
             ],
             [
              0.5555555555555556,
              "#d8576b"
             ],
             [
              0.6666666666666666,
              "#ed7953"
             ],
             [
              0.7777777777777778,
              "#fb9f3a"
             ],
             [
              0.8888888888888888,
              "#fdca26"
             ],
             [
              1,
              "#f0f921"
             ]
            ],
            "type": "histogram2d"
           }
          ],
          "histogram2dcontour": [
           {
            "colorbar": {
             "outlinewidth": 0,
             "ticks": ""
            },
            "colorscale": [
             [
              0,
              "#0d0887"
             ],
             [
              0.1111111111111111,
              "#46039f"
             ],
             [
              0.2222222222222222,
              "#7201a8"
             ],
             [
              0.3333333333333333,
              "#9c179e"
             ],
             [
              0.4444444444444444,
              "#bd3786"
             ],
             [
              0.5555555555555556,
              "#d8576b"
             ],
             [
              0.6666666666666666,
              "#ed7953"
             ],
             [
              0.7777777777777778,
              "#fb9f3a"
             ],
             [
              0.8888888888888888,
              "#fdca26"
             ],
             [
              1,
              "#f0f921"
             ]
            ],
            "type": "histogram2dcontour"
           }
          ],
          "mesh3d": [
           {
            "colorbar": {
             "outlinewidth": 0,
             "ticks": ""
            },
            "type": "mesh3d"
           }
          ],
          "parcoords": [
           {
            "line": {
             "colorbar": {
              "outlinewidth": 0,
              "ticks": ""
             }
            },
            "type": "parcoords"
           }
          ],
          "pie": [
           {
            "automargin": true,
            "type": "pie"
           }
          ],
          "scatter": [
           {
            "fillpattern": {
             "fillmode": "overlay",
             "size": 10,
             "solidity": 0.2
            },
            "type": "scatter"
           }
          ],
          "scatter3d": [
           {
            "line": {
             "colorbar": {
              "outlinewidth": 0,
              "ticks": ""
             }
            },
            "marker": {
             "colorbar": {
              "outlinewidth": 0,
              "ticks": ""
             }
            },
            "type": "scatter3d"
           }
          ],
          "scattercarpet": [
           {
            "marker": {
             "colorbar": {
              "outlinewidth": 0,
              "ticks": ""
             }
            },
            "type": "scattercarpet"
           }
          ],
          "scattergeo": [
           {
            "marker": {
             "colorbar": {
              "outlinewidth": 0,
              "ticks": ""
             }
            },
            "type": "scattergeo"
           }
          ],
          "scattergl": [
           {
            "marker": {
             "colorbar": {
              "outlinewidth": 0,
              "ticks": ""
             }
            },
            "type": "scattergl"
           }
          ],
          "scattermapbox": [
           {
            "marker": {
             "colorbar": {
              "outlinewidth": 0,
              "ticks": ""
             }
            },
            "type": "scattermapbox"
           }
          ],
          "scatterpolar": [
           {
            "marker": {
             "colorbar": {
              "outlinewidth": 0,
              "ticks": ""
             }
            },
            "type": "scatterpolar"
           }
          ],
          "scatterpolargl": [
           {
            "marker": {
             "colorbar": {
              "outlinewidth": 0,
              "ticks": ""
             }
            },
            "type": "scatterpolargl"
           }
          ],
          "scatterternary": [
           {
            "marker": {
             "colorbar": {
              "outlinewidth": 0,
              "ticks": ""
             }
            },
            "type": "scatterternary"
           }
          ],
          "surface": [
           {
            "colorbar": {
             "outlinewidth": 0,
             "ticks": ""
            },
            "colorscale": [
             [
              0,
              "#0d0887"
             ],
             [
              0.1111111111111111,
              "#46039f"
             ],
             [
              0.2222222222222222,
              "#7201a8"
             ],
             [
              0.3333333333333333,
              "#9c179e"
             ],
             [
              0.4444444444444444,
              "#bd3786"
             ],
             [
              0.5555555555555556,
              "#d8576b"
             ],
             [
              0.6666666666666666,
              "#ed7953"
             ],
             [
              0.7777777777777778,
              "#fb9f3a"
             ],
             [
              0.8888888888888888,
              "#fdca26"
             ],
             [
              1,
              "#f0f921"
             ]
            ],
            "type": "surface"
           }
          ],
          "table": [
           {
            "cells": {
             "fill": {
              "color": "#EBF0F8"
             },
             "line": {
              "color": "white"
             }
            },
            "header": {
             "fill": {
              "color": "#C8D4E3"
             },
             "line": {
              "color": "white"
             }
            },
            "type": "table"
           }
          ]
         },
         "layout": {
          "annotationdefaults": {
           "arrowcolor": "#2a3f5f",
           "arrowhead": 0,
           "arrowwidth": 1
          },
          "autotypenumbers": "strict",
          "coloraxis": {
           "colorbar": {
            "outlinewidth": 0,
            "ticks": ""
           }
          },
          "colorscale": {
           "diverging": [
            [
             0,
             "#8e0152"
            ],
            [
             0.1,
             "#c51b7d"
            ],
            [
             0.2,
             "#de77ae"
            ],
            [
             0.3,
             "#f1b6da"
            ],
            [
             0.4,
             "#fde0ef"
            ],
            [
             0.5,
             "#f7f7f7"
            ],
            [
             0.6,
             "#e6f5d0"
            ],
            [
             0.7,
             "#b8e186"
            ],
            [
             0.8,
             "#7fbc41"
            ],
            [
             0.9,
             "#4d9221"
            ],
            [
             1,
             "#276419"
            ]
           ],
           "sequential": [
            [
             0,
             "#0d0887"
            ],
            [
             0.1111111111111111,
             "#46039f"
            ],
            [
             0.2222222222222222,
             "#7201a8"
            ],
            [
             0.3333333333333333,
             "#9c179e"
            ],
            [
             0.4444444444444444,
             "#bd3786"
            ],
            [
             0.5555555555555556,
             "#d8576b"
            ],
            [
             0.6666666666666666,
             "#ed7953"
            ],
            [
             0.7777777777777778,
             "#fb9f3a"
            ],
            [
             0.8888888888888888,
             "#fdca26"
            ],
            [
             1,
             "#f0f921"
            ]
           ],
           "sequentialminus": [
            [
             0,
             "#0d0887"
            ],
            [
             0.1111111111111111,
             "#46039f"
            ],
            [
             0.2222222222222222,
             "#7201a8"
            ],
            [
             0.3333333333333333,
             "#9c179e"
            ],
            [
             0.4444444444444444,
             "#bd3786"
            ],
            [
             0.5555555555555556,
             "#d8576b"
            ],
            [
             0.6666666666666666,
             "#ed7953"
            ],
            [
             0.7777777777777778,
             "#fb9f3a"
            ],
            [
             0.8888888888888888,
             "#fdca26"
            ],
            [
             1,
             "#f0f921"
            ]
           ]
          },
          "colorway": [
           "#636efa",
           "#EF553B",
           "#00cc96",
           "#ab63fa",
           "#FFA15A",
           "#19d3f3",
           "#FF6692",
           "#B6E880",
           "#FF97FF",
           "#FECB52"
          ],
          "font": {
           "color": "#2a3f5f"
          },
          "geo": {
           "bgcolor": "white",
           "lakecolor": "white",
           "landcolor": "#E5ECF6",
           "showlakes": true,
           "showland": true,
           "subunitcolor": "white"
          },
          "hoverlabel": {
           "align": "left"
          },
          "hovermode": "closest",
          "mapbox": {
           "style": "light"
          },
          "paper_bgcolor": "white",
          "plot_bgcolor": "#E5ECF6",
          "polar": {
           "angularaxis": {
            "gridcolor": "white",
            "linecolor": "white",
            "ticks": ""
           },
           "bgcolor": "#E5ECF6",
           "radialaxis": {
            "gridcolor": "white",
            "linecolor": "white",
            "ticks": ""
           }
          },
          "scene": {
           "xaxis": {
            "backgroundcolor": "#E5ECF6",
            "gridcolor": "white",
            "gridwidth": 2,
            "linecolor": "white",
            "showbackground": true,
            "ticks": "",
            "zerolinecolor": "white"
           },
           "yaxis": {
            "backgroundcolor": "#E5ECF6",
            "gridcolor": "white",
            "gridwidth": 2,
            "linecolor": "white",
            "showbackground": true,
            "ticks": "",
            "zerolinecolor": "white"
           },
           "zaxis": {
            "backgroundcolor": "#E5ECF6",
            "gridcolor": "white",
            "gridwidth": 2,
            "linecolor": "white",
            "showbackground": true,
            "ticks": "",
            "zerolinecolor": "white"
           }
          },
          "shapedefaults": {
           "line": {
            "color": "#2a3f5f"
           }
          },
          "ternary": {
           "aaxis": {
            "gridcolor": "white",
            "linecolor": "white",
            "ticks": ""
           },
           "baxis": {
            "gridcolor": "white",
            "linecolor": "white",
            "ticks": ""
           },
           "bgcolor": "#E5ECF6",
           "caxis": {
            "gridcolor": "white",
            "linecolor": "white",
            "ticks": ""
           }
          },
          "title": {
           "x": 0.05
          },
          "xaxis": {
           "automargin": true,
           "gridcolor": "white",
           "linecolor": "white",
           "ticks": "",
           "title": {
            "standoff": 15
           },
           "zerolinecolor": "white",
           "zerolinewidth": 2
          },
          "yaxis": {
           "automargin": true,
           "gridcolor": "white",
           "linecolor": "white",
           "ticks": "",
           "title": {
            "standoff": 15
           },
           "zerolinecolor": "white",
           "zerolinewidth": 2
          }
         }
        },
        "xaxis": {
         "anchor": "y",
         "domain": [
          0,
          1
         ],
         "title": {
          "text": "variable"
         }
        },
        "yaxis": {
         "anchor": "x",
         "domain": [
          0,
          1
         ],
         "title": {
          "text": "value"
         }
        }
       }
      },
      "text/html": [
       "<div>                            <div id=\"52ffc66d-6480-414d-9678-01c92fc8e48b\" class=\"plotly-graph-div\" style=\"height:525px; width:100%;\"></div>            <script type=\"text/javascript\">                require([\"plotly\"], function(Plotly) {                    window.PLOTLYENV=window.PLOTLYENV || {};                                    if (document.getElementById(\"52ffc66d-6480-414d-9678-01c92fc8e48b\")) {                    Plotly.newPlot(                        \"52ffc66d-6480-414d-9678-01c92fc8e48b\",                        [{\"alignmentgroup\":\"True\",\"hovertemplate\":\"variable=%{x}<br>value=%{y}<extra></extra>\",\"legendgroup\":\"\",\"marker\":{\"color\":\"#636efa\"},\"name\":\"\",\"notched\":false,\"offsetgroup\":\"\",\"orientation\":\"v\",\"showlegend\":false,\"x\":[\"price\",\"price\",\"price\",\"price\",\"price\",\"price\",\"price\",\"price\",\"price\",\"price\",\"price\",\"price\",\"price\",\"price\",\"price\",\"price\",\"price\",\"price\",\"price\",\"price\",\"price\",\"price\",\"price\",\"price\",\"price\",\"price\",\"price\",\"price\",\"price\",\"price\",\"price\",\"price\",\"price\",\"price\",\"price\",\"price\",\"price\",\"price\",\"price\",\"price\",\"price\",\"price\",\"price\",\"price\",\"price\",\"price\",\"price\",\"price\",\"price\",\"price\",\"price\",\"price\",\"price\",\"price\",\"price\",\"price\",\"price\",\"price\",\"price\"],\"x0\":\" \",\"xaxis\":\"x\",\"y\":[29999.0,39999.0,13999.0,16999.0,51999.0,13990.0,13990.0,33990.0,30990.0,21999.0,27999.0,46990.0,42990.0,29999.0,32999.0,17990.0,33999.0,22999.0,45990.0,29990.0,11499.0,57990.0,30490.0,32999.0,14999.0,42999.0,69990.0,15999.0,26990.0,32999.0,14999.0,48215.260869565216,35999.0,24999.0,10499.0,59999.0,16999.0,9490.0,30999.0,40990.0,3599.0,12990.0,38999.0,58990.0,48215.260869565216,3599.0,48215.260869565216,48215.260869565216,31999.0,48215.260869565216,22990.0,26990.0,21990.0,26999.0,48215.260869565216,19999.0,48490.0,87228.0,3599.0],\"y0\":\" \",\"yaxis\":\"y\",\"type\":\"box\"}],                        {\"template\":{\"data\":{\"histogram2dcontour\":[{\"type\":\"histogram2dcontour\",\"colorbar\":{\"outlinewidth\":0,\"ticks\":\"\"},\"colorscale\":[[0.0,\"#0d0887\"],[0.1111111111111111,\"#46039f\"],[0.2222222222222222,\"#7201a8\"],[0.3333333333333333,\"#9c179e\"],[0.4444444444444444,\"#bd3786\"],[0.5555555555555556,\"#d8576b\"],[0.6666666666666666,\"#ed7953\"],[0.7777777777777778,\"#fb9f3a\"],[0.8888888888888888,\"#fdca26\"],[1.0,\"#f0f921\"]]}],\"choropleth\":[{\"type\":\"choropleth\",\"colorbar\":{\"outlinewidth\":0,\"ticks\":\"\"}}],\"histogram2d\":[{\"type\":\"histogram2d\",\"colorbar\":{\"outlinewidth\":0,\"ticks\":\"\"},\"colorscale\":[[0.0,\"#0d0887\"],[0.1111111111111111,\"#46039f\"],[0.2222222222222222,\"#7201a8\"],[0.3333333333333333,\"#9c179e\"],[0.4444444444444444,\"#bd3786\"],[0.5555555555555556,\"#d8576b\"],[0.6666666666666666,\"#ed7953\"],[0.7777777777777778,\"#fb9f3a\"],[0.8888888888888888,\"#fdca26\"],[1.0,\"#f0f921\"]]}],\"heatmap\":[{\"type\":\"heatmap\",\"colorbar\":{\"outlinewidth\":0,\"ticks\":\"\"},\"colorscale\":[[0.0,\"#0d0887\"],[0.1111111111111111,\"#46039f\"],[0.2222222222222222,\"#7201a8\"],[0.3333333333333333,\"#9c179e\"],[0.4444444444444444,\"#bd3786\"],[0.5555555555555556,\"#d8576b\"],[0.6666666666666666,\"#ed7953\"],[0.7777777777777778,\"#fb9f3a\"],[0.8888888888888888,\"#fdca26\"],[1.0,\"#f0f921\"]]}],\"heatmapgl\":[{\"type\":\"heatmapgl\",\"colorbar\":{\"outlinewidth\":0,\"ticks\":\"\"},\"colorscale\":[[0.0,\"#0d0887\"],[0.1111111111111111,\"#46039f\"],[0.2222222222222222,\"#7201a8\"],[0.3333333333333333,\"#9c179e\"],[0.4444444444444444,\"#bd3786\"],[0.5555555555555556,\"#d8576b\"],[0.6666666666666666,\"#ed7953\"],[0.7777777777777778,\"#fb9f3a\"],[0.8888888888888888,\"#fdca26\"],[1.0,\"#f0f921\"]]}],\"contourcarpet\":[{\"type\":\"contourcarpet\",\"colorbar\":{\"outlinewidth\":0,\"ticks\":\"\"}}],\"contour\":[{\"type\":\"contour\",\"colorbar\":{\"outlinewidth\":0,\"ticks\":\"\"},\"colorscale\":[[0.0,\"#0d0887\"],[0.1111111111111111,\"#46039f\"],[0.2222222222222222,\"#7201a8\"],[0.3333333333333333,\"#9c179e\"],[0.4444444444444444,\"#bd3786\"],[0.5555555555555556,\"#d8576b\"],[0.6666666666666666,\"#ed7953\"],[0.7777777777777778,\"#fb9f3a\"],[0.8888888888888888,\"#fdca26\"],[1.0,\"#f0f921\"]]}],\"surface\":[{\"type\":\"surface\",\"colorbar\":{\"outlinewidth\":0,\"ticks\":\"\"},\"colorscale\":[[0.0,\"#0d0887\"],[0.1111111111111111,\"#46039f\"],[0.2222222222222222,\"#7201a8\"],[0.3333333333333333,\"#9c179e\"],[0.4444444444444444,\"#bd3786\"],[0.5555555555555556,\"#d8576b\"],[0.6666666666666666,\"#ed7953\"],[0.7777777777777778,\"#fb9f3a\"],[0.8888888888888888,\"#fdca26\"],[1.0,\"#f0f921\"]]}],\"mesh3d\":[{\"type\":\"mesh3d\",\"colorbar\":{\"outlinewidth\":0,\"ticks\":\"\"}}],\"scatter\":[{\"fillpattern\":{\"fillmode\":\"overlay\",\"size\":10,\"solidity\":0.2},\"type\":\"scatter\"}],\"parcoords\":[{\"type\":\"parcoords\",\"line\":{\"colorbar\":{\"outlinewidth\":0,\"ticks\":\"\"}}}],\"scatterpolargl\":[{\"type\":\"scatterpolargl\",\"marker\":{\"colorbar\":{\"outlinewidth\":0,\"ticks\":\"\"}}}],\"bar\":[{\"error_x\":{\"color\":\"#2a3f5f\"},\"error_y\":{\"color\":\"#2a3f5f\"},\"marker\":{\"line\":{\"color\":\"#E5ECF6\",\"width\":0.5},\"pattern\":{\"fillmode\":\"overlay\",\"size\":10,\"solidity\":0.2}},\"type\":\"bar\"}],\"scattergeo\":[{\"type\":\"scattergeo\",\"marker\":{\"colorbar\":{\"outlinewidth\":0,\"ticks\":\"\"}}}],\"scatterpolar\":[{\"type\":\"scatterpolar\",\"marker\":{\"colorbar\":{\"outlinewidth\":0,\"ticks\":\"\"}}}],\"histogram\":[{\"marker\":{\"pattern\":{\"fillmode\":\"overlay\",\"size\":10,\"solidity\":0.2}},\"type\":\"histogram\"}],\"scattergl\":[{\"type\":\"scattergl\",\"marker\":{\"colorbar\":{\"outlinewidth\":0,\"ticks\":\"\"}}}],\"scatter3d\":[{\"type\":\"scatter3d\",\"line\":{\"colorbar\":{\"outlinewidth\":0,\"ticks\":\"\"}},\"marker\":{\"colorbar\":{\"outlinewidth\":0,\"ticks\":\"\"}}}],\"scattermapbox\":[{\"type\":\"scattermapbox\",\"marker\":{\"colorbar\":{\"outlinewidth\":0,\"ticks\":\"\"}}}],\"scatterternary\":[{\"type\":\"scatterternary\",\"marker\":{\"colorbar\":{\"outlinewidth\":0,\"ticks\":\"\"}}}],\"scattercarpet\":[{\"type\":\"scattercarpet\",\"marker\":{\"colorbar\":{\"outlinewidth\":0,\"ticks\":\"\"}}}],\"carpet\":[{\"aaxis\":{\"endlinecolor\":\"#2a3f5f\",\"gridcolor\":\"white\",\"linecolor\":\"white\",\"minorgridcolor\":\"white\",\"startlinecolor\":\"#2a3f5f\"},\"baxis\":{\"endlinecolor\":\"#2a3f5f\",\"gridcolor\":\"white\",\"linecolor\":\"white\",\"minorgridcolor\":\"white\",\"startlinecolor\":\"#2a3f5f\"},\"type\":\"carpet\"}],\"table\":[{\"cells\":{\"fill\":{\"color\":\"#EBF0F8\"},\"line\":{\"color\":\"white\"}},\"header\":{\"fill\":{\"color\":\"#C8D4E3\"},\"line\":{\"color\":\"white\"}},\"type\":\"table\"}],\"barpolar\":[{\"marker\":{\"line\":{\"color\":\"#E5ECF6\",\"width\":0.5},\"pattern\":{\"fillmode\":\"overlay\",\"size\":10,\"solidity\":0.2}},\"type\":\"barpolar\"}],\"pie\":[{\"automargin\":true,\"type\":\"pie\"}]},\"layout\":{\"autotypenumbers\":\"strict\",\"colorway\":[\"#636efa\",\"#EF553B\",\"#00cc96\",\"#ab63fa\",\"#FFA15A\",\"#19d3f3\",\"#FF6692\",\"#B6E880\",\"#FF97FF\",\"#FECB52\"],\"font\":{\"color\":\"#2a3f5f\"},\"hovermode\":\"closest\",\"hoverlabel\":{\"align\":\"left\"},\"paper_bgcolor\":\"white\",\"plot_bgcolor\":\"#E5ECF6\",\"polar\":{\"bgcolor\":\"#E5ECF6\",\"angularaxis\":{\"gridcolor\":\"white\",\"linecolor\":\"white\",\"ticks\":\"\"},\"radialaxis\":{\"gridcolor\":\"white\",\"linecolor\":\"white\",\"ticks\":\"\"}},\"ternary\":{\"bgcolor\":\"#E5ECF6\",\"aaxis\":{\"gridcolor\":\"white\",\"linecolor\":\"white\",\"ticks\":\"\"},\"baxis\":{\"gridcolor\":\"white\",\"linecolor\":\"white\",\"ticks\":\"\"},\"caxis\":{\"gridcolor\":\"white\",\"linecolor\":\"white\",\"ticks\":\"\"}},\"coloraxis\":{\"colorbar\":{\"outlinewidth\":0,\"ticks\":\"\"}},\"colorscale\":{\"sequential\":[[0.0,\"#0d0887\"],[0.1111111111111111,\"#46039f\"],[0.2222222222222222,\"#7201a8\"],[0.3333333333333333,\"#9c179e\"],[0.4444444444444444,\"#bd3786\"],[0.5555555555555556,\"#d8576b\"],[0.6666666666666666,\"#ed7953\"],[0.7777777777777778,\"#fb9f3a\"],[0.8888888888888888,\"#fdca26\"],[1.0,\"#f0f921\"]],\"sequentialminus\":[[0.0,\"#0d0887\"],[0.1111111111111111,\"#46039f\"],[0.2222222222222222,\"#7201a8\"],[0.3333333333333333,\"#9c179e\"],[0.4444444444444444,\"#bd3786\"],[0.5555555555555556,\"#d8576b\"],[0.6666666666666666,\"#ed7953\"],[0.7777777777777778,\"#fb9f3a\"],[0.8888888888888888,\"#fdca26\"],[1.0,\"#f0f921\"]],\"diverging\":[[0,\"#8e0152\"],[0.1,\"#c51b7d\"],[0.2,\"#de77ae\"],[0.3,\"#f1b6da\"],[0.4,\"#fde0ef\"],[0.5,\"#f7f7f7\"],[0.6,\"#e6f5d0\"],[0.7,\"#b8e186\"],[0.8,\"#7fbc41\"],[0.9,\"#4d9221\"],[1,\"#276419\"]]},\"xaxis\":{\"gridcolor\":\"white\",\"linecolor\":\"white\",\"ticks\":\"\",\"title\":{\"standoff\":15},\"zerolinecolor\":\"white\",\"automargin\":true,\"zerolinewidth\":2},\"yaxis\":{\"gridcolor\":\"white\",\"linecolor\":\"white\",\"ticks\":\"\",\"title\":{\"standoff\":15},\"zerolinecolor\":\"white\",\"automargin\":true,\"zerolinewidth\":2},\"scene\":{\"xaxis\":{\"backgroundcolor\":\"#E5ECF6\",\"gridcolor\":\"white\",\"linecolor\":\"white\",\"showbackground\":true,\"ticks\":\"\",\"zerolinecolor\":\"white\",\"gridwidth\":2},\"yaxis\":{\"backgroundcolor\":\"#E5ECF6\",\"gridcolor\":\"white\",\"linecolor\":\"white\",\"showbackground\":true,\"ticks\":\"\",\"zerolinecolor\":\"white\",\"gridwidth\":2},\"zaxis\":{\"backgroundcolor\":\"#E5ECF6\",\"gridcolor\":\"white\",\"linecolor\":\"white\",\"showbackground\":true,\"ticks\":\"\",\"zerolinecolor\":\"white\",\"gridwidth\":2}},\"shapedefaults\":{\"line\":{\"color\":\"#2a3f5f\"}},\"annotationdefaults\":{\"arrowcolor\":\"#2a3f5f\",\"arrowhead\":0,\"arrowwidth\":1},\"geo\":{\"bgcolor\":\"white\",\"landcolor\":\"#E5ECF6\",\"subunitcolor\":\"white\",\"showland\":true,\"showlakes\":true,\"lakecolor\":\"white\"},\"title\":{\"x\":0.05},\"mapbox\":{\"style\":\"light\"}}},\"xaxis\":{\"anchor\":\"y\",\"domain\":[0.0,1.0],\"title\":{\"text\":\"variable\"}},\"yaxis\":{\"anchor\":\"x\",\"domain\":[0.0,1.0],\"title\":{\"text\":\"value\"}},\"legend\":{\"tracegroupgap\":0},\"margin\":{\"t\":60},\"boxmode\":\"group\"},                        {\"responsive\": true}                    ).then(function(){\n",
       "                            \n",
       "var gd = document.getElementById('52ffc66d-6480-414d-9678-01c92fc8e48b');\n",
       "var x = new MutationObserver(function (mutations, observer) {{\n",
       "        var display = window.getComputedStyle(gd).display;\n",
       "        if (!display || display === 'none') {{\n",
       "            console.log([gd, 'removed!']);\n",
       "            Plotly.purge(gd);\n",
       "            observer.disconnect();\n",
       "        }}\n",
       "}});\n",
       "\n",
       "// Listen for the removal of the full notebook cells\n",
       "var notebookContainer = gd.closest('#notebook-container');\n",
       "if (notebookContainer) {{\n",
       "    x.observe(notebookContainer, {childList: true});\n",
       "}}\n",
       "\n",
       "// Listen for the clearing of the current output cell\n",
       "var outputEl = gd.closest('.output');\n",
       "if (outputEl) {{\n",
       "    x.observe(outputEl, {childList: true});\n",
       "}}\n",
       "\n",
       "                        })                };                });            </script>        </div>"
      ]
     },
     "metadata": {},
     "output_type": "display_data"
    }
   ],
   "source": [
    "plot = px.box(df['price'])\n",
    "plot.show()"
   ]
  },
  {
   "cell_type": "code",
   "execution_count": 146,
   "id": "2dc6851e",
   "metadata": {},
   "outputs": [
    {
     "data": {
      "application/vnd.plotly.v1+json": {
       "config": {
        "plotlyServerURL": "https://plot.ly"
       },
       "data": [
        {
         "alignmentgroup": "True",
         "hovertemplate": "variable=%{x}<br>value=%{y}<extra></extra>",
         "legendgroup": "",
         "marker": {
          "color": "#636efa"
         },
         "name": "",
         "notched": false,
         "offsetgroup": "",
         "orientation": "v",
         "showlegend": false,
         "type": "box",
         "x": [
          "ratingsNo",
          "ratingsNo",
          "ratingsNo",
          "ratingsNo",
          "ratingsNo",
          "ratingsNo",
          "ratingsNo",
          "ratingsNo",
          "ratingsNo",
          "ratingsNo",
          "ratingsNo",
          "ratingsNo",
          "ratingsNo",
          "ratingsNo",
          "ratingsNo",
          "ratingsNo",
          "ratingsNo",
          "ratingsNo",
          "ratingsNo",
          "ratingsNo",
          "ratingsNo",
          "ratingsNo",
          "ratingsNo",
          "ratingsNo",
          "ratingsNo",
          "ratingsNo",
          "ratingsNo",
          "ratingsNo",
          "ratingsNo",
          "ratingsNo",
          "ratingsNo",
          "ratingsNo",
          "ratingsNo",
          "ratingsNo",
          "ratingsNo",
          "ratingsNo",
          "ratingsNo",
          "ratingsNo",
          "ratingsNo",
          "ratingsNo",
          "ratingsNo",
          "ratingsNo",
          "ratingsNo",
          "ratingsNo",
          "ratingsNo",
          "ratingsNo",
          "ratingsNo",
          "ratingsNo",
          "ratingsNo",
          "ratingsNo",
          "ratingsNo",
          "ratingsNo",
          "ratingsNo",
          "ratingsNo",
          "ratingsNo",
          "ratingsNo",
          "ratingsNo",
          "ratingsNo",
          "ratingsNo"
         ],
         "x0": " ",
         "xaxis": "x",
         "y": [
          597,
          8532,
          69,
          8521,
          8364,
          12602,
          9042,
          736,
          8033,
          2082,
          8521,
          8033,
          8364,
          8532,
          8532,
          1365,
          2082,
          597,
          8033,
          8033,
          8521,
          8364,
          1719,
          1396,
          2431,
          7092,
          8364,
          970,
          2867,
          8521,
          13203,
          1396,
          2909,
          870,
          4016,
          24,
          2687,
          13203,
          2909,
          61,
          8118.819444444444,
          4606,
          1396,
          16,
          8118.819444444444,
          1,
          3,
          8118.819444444444,
          339,
          13,
          2867,
          2867,
          4606,
          2909,
          654,
          1989,
          1719,
          859,
          20
         ],
         "y0": " ",
         "yaxis": "y"
        }
       ],
       "layout": {
        "boxmode": "group",
        "legend": {
         "tracegroupgap": 0
        },
        "margin": {
         "t": 60
        },
        "template": {
         "data": {
          "bar": [
           {
            "error_x": {
             "color": "#2a3f5f"
            },
            "error_y": {
             "color": "#2a3f5f"
            },
            "marker": {
             "line": {
              "color": "#E5ECF6",
              "width": 0.5
             },
             "pattern": {
              "fillmode": "overlay",
              "size": 10,
              "solidity": 0.2
             }
            },
            "type": "bar"
           }
          ],
          "barpolar": [
           {
            "marker": {
             "line": {
              "color": "#E5ECF6",
              "width": 0.5
             },
             "pattern": {
              "fillmode": "overlay",
              "size": 10,
              "solidity": 0.2
             }
            },
            "type": "barpolar"
           }
          ],
          "carpet": [
           {
            "aaxis": {
             "endlinecolor": "#2a3f5f",
             "gridcolor": "white",
             "linecolor": "white",
             "minorgridcolor": "white",
             "startlinecolor": "#2a3f5f"
            },
            "baxis": {
             "endlinecolor": "#2a3f5f",
             "gridcolor": "white",
             "linecolor": "white",
             "minorgridcolor": "white",
             "startlinecolor": "#2a3f5f"
            },
            "type": "carpet"
           }
          ],
          "choropleth": [
           {
            "colorbar": {
             "outlinewidth": 0,
             "ticks": ""
            },
            "type": "choropleth"
           }
          ],
          "contour": [
           {
            "colorbar": {
             "outlinewidth": 0,
             "ticks": ""
            },
            "colorscale": [
             [
              0,
              "#0d0887"
             ],
             [
              0.1111111111111111,
              "#46039f"
             ],
             [
              0.2222222222222222,
              "#7201a8"
             ],
             [
              0.3333333333333333,
              "#9c179e"
             ],
             [
              0.4444444444444444,
              "#bd3786"
             ],
             [
              0.5555555555555556,
              "#d8576b"
             ],
             [
              0.6666666666666666,
              "#ed7953"
             ],
             [
              0.7777777777777778,
              "#fb9f3a"
             ],
             [
              0.8888888888888888,
              "#fdca26"
             ],
             [
              1,
              "#f0f921"
             ]
            ],
            "type": "contour"
           }
          ],
          "contourcarpet": [
           {
            "colorbar": {
             "outlinewidth": 0,
             "ticks": ""
            },
            "type": "contourcarpet"
           }
          ],
          "heatmap": [
           {
            "colorbar": {
             "outlinewidth": 0,
             "ticks": ""
            },
            "colorscale": [
             [
              0,
              "#0d0887"
             ],
             [
              0.1111111111111111,
              "#46039f"
             ],
             [
              0.2222222222222222,
              "#7201a8"
             ],
             [
              0.3333333333333333,
              "#9c179e"
             ],
             [
              0.4444444444444444,
              "#bd3786"
             ],
             [
              0.5555555555555556,
              "#d8576b"
             ],
             [
              0.6666666666666666,
              "#ed7953"
             ],
             [
              0.7777777777777778,
              "#fb9f3a"
             ],
             [
              0.8888888888888888,
              "#fdca26"
             ],
             [
              1,
              "#f0f921"
             ]
            ],
            "type": "heatmap"
           }
          ],
          "heatmapgl": [
           {
            "colorbar": {
             "outlinewidth": 0,
             "ticks": ""
            },
            "colorscale": [
             [
              0,
              "#0d0887"
             ],
             [
              0.1111111111111111,
              "#46039f"
             ],
             [
              0.2222222222222222,
              "#7201a8"
             ],
             [
              0.3333333333333333,
              "#9c179e"
             ],
             [
              0.4444444444444444,
              "#bd3786"
             ],
             [
              0.5555555555555556,
              "#d8576b"
             ],
             [
              0.6666666666666666,
              "#ed7953"
             ],
             [
              0.7777777777777778,
              "#fb9f3a"
             ],
             [
              0.8888888888888888,
              "#fdca26"
             ],
             [
              1,
              "#f0f921"
             ]
            ],
            "type": "heatmapgl"
           }
          ],
          "histogram": [
           {
            "marker": {
             "pattern": {
              "fillmode": "overlay",
              "size": 10,
              "solidity": 0.2
             }
            },
            "type": "histogram"
           }
          ],
          "histogram2d": [
           {
            "colorbar": {
             "outlinewidth": 0,
             "ticks": ""
            },
            "colorscale": [
             [
              0,
              "#0d0887"
             ],
             [
              0.1111111111111111,
              "#46039f"
             ],
             [
              0.2222222222222222,
              "#7201a8"
             ],
             [
              0.3333333333333333,
              "#9c179e"
             ],
             [
              0.4444444444444444,
              "#bd3786"
             ],
             [
              0.5555555555555556,
              "#d8576b"
             ],
             [
              0.6666666666666666,
              "#ed7953"
             ],
             [
              0.7777777777777778,
              "#fb9f3a"
             ],
             [
              0.8888888888888888,
              "#fdca26"
             ],
             [
              1,
              "#f0f921"
             ]
            ],
            "type": "histogram2d"
           }
          ],
          "histogram2dcontour": [
           {
            "colorbar": {
             "outlinewidth": 0,
             "ticks": ""
            },
            "colorscale": [
             [
              0,
              "#0d0887"
             ],
             [
              0.1111111111111111,
              "#46039f"
             ],
             [
              0.2222222222222222,
              "#7201a8"
             ],
             [
              0.3333333333333333,
              "#9c179e"
             ],
             [
              0.4444444444444444,
              "#bd3786"
             ],
             [
              0.5555555555555556,
              "#d8576b"
             ],
             [
              0.6666666666666666,
              "#ed7953"
             ],
             [
              0.7777777777777778,
              "#fb9f3a"
             ],
             [
              0.8888888888888888,
              "#fdca26"
             ],
             [
              1,
              "#f0f921"
             ]
            ],
            "type": "histogram2dcontour"
           }
          ],
          "mesh3d": [
           {
            "colorbar": {
             "outlinewidth": 0,
             "ticks": ""
            },
            "type": "mesh3d"
           }
          ],
          "parcoords": [
           {
            "line": {
             "colorbar": {
              "outlinewidth": 0,
              "ticks": ""
             }
            },
            "type": "parcoords"
           }
          ],
          "pie": [
           {
            "automargin": true,
            "type": "pie"
           }
          ],
          "scatter": [
           {
            "fillpattern": {
             "fillmode": "overlay",
             "size": 10,
             "solidity": 0.2
            },
            "type": "scatter"
           }
          ],
          "scatter3d": [
           {
            "line": {
             "colorbar": {
              "outlinewidth": 0,
              "ticks": ""
             }
            },
            "marker": {
             "colorbar": {
              "outlinewidth": 0,
              "ticks": ""
             }
            },
            "type": "scatter3d"
           }
          ],
          "scattercarpet": [
           {
            "marker": {
             "colorbar": {
              "outlinewidth": 0,
              "ticks": ""
             }
            },
            "type": "scattercarpet"
           }
          ],
          "scattergeo": [
           {
            "marker": {
             "colorbar": {
              "outlinewidth": 0,
              "ticks": ""
             }
            },
            "type": "scattergeo"
           }
          ],
          "scattergl": [
           {
            "marker": {
             "colorbar": {
              "outlinewidth": 0,
              "ticks": ""
             }
            },
            "type": "scattergl"
           }
          ],
          "scattermapbox": [
           {
            "marker": {
             "colorbar": {
              "outlinewidth": 0,
              "ticks": ""
             }
            },
            "type": "scattermapbox"
           }
          ],
          "scatterpolar": [
           {
            "marker": {
             "colorbar": {
              "outlinewidth": 0,
              "ticks": ""
             }
            },
            "type": "scatterpolar"
           }
          ],
          "scatterpolargl": [
           {
            "marker": {
             "colorbar": {
              "outlinewidth": 0,
              "ticks": ""
             }
            },
            "type": "scatterpolargl"
           }
          ],
          "scatterternary": [
           {
            "marker": {
             "colorbar": {
              "outlinewidth": 0,
              "ticks": ""
             }
            },
            "type": "scatterternary"
           }
          ],
          "surface": [
           {
            "colorbar": {
             "outlinewidth": 0,
             "ticks": ""
            },
            "colorscale": [
             [
              0,
              "#0d0887"
             ],
             [
              0.1111111111111111,
              "#46039f"
             ],
             [
              0.2222222222222222,
              "#7201a8"
             ],
             [
              0.3333333333333333,
              "#9c179e"
             ],
             [
              0.4444444444444444,
              "#bd3786"
             ],
             [
              0.5555555555555556,
              "#d8576b"
             ],
             [
              0.6666666666666666,
              "#ed7953"
             ],
             [
              0.7777777777777778,
              "#fb9f3a"
             ],
             [
              0.8888888888888888,
              "#fdca26"
             ],
             [
              1,
              "#f0f921"
             ]
            ],
            "type": "surface"
           }
          ],
          "table": [
           {
            "cells": {
             "fill": {
              "color": "#EBF0F8"
             },
             "line": {
              "color": "white"
             }
            },
            "header": {
             "fill": {
              "color": "#C8D4E3"
             },
             "line": {
              "color": "white"
             }
            },
            "type": "table"
           }
          ]
         },
         "layout": {
          "annotationdefaults": {
           "arrowcolor": "#2a3f5f",
           "arrowhead": 0,
           "arrowwidth": 1
          },
          "autotypenumbers": "strict",
          "coloraxis": {
           "colorbar": {
            "outlinewidth": 0,
            "ticks": ""
           }
          },
          "colorscale": {
           "diverging": [
            [
             0,
             "#8e0152"
            ],
            [
             0.1,
             "#c51b7d"
            ],
            [
             0.2,
             "#de77ae"
            ],
            [
             0.3,
             "#f1b6da"
            ],
            [
             0.4,
             "#fde0ef"
            ],
            [
             0.5,
             "#f7f7f7"
            ],
            [
             0.6,
             "#e6f5d0"
            ],
            [
             0.7,
             "#b8e186"
            ],
            [
             0.8,
             "#7fbc41"
            ],
            [
             0.9,
             "#4d9221"
            ],
            [
             1,
             "#276419"
            ]
           ],
           "sequential": [
            [
             0,
             "#0d0887"
            ],
            [
             0.1111111111111111,
             "#46039f"
            ],
            [
             0.2222222222222222,
             "#7201a8"
            ],
            [
             0.3333333333333333,
             "#9c179e"
            ],
            [
             0.4444444444444444,
             "#bd3786"
            ],
            [
             0.5555555555555556,
             "#d8576b"
            ],
            [
             0.6666666666666666,
             "#ed7953"
            ],
            [
             0.7777777777777778,
             "#fb9f3a"
            ],
            [
             0.8888888888888888,
             "#fdca26"
            ],
            [
             1,
             "#f0f921"
            ]
           ],
           "sequentialminus": [
            [
             0,
             "#0d0887"
            ],
            [
             0.1111111111111111,
             "#46039f"
            ],
            [
             0.2222222222222222,
             "#7201a8"
            ],
            [
             0.3333333333333333,
             "#9c179e"
            ],
            [
             0.4444444444444444,
             "#bd3786"
            ],
            [
             0.5555555555555556,
             "#d8576b"
            ],
            [
             0.6666666666666666,
             "#ed7953"
            ],
            [
             0.7777777777777778,
             "#fb9f3a"
            ],
            [
             0.8888888888888888,
             "#fdca26"
            ],
            [
             1,
             "#f0f921"
            ]
           ]
          },
          "colorway": [
           "#636efa",
           "#EF553B",
           "#00cc96",
           "#ab63fa",
           "#FFA15A",
           "#19d3f3",
           "#FF6692",
           "#B6E880",
           "#FF97FF",
           "#FECB52"
          ],
          "font": {
           "color": "#2a3f5f"
          },
          "geo": {
           "bgcolor": "white",
           "lakecolor": "white",
           "landcolor": "#E5ECF6",
           "showlakes": true,
           "showland": true,
           "subunitcolor": "white"
          },
          "hoverlabel": {
           "align": "left"
          },
          "hovermode": "closest",
          "mapbox": {
           "style": "light"
          },
          "paper_bgcolor": "white",
          "plot_bgcolor": "#E5ECF6",
          "polar": {
           "angularaxis": {
            "gridcolor": "white",
            "linecolor": "white",
            "ticks": ""
           },
           "bgcolor": "#E5ECF6",
           "radialaxis": {
            "gridcolor": "white",
            "linecolor": "white",
            "ticks": ""
           }
          },
          "scene": {
           "xaxis": {
            "backgroundcolor": "#E5ECF6",
            "gridcolor": "white",
            "gridwidth": 2,
            "linecolor": "white",
            "showbackground": true,
            "ticks": "",
            "zerolinecolor": "white"
           },
           "yaxis": {
            "backgroundcolor": "#E5ECF6",
            "gridcolor": "white",
            "gridwidth": 2,
            "linecolor": "white",
            "showbackground": true,
            "ticks": "",
            "zerolinecolor": "white"
           },
           "zaxis": {
            "backgroundcolor": "#E5ECF6",
            "gridcolor": "white",
            "gridwidth": 2,
            "linecolor": "white",
            "showbackground": true,
            "ticks": "",
            "zerolinecolor": "white"
           }
          },
          "shapedefaults": {
           "line": {
            "color": "#2a3f5f"
           }
          },
          "ternary": {
           "aaxis": {
            "gridcolor": "white",
            "linecolor": "white",
            "ticks": ""
           },
           "baxis": {
            "gridcolor": "white",
            "linecolor": "white",
            "ticks": ""
           },
           "bgcolor": "#E5ECF6",
           "caxis": {
            "gridcolor": "white",
            "linecolor": "white",
            "ticks": ""
           }
          },
          "title": {
           "x": 0.05
          },
          "xaxis": {
           "automargin": true,
           "gridcolor": "white",
           "linecolor": "white",
           "ticks": "",
           "title": {
            "standoff": 15
           },
           "zerolinecolor": "white",
           "zerolinewidth": 2
          },
          "yaxis": {
           "automargin": true,
           "gridcolor": "white",
           "linecolor": "white",
           "ticks": "",
           "title": {
            "standoff": 15
           },
           "zerolinecolor": "white",
           "zerolinewidth": 2
          }
         }
        },
        "xaxis": {
         "anchor": "y",
         "domain": [
          0,
          1
         ],
         "title": {
          "text": "variable"
         }
        },
        "yaxis": {
         "anchor": "x",
         "domain": [
          0,
          1
         ],
         "title": {
          "text": "value"
         }
        }
       }
      },
      "text/html": [
       "<div>                            <div id=\"d62ae5b4-03ff-43c8-8ad4-0a67b2d1e7dc\" class=\"plotly-graph-div\" style=\"height:525px; width:100%;\"></div>            <script type=\"text/javascript\">                require([\"plotly\"], function(Plotly) {                    window.PLOTLYENV=window.PLOTLYENV || {};                                    if (document.getElementById(\"d62ae5b4-03ff-43c8-8ad4-0a67b2d1e7dc\")) {                    Plotly.newPlot(                        \"d62ae5b4-03ff-43c8-8ad4-0a67b2d1e7dc\",                        [{\"alignmentgroup\":\"True\",\"hovertemplate\":\"variable=%{x}<br>value=%{y}<extra></extra>\",\"legendgroup\":\"\",\"marker\":{\"color\":\"#636efa\"},\"name\":\"\",\"notched\":false,\"offsetgroup\":\"\",\"orientation\":\"v\",\"showlegend\":false,\"x\":[\"ratingsNo\",\"ratingsNo\",\"ratingsNo\",\"ratingsNo\",\"ratingsNo\",\"ratingsNo\",\"ratingsNo\",\"ratingsNo\",\"ratingsNo\",\"ratingsNo\",\"ratingsNo\",\"ratingsNo\",\"ratingsNo\",\"ratingsNo\",\"ratingsNo\",\"ratingsNo\",\"ratingsNo\",\"ratingsNo\",\"ratingsNo\",\"ratingsNo\",\"ratingsNo\",\"ratingsNo\",\"ratingsNo\",\"ratingsNo\",\"ratingsNo\",\"ratingsNo\",\"ratingsNo\",\"ratingsNo\",\"ratingsNo\",\"ratingsNo\",\"ratingsNo\",\"ratingsNo\",\"ratingsNo\",\"ratingsNo\",\"ratingsNo\",\"ratingsNo\",\"ratingsNo\",\"ratingsNo\",\"ratingsNo\",\"ratingsNo\",\"ratingsNo\",\"ratingsNo\",\"ratingsNo\",\"ratingsNo\",\"ratingsNo\",\"ratingsNo\",\"ratingsNo\",\"ratingsNo\",\"ratingsNo\",\"ratingsNo\",\"ratingsNo\",\"ratingsNo\",\"ratingsNo\",\"ratingsNo\",\"ratingsNo\",\"ratingsNo\",\"ratingsNo\",\"ratingsNo\",\"ratingsNo\"],\"x0\":\" \",\"xaxis\":\"x\",\"y\":[597.0,8532.0,69.0,8521.0,8364.0,12602.0,9042.0,736.0,8033.0,2082.0,8521.0,8033.0,8364.0,8532.0,8532.0,1365.0,2082.0,597.0,8033.0,8033.0,8521.0,8364.0,1719.0,1396.0,2431.0,7092.0,8364.0,970.0,2867.0,8521.0,13203.0,1396.0,2909.0,870.0,4016.0,24.0,2687.0,13203.0,2909.0,61.0,8118.819444444444,4606.0,1396.0,16.0,8118.819444444444,1.0,3.0,8118.819444444444,339.0,13.0,2867.0,2867.0,4606.0,2909.0,654.0,1989.0,1719.0,859.0,20.0],\"y0\":\" \",\"yaxis\":\"y\",\"type\":\"box\"}],                        {\"template\":{\"data\":{\"histogram2dcontour\":[{\"type\":\"histogram2dcontour\",\"colorbar\":{\"outlinewidth\":0,\"ticks\":\"\"},\"colorscale\":[[0.0,\"#0d0887\"],[0.1111111111111111,\"#46039f\"],[0.2222222222222222,\"#7201a8\"],[0.3333333333333333,\"#9c179e\"],[0.4444444444444444,\"#bd3786\"],[0.5555555555555556,\"#d8576b\"],[0.6666666666666666,\"#ed7953\"],[0.7777777777777778,\"#fb9f3a\"],[0.8888888888888888,\"#fdca26\"],[1.0,\"#f0f921\"]]}],\"choropleth\":[{\"type\":\"choropleth\",\"colorbar\":{\"outlinewidth\":0,\"ticks\":\"\"}}],\"histogram2d\":[{\"type\":\"histogram2d\",\"colorbar\":{\"outlinewidth\":0,\"ticks\":\"\"},\"colorscale\":[[0.0,\"#0d0887\"],[0.1111111111111111,\"#46039f\"],[0.2222222222222222,\"#7201a8\"],[0.3333333333333333,\"#9c179e\"],[0.4444444444444444,\"#bd3786\"],[0.5555555555555556,\"#d8576b\"],[0.6666666666666666,\"#ed7953\"],[0.7777777777777778,\"#fb9f3a\"],[0.8888888888888888,\"#fdca26\"],[1.0,\"#f0f921\"]]}],\"heatmap\":[{\"type\":\"heatmap\",\"colorbar\":{\"outlinewidth\":0,\"ticks\":\"\"},\"colorscale\":[[0.0,\"#0d0887\"],[0.1111111111111111,\"#46039f\"],[0.2222222222222222,\"#7201a8\"],[0.3333333333333333,\"#9c179e\"],[0.4444444444444444,\"#bd3786\"],[0.5555555555555556,\"#d8576b\"],[0.6666666666666666,\"#ed7953\"],[0.7777777777777778,\"#fb9f3a\"],[0.8888888888888888,\"#fdca26\"],[1.0,\"#f0f921\"]]}],\"heatmapgl\":[{\"type\":\"heatmapgl\",\"colorbar\":{\"outlinewidth\":0,\"ticks\":\"\"},\"colorscale\":[[0.0,\"#0d0887\"],[0.1111111111111111,\"#46039f\"],[0.2222222222222222,\"#7201a8\"],[0.3333333333333333,\"#9c179e\"],[0.4444444444444444,\"#bd3786\"],[0.5555555555555556,\"#d8576b\"],[0.6666666666666666,\"#ed7953\"],[0.7777777777777778,\"#fb9f3a\"],[0.8888888888888888,\"#fdca26\"],[1.0,\"#f0f921\"]]}],\"contourcarpet\":[{\"type\":\"contourcarpet\",\"colorbar\":{\"outlinewidth\":0,\"ticks\":\"\"}}],\"contour\":[{\"type\":\"contour\",\"colorbar\":{\"outlinewidth\":0,\"ticks\":\"\"},\"colorscale\":[[0.0,\"#0d0887\"],[0.1111111111111111,\"#46039f\"],[0.2222222222222222,\"#7201a8\"],[0.3333333333333333,\"#9c179e\"],[0.4444444444444444,\"#bd3786\"],[0.5555555555555556,\"#d8576b\"],[0.6666666666666666,\"#ed7953\"],[0.7777777777777778,\"#fb9f3a\"],[0.8888888888888888,\"#fdca26\"],[1.0,\"#f0f921\"]]}],\"surface\":[{\"type\":\"surface\",\"colorbar\":{\"outlinewidth\":0,\"ticks\":\"\"},\"colorscale\":[[0.0,\"#0d0887\"],[0.1111111111111111,\"#46039f\"],[0.2222222222222222,\"#7201a8\"],[0.3333333333333333,\"#9c179e\"],[0.4444444444444444,\"#bd3786\"],[0.5555555555555556,\"#d8576b\"],[0.6666666666666666,\"#ed7953\"],[0.7777777777777778,\"#fb9f3a\"],[0.8888888888888888,\"#fdca26\"],[1.0,\"#f0f921\"]]}],\"mesh3d\":[{\"type\":\"mesh3d\",\"colorbar\":{\"outlinewidth\":0,\"ticks\":\"\"}}],\"scatter\":[{\"fillpattern\":{\"fillmode\":\"overlay\",\"size\":10,\"solidity\":0.2},\"type\":\"scatter\"}],\"parcoords\":[{\"type\":\"parcoords\",\"line\":{\"colorbar\":{\"outlinewidth\":0,\"ticks\":\"\"}}}],\"scatterpolargl\":[{\"type\":\"scatterpolargl\",\"marker\":{\"colorbar\":{\"outlinewidth\":0,\"ticks\":\"\"}}}],\"bar\":[{\"error_x\":{\"color\":\"#2a3f5f\"},\"error_y\":{\"color\":\"#2a3f5f\"},\"marker\":{\"line\":{\"color\":\"#E5ECF6\",\"width\":0.5},\"pattern\":{\"fillmode\":\"overlay\",\"size\":10,\"solidity\":0.2}},\"type\":\"bar\"}],\"scattergeo\":[{\"type\":\"scattergeo\",\"marker\":{\"colorbar\":{\"outlinewidth\":0,\"ticks\":\"\"}}}],\"scatterpolar\":[{\"type\":\"scatterpolar\",\"marker\":{\"colorbar\":{\"outlinewidth\":0,\"ticks\":\"\"}}}],\"histogram\":[{\"marker\":{\"pattern\":{\"fillmode\":\"overlay\",\"size\":10,\"solidity\":0.2}},\"type\":\"histogram\"}],\"scattergl\":[{\"type\":\"scattergl\",\"marker\":{\"colorbar\":{\"outlinewidth\":0,\"ticks\":\"\"}}}],\"scatter3d\":[{\"type\":\"scatter3d\",\"line\":{\"colorbar\":{\"outlinewidth\":0,\"ticks\":\"\"}},\"marker\":{\"colorbar\":{\"outlinewidth\":0,\"ticks\":\"\"}}}],\"scattermapbox\":[{\"type\":\"scattermapbox\",\"marker\":{\"colorbar\":{\"outlinewidth\":0,\"ticks\":\"\"}}}],\"scatterternary\":[{\"type\":\"scatterternary\",\"marker\":{\"colorbar\":{\"outlinewidth\":0,\"ticks\":\"\"}}}],\"scattercarpet\":[{\"type\":\"scattercarpet\",\"marker\":{\"colorbar\":{\"outlinewidth\":0,\"ticks\":\"\"}}}],\"carpet\":[{\"aaxis\":{\"endlinecolor\":\"#2a3f5f\",\"gridcolor\":\"white\",\"linecolor\":\"white\",\"minorgridcolor\":\"white\",\"startlinecolor\":\"#2a3f5f\"},\"baxis\":{\"endlinecolor\":\"#2a3f5f\",\"gridcolor\":\"white\",\"linecolor\":\"white\",\"minorgridcolor\":\"white\",\"startlinecolor\":\"#2a3f5f\"},\"type\":\"carpet\"}],\"table\":[{\"cells\":{\"fill\":{\"color\":\"#EBF0F8\"},\"line\":{\"color\":\"white\"}},\"header\":{\"fill\":{\"color\":\"#C8D4E3\"},\"line\":{\"color\":\"white\"}},\"type\":\"table\"}],\"barpolar\":[{\"marker\":{\"line\":{\"color\":\"#E5ECF6\",\"width\":0.5},\"pattern\":{\"fillmode\":\"overlay\",\"size\":10,\"solidity\":0.2}},\"type\":\"barpolar\"}],\"pie\":[{\"automargin\":true,\"type\":\"pie\"}]},\"layout\":{\"autotypenumbers\":\"strict\",\"colorway\":[\"#636efa\",\"#EF553B\",\"#00cc96\",\"#ab63fa\",\"#FFA15A\",\"#19d3f3\",\"#FF6692\",\"#B6E880\",\"#FF97FF\",\"#FECB52\"],\"font\":{\"color\":\"#2a3f5f\"},\"hovermode\":\"closest\",\"hoverlabel\":{\"align\":\"left\"},\"paper_bgcolor\":\"white\",\"plot_bgcolor\":\"#E5ECF6\",\"polar\":{\"bgcolor\":\"#E5ECF6\",\"angularaxis\":{\"gridcolor\":\"white\",\"linecolor\":\"white\",\"ticks\":\"\"},\"radialaxis\":{\"gridcolor\":\"white\",\"linecolor\":\"white\",\"ticks\":\"\"}},\"ternary\":{\"bgcolor\":\"#E5ECF6\",\"aaxis\":{\"gridcolor\":\"white\",\"linecolor\":\"white\",\"ticks\":\"\"},\"baxis\":{\"gridcolor\":\"white\",\"linecolor\":\"white\",\"ticks\":\"\"},\"caxis\":{\"gridcolor\":\"white\",\"linecolor\":\"white\",\"ticks\":\"\"}},\"coloraxis\":{\"colorbar\":{\"outlinewidth\":0,\"ticks\":\"\"}},\"colorscale\":{\"sequential\":[[0.0,\"#0d0887\"],[0.1111111111111111,\"#46039f\"],[0.2222222222222222,\"#7201a8\"],[0.3333333333333333,\"#9c179e\"],[0.4444444444444444,\"#bd3786\"],[0.5555555555555556,\"#d8576b\"],[0.6666666666666666,\"#ed7953\"],[0.7777777777777778,\"#fb9f3a\"],[0.8888888888888888,\"#fdca26\"],[1.0,\"#f0f921\"]],\"sequentialminus\":[[0.0,\"#0d0887\"],[0.1111111111111111,\"#46039f\"],[0.2222222222222222,\"#7201a8\"],[0.3333333333333333,\"#9c179e\"],[0.4444444444444444,\"#bd3786\"],[0.5555555555555556,\"#d8576b\"],[0.6666666666666666,\"#ed7953\"],[0.7777777777777778,\"#fb9f3a\"],[0.8888888888888888,\"#fdca26\"],[1.0,\"#f0f921\"]],\"diverging\":[[0,\"#8e0152\"],[0.1,\"#c51b7d\"],[0.2,\"#de77ae\"],[0.3,\"#f1b6da\"],[0.4,\"#fde0ef\"],[0.5,\"#f7f7f7\"],[0.6,\"#e6f5d0\"],[0.7,\"#b8e186\"],[0.8,\"#7fbc41\"],[0.9,\"#4d9221\"],[1,\"#276419\"]]},\"xaxis\":{\"gridcolor\":\"white\",\"linecolor\":\"white\",\"ticks\":\"\",\"title\":{\"standoff\":15},\"zerolinecolor\":\"white\",\"automargin\":true,\"zerolinewidth\":2},\"yaxis\":{\"gridcolor\":\"white\",\"linecolor\":\"white\",\"ticks\":\"\",\"title\":{\"standoff\":15},\"zerolinecolor\":\"white\",\"automargin\":true,\"zerolinewidth\":2},\"scene\":{\"xaxis\":{\"backgroundcolor\":\"#E5ECF6\",\"gridcolor\":\"white\",\"linecolor\":\"white\",\"showbackground\":true,\"ticks\":\"\",\"zerolinecolor\":\"white\",\"gridwidth\":2},\"yaxis\":{\"backgroundcolor\":\"#E5ECF6\",\"gridcolor\":\"white\",\"linecolor\":\"white\",\"showbackground\":true,\"ticks\":\"\",\"zerolinecolor\":\"white\",\"gridwidth\":2},\"zaxis\":{\"backgroundcolor\":\"#E5ECF6\",\"gridcolor\":\"white\",\"linecolor\":\"white\",\"showbackground\":true,\"ticks\":\"\",\"zerolinecolor\":\"white\",\"gridwidth\":2}},\"shapedefaults\":{\"line\":{\"color\":\"#2a3f5f\"}},\"annotationdefaults\":{\"arrowcolor\":\"#2a3f5f\",\"arrowhead\":0,\"arrowwidth\":1},\"geo\":{\"bgcolor\":\"white\",\"landcolor\":\"#E5ECF6\",\"subunitcolor\":\"white\",\"showland\":true,\"showlakes\":true,\"lakecolor\":\"white\"},\"title\":{\"x\":0.05},\"mapbox\":{\"style\":\"light\"}}},\"xaxis\":{\"anchor\":\"y\",\"domain\":[0.0,1.0],\"title\":{\"text\":\"variable\"}},\"yaxis\":{\"anchor\":\"x\",\"domain\":[0.0,1.0],\"title\":{\"text\":\"value\"}},\"legend\":{\"tracegroupgap\":0},\"margin\":{\"t\":60},\"boxmode\":\"group\"},                        {\"responsive\": true}                    ).then(function(){\n",
       "                            \n",
       "var gd = document.getElementById('d62ae5b4-03ff-43c8-8ad4-0a67b2d1e7dc');\n",
       "var x = new MutationObserver(function (mutations, observer) {{\n",
       "        var display = window.getComputedStyle(gd).display;\n",
       "        if (!display || display === 'none') {{\n",
       "            console.log([gd, 'removed!']);\n",
       "            Plotly.purge(gd);\n",
       "            observer.disconnect();\n",
       "        }}\n",
       "}});\n",
       "\n",
       "// Listen for the removal of the full notebook cells\n",
       "var notebookContainer = gd.closest('#notebook-container');\n",
       "if (notebookContainer) {{\n",
       "    x.observe(notebookContainer, {childList: true});\n",
       "}}\n",
       "\n",
       "// Listen for the clearing of the current output cell\n",
       "var outputEl = gd.closest('.output');\n",
       "if (outputEl) {{\n",
       "    x.observe(outputEl, {childList: true});\n",
       "}}\n",
       "\n",
       "                        })                };                });            </script>        </div>"
      ]
     },
     "metadata": {},
     "output_type": "display_data"
    }
   ],
   "source": [
    "plot = px.box(df['ratingsNo'])\n",
    "plot.show()"
   ]
  },
  {
   "cell_type": "code",
   "execution_count": 147,
   "id": "562d7167",
   "metadata": {},
   "outputs": [
    {
     "data": {
      "application/vnd.plotly.v1+json": {
       "config": {
        "plotlyServerURL": "https://plot.ly"
       },
       "data": [
        {
         "alignmentgroup": "True",
         "hovertemplate": "variable=%{x}<br>value=%{y}<extra></extra>",
         "legendgroup": "",
         "marker": {
          "color": "#636efa"
         },
         "name": "",
         "notched": false,
         "offsetgroup": "",
         "orientation": "v",
         "showlegend": false,
         "type": "box",
         "x": [
          "ratings",
          "ratings",
          "ratings",
          "ratings",
          "ratings",
          "ratings",
          "ratings",
          "ratings",
          "ratings",
          "ratings",
          "ratings",
          "ratings",
          "ratings",
          "ratings",
          "ratings",
          "ratings",
          "ratings",
          "ratings",
          "ratings",
          "ratings",
          "ratings",
          "ratings",
          "ratings",
          "ratings",
          "ratings",
          "ratings",
          "ratings",
          "ratings",
          "ratings",
          "ratings",
          "ratings",
          "ratings",
          "ratings",
          "ratings",
          "ratings",
          "ratings",
          "ratings",
          "ratings",
          "ratings",
          "ratings",
          "ratings",
          "ratings",
          "ratings",
          "ratings",
          "ratings",
          "ratings",
          "ratings",
          "ratings",
          "ratings",
          "ratings",
          "ratings",
          "ratings",
          "ratings",
          "ratings",
          "ratings",
          "ratings",
          "ratings",
          "ratings",
          "ratings"
         ],
         "x0": " ",
         "xaxis": "x",
         "y": [
          4.4,
          4.2,
          4,
          4.4,
          4.7,
          4.3,
          4.4,
          4.3,
          4.3,
          4.1,
          4.4,
          4.3,
          4.7,
          4.5,
          4.5,
          4.2,
          4.1,
          4.4,
          4.3,
          4.3,
          4.4,
          4.7,
          4.3,
          4.6,
          4.3,
          4.1,
          4.7,
          4.3,
          4.1,
          4.4,
          4.2,
          4.6,
          4.4,
          4.7,
          4.5,
          4.4,
          4.1,
          4.2,
          4.4,
          4.5,
          4.5,
          4.3,
          4.6,
          4.5,
          4.317808219178082,
          4.5,
          4.5,
          4.317808219178082,
          4.3,
          3.9,
          4.1,
          4.1,
          4.3,
          4.4,
          4.1,
          4.3,
          4.3,
          4.1,
          4.5
         ],
         "y0": " ",
         "yaxis": "y"
        }
       ],
       "layout": {
        "boxmode": "group",
        "legend": {
         "tracegroupgap": 0
        },
        "margin": {
         "t": 60
        },
        "template": {
         "data": {
          "bar": [
           {
            "error_x": {
             "color": "#2a3f5f"
            },
            "error_y": {
             "color": "#2a3f5f"
            },
            "marker": {
             "line": {
              "color": "#E5ECF6",
              "width": 0.5
             },
             "pattern": {
              "fillmode": "overlay",
              "size": 10,
              "solidity": 0.2
             }
            },
            "type": "bar"
           }
          ],
          "barpolar": [
           {
            "marker": {
             "line": {
              "color": "#E5ECF6",
              "width": 0.5
             },
             "pattern": {
              "fillmode": "overlay",
              "size": 10,
              "solidity": 0.2
             }
            },
            "type": "barpolar"
           }
          ],
          "carpet": [
           {
            "aaxis": {
             "endlinecolor": "#2a3f5f",
             "gridcolor": "white",
             "linecolor": "white",
             "minorgridcolor": "white",
             "startlinecolor": "#2a3f5f"
            },
            "baxis": {
             "endlinecolor": "#2a3f5f",
             "gridcolor": "white",
             "linecolor": "white",
             "minorgridcolor": "white",
             "startlinecolor": "#2a3f5f"
            },
            "type": "carpet"
           }
          ],
          "choropleth": [
           {
            "colorbar": {
             "outlinewidth": 0,
             "ticks": ""
            },
            "type": "choropleth"
           }
          ],
          "contour": [
           {
            "colorbar": {
             "outlinewidth": 0,
             "ticks": ""
            },
            "colorscale": [
             [
              0,
              "#0d0887"
             ],
             [
              0.1111111111111111,
              "#46039f"
             ],
             [
              0.2222222222222222,
              "#7201a8"
             ],
             [
              0.3333333333333333,
              "#9c179e"
             ],
             [
              0.4444444444444444,
              "#bd3786"
             ],
             [
              0.5555555555555556,
              "#d8576b"
             ],
             [
              0.6666666666666666,
              "#ed7953"
             ],
             [
              0.7777777777777778,
              "#fb9f3a"
             ],
             [
              0.8888888888888888,
              "#fdca26"
             ],
             [
              1,
              "#f0f921"
             ]
            ],
            "type": "contour"
           }
          ],
          "contourcarpet": [
           {
            "colorbar": {
             "outlinewidth": 0,
             "ticks": ""
            },
            "type": "contourcarpet"
           }
          ],
          "heatmap": [
           {
            "colorbar": {
             "outlinewidth": 0,
             "ticks": ""
            },
            "colorscale": [
             [
              0,
              "#0d0887"
             ],
             [
              0.1111111111111111,
              "#46039f"
             ],
             [
              0.2222222222222222,
              "#7201a8"
             ],
             [
              0.3333333333333333,
              "#9c179e"
             ],
             [
              0.4444444444444444,
              "#bd3786"
             ],
             [
              0.5555555555555556,
              "#d8576b"
             ],
             [
              0.6666666666666666,
              "#ed7953"
             ],
             [
              0.7777777777777778,
              "#fb9f3a"
             ],
             [
              0.8888888888888888,
              "#fdca26"
             ],
             [
              1,
              "#f0f921"
             ]
            ],
            "type": "heatmap"
           }
          ],
          "heatmapgl": [
           {
            "colorbar": {
             "outlinewidth": 0,
             "ticks": ""
            },
            "colorscale": [
             [
              0,
              "#0d0887"
             ],
             [
              0.1111111111111111,
              "#46039f"
             ],
             [
              0.2222222222222222,
              "#7201a8"
             ],
             [
              0.3333333333333333,
              "#9c179e"
             ],
             [
              0.4444444444444444,
              "#bd3786"
             ],
             [
              0.5555555555555556,
              "#d8576b"
             ],
             [
              0.6666666666666666,
              "#ed7953"
             ],
             [
              0.7777777777777778,
              "#fb9f3a"
             ],
             [
              0.8888888888888888,
              "#fdca26"
             ],
             [
              1,
              "#f0f921"
             ]
            ],
            "type": "heatmapgl"
           }
          ],
          "histogram": [
           {
            "marker": {
             "pattern": {
              "fillmode": "overlay",
              "size": 10,
              "solidity": 0.2
             }
            },
            "type": "histogram"
           }
          ],
          "histogram2d": [
           {
            "colorbar": {
             "outlinewidth": 0,
             "ticks": ""
            },
            "colorscale": [
             [
              0,
              "#0d0887"
             ],
             [
              0.1111111111111111,
              "#46039f"
             ],
             [
              0.2222222222222222,
              "#7201a8"
             ],
             [
              0.3333333333333333,
              "#9c179e"
             ],
             [
              0.4444444444444444,
              "#bd3786"
             ],
             [
              0.5555555555555556,
              "#d8576b"
             ],
             [
              0.6666666666666666,
              "#ed7953"
             ],
             [
              0.7777777777777778,
              "#fb9f3a"
             ],
             [
              0.8888888888888888,
              "#fdca26"
             ],
             [
              1,
              "#f0f921"
             ]
            ],
            "type": "histogram2d"
           }
          ],
          "histogram2dcontour": [
           {
            "colorbar": {
             "outlinewidth": 0,
             "ticks": ""
            },
            "colorscale": [
             [
              0,
              "#0d0887"
             ],
             [
              0.1111111111111111,
              "#46039f"
             ],
             [
              0.2222222222222222,
              "#7201a8"
             ],
             [
              0.3333333333333333,
              "#9c179e"
             ],
             [
              0.4444444444444444,
              "#bd3786"
             ],
             [
              0.5555555555555556,
              "#d8576b"
             ],
             [
              0.6666666666666666,
              "#ed7953"
             ],
             [
              0.7777777777777778,
              "#fb9f3a"
             ],
             [
              0.8888888888888888,
              "#fdca26"
             ],
             [
              1,
              "#f0f921"
             ]
            ],
            "type": "histogram2dcontour"
           }
          ],
          "mesh3d": [
           {
            "colorbar": {
             "outlinewidth": 0,
             "ticks": ""
            },
            "type": "mesh3d"
           }
          ],
          "parcoords": [
           {
            "line": {
             "colorbar": {
              "outlinewidth": 0,
              "ticks": ""
             }
            },
            "type": "parcoords"
           }
          ],
          "pie": [
           {
            "automargin": true,
            "type": "pie"
           }
          ],
          "scatter": [
           {
            "fillpattern": {
             "fillmode": "overlay",
             "size": 10,
             "solidity": 0.2
            },
            "type": "scatter"
           }
          ],
          "scatter3d": [
           {
            "line": {
             "colorbar": {
              "outlinewidth": 0,
              "ticks": ""
             }
            },
            "marker": {
             "colorbar": {
              "outlinewidth": 0,
              "ticks": ""
             }
            },
            "type": "scatter3d"
           }
          ],
          "scattercarpet": [
           {
            "marker": {
             "colorbar": {
              "outlinewidth": 0,
              "ticks": ""
             }
            },
            "type": "scattercarpet"
           }
          ],
          "scattergeo": [
           {
            "marker": {
             "colorbar": {
              "outlinewidth": 0,
              "ticks": ""
             }
            },
            "type": "scattergeo"
           }
          ],
          "scattergl": [
           {
            "marker": {
             "colorbar": {
              "outlinewidth": 0,
              "ticks": ""
             }
            },
            "type": "scattergl"
           }
          ],
          "scattermapbox": [
           {
            "marker": {
             "colorbar": {
              "outlinewidth": 0,
              "ticks": ""
             }
            },
            "type": "scattermapbox"
           }
          ],
          "scatterpolar": [
           {
            "marker": {
             "colorbar": {
              "outlinewidth": 0,
              "ticks": ""
             }
            },
            "type": "scatterpolar"
           }
          ],
          "scatterpolargl": [
           {
            "marker": {
             "colorbar": {
              "outlinewidth": 0,
              "ticks": ""
             }
            },
            "type": "scatterpolargl"
           }
          ],
          "scatterternary": [
           {
            "marker": {
             "colorbar": {
              "outlinewidth": 0,
              "ticks": ""
             }
            },
            "type": "scatterternary"
           }
          ],
          "surface": [
           {
            "colorbar": {
             "outlinewidth": 0,
             "ticks": ""
            },
            "colorscale": [
             [
              0,
              "#0d0887"
             ],
             [
              0.1111111111111111,
              "#46039f"
             ],
             [
              0.2222222222222222,
              "#7201a8"
             ],
             [
              0.3333333333333333,
              "#9c179e"
             ],
             [
              0.4444444444444444,
              "#bd3786"
             ],
             [
              0.5555555555555556,
              "#d8576b"
             ],
             [
              0.6666666666666666,
              "#ed7953"
             ],
             [
              0.7777777777777778,
              "#fb9f3a"
             ],
             [
              0.8888888888888888,
              "#fdca26"
             ],
             [
              1,
              "#f0f921"
             ]
            ],
            "type": "surface"
           }
          ],
          "table": [
           {
            "cells": {
             "fill": {
              "color": "#EBF0F8"
             },
             "line": {
              "color": "white"
             }
            },
            "header": {
             "fill": {
              "color": "#C8D4E3"
             },
             "line": {
              "color": "white"
             }
            },
            "type": "table"
           }
          ]
         },
         "layout": {
          "annotationdefaults": {
           "arrowcolor": "#2a3f5f",
           "arrowhead": 0,
           "arrowwidth": 1
          },
          "autotypenumbers": "strict",
          "coloraxis": {
           "colorbar": {
            "outlinewidth": 0,
            "ticks": ""
           }
          },
          "colorscale": {
           "diverging": [
            [
             0,
             "#8e0152"
            ],
            [
             0.1,
             "#c51b7d"
            ],
            [
             0.2,
             "#de77ae"
            ],
            [
             0.3,
             "#f1b6da"
            ],
            [
             0.4,
             "#fde0ef"
            ],
            [
             0.5,
             "#f7f7f7"
            ],
            [
             0.6,
             "#e6f5d0"
            ],
            [
             0.7,
             "#b8e186"
            ],
            [
             0.8,
             "#7fbc41"
            ],
            [
             0.9,
             "#4d9221"
            ],
            [
             1,
             "#276419"
            ]
           ],
           "sequential": [
            [
             0,
             "#0d0887"
            ],
            [
             0.1111111111111111,
             "#46039f"
            ],
            [
             0.2222222222222222,
             "#7201a8"
            ],
            [
             0.3333333333333333,
             "#9c179e"
            ],
            [
             0.4444444444444444,
             "#bd3786"
            ],
            [
             0.5555555555555556,
             "#d8576b"
            ],
            [
             0.6666666666666666,
             "#ed7953"
            ],
            [
             0.7777777777777778,
             "#fb9f3a"
            ],
            [
             0.8888888888888888,
             "#fdca26"
            ],
            [
             1,
             "#f0f921"
            ]
           ],
           "sequentialminus": [
            [
             0,
             "#0d0887"
            ],
            [
             0.1111111111111111,
             "#46039f"
            ],
            [
             0.2222222222222222,
             "#7201a8"
            ],
            [
             0.3333333333333333,
             "#9c179e"
            ],
            [
             0.4444444444444444,
             "#bd3786"
            ],
            [
             0.5555555555555556,
             "#d8576b"
            ],
            [
             0.6666666666666666,
             "#ed7953"
            ],
            [
             0.7777777777777778,
             "#fb9f3a"
            ],
            [
             0.8888888888888888,
             "#fdca26"
            ],
            [
             1,
             "#f0f921"
            ]
           ]
          },
          "colorway": [
           "#636efa",
           "#EF553B",
           "#00cc96",
           "#ab63fa",
           "#FFA15A",
           "#19d3f3",
           "#FF6692",
           "#B6E880",
           "#FF97FF",
           "#FECB52"
          ],
          "font": {
           "color": "#2a3f5f"
          },
          "geo": {
           "bgcolor": "white",
           "lakecolor": "white",
           "landcolor": "#E5ECF6",
           "showlakes": true,
           "showland": true,
           "subunitcolor": "white"
          },
          "hoverlabel": {
           "align": "left"
          },
          "hovermode": "closest",
          "mapbox": {
           "style": "light"
          },
          "paper_bgcolor": "white",
          "plot_bgcolor": "#E5ECF6",
          "polar": {
           "angularaxis": {
            "gridcolor": "white",
            "linecolor": "white",
            "ticks": ""
           },
           "bgcolor": "#E5ECF6",
           "radialaxis": {
            "gridcolor": "white",
            "linecolor": "white",
            "ticks": ""
           }
          },
          "scene": {
           "xaxis": {
            "backgroundcolor": "#E5ECF6",
            "gridcolor": "white",
            "gridwidth": 2,
            "linecolor": "white",
            "showbackground": true,
            "ticks": "",
            "zerolinecolor": "white"
           },
           "yaxis": {
            "backgroundcolor": "#E5ECF6",
            "gridcolor": "white",
            "gridwidth": 2,
            "linecolor": "white",
            "showbackground": true,
            "ticks": "",
            "zerolinecolor": "white"
           },
           "zaxis": {
            "backgroundcolor": "#E5ECF6",
            "gridcolor": "white",
            "gridwidth": 2,
            "linecolor": "white",
            "showbackground": true,
            "ticks": "",
            "zerolinecolor": "white"
           }
          },
          "shapedefaults": {
           "line": {
            "color": "#2a3f5f"
           }
          },
          "ternary": {
           "aaxis": {
            "gridcolor": "white",
            "linecolor": "white",
            "ticks": ""
           },
           "baxis": {
            "gridcolor": "white",
            "linecolor": "white",
            "ticks": ""
           },
           "bgcolor": "#E5ECF6",
           "caxis": {
            "gridcolor": "white",
            "linecolor": "white",
            "ticks": ""
           }
          },
          "title": {
           "x": 0.05
          },
          "xaxis": {
           "automargin": true,
           "gridcolor": "white",
           "linecolor": "white",
           "ticks": "",
           "title": {
            "standoff": 15
           },
           "zerolinecolor": "white",
           "zerolinewidth": 2
          },
          "yaxis": {
           "automargin": true,
           "gridcolor": "white",
           "linecolor": "white",
           "ticks": "",
           "title": {
            "standoff": 15
           },
           "zerolinecolor": "white",
           "zerolinewidth": 2
          }
         }
        },
        "xaxis": {
         "anchor": "y",
         "domain": [
          0,
          1
         ],
         "title": {
          "text": "variable"
         }
        },
        "yaxis": {
         "anchor": "x",
         "domain": [
          0,
          1
         ],
         "title": {
          "text": "value"
         }
        }
       }
      },
      "text/html": [
       "<div>                            <div id=\"751b84db-610c-4117-8c3b-eda3eb2676ed\" class=\"plotly-graph-div\" style=\"height:525px; width:100%;\"></div>            <script type=\"text/javascript\">                require([\"plotly\"], function(Plotly) {                    window.PLOTLYENV=window.PLOTLYENV || {};                                    if (document.getElementById(\"751b84db-610c-4117-8c3b-eda3eb2676ed\")) {                    Plotly.newPlot(                        \"751b84db-610c-4117-8c3b-eda3eb2676ed\",                        [{\"alignmentgroup\":\"True\",\"hovertemplate\":\"variable=%{x}<br>value=%{y}<extra></extra>\",\"legendgroup\":\"\",\"marker\":{\"color\":\"#636efa\"},\"name\":\"\",\"notched\":false,\"offsetgroup\":\"\",\"orientation\":\"v\",\"showlegend\":false,\"x\":[\"ratings\",\"ratings\",\"ratings\",\"ratings\",\"ratings\",\"ratings\",\"ratings\",\"ratings\",\"ratings\",\"ratings\",\"ratings\",\"ratings\",\"ratings\",\"ratings\",\"ratings\",\"ratings\",\"ratings\",\"ratings\",\"ratings\",\"ratings\",\"ratings\",\"ratings\",\"ratings\",\"ratings\",\"ratings\",\"ratings\",\"ratings\",\"ratings\",\"ratings\",\"ratings\",\"ratings\",\"ratings\",\"ratings\",\"ratings\",\"ratings\",\"ratings\",\"ratings\",\"ratings\",\"ratings\",\"ratings\",\"ratings\",\"ratings\",\"ratings\",\"ratings\",\"ratings\",\"ratings\",\"ratings\",\"ratings\",\"ratings\",\"ratings\",\"ratings\",\"ratings\",\"ratings\",\"ratings\",\"ratings\",\"ratings\",\"ratings\",\"ratings\",\"ratings\"],\"x0\":\" \",\"xaxis\":\"x\",\"y\":[4.4,4.2,4.0,4.4,4.7,4.3,4.4,4.3,4.3,4.1,4.4,4.3,4.7,4.5,4.5,4.2,4.1,4.4,4.3,4.3,4.4,4.7,4.3,4.6,4.3,4.1,4.7,4.3,4.1,4.4,4.2,4.6,4.4,4.7,4.5,4.4,4.1,4.2,4.4,4.5,4.5,4.3,4.6,4.5,4.317808219178082,4.5,4.5,4.317808219178082,4.3,3.9,4.1,4.1,4.3,4.4,4.1,4.3,4.3,4.1,4.5],\"y0\":\" \",\"yaxis\":\"y\",\"type\":\"box\"}],                        {\"template\":{\"data\":{\"histogram2dcontour\":[{\"type\":\"histogram2dcontour\",\"colorbar\":{\"outlinewidth\":0,\"ticks\":\"\"},\"colorscale\":[[0.0,\"#0d0887\"],[0.1111111111111111,\"#46039f\"],[0.2222222222222222,\"#7201a8\"],[0.3333333333333333,\"#9c179e\"],[0.4444444444444444,\"#bd3786\"],[0.5555555555555556,\"#d8576b\"],[0.6666666666666666,\"#ed7953\"],[0.7777777777777778,\"#fb9f3a\"],[0.8888888888888888,\"#fdca26\"],[1.0,\"#f0f921\"]]}],\"choropleth\":[{\"type\":\"choropleth\",\"colorbar\":{\"outlinewidth\":0,\"ticks\":\"\"}}],\"histogram2d\":[{\"type\":\"histogram2d\",\"colorbar\":{\"outlinewidth\":0,\"ticks\":\"\"},\"colorscale\":[[0.0,\"#0d0887\"],[0.1111111111111111,\"#46039f\"],[0.2222222222222222,\"#7201a8\"],[0.3333333333333333,\"#9c179e\"],[0.4444444444444444,\"#bd3786\"],[0.5555555555555556,\"#d8576b\"],[0.6666666666666666,\"#ed7953\"],[0.7777777777777778,\"#fb9f3a\"],[0.8888888888888888,\"#fdca26\"],[1.0,\"#f0f921\"]]}],\"heatmap\":[{\"type\":\"heatmap\",\"colorbar\":{\"outlinewidth\":0,\"ticks\":\"\"},\"colorscale\":[[0.0,\"#0d0887\"],[0.1111111111111111,\"#46039f\"],[0.2222222222222222,\"#7201a8\"],[0.3333333333333333,\"#9c179e\"],[0.4444444444444444,\"#bd3786\"],[0.5555555555555556,\"#d8576b\"],[0.6666666666666666,\"#ed7953\"],[0.7777777777777778,\"#fb9f3a\"],[0.8888888888888888,\"#fdca26\"],[1.0,\"#f0f921\"]]}],\"heatmapgl\":[{\"type\":\"heatmapgl\",\"colorbar\":{\"outlinewidth\":0,\"ticks\":\"\"},\"colorscale\":[[0.0,\"#0d0887\"],[0.1111111111111111,\"#46039f\"],[0.2222222222222222,\"#7201a8\"],[0.3333333333333333,\"#9c179e\"],[0.4444444444444444,\"#bd3786\"],[0.5555555555555556,\"#d8576b\"],[0.6666666666666666,\"#ed7953\"],[0.7777777777777778,\"#fb9f3a\"],[0.8888888888888888,\"#fdca26\"],[1.0,\"#f0f921\"]]}],\"contourcarpet\":[{\"type\":\"contourcarpet\",\"colorbar\":{\"outlinewidth\":0,\"ticks\":\"\"}}],\"contour\":[{\"type\":\"contour\",\"colorbar\":{\"outlinewidth\":0,\"ticks\":\"\"},\"colorscale\":[[0.0,\"#0d0887\"],[0.1111111111111111,\"#46039f\"],[0.2222222222222222,\"#7201a8\"],[0.3333333333333333,\"#9c179e\"],[0.4444444444444444,\"#bd3786\"],[0.5555555555555556,\"#d8576b\"],[0.6666666666666666,\"#ed7953\"],[0.7777777777777778,\"#fb9f3a\"],[0.8888888888888888,\"#fdca26\"],[1.0,\"#f0f921\"]]}],\"surface\":[{\"type\":\"surface\",\"colorbar\":{\"outlinewidth\":0,\"ticks\":\"\"},\"colorscale\":[[0.0,\"#0d0887\"],[0.1111111111111111,\"#46039f\"],[0.2222222222222222,\"#7201a8\"],[0.3333333333333333,\"#9c179e\"],[0.4444444444444444,\"#bd3786\"],[0.5555555555555556,\"#d8576b\"],[0.6666666666666666,\"#ed7953\"],[0.7777777777777778,\"#fb9f3a\"],[0.8888888888888888,\"#fdca26\"],[1.0,\"#f0f921\"]]}],\"mesh3d\":[{\"type\":\"mesh3d\",\"colorbar\":{\"outlinewidth\":0,\"ticks\":\"\"}}],\"scatter\":[{\"fillpattern\":{\"fillmode\":\"overlay\",\"size\":10,\"solidity\":0.2},\"type\":\"scatter\"}],\"parcoords\":[{\"type\":\"parcoords\",\"line\":{\"colorbar\":{\"outlinewidth\":0,\"ticks\":\"\"}}}],\"scatterpolargl\":[{\"type\":\"scatterpolargl\",\"marker\":{\"colorbar\":{\"outlinewidth\":0,\"ticks\":\"\"}}}],\"bar\":[{\"error_x\":{\"color\":\"#2a3f5f\"},\"error_y\":{\"color\":\"#2a3f5f\"},\"marker\":{\"line\":{\"color\":\"#E5ECF6\",\"width\":0.5},\"pattern\":{\"fillmode\":\"overlay\",\"size\":10,\"solidity\":0.2}},\"type\":\"bar\"}],\"scattergeo\":[{\"type\":\"scattergeo\",\"marker\":{\"colorbar\":{\"outlinewidth\":0,\"ticks\":\"\"}}}],\"scatterpolar\":[{\"type\":\"scatterpolar\",\"marker\":{\"colorbar\":{\"outlinewidth\":0,\"ticks\":\"\"}}}],\"histogram\":[{\"marker\":{\"pattern\":{\"fillmode\":\"overlay\",\"size\":10,\"solidity\":0.2}},\"type\":\"histogram\"}],\"scattergl\":[{\"type\":\"scattergl\",\"marker\":{\"colorbar\":{\"outlinewidth\":0,\"ticks\":\"\"}}}],\"scatter3d\":[{\"type\":\"scatter3d\",\"line\":{\"colorbar\":{\"outlinewidth\":0,\"ticks\":\"\"}},\"marker\":{\"colorbar\":{\"outlinewidth\":0,\"ticks\":\"\"}}}],\"scattermapbox\":[{\"type\":\"scattermapbox\",\"marker\":{\"colorbar\":{\"outlinewidth\":0,\"ticks\":\"\"}}}],\"scatterternary\":[{\"type\":\"scatterternary\",\"marker\":{\"colorbar\":{\"outlinewidth\":0,\"ticks\":\"\"}}}],\"scattercarpet\":[{\"type\":\"scattercarpet\",\"marker\":{\"colorbar\":{\"outlinewidth\":0,\"ticks\":\"\"}}}],\"carpet\":[{\"aaxis\":{\"endlinecolor\":\"#2a3f5f\",\"gridcolor\":\"white\",\"linecolor\":\"white\",\"minorgridcolor\":\"white\",\"startlinecolor\":\"#2a3f5f\"},\"baxis\":{\"endlinecolor\":\"#2a3f5f\",\"gridcolor\":\"white\",\"linecolor\":\"white\",\"minorgridcolor\":\"white\",\"startlinecolor\":\"#2a3f5f\"},\"type\":\"carpet\"}],\"table\":[{\"cells\":{\"fill\":{\"color\":\"#EBF0F8\"},\"line\":{\"color\":\"white\"}},\"header\":{\"fill\":{\"color\":\"#C8D4E3\"},\"line\":{\"color\":\"white\"}},\"type\":\"table\"}],\"barpolar\":[{\"marker\":{\"line\":{\"color\":\"#E5ECF6\",\"width\":0.5},\"pattern\":{\"fillmode\":\"overlay\",\"size\":10,\"solidity\":0.2}},\"type\":\"barpolar\"}],\"pie\":[{\"automargin\":true,\"type\":\"pie\"}]},\"layout\":{\"autotypenumbers\":\"strict\",\"colorway\":[\"#636efa\",\"#EF553B\",\"#00cc96\",\"#ab63fa\",\"#FFA15A\",\"#19d3f3\",\"#FF6692\",\"#B6E880\",\"#FF97FF\",\"#FECB52\"],\"font\":{\"color\":\"#2a3f5f\"},\"hovermode\":\"closest\",\"hoverlabel\":{\"align\":\"left\"},\"paper_bgcolor\":\"white\",\"plot_bgcolor\":\"#E5ECF6\",\"polar\":{\"bgcolor\":\"#E5ECF6\",\"angularaxis\":{\"gridcolor\":\"white\",\"linecolor\":\"white\",\"ticks\":\"\"},\"radialaxis\":{\"gridcolor\":\"white\",\"linecolor\":\"white\",\"ticks\":\"\"}},\"ternary\":{\"bgcolor\":\"#E5ECF6\",\"aaxis\":{\"gridcolor\":\"white\",\"linecolor\":\"white\",\"ticks\":\"\"},\"baxis\":{\"gridcolor\":\"white\",\"linecolor\":\"white\",\"ticks\":\"\"},\"caxis\":{\"gridcolor\":\"white\",\"linecolor\":\"white\",\"ticks\":\"\"}},\"coloraxis\":{\"colorbar\":{\"outlinewidth\":0,\"ticks\":\"\"}},\"colorscale\":{\"sequential\":[[0.0,\"#0d0887\"],[0.1111111111111111,\"#46039f\"],[0.2222222222222222,\"#7201a8\"],[0.3333333333333333,\"#9c179e\"],[0.4444444444444444,\"#bd3786\"],[0.5555555555555556,\"#d8576b\"],[0.6666666666666666,\"#ed7953\"],[0.7777777777777778,\"#fb9f3a\"],[0.8888888888888888,\"#fdca26\"],[1.0,\"#f0f921\"]],\"sequentialminus\":[[0.0,\"#0d0887\"],[0.1111111111111111,\"#46039f\"],[0.2222222222222222,\"#7201a8\"],[0.3333333333333333,\"#9c179e\"],[0.4444444444444444,\"#bd3786\"],[0.5555555555555556,\"#d8576b\"],[0.6666666666666666,\"#ed7953\"],[0.7777777777777778,\"#fb9f3a\"],[0.8888888888888888,\"#fdca26\"],[1.0,\"#f0f921\"]],\"diverging\":[[0,\"#8e0152\"],[0.1,\"#c51b7d\"],[0.2,\"#de77ae\"],[0.3,\"#f1b6da\"],[0.4,\"#fde0ef\"],[0.5,\"#f7f7f7\"],[0.6,\"#e6f5d0\"],[0.7,\"#b8e186\"],[0.8,\"#7fbc41\"],[0.9,\"#4d9221\"],[1,\"#276419\"]]},\"xaxis\":{\"gridcolor\":\"white\",\"linecolor\":\"white\",\"ticks\":\"\",\"title\":{\"standoff\":15},\"zerolinecolor\":\"white\",\"automargin\":true,\"zerolinewidth\":2},\"yaxis\":{\"gridcolor\":\"white\",\"linecolor\":\"white\",\"ticks\":\"\",\"title\":{\"standoff\":15},\"zerolinecolor\":\"white\",\"automargin\":true,\"zerolinewidth\":2},\"scene\":{\"xaxis\":{\"backgroundcolor\":\"#E5ECF6\",\"gridcolor\":\"white\",\"linecolor\":\"white\",\"showbackground\":true,\"ticks\":\"\",\"zerolinecolor\":\"white\",\"gridwidth\":2},\"yaxis\":{\"backgroundcolor\":\"#E5ECF6\",\"gridcolor\":\"white\",\"linecolor\":\"white\",\"showbackground\":true,\"ticks\":\"\",\"zerolinecolor\":\"white\",\"gridwidth\":2},\"zaxis\":{\"backgroundcolor\":\"#E5ECF6\",\"gridcolor\":\"white\",\"linecolor\":\"white\",\"showbackground\":true,\"ticks\":\"\",\"zerolinecolor\":\"white\",\"gridwidth\":2}},\"shapedefaults\":{\"line\":{\"color\":\"#2a3f5f\"}},\"annotationdefaults\":{\"arrowcolor\":\"#2a3f5f\",\"arrowhead\":0,\"arrowwidth\":1},\"geo\":{\"bgcolor\":\"white\",\"landcolor\":\"#E5ECF6\",\"subunitcolor\":\"white\",\"showland\":true,\"showlakes\":true,\"lakecolor\":\"white\"},\"title\":{\"x\":0.05},\"mapbox\":{\"style\":\"light\"}}},\"xaxis\":{\"anchor\":\"y\",\"domain\":[0.0,1.0],\"title\":{\"text\":\"variable\"}},\"yaxis\":{\"anchor\":\"x\",\"domain\":[0.0,1.0],\"title\":{\"text\":\"value\"}},\"legend\":{\"tracegroupgap\":0},\"margin\":{\"t\":60},\"boxmode\":\"group\"},                        {\"responsive\": true}                    ).then(function(){\n",
       "                            \n",
       "var gd = document.getElementById('751b84db-610c-4117-8c3b-eda3eb2676ed');\n",
       "var x = new MutationObserver(function (mutations, observer) {{\n",
       "        var display = window.getComputedStyle(gd).display;\n",
       "        if (!display || display === 'none') {{\n",
       "            console.log([gd, 'removed!']);\n",
       "            Plotly.purge(gd);\n",
       "            observer.disconnect();\n",
       "        }}\n",
       "}});\n",
       "\n",
       "// Listen for the removal of the full notebook cells\n",
       "var notebookContainer = gd.closest('#notebook-container');\n",
       "if (notebookContainer) {{\n",
       "    x.observe(notebookContainer, {childList: true});\n",
       "}}\n",
       "\n",
       "// Listen for the clearing of the current output cell\n",
       "var outputEl = gd.closest('.output');\n",
       "if (outputEl) {{\n",
       "    x.observe(outputEl, {childList: true});\n",
       "}}\n",
       "\n",
       "                        })                };                });            </script>        </div>"
      ]
     },
     "metadata": {},
     "output_type": "display_data"
    }
   ],
   "source": [
    "plot = px.box(df['ratings'])\n",
    "plot.show()"
   ]
  },
  {
   "cell_type": "code",
   "execution_count": 148,
   "id": "0f1714c5",
   "metadata": {},
   "outputs": [],
   "source": [
    "## Used on features : discount, price, ratings, ratingsNo\n",
    "## Result : Outliers removed"
   ]
  },
  {
   "cell_type": "markdown",
   "id": "7f86dd52",
   "metadata": {},
   "source": [
    "### 5) BINNING"
   ]
  },
  {
   "cell_type": "markdown",
   "id": "656b6525",
   "metadata": {},
   "source": [
    "##### BEFORE"
   ]
  },
  {
   "cell_type": "code",
   "execution_count": 149,
   "id": "75dd8b16",
   "metadata": {},
   "outputs": [
    {
     "data": {
      "text/html": [
       "<div>\n",
       "<style scoped>\n",
       "    .dataframe tbody tr th:only-of-type {\n",
       "        vertical-align: middle;\n",
       "    }\n",
       "\n",
       "    .dataframe tbody tr th {\n",
       "        vertical-align: top;\n",
       "    }\n",
       "\n",
       "    .dataframe thead th {\n",
       "        text-align: right;\n",
       "    }\n",
       "</style>\n",
       "<table border=\"1\" class=\"dataframe\">\n",
       "  <thead>\n",
       "    <tr style=\"text-align: right;\">\n",
       "      <th></th>\n",
       "      <th>title</th>\n",
       "      <th>price</th>\n",
       "      <th>ratings</th>\n",
       "      <th>availability</th>\n",
       "      <th>brand</th>\n",
       "      <th>discount</th>\n",
       "      <th>tech</th>\n",
       "      <th>dim</th>\n",
       "      <th>res</th>\n",
       "      <th>refresh</th>\n",
       "      <th>size</th>\n",
       "      <th>ratingsNo</th>\n",
       "    </tr>\n",
       "  </thead>\n",
       "  <tbody>\n",
       "    <tr>\n",
       "      <th>0</th>\n",
       "      <td>Kodak 139 cm (55 inches) 4K Ultra HD Smart Cer...</td>\n",
       "      <td>29999.0</td>\n",
       "      <td>4.4</td>\n",
       "      <td>0</td>\n",
       "      <td>Kodak</td>\n",
       "      <td>45.0</td>\n",
       "      <td>1</td>\n",
       "      <td>29D x 124W x 78H Centimeters</td>\n",
       "      <td>4000.0</td>\n",
       "      <td>60</td>\n",
       "      <td>55 Inches</td>\n",
       "      <td>597.0</td>\n",
       "    </tr>\n",
       "    <tr>\n",
       "      <th>1</th>\n",
       "      <td>OnePlus 138 cm (55 inches) Y Series 4K Ultra H...</td>\n",
       "      <td>39999.0</td>\n",
       "      <td>4.2</td>\n",
       "      <td>0</td>\n",
       "      <td>OnePlus</td>\n",
       "      <td>20.0</td>\n",
       "      <td>1</td>\n",
       "      <td>24.6D x 135W x 77.1H Centimeters</td>\n",
       "      <td>4000.0</td>\n",
       "      <td>60</td>\n",
       "      <td>55 Inches</td>\n",
       "      <td>8532.0</td>\n",
       "    </tr>\n",
       "    <tr>\n",
       "      <th>2</th>\n",
       "      <td>Redmi 80 cm (32 inches) HD Ready Smart LED Fir...</td>\n",
       "      <td>13999.0</td>\n",
       "      <td>4.0</td>\n",
       "      <td>0</td>\n",
       "      <td>Redmi</td>\n",
       "      <td>44.0</td>\n",
       "      <td>1</td>\n",
       "      <td>8.3D x 71.6W x 42.4H Centimeters</td>\n",
       "      <td>7500.0</td>\n",
       "      <td>60</td>\n",
       "      <td>32 Inches</td>\n",
       "      <td>69.0</td>\n",
       "    </tr>\n",
       "    <tr>\n",
       "      <th>4</th>\n",
       "      <td>Acer 100 cm (40 inches) P Series Full HD Andro...</td>\n",
       "      <td>16999.0</td>\n",
       "      <td>4.4</td>\n",
       "      <td>0</td>\n",
       "      <td>Acer</td>\n",
       "      <td>32.0</td>\n",
       "      <td>1</td>\n",
       "      <td>8.5D x 90.4W x 51.6H Centimeters</td>\n",
       "      <td>11225.0</td>\n",
       "      <td>60</td>\n",
       "      <td>40 Inches</td>\n",
       "      <td>8521.0</td>\n",
       "    </tr>\n",
       "    <tr>\n",
       "      <th>5</th>\n",
       "      <td>Sony Bravia 126 cm (50 inches) 4K Ultra HD Sma...</td>\n",
       "      <td>51999.0</td>\n",
       "      <td>4.7</td>\n",
       "      <td>0</td>\n",
       "      <td>Sony</td>\n",
       "      <td>39.0</td>\n",
       "      <td>1</td>\n",
       "      <td>7.7D x 112.7W x 66.2H Centimeters</td>\n",
       "      <td>4000.0</td>\n",
       "      <td>60</td>\n",
       "      <td>50 Inches</td>\n",
       "      <td>8364.0</td>\n",
       "    </tr>\n",
       "  </tbody>\n",
       "</table>\n",
       "</div>"
      ],
      "text/plain": [
       "                                               title    price  ratings  \\\n",
       "0  Kodak 139 cm (55 inches) 4K Ultra HD Smart Cer...  29999.0      4.4   \n",
       "1  OnePlus 138 cm (55 inches) Y Series 4K Ultra H...  39999.0      4.2   \n",
       "2  Redmi 80 cm (32 inches) HD Ready Smart LED Fir...  13999.0      4.0   \n",
       "4  Acer 100 cm (40 inches) P Series Full HD Andro...  16999.0      4.4   \n",
       "5  Sony Bravia 126 cm (50 inches) 4K Ultra HD Sma...  51999.0      4.7   \n",
       "\n",
       "   availability    brand  discount  tech                                dim  \\\n",
       "0             0    Kodak      45.0     1       29D x 124W x 78H Centimeters   \n",
       "1             0  OnePlus      20.0     1   24.6D x 135W x 77.1H Centimeters   \n",
       "2             0    Redmi      44.0     1   8.3D x 71.6W x 42.4H Centimeters   \n",
       "4             0     Acer      32.0     1   8.5D x 90.4W x 51.6H Centimeters   \n",
       "5             0     Sony      39.0     1  7.7D x 112.7W x 66.2H Centimeters   \n",
       "\n",
       "       res refresh       size  ratingsNo  \n",
       "0   4000.0      60  55 Inches      597.0  \n",
       "1   4000.0      60  55 Inches     8532.0  \n",
       "2   7500.0      60  32 Inches       69.0  \n",
       "4  11225.0      60  40 Inches     8521.0  \n",
       "5   4000.0      60  50 Inches     8364.0  "
      ]
     },
     "execution_count": 149,
     "metadata": {},
     "output_type": "execute_result"
    }
   ],
   "source": [
    "df.head()"
   ]
  },
  {
   "cell_type": "markdown",
   "id": "dd8c5caf",
   "metadata": {},
   "source": [
    "#### Created bins to form classes"
   ]
  },
  {
   "cell_type": "code",
   "execution_count": 150,
   "id": "c2db0fdc",
   "metadata": {},
   "outputs": [],
   "source": [
    "bins = [3500, 13500, 23500, 33500, 43500, 53500, 63500, 73500, 83500, 93500]\n",
    "df['price'] = pd.cut(df['price'],bins)"
   ]
  },
  {
   "cell_type": "code",
   "execution_count": 151,
   "id": "77c3d299",
   "metadata": {},
   "outputs": [],
   "source": [
    "bins = [19,40,60,80]\n",
    "df['discount'] = pd.cut(df['discount'],bins)"
   ]
  },
  {
   "cell_type": "code",
   "execution_count": 152,
   "id": "54742fe8",
   "metadata": {},
   "outputs": [],
   "source": [
    "bins = [0,2000,4000,6000,8000,10000,12000,14000]\n",
    "df['ratingsNo'] = pd.cut(df['ratingsNo'],bins)"
   ]
  },
  {
   "cell_type": "markdown",
   "id": "594a9df4",
   "metadata": {},
   "source": [
    "##### AFTER"
   ]
  },
  {
   "cell_type": "code",
   "execution_count": 153,
   "id": "6f7bbc33",
   "metadata": {
    "scrolled": true
   },
   "outputs": [
    {
     "data": {
      "text/html": [
       "<div>\n",
       "<style scoped>\n",
       "    .dataframe tbody tr th:only-of-type {\n",
       "        vertical-align: middle;\n",
       "    }\n",
       "\n",
       "    .dataframe tbody tr th {\n",
       "        vertical-align: top;\n",
       "    }\n",
       "\n",
       "    .dataframe thead th {\n",
       "        text-align: right;\n",
       "    }\n",
       "</style>\n",
       "<table border=\"1\" class=\"dataframe\">\n",
       "  <thead>\n",
       "    <tr style=\"text-align: right;\">\n",
       "      <th></th>\n",
       "      <th>title</th>\n",
       "      <th>price</th>\n",
       "      <th>ratings</th>\n",
       "      <th>availability</th>\n",
       "      <th>brand</th>\n",
       "      <th>discount</th>\n",
       "      <th>tech</th>\n",
       "      <th>dim</th>\n",
       "      <th>res</th>\n",
       "      <th>refresh</th>\n",
       "      <th>size</th>\n",
       "      <th>ratingsNo</th>\n",
       "      <th>price_bins</th>\n",
       "      <th>discount_bins</th>\n",
       "      <th>ratingsNo_bins</th>\n",
       "    </tr>\n",
       "  </thead>\n",
       "  <tbody>\n",
       "    <tr>\n",
       "      <th>0</th>\n",
       "      <td>Kodak 139 cm (55 inches) 4K Ultra HD Smart Cer...</td>\n",
       "      <td>29999.0</td>\n",
       "      <td>4.4</td>\n",
       "      <td>0</td>\n",
       "      <td>Kodak</td>\n",
       "      <td>45.0</td>\n",
       "      <td>1</td>\n",
       "      <td>29D x 124W x 78H Centimeters</td>\n",
       "      <td>4000.0</td>\n",
       "      <td>60</td>\n",
       "      <td>55 Inches</td>\n",
       "      <td>597.0</td>\n",
       "      <td>(23500, 33500]</td>\n",
       "      <td>(40, 60]</td>\n",
       "      <td>(0, 2000]</td>\n",
       "    </tr>\n",
       "    <tr>\n",
       "      <th>1</th>\n",
       "      <td>OnePlus 138 cm (55 inches) Y Series 4K Ultra H...</td>\n",
       "      <td>39999.0</td>\n",
       "      <td>4.2</td>\n",
       "      <td>0</td>\n",
       "      <td>OnePlus</td>\n",
       "      <td>20.0</td>\n",
       "      <td>1</td>\n",
       "      <td>24.6D x 135W x 77.1H Centimeters</td>\n",
       "      <td>4000.0</td>\n",
       "      <td>60</td>\n",
       "      <td>55 Inches</td>\n",
       "      <td>8532.0</td>\n",
       "      <td>(33500, 43500]</td>\n",
       "      <td>(19, 40]</td>\n",
       "      <td>(8000, 10000]</td>\n",
       "    </tr>\n",
       "    <tr>\n",
       "      <th>2</th>\n",
       "      <td>Redmi 80 cm (32 inches) HD Ready Smart LED Fir...</td>\n",
       "      <td>13999.0</td>\n",
       "      <td>4.0</td>\n",
       "      <td>0</td>\n",
       "      <td>Redmi</td>\n",
       "      <td>44.0</td>\n",
       "      <td>1</td>\n",
       "      <td>8.3D x 71.6W x 42.4H Centimeters</td>\n",
       "      <td>7500.0</td>\n",
       "      <td>60</td>\n",
       "      <td>32 Inches</td>\n",
       "      <td>69.0</td>\n",
       "      <td>(13500, 23500]</td>\n",
       "      <td>(40, 60]</td>\n",
       "      <td>(0, 2000]</td>\n",
       "    </tr>\n",
       "    <tr>\n",
       "      <th>4</th>\n",
       "      <td>Acer 100 cm (40 inches) P Series Full HD Andro...</td>\n",
       "      <td>16999.0</td>\n",
       "      <td>4.4</td>\n",
       "      <td>0</td>\n",
       "      <td>Acer</td>\n",
       "      <td>32.0</td>\n",
       "      <td>1</td>\n",
       "      <td>8.5D x 90.4W x 51.6H Centimeters</td>\n",
       "      <td>11225.0</td>\n",
       "      <td>60</td>\n",
       "      <td>40 Inches</td>\n",
       "      <td>8521.0</td>\n",
       "      <td>(13500, 23500]</td>\n",
       "      <td>(19, 40]</td>\n",
       "      <td>(8000, 10000]</td>\n",
       "    </tr>\n",
       "    <tr>\n",
       "      <th>5</th>\n",
       "      <td>Sony Bravia 126 cm (50 inches) 4K Ultra HD Sma...</td>\n",
       "      <td>51999.0</td>\n",
       "      <td>4.7</td>\n",
       "      <td>0</td>\n",
       "      <td>Sony</td>\n",
       "      <td>39.0</td>\n",
       "      <td>1</td>\n",
       "      <td>7.7D x 112.7W x 66.2H Centimeters</td>\n",
       "      <td>4000.0</td>\n",
       "      <td>60</td>\n",
       "      <td>50 Inches</td>\n",
       "      <td>8364.0</td>\n",
       "      <td>(43500, 53500]</td>\n",
       "      <td>(19, 40]</td>\n",
       "      <td>(8000, 10000]</td>\n",
       "    </tr>\n",
       "  </tbody>\n",
       "</table>\n",
       "</div>"
      ],
      "text/plain": [
       "                                               title    price  ratings  \\\n",
       "0  Kodak 139 cm (55 inches) 4K Ultra HD Smart Cer...  29999.0      4.4   \n",
       "1  OnePlus 138 cm (55 inches) Y Series 4K Ultra H...  39999.0      4.2   \n",
       "2  Redmi 80 cm (32 inches) HD Ready Smart LED Fir...  13999.0      4.0   \n",
       "4  Acer 100 cm (40 inches) P Series Full HD Andro...  16999.0      4.4   \n",
       "5  Sony Bravia 126 cm (50 inches) 4K Ultra HD Sma...  51999.0      4.7   \n",
       "\n",
       "   availability    brand  discount  tech                                dim  \\\n",
       "0             0    Kodak      45.0     1       29D x 124W x 78H Centimeters   \n",
       "1             0  OnePlus      20.0     1   24.6D x 135W x 77.1H Centimeters   \n",
       "2             0    Redmi      44.0     1   8.3D x 71.6W x 42.4H Centimeters   \n",
       "4             0     Acer      32.0     1   8.5D x 90.4W x 51.6H Centimeters   \n",
       "5             0     Sony      39.0     1  7.7D x 112.7W x 66.2H Centimeters   \n",
       "\n",
       "       res refresh       size  ratingsNo      price_bins discount_bins  \\\n",
       "0   4000.0      60  55 Inches      597.0  (23500, 33500]      (40, 60]   \n",
       "1   4000.0      60  55 Inches     8532.0  (33500, 43500]      (19, 40]   \n",
       "2   7500.0      60  32 Inches       69.0  (13500, 23500]      (40, 60]   \n",
       "4  11225.0      60  40 Inches     8521.0  (13500, 23500]      (19, 40]   \n",
       "5   4000.0      60  50 Inches     8364.0  (43500, 53500]      (19, 40]   \n",
       "\n",
       "  ratingsNo_bins  \n",
       "0      (0, 2000]  \n",
       "1  (8000, 10000]  \n",
       "2      (0, 2000]  \n",
       "4  (8000, 10000]  \n",
       "5  (8000, 10000]  "
      ]
     },
     "execution_count": 153,
     "metadata": {},
     "output_type": "execute_result"
    }
   ],
   "source": [
    "df.head()"
   ]
  },
  {
   "cell_type": "code",
   "execution_count": 154,
   "id": "6e0d273b",
   "metadata": {},
   "outputs": [],
   "source": [
    "## Used on features : discount, price, ratingsNo\n",
    "## Result : Created bins to form classes"
   ]
  },
  {
   "cell_type": "markdown",
   "id": "49ff440a",
   "metadata": {},
   "source": [
    "### 6) FEATURE SPLIT"
   ]
  },
  {
   "cell_type": "markdown",
   "id": "f0dfb1f3",
   "metadata": {},
   "source": [
    "##### BEFORE"
   ]
  },
  {
   "cell_type": "code",
   "execution_count": 155,
   "id": "950a5a03",
   "metadata": {},
   "outputs": [
    {
     "data": {
      "text/plain": [
       "0         29D x 124W x 78H Centimeters\n",
       "1     24.6D x 135W x 77.1H Centimeters\n",
       "2     8.3D x 71.6W x 42.4H Centimeters\n",
       "4     8.5D x 90.4W x 51.6H Centimeters\n",
       "5    7.7D x 112.7W x 66.2H Centimeters\n",
       "Name: dim, dtype: object"
      ]
     },
     "execution_count": 155,
     "metadata": {},
     "output_type": "execute_result"
    }
   ],
   "source": [
    "df['dim'].head()"
   ]
  },
  {
   "cell_type": "markdown",
   "id": "3af5c4aa",
   "metadata": {},
   "source": [
    "#### Used str.split to split features stored in one cell into different features."
   ]
  },
  {
   "cell_type": "code",
   "execution_count": 156,
   "id": "1ae52d53",
   "metadata": {},
   "outputs": [
    {
     "data": {
      "text/html": [
       "<div>\n",
       "<style scoped>\n",
       "    .dataframe tbody tr th:only-of-type {\n",
       "        vertical-align: middle;\n",
       "    }\n",
       "\n",
       "    .dataframe tbody tr th {\n",
       "        vertical-align: top;\n",
       "    }\n",
       "\n",
       "    .dataframe thead th {\n",
       "        text-align: right;\n",
       "    }\n",
       "</style>\n",
       "<table border=\"1\" class=\"dataframe\">\n",
       "  <thead>\n",
       "    <tr style=\"text-align: right;\">\n",
       "      <th></th>\n",
       "      <th>0</th>\n",
       "      <th>1</th>\n",
       "      <th>2</th>\n",
       "      <th>3</th>\n",
       "      <th>4</th>\n",
       "      <th>5</th>\n",
       "    </tr>\n",
       "  </thead>\n",
       "  <tbody>\n",
       "    <tr>\n",
       "      <th>0</th>\n",
       "      <td>29D</td>\n",
       "      <td>x</td>\n",
       "      <td>124W</td>\n",
       "      <td>x</td>\n",
       "      <td>78H</td>\n",
       "      <td>Centimeters</td>\n",
       "    </tr>\n",
       "    <tr>\n",
       "      <th>1</th>\n",
       "      <td>24.6D</td>\n",
       "      <td>x</td>\n",
       "      <td>135W</td>\n",
       "      <td>x</td>\n",
       "      <td>77.1H</td>\n",
       "      <td>Centimeters</td>\n",
       "    </tr>\n",
       "    <tr>\n",
       "      <th>2</th>\n",
       "      <td>8.3D</td>\n",
       "      <td>x</td>\n",
       "      <td>71.6W</td>\n",
       "      <td>x</td>\n",
       "      <td>42.4H</td>\n",
       "      <td>Centimeters</td>\n",
       "    </tr>\n",
       "    <tr>\n",
       "      <th>4</th>\n",
       "      <td>8.5D</td>\n",
       "      <td>x</td>\n",
       "      <td>90.4W</td>\n",
       "      <td>x</td>\n",
       "      <td>51.6H</td>\n",
       "      <td>Centimeters</td>\n",
       "    </tr>\n",
       "    <tr>\n",
       "      <th>5</th>\n",
       "      <td>7.7D</td>\n",
       "      <td>x</td>\n",
       "      <td>112.7W</td>\n",
       "      <td>x</td>\n",
       "      <td>66.2H</td>\n",
       "      <td>Centimeters</td>\n",
       "    </tr>\n",
       "  </tbody>\n",
       "</table>\n",
       "</div>"
      ],
      "text/plain": [
       "       0  1       2  3      4            5\n",
       "0    29D  x    124W  x    78H  Centimeters\n",
       "1  24.6D  x    135W  x  77.1H  Centimeters\n",
       "2   8.3D  x   71.6W  x  42.4H  Centimeters\n",
       "4   8.5D  x   90.4W  x  51.6H  Centimeters\n",
       "5   7.7D  x  112.7W  x  66.2H  Centimeters"
      ]
     },
     "execution_count": 156,
     "metadata": {},
     "output_type": "execute_result"
    }
   ],
   "source": [
    "dim = df.dim.str.split(expand=True)\n",
    "dim.head()"
   ]
  },
  {
   "cell_type": "code",
   "execution_count": 157,
   "id": "fa5416d9",
   "metadata": {},
   "outputs": [],
   "source": [
    "dim = dim.drop(dim.columns[1], axis=1)\n",
    "dim = dim.drop(dim.columns[4], axis=1)\n",
    "dim = dim.drop(dim.columns[2], axis=1)"
   ]
  },
  {
   "cell_type": "code",
   "execution_count": 158,
   "id": "18d30054",
   "metadata": {},
   "outputs": [
    {
     "data": {
      "text/html": [
       "<div>\n",
       "<style scoped>\n",
       "    .dataframe tbody tr th:only-of-type {\n",
       "        vertical-align: middle;\n",
       "    }\n",
       "\n",
       "    .dataframe tbody tr th {\n",
       "        vertical-align: top;\n",
       "    }\n",
       "\n",
       "    .dataframe thead th {\n",
       "        text-align: right;\n",
       "    }\n",
       "</style>\n",
       "<table border=\"1\" class=\"dataframe\">\n",
       "  <thead>\n",
       "    <tr style=\"text-align: right;\">\n",
       "      <th></th>\n",
       "      <th>0</th>\n",
       "      <th>2</th>\n",
       "      <th>4</th>\n",
       "    </tr>\n",
       "  </thead>\n",
       "  <tbody>\n",
       "    <tr>\n",
       "      <th>0</th>\n",
       "      <td>29D</td>\n",
       "      <td>124W</td>\n",
       "      <td>78H</td>\n",
       "    </tr>\n",
       "    <tr>\n",
       "      <th>1</th>\n",
       "      <td>24.6D</td>\n",
       "      <td>135W</td>\n",
       "      <td>77.1H</td>\n",
       "    </tr>\n",
       "    <tr>\n",
       "      <th>2</th>\n",
       "      <td>8.3D</td>\n",
       "      <td>71.6W</td>\n",
       "      <td>42.4H</td>\n",
       "    </tr>\n",
       "    <tr>\n",
       "      <th>4</th>\n",
       "      <td>8.5D</td>\n",
       "      <td>90.4W</td>\n",
       "      <td>51.6H</td>\n",
       "    </tr>\n",
       "    <tr>\n",
       "      <th>5</th>\n",
       "      <td>7.7D</td>\n",
       "      <td>112.7W</td>\n",
       "      <td>66.2H</td>\n",
       "    </tr>\n",
       "  </tbody>\n",
       "</table>\n",
       "</div>"
      ],
      "text/plain": [
       "       0       2      4\n",
       "0    29D    124W    78H\n",
       "1  24.6D    135W  77.1H\n",
       "2   8.3D   71.6W  42.4H\n",
       "4   8.5D   90.4W  51.6H\n",
       "5   7.7D  112.7W  66.2H"
      ]
     },
     "execution_count": 158,
     "metadata": {},
     "output_type": "execute_result"
    }
   ],
   "source": [
    "dim.head()"
   ]
  },
  {
   "cell_type": "code",
   "execution_count": 159,
   "id": "f2c72b6a",
   "metadata": {},
   "outputs": [
    {
     "data": {
      "text/html": [
       "<div>\n",
       "<style scoped>\n",
       "    .dataframe tbody tr th:only-of-type {\n",
       "        vertical-align: middle;\n",
       "    }\n",
       "\n",
       "    .dataframe tbody tr th {\n",
       "        vertical-align: top;\n",
       "    }\n",
       "\n",
       "    .dataframe thead th {\n",
       "        text-align: right;\n",
       "    }\n",
       "</style>\n",
       "<table border=\"1\" class=\"dataframe\">\n",
       "  <thead>\n",
       "    <tr style=\"text-align: right;\">\n",
       "      <th></th>\n",
       "      <th>title</th>\n",
       "      <th>price</th>\n",
       "      <th>ratings</th>\n",
       "      <th>availability</th>\n",
       "      <th>brand</th>\n",
       "      <th>discount</th>\n",
       "      <th>tech</th>\n",
       "      <th>dim</th>\n",
       "      <th>res</th>\n",
       "      <th>refresh</th>\n",
       "      <th>size</th>\n",
       "      <th>ratingsNo</th>\n",
       "      <th>price_bins</th>\n",
       "      <th>discount_bins</th>\n",
       "      <th>ratingsNo_bins</th>\n",
       "      <th>0</th>\n",
       "      <th>2</th>\n",
       "      <th>4</th>\n",
       "    </tr>\n",
       "  </thead>\n",
       "  <tbody>\n",
       "    <tr>\n",
       "      <th>0</th>\n",
       "      <td>Kodak 139 cm (55 inches) 4K Ultra HD Smart Cer...</td>\n",
       "      <td>29999.0</td>\n",
       "      <td>4.4</td>\n",
       "      <td>0</td>\n",
       "      <td>Kodak</td>\n",
       "      <td>45.0</td>\n",
       "      <td>1</td>\n",
       "      <td>29D x 124W x 78H Centimeters</td>\n",
       "      <td>4000.0</td>\n",
       "      <td>60</td>\n",
       "      <td>55 Inches</td>\n",
       "      <td>597.0</td>\n",
       "      <td>(23500, 33500]</td>\n",
       "      <td>(40, 60]</td>\n",
       "      <td>(0, 2000]</td>\n",
       "      <td>29D</td>\n",
       "      <td>124W</td>\n",
       "      <td>78H</td>\n",
       "    </tr>\n",
       "    <tr>\n",
       "      <th>1</th>\n",
       "      <td>OnePlus 138 cm (55 inches) Y Series 4K Ultra H...</td>\n",
       "      <td>39999.0</td>\n",
       "      <td>4.2</td>\n",
       "      <td>0</td>\n",
       "      <td>OnePlus</td>\n",
       "      <td>20.0</td>\n",
       "      <td>1</td>\n",
       "      <td>24.6D x 135W x 77.1H Centimeters</td>\n",
       "      <td>4000.0</td>\n",
       "      <td>60</td>\n",
       "      <td>55 Inches</td>\n",
       "      <td>8532.0</td>\n",
       "      <td>(33500, 43500]</td>\n",
       "      <td>(19, 40]</td>\n",
       "      <td>(8000, 10000]</td>\n",
       "      <td>24.6D</td>\n",
       "      <td>135W</td>\n",
       "      <td>77.1H</td>\n",
       "    </tr>\n",
       "    <tr>\n",
       "      <th>2</th>\n",
       "      <td>Redmi 80 cm (32 inches) HD Ready Smart LED Fir...</td>\n",
       "      <td>13999.0</td>\n",
       "      <td>4.0</td>\n",
       "      <td>0</td>\n",
       "      <td>Redmi</td>\n",
       "      <td>44.0</td>\n",
       "      <td>1</td>\n",
       "      <td>8.3D x 71.6W x 42.4H Centimeters</td>\n",
       "      <td>7500.0</td>\n",
       "      <td>60</td>\n",
       "      <td>32 Inches</td>\n",
       "      <td>69.0</td>\n",
       "      <td>(13500, 23500]</td>\n",
       "      <td>(40, 60]</td>\n",
       "      <td>(0, 2000]</td>\n",
       "      <td>8.3D</td>\n",
       "      <td>71.6W</td>\n",
       "      <td>42.4H</td>\n",
       "    </tr>\n",
       "    <tr>\n",
       "      <th>4</th>\n",
       "      <td>Acer 100 cm (40 inches) P Series Full HD Andro...</td>\n",
       "      <td>16999.0</td>\n",
       "      <td>4.4</td>\n",
       "      <td>0</td>\n",
       "      <td>Acer</td>\n",
       "      <td>32.0</td>\n",
       "      <td>1</td>\n",
       "      <td>8.5D x 90.4W x 51.6H Centimeters</td>\n",
       "      <td>11225.0</td>\n",
       "      <td>60</td>\n",
       "      <td>40 Inches</td>\n",
       "      <td>8521.0</td>\n",
       "      <td>(13500, 23500]</td>\n",
       "      <td>(19, 40]</td>\n",
       "      <td>(8000, 10000]</td>\n",
       "      <td>8.5D</td>\n",
       "      <td>90.4W</td>\n",
       "      <td>51.6H</td>\n",
       "    </tr>\n",
       "    <tr>\n",
       "      <th>5</th>\n",
       "      <td>Sony Bravia 126 cm (50 inches) 4K Ultra HD Sma...</td>\n",
       "      <td>51999.0</td>\n",
       "      <td>4.7</td>\n",
       "      <td>0</td>\n",
       "      <td>Sony</td>\n",
       "      <td>39.0</td>\n",
       "      <td>1</td>\n",
       "      <td>7.7D x 112.7W x 66.2H Centimeters</td>\n",
       "      <td>4000.0</td>\n",
       "      <td>60</td>\n",
       "      <td>50 Inches</td>\n",
       "      <td>8364.0</td>\n",
       "      <td>(43500, 53500]</td>\n",
       "      <td>(19, 40]</td>\n",
       "      <td>(8000, 10000]</td>\n",
       "      <td>7.7D</td>\n",
       "      <td>112.7W</td>\n",
       "      <td>66.2H</td>\n",
       "    </tr>\n",
       "  </tbody>\n",
       "</table>\n",
       "</div>"
      ],
      "text/plain": [
       "                                               title    price  ratings  \\\n",
       "0  Kodak 139 cm (55 inches) 4K Ultra HD Smart Cer...  29999.0      4.4   \n",
       "1  OnePlus 138 cm (55 inches) Y Series 4K Ultra H...  39999.0      4.2   \n",
       "2  Redmi 80 cm (32 inches) HD Ready Smart LED Fir...  13999.0      4.0   \n",
       "4  Acer 100 cm (40 inches) P Series Full HD Andro...  16999.0      4.4   \n",
       "5  Sony Bravia 126 cm (50 inches) 4K Ultra HD Sma...  51999.0      4.7   \n",
       "\n",
       "   availability    brand  discount  tech                                dim  \\\n",
       "0             0    Kodak      45.0     1       29D x 124W x 78H Centimeters   \n",
       "1             0  OnePlus      20.0     1   24.6D x 135W x 77.1H Centimeters   \n",
       "2             0    Redmi      44.0     1   8.3D x 71.6W x 42.4H Centimeters   \n",
       "4             0     Acer      32.0     1   8.5D x 90.4W x 51.6H Centimeters   \n",
       "5             0     Sony      39.0     1  7.7D x 112.7W x 66.2H Centimeters   \n",
       "\n",
       "       res refresh       size  ratingsNo      price_bins discount_bins  \\\n",
       "0   4000.0      60  55 Inches      597.0  (23500, 33500]      (40, 60]   \n",
       "1   4000.0      60  55 Inches     8532.0  (33500, 43500]      (19, 40]   \n",
       "2   7500.0      60  32 Inches       69.0  (13500, 23500]      (40, 60]   \n",
       "4  11225.0      60  40 Inches     8521.0  (13500, 23500]      (19, 40]   \n",
       "5   4000.0      60  50 Inches     8364.0  (43500, 53500]      (19, 40]   \n",
       "\n",
       "  ratingsNo_bins      0       2      4  \n",
       "0      (0, 2000]    29D    124W    78H  \n",
       "1  (8000, 10000]  24.6D    135W  77.1H  \n",
       "2      (0, 2000]   8.3D   71.6W  42.4H  \n",
       "4  (8000, 10000]   8.5D   90.4W  51.6H  \n",
       "5  (8000, 10000]   7.7D  112.7W  66.2H  "
      ]
     },
     "execution_count": 159,
     "metadata": {},
     "output_type": "execute_result"
    }
   ],
   "source": [
    "df = pd.concat([df,dim], axis=1)\n",
    "df.head()"
   ]
  },
  {
   "cell_type": "code",
   "execution_count": 160,
   "id": "732a1c90",
   "metadata": {},
   "outputs": [],
   "source": [
    "df.rename(columns = {0:'Depth'}, inplace = True)\n",
    "df.rename(columns = {2: 'Width'}, inplace = True)\n",
    "df.rename(columns = {4: 'Height'}, inplace = True)"
   ]
  },
  {
   "cell_type": "code",
   "execution_count": 161,
   "id": "3b84a77f",
   "metadata": {},
   "outputs": [],
   "source": [
    "# dropping origonal dimensions column\n",
    "\n",
    "df = df.drop(df.columns[7], axis=1)"
   ]
  },
  {
   "cell_type": "code",
   "execution_count": 162,
   "id": "14f94234",
   "metadata": {},
   "outputs": [],
   "source": [
    "# extracting numerical value from depth\n",
    "\n",
    "df['Depth'] = [(str(i).replace(\"D\", \"\")) for i in df[\"Depth\"]]"
   ]
  },
  {
   "cell_type": "code",
   "execution_count": 163,
   "id": "c44678cb",
   "metadata": {},
   "outputs": [],
   "source": [
    "# extracting numerical value from width\n",
    "\n",
    "df['Width'] = [(str(i).replace(\"W\", \"\")) for i in df[\"Width\"]]"
   ]
  },
  {
   "cell_type": "code",
   "execution_count": 164,
   "id": "b9b8cc13",
   "metadata": {},
   "outputs": [],
   "source": [
    "# extracting numerical value from height\n",
    "\n",
    "df['Height'] = [(str(i).replace(\"H\", \"\")) for i in df[\"Height\"]]"
   ]
  },
  {
   "cell_type": "code",
   "execution_count": 165,
   "id": "ee725318",
   "metadata": {},
   "outputs": [],
   "source": [
    "# extracting numerical value from size\n",
    "\n",
    "df['size'] = [(str(i).replace(\"Inches\", \"\")) for i in df[\"size\"]]"
   ]
  },
  {
   "cell_type": "markdown",
   "id": "b5238ec8",
   "metadata": {},
   "source": [
    "##### AFTER"
   ]
  },
  {
   "cell_type": "code",
   "execution_count": 166,
   "id": "7e8de353",
   "metadata": {
    "scrolled": true
   },
   "outputs": [
    {
     "data": {
      "text/html": [
       "<div>\n",
       "<style scoped>\n",
       "    .dataframe tbody tr th:only-of-type {\n",
       "        vertical-align: middle;\n",
       "    }\n",
       "\n",
       "    .dataframe tbody tr th {\n",
       "        vertical-align: top;\n",
       "    }\n",
       "\n",
       "    .dataframe thead th {\n",
       "        text-align: right;\n",
       "    }\n",
       "</style>\n",
       "<table border=\"1\" class=\"dataframe\">\n",
       "  <thead>\n",
       "    <tr style=\"text-align: right;\">\n",
       "      <th></th>\n",
       "      <th>title</th>\n",
       "      <th>price</th>\n",
       "      <th>ratings</th>\n",
       "      <th>availability</th>\n",
       "      <th>brand</th>\n",
       "      <th>discount</th>\n",
       "      <th>tech</th>\n",
       "      <th>res</th>\n",
       "      <th>refresh</th>\n",
       "      <th>size</th>\n",
       "      <th>ratingsNo</th>\n",
       "      <th>price_bins</th>\n",
       "      <th>discount_bins</th>\n",
       "      <th>ratingsNo_bins</th>\n",
       "      <th>Depth</th>\n",
       "      <th>Width</th>\n",
       "      <th>Height</th>\n",
       "    </tr>\n",
       "  </thead>\n",
       "  <tbody>\n",
       "    <tr>\n",
       "      <th>0</th>\n",
       "      <td>Kodak 139 cm (55 inches) 4K Ultra HD Smart Cer...</td>\n",
       "      <td>29999.0</td>\n",
       "      <td>4.4</td>\n",
       "      <td>0</td>\n",
       "      <td>Kodak</td>\n",
       "      <td>45.0</td>\n",
       "      <td>1</td>\n",
       "      <td>4000.0</td>\n",
       "      <td>60</td>\n",
       "      <td>55</td>\n",
       "      <td>597.0</td>\n",
       "      <td>(23500, 33500]</td>\n",
       "      <td>(40, 60]</td>\n",
       "      <td>(0, 2000]</td>\n",
       "      <td>29</td>\n",
       "      <td>124</td>\n",
       "      <td>78</td>\n",
       "    </tr>\n",
       "    <tr>\n",
       "      <th>1</th>\n",
       "      <td>OnePlus 138 cm (55 inches) Y Series 4K Ultra H...</td>\n",
       "      <td>39999.0</td>\n",
       "      <td>4.2</td>\n",
       "      <td>0</td>\n",
       "      <td>OnePlus</td>\n",
       "      <td>20.0</td>\n",
       "      <td>1</td>\n",
       "      <td>4000.0</td>\n",
       "      <td>60</td>\n",
       "      <td>55</td>\n",
       "      <td>8532.0</td>\n",
       "      <td>(33500, 43500]</td>\n",
       "      <td>(19, 40]</td>\n",
       "      <td>(8000, 10000]</td>\n",
       "      <td>24.6</td>\n",
       "      <td>135</td>\n",
       "      <td>77.1</td>\n",
       "    </tr>\n",
       "    <tr>\n",
       "      <th>2</th>\n",
       "      <td>Redmi 80 cm (32 inches) HD Ready Smart LED Fir...</td>\n",
       "      <td>13999.0</td>\n",
       "      <td>4.0</td>\n",
       "      <td>0</td>\n",
       "      <td>Redmi</td>\n",
       "      <td>44.0</td>\n",
       "      <td>1</td>\n",
       "      <td>7500.0</td>\n",
       "      <td>60</td>\n",
       "      <td>32</td>\n",
       "      <td>69.0</td>\n",
       "      <td>(13500, 23500]</td>\n",
       "      <td>(40, 60]</td>\n",
       "      <td>(0, 2000]</td>\n",
       "      <td>8.3</td>\n",
       "      <td>71.6</td>\n",
       "      <td>42.4</td>\n",
       "    </tr>\n",
       "    <tr>\n",
       "      <th>4</th>\n",
       "      <td>Acer 100 cm (40 inches) P Series Full HD Andro...</td>\n",
       "      <td>16999.0</td>\n",
       "      <td>4.4</td>\n",
       "      <td>0</td>\n",
       "      <td>Acer</td>\n",
       "      <td>32.0</td>\n",
       "      <td>1</td>\n",
       "      <td>11225.0</td>\n",
       "      <td>60</td>\n",
       "      <td>40</td>\n",
       "      <td>8521.0</td>\n",
       "      <td>(13500, 23500]</td>\n",
       "      <td>(19, 40]</td>\n",
       "      <td>(8000, 10000]</td>\n",
       "      <td>8.5</td>\n",
       "      <td>90.4</td>\n",
       "      <td>51.6</td>\n",
       "    </tr>\n",
       "    <tr>\n",
       "      <th>5</th>\n",
       "      <td>Sony Bravia 126 cm (50 inches) 4K Ultra HD Sma...</td>\n",
       "      <td>51999.0</td>\n",
       "      <td>4.7</td>\n",
       "      <td>0</td>\n",
       "      <td>Sony</td>\n",
       "      <td>39.0</td>\n",
       "      <td>1</td>\n",
       "      <td>4000.0</td>\n",
       "      <td>60</td>\n",
       "      <td>50</td>\n",
       "      <td>8364.0</td>\n",
       "      <td>(43500, 53500]</td>\n",
       "      <td>(19, 40]</td>\n",
       "      <td>(8000, 10000]</td>\n",
       "      <td>7.7</td>\n",
       "      <td>112.7</td>\n",
       "      <td>66.2</td>\n",
       "    </tr>\n",
       "  </tbody>\n",
       "</table>\n",
       "</div>"
      ],
      "text/plain": [
       "                                               title    price  ratings  \\\n",
       "0  Kodak 139 cm (55 inches) 4K Ultra HD Smart Cer...  29999.0      4.4   \n",
       "1  OnePlus 138 cm (55 inches) Y Series 4K Ultra H...  39999.0      4.2   \n",
       "2  Redmi 80 cm (32 inches) HD Ready Smart LED Fir...  13999.0      4.0   \n",
       "4  Acer 100 cm (40 inches) P Series Full HD Andro...  16999.0      4.4   \n",
       "5  Sony Bravia 126 cm (50 inches) 4K Ultra HD Sma...  51999.0      4.7   \n",
       "\n",
       "   availability    brand  discount  tech      res refresh size  ratingsNo  \\\n",
       "0             0    Kodak      45.0     1   4000.0      60  55       597.0   \n",
       "1             0  OnePlus      20.0     1   4000.0      60  55      8532.0   \n",
       "2             0    Redmi      44.0     1   7500.0      60  32        69.0   \n",
       "4             0     Acer      32.0     1  11225.0      60  40      8521.0   \n",
       "5             0     Sony      39.0     1   4000.0      60  50      8364.0   \n",
       "\n",
       "       price_bins discount_bins ratingsNo_bins Depth  Width Height  \n",
       "0  (23500, 33500]      (40, 60]      (0, 2000]    29    124     78  \n",
       "1  (33500, 43500]      (19, 40]  (8000, 10000]  24.6    135   77.1  \n",
       "2  (13500, 23500]      (40, 60]      (0, 2000]   8.3   71.6   42.4  \n",
       "4  (13500, 23500]      (19, 40]  (8000, 10000]   8.5   90.4   51.6  \n",
       "5  (43500, 53500]      (19, 40]  (8000, 10000]   7.7  112.7   66.2  "
      ]
     },
     "execution_count": 166,
     "metadata": {},
     "output_type": "execute_result"
    }
   ],
   "source": [
    "df.head()"
   ]
  },
  {
   "cell_type": "code",
   "execution_count": 167,
   "id": "0fe5bd9d",
   "metadata": {},
   "outputs": [],
   "source": [
    "## Splitted dim into 3 different features named depth, width and height.\n",
    "## Used on features : dim"
   ]
  },
  {
   "cell_type": "markdown",
   "id": "30b98889",
   "metadata": {},
   "source": [
    "### 7) SCALING"
   ]
  },
  {
   "cell_type": "markdown",
   "id": "dfd4ebb4",
   "metadata": {},
   "source": [
    "#### Checked skewness through normal distribution plot and using .skew"
   ]
  },
  {
   "cell_type": "markdown",
   "id": "ee306b87",
   "metadata": {},
   "source": [
    "##### BEFORE"
   ]
  },
  {
   "cell_type": "code",
   "execution_count": 168,
   "id": "099b2f84",
   "metadata": {},
   "outputs": [
    {
     "name": "stdout",
     "output_type": "stream",
     "text": [
      "price           0.654896\n",
      "ratings         0.012278\n",
      "availability    5.286587\n",
      "discount        0.379598\n",
      "tech           -5.286587\n",
      "res             1.146210\n",
      "refresh         4.953496\n",
      "size            0.336603\n",
      "ratingsNo       0.528544\n",
      "dtype: float64\n"
     ]
    }
   ],
   "source": [
    "print(df.skew())"
   ]
  },
  {
   "cell_type": "code",
   "execution_count": 169,
   "id": "d1948deb",
   "metadata": {},
   "outputs": [
    {
     "data": {
      "image/png": "[encoded data removed]",
      "text/plain": [
       "<Figure size 1152x360 with 1 Axes>"
      ]
     },
     "metadata": {
      "needs_background": "light"
     },
     "output_type": "display_data"
    },
    {
     "data": {
      "image/png": "[encoded data removed]",
      "text/plain": [
       "<Figure size 432x288 with 1 Axes>"
      ]
     },
     "metadata": {
      "needs_background": "light"
     },
     "output_type": "display_data"
    },
    {
     "data": {
      "image/png": "[encoded data removed]",
      "text/plain": [
       "<Figure size 432x288 with 1 Axes>"
      ]
     },
     "metadata": {
      "needs_background": "light"
     },
     "output_type": "display_data"
    },
    {
     "data": {
      "image/png": "[encoded data removed]",
      "text/plain": [
       "<Figure size 432x288 with 1 Axes>"
      ]
     },
     "metadata": {
      "needs_background": "light"
     },
     "output_type": "display_data"
    },
    {
     "data": {
      "image/png": "[encoded data removed]",
      "text/plain": [
       "<Figure size 432x288 with 1 Axes>"
      ]
     },
     "metadata": {
      "needs_background": "light"
     },
     "output_type": "display_data"
    },
    {
     "data": {
      "image/png": "[encoded data removed]",
      "text/plain": [
       "<Figure size 432x288 with 1 Axes>"
      ]
     },
     "metadata": {
      "needs_background": "light"
     },
     "output_type": "display_data"
    }
   ],
   "source": [
    "warnings.filterwarnings('ignore')\n",
    "plt.figure(figsize=(16,5))\n",
    "plt.subplot(1,2,1)\n",
    "sns.distplot(df['ratings'])\n",
    "plt.show()\n",
    "sns.distplot(df['availability'])\n",
    "plt.show()\n",
    "sns.distplot(df['tech'])\n",
    "plt.show()\n",
    "sns.distplot(df['res'])\n",
    "plt.show()\n",
    "sns.distplot(df['refresh'])\n",
    "plt.show()\n",
    "sns.distplot(df['size'])\n",
    "plt.show()"
   ]
  },
  {
   "cell_type": "code",
   "execution_count": 170,
   "id": "ec670a75",
   "metadata": {},
   "outputs": [],
   "source": [
    "df['tech'] = df['tech'].astype(float)"
   ]
  },
  {
   "cell_type": "code",
   "execution_count": 171,
   "id": "b29ebf8c",
   "metadata": {},
   "outputs": [],
   "source": [
    "df['refresh'] = df['refresh'].astype(float)"
   ]
  },
  {
   "cell_type": "code",
   "execution_count": 172,
   "id": "ae36a86d",
   "metadata": {},
   "outputs": [],
   "source": [
    "df['availability'] = df['availability'].astype(float)"
   ]
  },
  {
   "cell_type": "code",
   "execution_count": 173,
   "id": "2aba7d5e",
   "metadata": {},
   "outputs": [],
   "source": [
    "df['res'] = df['res'].astype(float)"
   ]
  },
  {
   "cell_type": "markdown",
   "id": "74e04cb3",
   "metadata": {},
   "source": [
    "#### Using z score to solve the problem of skewness"
   ]
  },
  {
   "cell_type": "code",
   "execution_count": 174,
   "id": "6850fa06",
   "metadata": {},
   "outputs": [],
   "source": [
    "z = np.abs(stats.zscore(df['availability']))\n",
    "df['availability'] = df['availability'][(z < 3)]"
   ]
  },
  {
   "cell_type": "code",
   "execution_count": 175,
   "id": "d0037001",
   "metadata": {},
   "outputs": [],
   "source": [
    "z = np.abs(stats.zscore(df['tech']))\n",
    "df['tech'] = df['tech'][(z < 3)]"
   ]
  },
  {
   "cell_type": "markdown",
   "id": "1e0730fd",
   "metadata": {},
   "source": [
    "#### Using boxcox to solve the problem of skewness"
   ]
  },
  {
   "cell_type": "code",
   "execution_count": 176,
   "id": "ed3fa953",
   "metadata": {},
   "outputs": [
    {
     "name": "stdout",
     "output_type": "stream",
     "text": [
      "             res  res_boxcox\n",
      "0    4000.000000    0.393851\n",
      "1    4000.000000    0.393851\n",
      "2    7500.000000    0.393851\n",
      "4   11225.000000    0.393851\n",
      "5    4000.000000    0.393851\n",
      "6    8000.000000    0.393851\n",
      "7    8000.000000    0.393851\n",
      "9    4000.000000    0.393851\n",
      "10   4000.000000    0.393851\n",
      "12   4000.000000    0.393851\n",
      "13   4000.000000    0.393851\n",
      "14   4000.000000    0.393851\n",
      "15   4000.000000    0.393851\n",
      "16   4000.000000    0.393851\n",
      "17   4000.000000    0.393851\n",
      "18  11225.000000    0.393851\n",
      "19   4000.000000    0.393851\n",
      "20   4000.000000    0.393851\n",
      "22   4000.000000    0.393851\n",
      "23   4000.000000    0.393851\n",
      "25   7500.000000    0.393851\n",
      "26   4000.000000    0.393851\n",
      "27   4000.000000    0.393851\n",
      "28   4000.000000    0.393851\n",
      "30  11225.000000    0.393851\n",
      "31   4000.000000    0.393851\n",
      "32   4000.000000    0.393851\n",
      "33  11225.000000    0.393851\n",
      "34   4000.000000    0.393851\n",
      "35   4000.000000    0.393851\n",
      "36  11225.000000    0.393851\n",
      "38   4000.000000    0.393851\n",
      "40   4000.000000    0.393851\n",
      "41   7500.000000    0.393851\n",
      "43   7500.000000    0.393851\n",
      "44   4000.000000    0.393851\n",
      "45  11225.000000    0.393851\n",
      "48   7500.000000    0.393851\n",
      "49   4000.000000    0.393851\n",
      "51   4000.000000    0.393851\n",
      "52   4000.000000    0.393851\n",
      "53   7500.000000    0.393851\n",
      "54   4000.000000    0.393851\n",
      "55  11225.000000    0.393851\n",
      "56   4000.000000    0.393851\n",
      "57   4000.000000    0.393851\n",
      "58   4000.000000    0.393851\n",
      "59   4000.000000    0.393851\n",
      "60  11225.000000    0.393851\n",
      "61   6258.783784    0.393851\n",
      "62   4000.000000    0.393851\n",
      "63   4000.000000    0.393851\n",
      "65  11225.000000    0.393851\n",
      "66   4000.000000    0.393851\n",
      "68   8000.000000    0.393851\n",
      "70  11225.000000    0.393851\n",
      "71   4000.000000    0.393851\n",
      "72   4000.000000    0.393851\n",
      "74   4000.000000    0.393851\n",
      "Lambda value: -2.539030976916671\n"
     ]
    }
   ],
   "source": [
    "from scipy.stats import boxcox\n",
    "df['res_boxcox'],lambda_boxcox = boxcox(df['res'])\n",
    "print(df[['res','res_boxcox']])\n",
    "print(\"Lambda value:\",lambda_boxcox)"
   ]
  },
  {
   "cell_type": "code",
   "execution_count": 177,
   "id": "da604ea1",
   "metadata": {},
   "outputs": [
    {
     "name": "stdout",
     "output_type": "stream",
     "text": [
      "    refresh  refresh_boxcox\n",
      "0      60.0        0.295867\n",
      "1      60.0        0.295867\n",
      "2      60.0        0.295867\n",
      "4      60.0        0.295867\n",
      "5      60.0        0.295867\n",
      "6      60.0        0.295867\n",
      "7      60.0        0.295867\n",
      "9      60.0        0.295867\n",
      "10     50.0        0.295867\n",
      "12     60.0        0.295867\n",
      "13     60.0        0.295867\n",
      "14     50.0        0.295867\n",
      "15     60.0        0.295867\n",
      "16     60.0        0.295867\n",
      "17     60.0        0.295867\n",
      "18     60.0        0.295867\n",
      "19     60.0        0.295867\n",
      "20     60.0        0.295867\n",
      "22     60.0        0.295867\n",
      "23     60.0        0.295867\n",
      "25     60.0        0.295867\n",
      "26     60.0        0.295867\n",
      "27     60.0        0.295867\n",
      "28     60.0        0.295867\n",
      "30     60.0        0.295867\n",
      "31     60.0        0.295867\n",
      "32     60.0        0.295867\n",
      "33     60.0        0.295867\n",
      "34     60.0        0.295867\n",
      "35     60.0        0.295867\n",
      "36     60.0        0.295867\n",
      "38     60.0        0.295867\n",
      "40     60.0        0.295867\n",
      "41     60.0        0.295867\n",
      "43     60.0        0.295867\n",
      "44     60.0        0.295867\n",
      "45     60.0        0.295867\n",
      "48     60.0        0.295867\n",
      "49     60.0        0.295867\n",
      "51     60.0        0.295867\n",
      "52     60.0        0.295867\n",
      "53     60.0        0.295867\n",
      "54     60.0        0.295867\n",
      "55     60.0        0.295867\n",
      "56    120.0        0.295868\n",
      "57     60.0        0.295867\n",
      "58     60.0        0.295867\n",
      "59     60.0        0.295867\n",
      "60     50.0        0.295867\n",
      "61     50.0        0.295867\n",
      "62     60.0        0.295867\n",
      "63     60.0        0.295867\n",
      "65     60.0        0.295867\n",
      "66     60.0        0.295867\n",
      "68     60.0        0.295867\n",
      "70     60.0        0.295867\n",
      "71     60.0        0.295867\n",
      "72    100.0        0.295867\n",
      "74     60.0        0.295867\n",
      "Lambda value: -3.3798908723574894\n"
     ]
    }
   ],
   "source": [
    "from scipy.stats import boxcox\n",
    "df['refresh_boxcox'],lambda_boxcox = boxcox(df['refresh'])\n",
    "print(df[['refresh','refresh_boxcox']])\n",
    "print(\"Lambda value:\",lambda_boxcox)"
   ]
  },
  {
   "cell_type": "code",
   "execution_count": 178,
   "id": "73cf1ac0",
   "metadata": {},
   "outputs": [
    {
     "data": {
      "text/plain": [
       "0"
      ]
     },
     "execution_count": 178,
     "metadata": {},
     "output_type": "execute_result"
    }
   ],
   "source": [
    "df['res_boxcox'].skew()"
   ]
  },
  {
   "cell_type": "code",
   "execution_count": 179,
   "id": "33a15291",
   "metadata": {},
   "outputs": [
    {
     "data": {
      "text/plain": [
       "0.0"
      ]
     },
     "execution_count": 179,
     "metadata": {},
     "output_type": "execute_result"
    }
   ],
   "source": [
    "df['refresh_boxcox'].skew()"
   ]
  },
  {
   "cell_type": "code",
   "execution_count": 187,
   "id": "2f14cedc",
   "metadata": {},
   "outputs": [],
   "source": [
    "df['res'] = df['res_boxcox']"
   ]
  },
  {
   "cell_type": "code",
   "execution_count": 188,
   "id": "4dcc3bdd",
   "metadata": {},
   "outputs": [],
   "source": [
    "df['refresh'] = df['refresh_boxcox']"
   ]
  },
  {
   "cell_type": "markdown",
   "id": "e0dce8c9",
   "metadata": {},
   "source": [
    "##### AFTER"
   ]
  },
  {
   "cell_type": "code",
   "execution_count": 182,
   "id": "99c19c2a",
   "metadata": {},
   "outputs": [
    {
     "name": "stdout",
     "output_type": "stream",
     "text": [
      "price             0.654896\n",
      "ratings           0.012278\n",
      "availability      0.000000\n",
      "discount          0.379598\n",
      "tech              0.000000\n",
      "res               0.000000\n",
      "refresh           0.000000\n",
      "size              0.336603\n",
      "ratingsNo         0.528544\n",
      "res_boxcox        0.000000\n",
      "refresh_boxcox    0.000000\n",
      "dtype: float64\n"
     ]
    }
   ],
   "source": [
    "print(df.skew())"
   ]
  },
  {
   "cell_type": "code",
   "execution_count": 183,
   "id": "653d2a58",
   "metadata": {},
   "outputs": [],
   "source": [
    "## Used on features : ratings, availability, tech, res, refresh, size\n",
    "## Result : The problem of skewness got solved."
   ]
  },
  {
   "cell_type": "code",
   "execution_count": 184,
   "id": "dddbc9fe",
   "metadata": {},
   "outputs": [],
   "source": [
    "df = df.drop(df.columns[14], axis=1)"
   ]
  },
  {
   "cell_type": "code",
   "execution_count": 185,
   "id": "a841d6ec",
   "metadata": {},
   "outputs": [],
   "source": [
    "df = df.drop(df.columns[14], axis=1)"
   ]
  },
  {
   "cell_type": "code",
   "execution_count": 189,
   "id": "50f77dbc",
   "metadata": {
    "scrolled": false
   },
   "outputs": [
    {
     "data": {
      "text/html": [
       "<div>\n",
       "<style scoped>\n",
       "    .dataframe tbody tr th:only-of-type {\n",
       "        vertical-align: middle;\n",
       "    }\n",
       "\n",
       "    .dataframe tbody tr th {\n",
       "        vertical-align: top;\n",
       "    }\n",
       "\n",
       "    .dataframe thead th {\n",
       "        text-align: right;\n",
       "    }\n",
       "</style>\n",
       "<table border=\"1\" class=\"dataframe\">\n",
       "  <thead>\n",
       "    <tr style=\"text-align: right;\">\n",
       "      <th></th>\n",
       "      <th>title</th>\n",
       "      <th>price</th>\n",
       "      <th>ratings</th>\n",
       "      <th>availability</th>\n",
       "      <th>brand</th>\n",
       "      <th>discount</th>\n",
       "      <th>tech</th>\n",
       "      <th>res</th>\n",
       "      <th>refresh</th>\n",
       "      <th>size</th>\n",
       "      <th>ratingsNo</th>\n",
       "      <th>price_bins</th>\n",
       "      <th>discount_bins</th>\n",
       "      <th>ratingsNo_bins</th>\n",
       "      <th>Height</th>\n",
       "      <th>res_boxcox</th>\n",
       "      <th>refresh_boxcox</th>\n",
       "    </tr>\n",
       "  </thead>\n",
       "  <tbody>\n",
       "    <tr>\n",
       "      <th>0</th>\n",
       "      <td>Kodak 139 cm (55 inches) 4K Ultra HD Smart Cer...</td>\n",
       "      <td>29999.0</td>\n",
       "      <td>4.4</td>\n",
       "      <td>0.0</td>\n",
       "      <td>Kodak</td>\n",
       "      <td>45.0</td>\n",
       "      <td>1.0</td>\n",
       "      <td>0.393851</td>\n",
       "      <td>0.295867</td>\n",
       "      <td>55</td>\n",
       "      <td>597.0</td>\n",
       "      <td>(23500, 33500]</td>\n",
       "      <td>(40, 60]</td>\n",
       "      <td>(0, 2000]</td>\n",
       "      <td>78</td>\n",
       "      <td>0.393851</td>\n",
       "      <td>0.295867</td>\n",
       "    </tr>\n",
       "    <tr>\n",
       "      <th>1</th>\n",
       "      <td>OnePlus 138 cm (55 inches) Y Series 4K Ultra H...</td>\n",
       "      <td>39999.0</td>\n",
       "      <td>4.2</td>\n",
       "      <td>0.0</td>\n",
       "      <td>OnePlus</td>\n",
       "      <td>20.0</td>\n",
       "      <td>1.0</td>\n",
       "      <td>0.393851</td>\n",
       "      <td>0.295867</td>\n",
       "      <td>55</td>\n",
       "      <td>8532.0</td>\n",
       "      <td>(33500, 43500]</td>\n",
       "      <td>(19, 40]</td>\n",
       "      <td>(8000, 10000]</td>\n",
       "      <td>77.1</td>\n",
       "      <td>0.393851</td>\n",
       "      <td>0.295867</td>\n",
       "    </tr>\n",
       "    <tr>\n",
       "      <th>2</th>\n",
       "      <td>Redmi 80 cm (32 inches) HD Ready Smart LED Fir...</td>\n",
       "      <td>13999.0</td>\n",
       "      <td>4.0</td>\n",
       "      <td>0.0</td>\n",
       "      <td>Redmi</td>\n",
       "      <td>44.0</td>\n",
       "      <td>1.0</td>\n",
       "      <td>0.393851</td>\n",
       "      <td>0.295867</td>\n",
       "      <td>32</td>\n",
       "      <td>69.0</td>\n",
       "      <td>(13500, 23500]</td>\n",
       "      <td>(40, 60]</td>\n",
       "      <td>(0, 2000]</td>\n",
       "      <td>42.4</td>\n",
       "      <td>0.393851</td>\n",
       "      <td>0.295867</td>\n",
       "    </tr>\n",
       "    <tr>\n",
       "      <th>4</th>\n",
       "      <td>Acer 100 cm (40 inches) P Series Full HD Andro...</td>\n",
       "      <td>16999.0</td>\n",
       "      <td>4.4</td>\n",
       "      <td>0.0</td>\n",
       "      <td>Acer</td>\n",
       "      <td>32.0</td>\n",
       "      <td>1.0</td>\n",
       "      <td>0.393851</td>\n",
       "      <td>0.295867</td>\n",
       "      <td>40</td>\n",
       "      <td>8521.0</td>\n",
       "      <td>(13500, 23500]</td>\n",
       "      <td>(19, 40]</td>\n",
       "      <td>(8000, 10000]</td>\n",
       "      <td>51.6</td>\n",
       "      <td>0.393851</td>\n",
       "      <td>0.295867</td>\n",
       "    </tr>\n",
       "    <tr>\n",
       "      <th>5</th>\n",
       "      <td>Sony Bravia 126 cm (50 inches) 4K Ultra HD Sma...</td>\n",
       "      <td>51999.0</td>\n",
       "      <td>4.7</td>\n",
       "      <td>0.0</td>\n",
       "      <td>Sony</td>\n",
       "      <td>39.0</td>\n",
       "      <td>1.0</td>\n",
       "      <td>0.393851</td>\n",
       "      <td>0.295867</td>\n",
       "      <td>50</td>\n",
       "      <td>8364.0</td>\n",
       "      <td>(43500, 53500]</td>\n",
       "      <td>(19, 40]</td>\n",
       "      <td>(8000, 10000]</td>\n",
       "      <td>66.2</td>\n",
       "      <td>0.393851</td>\n",
       "      <td>0.295867</td>\n",
       "    </tr>\n",
       "  </tbody>\n",
       "</table>\n",
       "</div>"
      ],
      "text/plain": [
       "                                               title    price  ratings  \\\n",
       "0  Kodak 139 cm (55 inches) 4K Ultra HD Smart Cer...  29999.0      4.4   \n",
       "1  OnePlus 138 cm (55 inches) Y Series 4K Ultra H...  39999.0      4.2   \n",
       "2  Redmi 80 cm (32 inches) HD Ready Smart LED Fir...  13999.0      4.0   \n",
       "4  Acer 100 cm (40 inches) P Series Full HD Andro...  16999.0      4.4   \n",
       "5  Sony Bravia 126 cm (50 inches) 4K Ultra HD Sma...  51999.0      4.7   \n",
       "\n",
       "   availability    brand  discount  tech       res   refresh size  ratingsNo  \\\n",
       "0           0.0    Kodak      45.0   1.0  0.393851  0.295867  55       597.0   \n",
       "1           0.0  OnePlus      20.0   1.0  0.393851  0.295867  55      8532.0   \n",
       "2           0.0    Redmi      44.0   1.0  0.393851  0.295867  32        69.0   \n",
       "4           0.0     Acer      32.0   1.0  0.393851  0.295867  40      8521.0   \n",
       "5           0.0     Sony      39.0   1.0  0.393851  0.295867  50      8364.0   \n",
       "\n",
       "       price_bins discount_bins ratingsNo_bins Height  res_boxcox  \\\n",
       "0  (23500, 33500]      (40, 60]      (0, 2000]     78    0.393851   \n",
       "1  (33500, 43500]      (19, 40]  (8000, 10000]   77.1    0.393851   \n",
       "2  (13500, 23500]      (40, 60]      (0, 2000]   42.4    0.393851   \n",
       "4  (13500, 23500]      (19, 40]  (8000, 10000]   51.6    0.393851   \n",
       "5  (43500, 53500]      (19, 40]  (8000, 10000]   66.2    0.393851   \n",
       "\n",
       "   refresh_boxcox  \n",
       "0        0.295867  \n",
       "1        0.295867  \n",
       "2        0.295867  \n",
       "4        0.295867  \n",
       "5        0.295867  "
      ]
     },
     "execution_count": 189,
     "metadata": {},
     "output_type": "execute_result"
    }
   ],
   "source": [
    "df.head()"
   ]
  },
  {
   "cell_type": "markdown",
   "id": "54015ba1",
   "metadata": {},
   "source": [
    "### Converting clean dataset into csv"
   ]
  },
  {
   "cell_type": "code",
   "execution_count": 104,
   "id": "4ea04c9a",
   "metadata": {},
   "outputs": [],
   "source": [
    "df['title'].replace('', np.nan, inplace=True)\n",
    "df = df.dropna(subset=['title'])\n",
    "df.to_csv(\"clean_df_1.csv\", header=True, index=False)"
   ]
  },
  {
   "cell_type": "markdown",
   "id": "99167793",
   "metadata": {},
   "source": [
    "<hr>"
   ]
  },
  {
   "cell_type": "markdown",
   "id": "55e4bd34",
   "metadata": {},
   "source": [
    "### CLEANED DATASET"
   ]
  },
  {
   "cell_type": "code",
   "execution_count": 105,
   "id": "056172e9",
   "metadata": {},
   "outputs": [],
   "source": [
    "df1 = pd.read_csv(\"C:\\\\Users\\\\Lenovo\\\\Downloads\\\\clean_df.csv\",index_col=False)"
   ]
  },
  {
   "cell_type": "code",
   "execution_count": 106,
   "id": "a8cc91e2",
   "metadata": {},
   "outputs": [
    {
     "data": {
      "text/html": [
       "<div>\n",
       "<style scoped>\n",
       "    .dataframe tbody tr th:only-of-type {\n",
       "        vertical-align: middle;\n",
       "    }\n",
       "\n",
       "    .dataframe tbody tr th {\n",
       "        vertical-align: top;\n",
       "    }\n",
       "\n",
       "    .dataframe thead th {\n",
       "        text-align: right;\n",
       "    }\n",
       "</style>\n",
       "<table border=\"1\" class=\"dataframe\">\n",
       "  <thead>\n",
       "    <tr style=\"text-align: right;\">\n",
       "      <th></th>\n",
       "      <th>title</th>\n",
       "      <th>price</th>\n",
       "      <th>ratings</th>\n",
       "      <th>availability</th>\n",
       "      <th>brand</th>\n",
       "      <th>discount</th>\n",
       "      <th>tech</th>\n",
       "      <th>res</th>\n",
       "      <th>refresh</th>\n",
       "      <th>size</th>\n",
       "      <th>ratingsNo</th>\n",
       "      <th>Depth</th>\n",
       "      <th>Width</th>\n",
       "      <th>Height</th>\n",
       "    </tr>\n",
       "  </thead>\n",
       "  <tbody>\n",
       "    <tr>\n",
       "      <th>0</th>\n",
       "      <td>Kodak 139 cm (55 inches) 4K Ultra HD Smart Cer...</td>\n",
       "      <td>(23500, 33500]</td>\n",
       "      <td>4.4</td>\n",
       "      <td>0</td>\n",
       "      <td>Kodak</td>\n",
       "      <td>(40, 60]</td>\n",
       "      <td>1</td>\n",
       "      <td>0.393851</td>\n",
       "      <td>0.295867</td>\n",
       "      <td>55</td>\n",
       "      <td>(0, 2000]</td>\n",
       "      <td>29.0</td>\n",
       "      <td>124.0</td>\n",
       "      <td>78.0</td>\n",
       "    </tr>\n",
       "    <tr>\n",
       "      <th>1</th>\n",
       "      <td>OnePlus 138 cm (55 inches) Y Series 4K Ultra H...</td>\n",
       "      <td>(33500, 43500]</td>\n",
       "      <td>4.2</td>\n",
       "      <td>0</td>\n",
       "      <td>OnePlus</td>\n",
       "      <td>(19, 40]</td>\n",
       "      <td>1</td>\n",
       "      <td>0.393851</td>\n",
       "      <td>0.295867</td>\n",
       "      <td>55</td>\n",
       "      <td>(8000, 10000]</td>\n",
       "      <td>24.6</td>\n",
       "      <td>135.0</td>\n",
       "      <td>77.1</td>\n",
       "    </tr>\n",
       "    <tr>\n",
       "      <th>2</th>\n",
       "      <td>Redmi 80 cm (32 inches) HD Ready Smart LED Fir...</td>\n",
       "      <td>(13500, 23500]</td>\n",
       "      <td>4.0</td>\n",
       "      <td>0</td>\n",
       "      <td>Redmi</td>\n",
       "      <td>(40, 60]</td>\n",
       "      <td>1</td>\n",
       "      <td>0.393851</td>\n",
       "      <td>0.295867</td>\n",
       "      <td>32</td>\n",
       "      <td>(0, 2000]</td>\n",
       "      <td>8.3</td>\n",
       "      <td>71.6</td>\n",
       "      <td>42.4</td>\n",
       "    </tr>\n",
       "    <tr>\n",
       "      <th>3</th>\n",
       "      <td>Acer 100 cm (40 inches) P Series Full HD Andro...</td>\n",
       "      <td>(13500, 23500]</td>\n",
       "      <td>4.4</td>\n",
       "      <td>0</td>\n",
       "      <td>Acer</td>\n",
       "      <td>(19, 40]</td>\n",
       "      <td>1</td>\n",
       "      <td>0.393851</td>\n",
       "      <td>0.295867</td>\n",
       "      <td>40</td>\n",
       "      <td>(8000, 10000]</td>\n",
       "      <td>8.5</td>\n",
       "      <td>90.4</td>\n",
       "      <td>51.6</td>\n",
       "    </tr>\n",
       "    <tr>\n",
       "      <th>4</th>\n",
       "      <td>Sony Bravia 126 cm (50 inches) 4K Ultra HD Sma...</td>\n",
       "      <td>(43500, 53500]</td>\n",
       "      <td>4.7</td>\n",
       "      <td>0</td>\n",
       "      <td>Sony</td>\n",
       "      <td>(19, 40]</td>\n",
       "      <td>1</td>\n",
       "      <td>0.393851</td>\n",
       "      <td>0.295867</td>\n",
       "      <td>50</td>\n",
       "      <td>(8000, 10000]</td>\n",
       "      <td>7.7</td>\n",
       "      <td>112.7</td>\n",
       "      <td>66.2</td>\n",
       "    </tr>\n",
       "  </tbody>\n",
       "</table>\n",
       "</div>"
      ],
      "text/plain": [
       "                                               title           price  ratings  \\\n",
       "0  Kodak 139 cm (55 inches) 4K Ultra HD Smart Cer...  (23500, 33500]      4.4   \n",
       "1  OnePlus 138 cm (55 inches) Y Series 4K Ultra H...  (33500, 43500]      4.2   \n",
       "2  Redmi 80 cm (32 inches) HD Ready Smart LED Fir...  (13500, 23500]      4.0   \n",
       "3  Acer 100 cm (40 inches) P Series Full HD Andro...  (13500, 23500]      4.4   \n",
       "4  Sony Bravia 126 cm (50 inches) 4K Ultra HD Sma...  (43500, 53500]      4.7   \n",
       "\n",
       "   availability    brand  discount  tech       res   refresh  size  \\\n",
       "0             0    Kodak  (40, 60]     1  0.393851  0.295867    55   \n",
       "1             0  OnePlus  (19, 40]     1  0.393851  0.295867    55   \n",
       "2             0    Redmi  (40, 60]     1  0.393851  0.295867    32   \n",
       "3             0     Acer  (19, 40]     1  0.393851  0.295867    40   \n",
       "4             0     Sony  (19, 40]     1  0.393851  0.295867    50   \n",
       "\n",
       "       ratingsNo  Depth  Width  Height  \n",
       "0      (0, 2000]   29.0  124.0    78.0  \n",
       "1  (8000, 10000]   24.6  135.0    77.1  \n",
       "2      (0, 2000]    8.3   71.6    42.4  \n",
       "3  (8000, 10000]    8.5   90.4    51.6  \n",
       "4  (8000, 10000]    7.7  112.7    66.2  "
      ]
     },
     "execution_count": 106,
     "metadata": {},
     "output_type": "execute_result"
    }
   ],
   "source": [
    "df1.head()"
   ]
  },
  {
   "cell_type": "code",
   "execution_count": 107,
   "id": "0d80cc6f",
   "metadata": {},
   "outputs": [
    {
     "data": {
      "text/plain": [
       "title           0\n",
       "price           0\n",
       "ratings         0\n",
       "availability    0\n",
       "brand           0\n",
       "discount        0\n",
       "tech            0\n",
       "res             0\n",
       "refresh         0\n",
       "size            0\n",
       "ratingsNo       0\n",
       "Depth           0\n",
       "Width           0\n",
       "Height          0\n",
       "dtype: int64"
      ]
     },
     "execution_count": 107,
     "metadata": {},
     "output_type": "execute_result"
    }
   ],
   "source": [
    "df1.isna().sum()"
   ]
  },
  {
   "cell_type": "code",
   "execution_count": 8,
   "id": "54c51bbb",
   "metadata": {},
   "outputs": [],
   "source": [
    "df1['brand'] = pd.get_dummies(df1['brand'] )"
   ]
  },
  {
   "cell_type": "code",
   "execution_count": 15,
   "id": "fd8ac6da",
   "metadata": {},
   "outputs": [],
   "source": [
    "X = df1.drop(['price','title'],axis=1)\n",
    "y = df1['price']"
   ]
  },
  {
   "cell_type": "code",
   "execution_count": 16,
   "id": "a01bf069",
   "metadata": {},
   "outputs": [],
   "source": [
    "from sklearn.model_selection import train_test_split\n",
    "X_train, X_test, y_train, y_test = train_test_split(X, y, test_size = 0.3)"
   ]
  },
  {
   "cell_type": "code",
   "execution_count": 17,
   "id": "45fb598f",
   "metadata": {},
   "outputs": [
    {
     "ename": "ValueError",
     "evalue": "could not convert string to float: '(19, 40]'",
     "output_type": "error",
     "traceback": [
      "\u001b[1;31m---------------------------------------------------------------------------\u001b[0m",
      "\u001b[1;31mValueError\u001b[0m                                Traceback (most recent call last)",
      "\u001b[1;32m<ipython-input-17-ce018c183043>\u001b[0m in \u001b[0;36m<module>\u001b[1;34m\u001b[0m\n\u001b[0;32m      3\u001b[0m \u001b[0mpca\u001b[0m \u001b[1;33m=\u001b[0m \u001b[0mPCA\u001b[0m\u001b[1;33m(\u001b[0m\u001b[0mn_components\u001b[0m \u001b[1;33m=\u001b[0m \u001b[1;36m2\u001b[0m\u001b[1;33m)\u001b[0m\u001b[1;33m\u001b[0m\u001b[1;33m\u001b[0m\u001b[0m\n\u001b[0;32m      4\u001b[0m \u001b[1;33m\u001b[0m\u001b[0m\n\u001b[1;32m----> 5\u001b[1;33m \u001b[0mX_train\u001b[0m \u001b[1;33m=\u001b[0m \u001b[0mpca\u001b[0m\u001b[1;33m.\u001b[0m\u001b[0mfit_transform\u001b[0m\u001b[1;33m(\u001b[0m\u001b[0mX_train\u001b[0m\u001b[1;33m)\u001b[0m\u001b[1;33m\u001b[0m\u001b[1;33m\u001b[0m\u001b[0m\n\u001b[0m\u001b[0;32m      6\u001b[0m \u001b[0mX_test\u001b[0m \u001b[1;33m=\u001b[0m \u001b[0mpca\u001b[0m\u001b[1;33m.\u001b[0m\u001b[0mtransform\u001b[0m\u001b[1;33m(\u001b[0m\u001b[0mX_test\u001b[0m\u001b[1;33m)\u001b[0m\u001b[1;33m\u001b[0m\u001b[1;33m\u001b[0m\u001b[0m\n\u001b[0;32m      7\u001b[0m \u001b[1;33m\u001b[0m\u001b[0m\n",
      "\u001b[1;32m~\\anaconda3\\lib\\site-packages\\sklearn\\utils\\_set_output.py\u001b[0m in \u001b[0;36mwrapped\u001b[1;34m(self, X, *args, **kwargs)\u001b[0m\n\u001b[0;32m    140\u001b[0m     \u001b[1;33m@\u001b[0m\u001b[0mwraps\u001b[0m\u001b[1;33m(\u001b[0m\u001b[0mf\u001b[0m\u001b[1;33m)\u001b[0m\u001b[1;33m\u001b[0m\u001b[1;33m\u001b[0m\u001b[0m\n\u001b[0;32m    141\u001b[0m     \u001b[1;32mdef\u001b[0m \u001b[0mwrapped\u001b[0m\u001b[1;33m(\u001b[0m\u001b[0mself\u001b[0m\u001b[1;33m,\u001b[0m \u001b[0mX\u001b[0m\u001b[1;33m,\u001b[0m \u001b[1;33m*\u001b[0m\u001b[0margs\u001b[0m\u001b[1;33m,\u001b[0m \u001b[1;33m**\u001b[0m\u001b[0mkwargs\u001b[0m\u001b[1;33m)\u001b[0m\u001b[1;33m:\u001b[0m\u001b[1;33m\u001b[0m\u001b[1;33m\u001b[0m\u001b[0m\n\u001b[1;32m--> 142\u001b[1;33m         \u001b[0mdata_to_wrap\u001b[0m \u001b[1;33m=\u001b[0m \u001b[0mf\u001b[0m\u001b[1;33m(\u001b[0m\u001b[0mself\u001b[0m\u001b[1;33m,\u001b[0m \u001b[0mX\u001b[0m\u001b[1;33m,\u001b[0m \u001b[1;33m*\u001b[0m\u001b[0margs\u001b[0m\u001b[1;33m,\u001b[0m \u001b[1;33m**\u001b[0m\u001b[0mkwargs\u001b[0m\u001b[1;33m)\u001b[0m\u001b[1;33m\u001b[0m\u001b[1;33m\u001b[0m\u001b[0m\n\u001b[0m\u001b[0;32m    143\u001b[0m         \u001b[1;32mif\u001b[0m \u001b[0misinstance\u001b[0m\u001b[1;33m(\u001b[0m\u001b[0mdata_to_wrap\u001b[0m\u001b[1;33m,\u001b[0m \u001b[0mtuple\u001b[0m\u001b[1;33m)\u001b[0m\u001b[1;33m:\u001b[0m\u001b[1;33m\u001b[0m\u001b[1;33m\u001b[0m\u001b[0m\n\u001b[0;32m    144\u001b[0m             \u001b[1;31m# only wrap the first output for cross decomposition\u001b[0m\u001b[1;33m\u001b[0m\u001b[1;33m\u001b[0m\u001b[1;33m\u001b[0m\u001b[0m\n",
      "\u001b[1;32m~\\anaconda3\\lib\\site-packages\\sklearn\\decomposition\\_pca.py\u001b[0m in \u001b[0;36mfit_transform\u001b[1;34m(self, X, y)\u001b[0m\n\u001b[0;32m    460\u001b[0m         \u001b[0mself\u001b[0m\u001b[1;33m.\u001b[0m\u001b[0m_validate_params\u001b[0m\u001b[1;33m(\u001b[0m\u001b[1;33m)\u001b[0m\u001b[1;33m\u001b[0m\u001b[1;33m\u001b[0m\u001b[0m\n\u001b[0;32m    461\u001b[0m \u001b[1;33m\u001b[0m\u001b[0m\n\u001b[1;32m--> 462\u001b[1;33m         \u001b[0mU\u001b[0m\u001b[1;33m,\u001b[0m \u001b[0mS\u001b[0m\u001b[1;33m,\u001b[0m \u001b[0mVt\u001b[0m \u001b[1;33m=\u001b[0m \u001b[0mself\u001b[0m\u001b[1;33m.\u001b[0m\u001b[0m_fit\u001b[0m\u001b[1;33m(\u001b[0m\u001b[0mX\u001b[0m\u001b[1;33m)\u001b[0m\u001b[1;33m\u001b[0m\u001b[1;33m\u001b[0m\u001b[0m\n\u001b[0m\u001b[0;32m    463\u001b[0m         \u001b[0mU\u001b[0m \u001b[1;33m=\u001b[0m \u001b[0mU\u001b[0m\u001b[1;33m[\u001b[0m\u001b[1;33m:\u001b[0m\u001b[1;33m,\u001b[0m \u001b[1;33m:\u001b[0m \u001b[0mself\u001b[0m\u001b[1;33m.\u001b[0m\u001b[0mn_components_\u001b[0m\u001b[1;33m]\u001b[0m\u001b[1;33m\u001b[0m\u001b[1;33m\u001b[0m\u001b[0m\n\u001b[0;32m    464\u001b[0m \u001b[1;33m\u001b[0m\u001b[0m\n",
      "\u001b[1;32m~\\anaconda3\\lib\\site-packages\\sklearn\\decomposition\\_pca.py\u001b[0m in \u001b[0;36m_fit\u001b[1;34m(self, X)\u001b[0m\n\u001b[0;32m    483\u001b[0m             )\n\u001b[0;32m    484\u001b[0m \u001b[1;33m\u001b[0m\u001b[0m\n\u001b[1;32m--> 485\u001b[1;33m         X = self._validate_data(\n\u001b[0m\u001b[0;32m    486\u001b[0m             \u001b[0mX\u001b[0m\u001b[1;33m,\u001b[0m \u001b[0mdtype\u001b[0m\u001b[1;33m=\u001b[0m\u001b[1;33m[\u001b[0m\u001b[0mnp\u001b[0m\u001b[1;33m.\u001b[0m\u001b[0mfloat64\u001b[0m\u001b[1;33m,\u001b[0m \u001b[0mnp\u001b[0m\u001b[1;33m.\u001b[0m\u001b[0mfloat32\u001b[0m\u001b[1;33m]\u001b[0m\u001b[1;33m,\u001b[0m \u001b[0mensure_2d\u001b[0m\u001b[1;33m=\u001b[0m\u001b[1;32mTrue\u001b[0m\u001b[1;33m,\u001b[0m \u001b[0mcopy\u001b[0m\u001b[1;33m=\u001b[0m\u001b[0mself\u001b[0m\u001b[1;33m.\u001b[0m\u001b[0mcopy\u001b[0m\u001b[1;33m\u001b[0m\u001b[1;33m\u001b[0m\u001b[0m\n\u001b[0;32m    487\u001b[0m         )\n",
      "\u001b[1;32m~\\anaconda3\\lib\\site-packages\\sklearn\\base.py\u001b[0m in \u001b[0;36m_validate_data\u001b[1;34m(self, X, y, reset, validate_separately, **check_params)\u001b[0m\n\u001b[0;32m    533\u001b[0m             \u001b[1;32mraise\u001b[0m \u001b[0mValueError\u001b[0m\u001b[1;33m(\u001b[0m\u001b[1;34m\"Validation should be done on X, y or both.\"\u001b[0m\u001b[1;33m)\u001b[0m\u001b[1;33m\u001b[0m\u001b[1;33m\u001b[0m\u001b[0m\n\u001b[0;32m    534\u001b[0m         \u001b[1;32melif\u001b[0m \u001b[1;32mnot\u001b[0m \u001b[0mno_val_X\u001b[0m \u001b[1;32mand\u001b[0m \u001b[0mno_val_y\u001b[0m\u001b[1;33m:\u001b[0m\u001b[1;33m\u001b[0m\u001b[1;33m\u001b[0m\u001b[0m\n\u001b[1;32m--> 535\u001b[1;33m             \u001b[0mX\u001b[0m \u001b[1;33m=\u001b[0m \u001b[0mcheck_array\u001b[0m\u001b[1;33m(\u001b[0m\u001b[0mX\u001b[0m\u001b[1;33m,\u001b[0m \u001b[0minput_name\u001b[0m\u001b[1;33m=\u001b[0m\u001b[1;34m\"X\"\u001b[0m\u001b[1;33m,\u001b[0m \u001b[1;33m**\u001b[0m\u001b[0mcheck_params\u001b[0m\u001b[1;33m)\u001b[0m\u001b[1;33m\u001b[0m\u001b[1;33m\u001b[0m\u001b[0m\n\u001b[0m\u001b[0;32m    536\u001b[0m             \u001b[0mout\u001b[0m \u001b[1;33m=\u001b[0m \u001b[0mX\u001b[0m\u001b[1;33m\u001b[0m\u001b[1;33m\u001b[0m\u001b[0m\n\u001b[0;32m    537\u001b[0m         \u001b[1;32melif\u001b[0m \u001b[0mno_val_X\u001b[0m \u001b[1;32mand\u001b[0m \u001b[1;32mnot\u001b[0m \u001b[0mno_val_y\u001b[0m\u001b[1;33m:\u001b[0m\u001b[1;33m\u001b[0m\u001b[1;33m\u001b[0m\u001b[0m\n",
      "\u001b[1;32m~\\anaconda3\\lib\\site-packages\\sklearn\\utils\\validation.py\u001b[0m in \u001b[0;36mcheck_array\u001b[1;34m(array, accept_sparse, accept_large_sparse, dtype, order, copy, force_all_finite, ensure_2d, allow_nd, ensure_min_samples, ensure_min_features, estimator, input_name)\u001b[0m\n\u001b[0;32m    875\u001b[0m                     \u001b[0marray\u001b[0m \u001b[1;33m=\u001b[0m \u001b[0mxp\u001b[0m\u001b[1;33m.\u001b[0m\u001b[0mastype\u001b[0m\u001b[1;33m(\u001b[0m\u001b[0marray\u001b[0m\u001b[1;33m,\u001b[0m \u001b[0mdtype\u001b[0m\u001b[1;33m,\u001b[0m \u001b[0mcopy\u001b[0m\u001b[1;33m=\u001b[0m\u001b[1;32mFalse\u001b[0m\u001b[1;33m)\u001b[0m\u001b[1;33m\u001b[0m\u001b[1;33m\u001b[0m\u001b[0m\n\u001b[0;32m    876\u001b[0m                 \u001b[1;32melse\u001b[0m\u001b[1;33m:\u001b[0m\u001b[1;33m\u001b[0m\u001b[1;33m\u001b[0m\u001b[0m\n\u001b[1;32m--> 877\u001b[1;33m                     \u001b[0marray\u001b[0m \u001b[1;33m=\u001b[0m \u001b[0m_asarray_with_order\u001b[0m\u001b[1;33m(\u001b[0m\u001b[0marray\u001b[0m\u001b[1;33m,\u001b[0m \u001b[0morder\u001b[0m\u001b[1;33m=\u001b[0m\u001b[0morder\u001b[0m\u001b[1;33m,\u001b[0m \u001b[0mdtype\u001b[0m\u001b[1;33m=\u001b[0m\u001b[0mdtype\u001b[0m\u001b[1;33m,\u001b[0m \u001b[0mxp\u001b[0m\u001b[1;33m=\u001b[0m\u001b[0mxp\u001b[0m\u001b[1;33m)\u001b[0m\u001b[1;33m\u001b[0m\u001b[1;33m\u001b[0m\u001b[0m\n\u001b[0m\u001b[0;32m    878\u001b[0m             \u001b[1;32mexcept\u001b[0m \u001b[0mComplexWarning\u001b[0m \u001b[1;32mas\u001b[0m \u001b[0mcomplex_warning\u001b[0m\u001b[1;33m:\u001b[0m\u001b[1;33m\u001b[0m\u001b[1;33m\u001b[0m\u001b[0m\n\u001b[0;32m    879\u001b[0m                 raise ValueError(\n",
      "\u001b[1;32m~\\anaconda3\\lib\\site-packages\\sklearn\\utils\\_array_api.py\u001b[0m in \u001b[0;36m_asarray_with_order\u001b[1;34m(array, dtype, order, copy, xp)\u001b[0m\n\u001b[0;32m    183\u001b[0m     \u001b[1;32mif\u001b[0m \u001b[0mxp\u001b[0m\u001b[1;33m.\u001b[0m\u001b[0m__name__\u001b[0m \u001b[1;32min\u001b[0m \u001b[1;33m{\u001b[0m\u001b[1;34m\"numpy\"\u001b[0m\u001b[1;33m,\u001b[0m \u001b[1;34m\"numpy.array_api\"\u001b[0m\u001b[1;33m}\u001b[0m\u001b[1;33m:\u001b[0m\u001b[1;33m\u001b[0m\u001b[1;33m\u001b[0m\u001b[0m\n\u001b[0;32m    184\u001b[0m         \u001b[1;31m# Use NumPy API to support order\u001b[0m\u001b[1;33m\u001b[0m\u001b[1;33m\u001b[0m\u001b[1;33m\u001b[0m\u001b[0m\n\u001b[1;32m--> 185\u001b[1;33m         \u001b[0marray\u001b[0m \u001b[1;33m=\u001b[0m \u001b[0mnumpy\u001b[0m\u001b[1;33m.\u001b[0m\u001b[0masarray\u001b[0m\u001b[1;33m(\u001b[0m\u001b[0marray\u001b[0m\u001b[1;33m,\u001b[0m \u001b[0morder\u001b[0m\u001b[1;33m=\u001b[0m\u001b[0morder\u001b[0m\u001b[1;33m,\u001b[0m \u001b[0mdtype\u001b[0m\u001b[1;33m=\u001b[0m\u001b[0mdtype\u001b[0m\u001b[1;33m)\u001b[0m\u001b[1;33m\u001b[0m\u001b[1;33m\u001b[0m\u001b[0m\n\u001b[0m\u001b[0;32m    186\u001b[0m         \u001b[1;32mreturn\u001b[0m \u001b[0mxp\u001b[0m\u001b[1;33m.\u001b[0m\u001b[0masarray\u001b[0m\u001b[1;33m(\u001b[0m\u001b[0marray\u001b[0m\u001b[1;33m,\u001b[0m \u001b[0mcopy\u001b[0m\u001b[1;33m=\u001b[0m\u001b[0mcopy\u001b[0m\u001b[1;33m)\u001b[0m\u001b[1;33m\u001b[0m\u001b[1;33m\u001b[0m\u001b[0m\n\u001b[0;32m    187\u001b[0m     \u001b[1;32melse\u001b[0m\u001b[1;33m:\u001b[0m\u001b[1;33m\u001b[0m\u001b[1;33m\u001b[0m\u001b[0m\n",
      "\u001b[1;32m~\\anaconda3\\lib\\site-packages\\numpy\\core\\_asarray.py\u001b[0m in \u001b[0;36masarray\u001b[1;34m(a, dtype, order, like)\u001b[0m\n\u001b[0;32m    100\u001b[0m         \u001b[1;32mreturn\u001b[0m \u001b[0m_asarray_with_like\u001b[0m\u001b[1;33m(\u001b[0m\u001b[0ma\u001b[0m\u001b[1;33m,\u001b[0m \u001b[0mdtype\u001b[0m\u001b[1;33m=\u001b[0m\u001b[0mdtype\u001b[0m\u001b[1;33m,\u001b[0m \u001b[0morder\u001b[0m\u001b[1;33m=\u001b[0m\u001b[0morder\u001b[0m\u001b[1;33m,\u001b[0m \u001b[0mlike\u001b[0m\u001b[1;33m=\u001b[0m\u001b[0mlike\u001b[0m\u001b[1;33m)\u001b[0m\u001b[1;33m\u001b[0m\u001b[1;33m\u001b[0m\u001b[0m\n\u001b[0;32m    101\u001b[0m \u001b[1;33m\u001b[0m\u001b[0m\n\u001b[1;32m--> 102\u001b[1;33m     \u001b[1;32mreturn\u001b[0m \u001b[0marray\u001b[0m\u001b[1;33m(\u001b[0m\u001b[0ma\u001b[0m\u001b[1;33m,\u001b[0m \u001b[0mdtype\u001b[0m\u001b[1;33m,\u001b[0m \u001b[0mcopy\u001b[0m\u001b[1;33m=\u001b[0m\u001b[1;32mFalse\u001b[0m\u001b[1;33m,\u001b[0m \u001b[0morder\u001b[0m\u001b[1;33m=\u001b[0m\u001b[0morder\u001b[0m\u001b[1;33m)\u001b[0m\u001b[1;33m\u001b[0m\u001b[1;33m\u001b[0m\u001b[0m\n\u001b[0m\u001b[0;32m    103\u001b[0m \u001b[1;33m\u001b[0m\u001b[0m\n\u001b[0;32m    104\u001b[0m \u001b[1;33m\u001b[0m\u001b[0m\n",
      "\u001b[1;32m~\\anaconda3\\lib\\site-packages\\pandas\\core\\generic.py\u001b[0m in \u001b[0;36m__array__\u001b[1;34m(self, dtype)\u001b[0m\n\u001b[0;32m   1897\u001b[0m \u001b[1;33m\u001b[0m\u001b[0m\n\u001b[0;32m   1898\u001b[0m     \u001b[1;32mdef\u001b[0m \u001b[0m__array__\u001b[0m\u001b[1;33m(\u001b[0m\u001b[0mself\u001b[0m\u001b[1;33m,\u001b[0m \u001b[0mdtype\u001b[0m\u001b[1;33m=\u001b[0m\u001b[1;32mNone\u001b[0m\u001b[1;33m)\u001b[0m \u001b[1;33m->\u001b[0m \u001b[0mnp\u001b[0m\u001b[1;33m.\u001b[0m\u001b[0mndarray\u001b[0m\u001b[1;33m:\u001b[0m\u001b[1;33m\u001b[0m\u001b[1;33m\u001b[0m\u001b[0m\n\u001b[1;32m-> 1899\u001b[1;33m         \u001b[1;32mreturn\u001b[0m \u001b[0mnp\u001b[0m\u001b[1;33m.\u001b[0m\u001b[0masarray\u001b[0m\u001b[1;33m(\u001b[0m\u001b[0mself\u001b[0m\u001b[1;33m.\u001b[0m\u001b[0m_values\u001b[0m\u001b[1;33m,\u001b[0m \u001b[0mdtype\u001b[0m\u001b[1;33m=\u001b[0m\u001b[0mdtype\u001b[0m\u001b[1;33m)\u001b[0m\u001b[1;33m\u001b[0m\u001b[1;33m\u001b[0m\u001b[0m\n\u001b[0m\u001b[0;32m   1900\u001b[0m \u001b[1;33m\u001b[0m\u001b[0m\n\u001b[0;32m   1901\u001b[0m     def __array_wrap__(\n",
      "\u001b[1;32m~\\anaconda3\\lib\\site-packages\\numpy\\core\\_asarray.py\u001b[0m in \u001b[0;36masarray\u001b[1;34m(a, dtype, order, like)\u001b[0m\n\u001b[0;32m    100\u001b[0m         \u001b[1;32mreturn\u001b[0m \u001b[0m_asarray_with_like\u001b[0m\u001b[1;33m(\u001b[0m\u001b[0ma\u001b[0m\u001b[1;33m,\u001b[0m \u001b[0mdtype\u001b[0m\u001b[1;33m=\u001b[0m\u001b[0mdtype\u001b[0m\u001b[1;33m,\u001b[0m \u001b[0morder\u001b[0m\u001b[1;33m=\u001b[0m\u001b[0morder\u001b[0m\u001b[1;33m,\u001b[0m \u001b[0mlike\u001b[0m\u001b[1;33m=\u001b[0m\u001b[0mlike\u001b[0m\u001b[1;33m)\u001b[0m\u001b[1;33m\u001b[0m\u001b[1;33m\u001b[0m\u001b[0m\n\u001b[0;32m    101\u001b[0m \u001b[1;33m\u001b[0m\u001b[0m\n\u001b[1;32m--> 102\u001b[1;33m     \u001b[1;32mreturn\u001b[0m \u001b[0marray\u001b[0m\u001b[1;33m(\u001b[0m\u001b[0ma\u001b[0m\u001b[1;33m,\u001b[0m \u001b[0mdtype\u001b[0m\u001b[1;33m,\u001b[0m \u001b[0mcopy\u001b[0m\u001b[1;33m=\u001b[0m\u001b[1;32mFalse\u001b[0m\u001b[1;33m,\u001b[0m \u001b[0morder\u001b[0m\u001b[1;33m=\u001b[0m\u001b[0morder\u001b[0m\u001b[1;33m)\u001b[0m\u001b[1;33m\u001b[0m\u001b[1;33m\u001b[0m\u001b[0m\n\u001b[0m\u001b[0;32m    103\u001b[0m \u001b[1;33m\u001b[0m\u001b[0m\n\u001b[0;32m    104\u001b[0m \u001b[1;33m\u001b[0m\u001b[0m\n",
      "\u001b[1;31mValueError\u001b[0m: could not convert string to float: '(19, 40]'"
     ]
    }
   ],
   "source": [
    "from sklearn.decomposition import PCA\n",
    " \n",
    "pca = PCA(n_components = 2)\n",
    " \n",
    "X_train = pca.fit_transform(X_train)\n",
    "X_test = pca.transform(X_test)\n",
    " \n",
    "explained_variance = pca.explained_variance_ratio_"
   ]
  },
  {
   "cell_type": "code",
   "execution_count": 23,
   "id": "cce534c7",
   "metadata": {},
   "outputs": [
    {
     "ename": "TypeError",
     "evalue": "cannot convert the series to <class 'float'>",
     "output_type": "error",
     "traceback": [
      "\u001b[1;31m---------------------------------------------------------------------------\u001b[0m",
      "\u001b[1;31mTypeError\u001b[0m                                 Traceback (most recent call last)",
      "\u001b[1;32m<ipython-input-23-7f4cda264190>\u001b[0m in \u001b[0;36m<module>\u001b[1;34m\u001b[0m\n\u001b[1;32m----> 1\u001b[1;33m \u001b[0mdf1\u001b[0m\u001b[1;33m[\u001b[0m\u001b[1;34m'discount'\u001b[0m\u001b[1;33m]\u001b[0m \u001b[1;33m=\u001b[0m \u001b[0mint\u001b[0m\u001b[1;33m(\u001b[0m\u001b[0mfloat\u001b[0m\u001b[1;33m(\u001b[0m\u001b[0mdf1\u001b[0m\u001b[1;33m[\u001b[0m\u001b[1;34m'discount'\u001b[0m\u001b[1;33m]\u001b[0m\u001b[1;33m)\u001b[0m\u001b[1;33m)\u001b[0m\u001b[1;33m\u001b[0m\u001b[1;33m\u001b[0m\u001b[0m\n\u001b[0m",
      "\u001b[1;32m~\\anaconda3\\lib\\site-packages\\pandas\\core\\series.py\u001b[0m in \u001b[0;36mwrapper\u001b[1;34m(self)\u001b[0m\n\u001b[0;32m    139\u001b[0m         \u001b[1;32mif\u001b[0m \u001b[0mlen\u001b[0m\u001b[1;33m(\u001b[0m\u001b[0mself\u001b[0m\u001b[1;33m)\u001b[0m \u001b[1;33m==\u001b[0m \u001b[1;36m1\u001b[0m\u001b[1;33m:\u001b[0m\u001b[1;33m\u001b[0m\u001b[1;33m\u001b[0m\u001b[0m\n\u001b[0;32m    140\u001b[0m             \u001b[1;32mreturn\u001b[0m \u001b[0mconverter\u001b[0m\u001b[1;33m(\u001b[0m\u001b[0mself\u001b[0m\u001b[1;33m.\u001b[0m\u001b[0miloc\u001b[0m\u001b[1;33m[\u001b[0m\u001b[1;36m0\u001b[0m\u001b[1;33m]\u001b[0m\u001b[1;33m)\u001b[0m\u001b[1;33m\u001b[0m\u001b[1;33m\u001b[0m\u001b[0m\n\u001b[1;32m--> 141\u001b[1;33m         \u001b[1;32mraise\u001b[0m \u001b[0mTypeError\u001b[0m\u001b[1;33m(\u001b[0m\u001b[1;34mf\"cannot convert the series to {converter}\"\u001b[0m\u001b[1;33m)\u001b[0m\u001b[1;33m\u001b[0m\u001b[1;33m\u001b[0m\u001b[0m\n\u001b[0m\u001b[0;32m    142\u001b[0m \u001b[1;33m\u001b[0m\u001b[0m\n\u001b[0;32m    143\u001b[0m     \u001b[0mwrapper\u001b[0m\u001b[1;33m.\u001b[0m\u001b[0m__name__\u001b[0m \u001b[1;33m=\u001b[0m \u001b[1;34mf\"__{converter.__name__}__\"\u001b[0m\u001b[1;33m\u001b[0m\u001b[1;33m\u001b[0m\u001b[0m\n",
      "\u001b[1;31mTypeError\u001b[0m: cannot convert the series to <class 'float'>"
     ]
    }
   ],
   "source": [
    "df1['discount'] = int(float(df1['discount']))"
   ]
  },
  {
   "cell_type": "code",
   "execution_count": 22,
   "id": "8ad4b064",
   "metadata": {},
   "outputs": [
    {
     "data": {
      "text/plain": [
       "title            object\n",
       "price            object\n",
       "ratings         float64\n",
       "availability      int64\n",
       "brand             uint8\n",
       "discount         object\n",
       "tech              int64\n",
       "res             float64\n",
       "refresh         float64\n",
       "size              int64\n",
       "ratingsNo        object\n",
       "Depth           float64\n",
       "Width           float64\n",
       "Height          float64\n",
       "dtype: object"
      ]
     },
     "execution_count": 22,
     "metadata": {},
     "output_type": "execute_result"
    }
   ],
   "source": [
    "df1.dtypes"
   ]
  },
  {
   "cell_type": "code",
   "execution_count": null,
   "id": "9f650b08",
   "metadata": {},
   "outputs": [],
   "source": []
  }
 ],
 "metadata": {
  "kernelspec": {
   "display_name": "Python 3",
   "language": "python",
   "name": "python3"
  },
  "language_info": {
   "codemirror_mode": {
    "name": "ipython",
    "version": 3
   },
   "file_extension": ".py",
   "mimetype": "text/x-python",
   "name": "python",
   "nbconvert_exporter": "python",
   "pygments_lexer": "ipython3",
   "version": "3.8.8"
  }
 },
 "nbformat": 4,
 "nbformat_minor": 5
}
