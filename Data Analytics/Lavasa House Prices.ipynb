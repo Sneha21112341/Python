{
 "cells": [
  {
   "cell_type": "code",
   "execution_count": 1,
   "id": "85f2e851",
   "metadata": {},
   "outputs": [],
   "source": [
    "import pandas as pd"
   ]
  },
  {
   "cell_type": "markdown",
   "id": "3f56fad4",
   "metadata": {},
   "source": [
    "### Importing the Dataset"
   ]
  },
  {
   "cell_type": "code",
   "execution_count": 4,
   "id": "a2ef39aa",
   "metadata": {},
   "outputs": [
    {
     "data": {
      "text/html": [
       "<div>\n",
       "<style scoped>\n",
       "    .dataframe tbody tr th:only-of-type {\n",
       "        vertical-align: middle;\n",
       "    }\n",
       "\n",
       "    .dataframe tbody tr th {\n",
       "        vertical-align: top;\n",
       "    }\n",
       "\n",
       "    .dataframe thead th {\n",
       "        text-align: right;\n",
       "    }\n",
       "</style>\n",
       "<table border=\"1\" class=\"dataframe\">\n",
       "  <thead>\n",
       "    <tr style=\"text-align: right;\">\n",
       "      <th></th>\n",
       "      <th>BuildingType</th>\n",
       "      <th>Location</th>\n",
       "      <th>Size</th>\n",
       "      <th>AreaSqFt</th>\n",
       "      <th>NoOfBath</th>\n",
       "      <th>NoOfPeople</th>\n",
       "      <th>NoOfBalcony</th>\n",
       "      <th>RentPerMonth</th>\n",
       "    </tr>\n",
       "  </thead>\n",
       "  <tbody>\n",
       "    <tr>\n",
       "      <th>0</th>\n",
       "      <td>Minimum Budget Rooms</td>\n",
       "      <td>Portofino H</td>\n",
       "      <td>1 BHK</td>\n",
       "      <td>400.0</td>\n",
       "      <td>1</td>\n",
       "      <td>1</td>\n",
       "      <td>1</td>\n",
       "      <td>1100.0</td>\n",
       "    </tr>\n",
       "    <tr>\n",
       "      <th>1</th>\n",
       "      <td>Minimum Budget Rooms</td>\n",
       "      <td>Portofino H</td>\n",
       "      <td>1 BHK</td>\n",
       "      <td>450.0</td>\n",
       "      <td>1</td>\n",
       "      <td>1</td>\n",
       "      <td>1</td>\n",
       "      <td>1100.0</td>\n",
       "    </tr>\n",
       "    <tr>\n",
       "      <th>2</th>\n",
       "      <td>Minimum Budget Rooms</td>\n",
       "      <td>School Street</td>\n",
       "      <td>1 BHK</td>\n",
       "      <td>530.0</td>\n",
       "      <td>1</td>\n",
       "      <td>1</td>\n",
       "      <td>0</td>\n",
       "      <td>1166.0</td>\n",
       "    </tr>\n",
       "    <tr>\n",
       "      <th>3</th>\n",
       "      <td>Minimum Budget Rooms</td>\n",
       "      <td>Portofino B</td>\n",
       "      <td>1 BHK</td>\n",
       "      <td>400.0</td>\n",
       "      <td>1</td>\n",
       "      <td>1</td>\n",
       "      <td>0</td>\n",
       "      <td>1400.0</td>\n",
       "    </tr>\n",
       "    <tr>\n",
       "      <th>4</th>\n",
       "      <td>Minimum Budget Rooms</td>\n",
       "      <td>School Street</td>\n",
       "      <td>2 BHK</td>\n",
       "      <td>460.0</td>\n",
       "      <td>1</td>\n",
       "      <td>1</td>\n",
       "      <td>0</td>\n",
       "      <td>1500.0</td>\n",
       "    </tr>\n",
       "  </tbody>\n",
       "</table>\n",
       "</div>"
      ],
      "text/plain": [
       "           BuildingType       Location   Size  AreaSqFt  NoOfBath  NoOfPeople  \\\n",
       "0  Minimum Budget Rooms    Portofino H  1 BHK     400.0         1           1   \n",
       "1  Minimum Budget Rooms    Portofino H  1 BHK     450.0         1           1   \n",
       "2  Minimum Budget Rooms  School Street  1 BHK     530.0         1           1   \n",
       "3  Minimum Budget Rooms    Portofino B  1 BHK     400.0         1           1   \n",
       "4  Minimum Budget Rooms  School Street  2 BHK     460.0         1           1   \n",
       "\n",
       "   NoOfBalcony  RentPerMonth  \n",
       "0            1        1100.0  \n",
       "1            1        1100.0  \n",
       "2            0        1166.0  \n",
       "3            0        1400.0  \n",
       "4            0        1500.0  "
      ]
     },
     "execution_count": 4,
     "metadata": {},
     "output_type": "execute_result"
    }
   ],
   "source": [
    "df = pd.read_csv(\"HousePrices - Lab3.csv\")\n",
    "df.head()"
   ]
  },
  {
   "cell_type": "markdown",
   "id": "71bfee69",
   "metadata": {},
   "source": [
    "### Encoding Categorical Values"
   ]
  },
  {
   "cell_type": "code",
   "execution_count": 10,
   "id": "2ae44152",
   "metadata": {},
   "outputs": [],
   "source": [
    "from sklearn.preprocessing import LabelEncoder"
   ]
  },
  {
   "cell_type": "code",
   "execution_count": 11,
   "id": "75bacbd3",
   "metadata": {},
   "outputs": [],
   "source": [
    "le_building_type = LabelEncoder()\n",
    "encoded_values = le_building_type.fit_transform(df['BuildingType'])"
   ]
  },
  {
   "cell_type": "code",
   "execution_count": 12,
   "id": "1e6aa38b",
   "metadata": {
    "collapsed": true
   },
   "outputs": [
    {
     "data": {
      "text/plain": [
       "array([3, 3, 3, 3, 3, 3, 5, 5, 5, 5, 3, 3, 3, 3, 3, 3, 3, 5, 3, 5, 5, 5,\n",
       "       5, 5, 5, 3, 3, 3, 3, 5, 5, 5, 5, 3, 5, 5, 5, 5, 3, 3, 3, 3, 3, 3,\n",
       "       5, 3, 5, 5, 5, 5, 3, 3, 3, 3, 3, 3, 3, 3, 3, 3, 3, 3, 5, 5, 5, 5,\n",
       "       5, 5, 5, 5, 3, 3, 3, 3, 3, 3, 3, 3, 3, 3, 3, 5, 5, 5, 3, 3, 3, 3,\n",
       "       3, 5, 3, 3, 5, 3, 3, 5, 3, 3, 5, 3, 5, 3, 3, 3, 3, 3, 3, 3, 5, 5,\n",
       "       5, 3, 5, 3, 3, 5, 5, 5, 3, 3, 3, 3, 3, 3, 3, 3, 3, 3, 3, 3, 3, 3,\n",
       "       3, 3, 3, 3, 3, 3, 3, 3, 3, 3, 3, 3, 3, 3, 3, 3, 3, 3, 3, 3, 3, 3,\n",
       "       5, 3, 3, 5, 5, 5, 5, 5, 3, 5, 3, 3, 3, 3, 3, 3, 3, 3, 5, 5, 5, 5,\n",
       "       5, 5, 5, 5, 5, 5, 5, 5, 5, 3, 5, 5, 5, 5, 5, 5, 3, 5, 3, 3, 3, 5,\n",
       "       3, 5, 5, 5, 3, 5, 5, 5, 5, 5, 5, 5, 5, 5, 5, 5, 5, 5, 5, 5, 5, 5,\n",
       "       5, 5, 5, 3, 5, 5, 5, 5, 5, 3, 3, 3, 3, 5, 5, 3, 5, 5, 5, 5, 5, 3,\n",
       "       5, 5, 5, 5, 5, 5, 5, 5, 5, 3, 3, 3, 3, 3, 5, 5, 5, 5, 5, 5, 5, 5,\n",
       "       5, 5, 3, 5, 5, 5, 5, 5, 5, 5, 3, 5, 3, 3, 3, 3, 3, 3, 5, 5, 5, 5,\n",
       "       5, 3, 5, 5, 5, 5, 5, 5, 5, 5, 5, 5, 5, 5, 5, 5, 5, 5, 4, 4, 5, 4,\n",
       "       5, 5, 5, 5, 5, 5, 5, 5, 5, 5, 5, 5, 5, 5, 5, 5, 5, 5, 5, 5, 5, 5,\n",
       "       5, 5, 5, 5, 5, 5, 5, 5, 5, 5, 5, 5, 4, 4, 4, 4, 4, 4, 4, 5, 4, 4,\n",
       "       5, 5, 5, 4, 5, 5, 5, 5, 5, 5, 5, 5, 5, 5, 5, 5, 5, 5, 5, 5, 5, 5,\n",
       "       5, 5, 5, 5, 5, 5, 5, 5, 5, 5, 5, 5, 5, 5, 5, 5, 5, 5, 5, 5, 5, 5,\n",
       "       5, 4, 4, 5, 4, 4, 5, 5, 4, 5, 4, 4, 4, 4, 4, 5, 5, 4, 5, 5, 5, 5,\n",
       "       5, 5, 5, 5, 4, 5, 5, 4, 5, 5, 5, 4, 4, 4, 4, 4, 4, 5, 5, 5, 5, 5,\n",
       "       5, 5, 5, 5, 5, 5, 5, 4, 4, 4, 4, 4, 4, 4, 4, 5, 4, 5, 5, 4, 5, 4,\n",
       "       4, 4, 4, 4, 5, 4, 4, 4, 4, 4, 4, 4, 4, 4, 4, 4, 4, 4, 4, 4, 4, 4,\n",
       "       4, 4, 4, 4, 4, 4, 4, 4, 4, 1, 1, 4, 4, 1, 1, 4, 1, 4, 1, 1, 4, 4,\n",
       "       1, 4, 4, 1, 4, 1, 1, 1, 1, 1, 4, 1, 4, 4, 4, 4, 4, 1, 1, 1, 1, 1,\n",
       "       1, 1, 4, 1, 4, 1, 1, 1, 1, 4, 4, 4, 4, 4, 1, 4, 1, 1, 1, 1, 1, 1,\n",
       "       1, 1, 1, 4, 4, 4, 1, 1, 4, 4, 4, 4, 1, 1, 1, 1, 1, 1, 1, 4, 1, 4,\n",
       "       1, 4, 4, 4, 1, 1, 1, 4, 1, 1, 1, 1, 1, 1, 1, 4, 1, 4, 4, 1, 4, 4,\n",
       "       1, 1, 1, 1, 1, 1, 1, 1, 1, 1, 1, 4, 4, 4, 4, 1, 4, 4, 1, 1, 1, 1,\n",
       "       1, 1, 4, 4, 4, 4, 4, 4, 4, 4, 1, 1, 4, 1, 1, 1, 1, 1, 4, 1, 1, 4,\n",
       "       1, 4, 1, 4, 4, 4, 4, 4, 4, 4, 1, 1, 1, 1, 1, 1, 1, 1, 4, 4, 1, 4,\n",
       "       4, 1, 4, 4, 1, 1, 4, 4, 1, 4, 1, 4, 1, 1, 1, 1, 1, 1, 1, 1, 1, 4,\n",
       "       4, 4, 4, 4, 1, 1, 1, 1, 1, 4, 4, 1, 1, 4, 4, 1, 4, 1, 4, 1, 1, 4,\n",
       "       1, 1, 1, 1, 1, 4, 1, 4, 4, 4, 4, 4, 1, 1, 1, 1, 1, 1, 1, 1, 1, 1,\n",
       "       1, 1, 1, 1, 1, 1, 1, 1, 1, 1, 1, 1, 8, 1, 4, 4, 8, 8, 1, 4, 4, 8,\n",
       "       4, 4, 8, 4, 8, 8, 4, 8, 4, 4, 8, 4, 8, 8, 8, 8, 8, 4, 4, 6, 4, 6,\n",
       "       6, 8, 8, 4, 4, 4, 6, 4, 4, 8, 6, 6, 8, 8, 4, 4, 8, 8, 8, 8, 4, 4,\n",
       "       4, 4, 4, 8, 4, 4, 8, 4, 4, 6, 4, 4, 6, 4, 4, 6, 4, 4, 4, 4, 4, 6,\n",
       "       6, 6, 6, 6, 4, 4, 4, 4, 6, 6, 4, 6, 4, 4, 6, 4, 6, 6, 4, 4, 4, 6,\n",
       "       4, 6, 4, 4, 6, 6, 6, 4, 6, 4, 4, 6, 4, 4, 4, 4, 4, 4, 4, 4, 4, 4,\n",
       "       4, 4, 4, 4, 4, 6, 4, 6, 4, 4, 4, 4, 4, 4, 6, 6, 6, 6, 6, 4, 6, 6,\n",
       "       0, 0, 6, 6, 6, 0, 0, 6, 6, 6, 6, 0, 0, 0, 6, 6, 6, 6, 0, 0, 0, 0,\n",
       "       0, 0, 6, 6, 6, 6, 0, 6, 0, 6, 0, 6, 6, 6, 6, 6, 0, 6, 6, 0, 6, 6,\n",
       "       6, 0, 0, 7, 0, 0, 0, 7, 0, 7, 7, 0, 0, 0, 0, 0, 7, 2, 2, 7, 7, 2,\n",
       "       2, 2, 2, 2, 0, 7, 2, 0, 0, 2, 2, 0, 0, 0, 7, 7, 7, 7, 0, 0, 0, 0,\n",
       "       0, 0, 2, 9, 2, 9, 9, 9, 9, 2, 2, 9, 9, 2, 2, 2, 2, 9, 9, 2, 9, 9,\n",
       "       9, 9, 9, 9, 9, 9, 9, 9, 9, 9])"
      ]
     },
     "execution_count": 12,
     "metadata": {},
     "output_type": "execute_result"
    }
   ],
   "source": [
    "encoded_values"
   ]
  },
  {
   "cell_type": "code",
   "execution_count": 13,
   "id": "791c808c",
   "metadata": {},
   "outputs": [],
   "source": [
    "## Adding it back to the ORIGINAL DATAFRAME\n",
    "df['BuildingTypeEncoded'] = encoded_values"
   ]
  },
  {
   "cell_type": "code",
   "execution_count": 14,
   "id": "11d63ba5",
   "metadata": {},
   "outputs": [
    {
     "data": {
      "text/html": [
       "<div>\n",
       "<style scoped>\n",
       "    .dataframe tbody tr th:only-of-type {\n",
       "        vertical-align: middle;\n",
       "    }\n",
       "\n",
       "    .dataframe tbody tr th {\n",
       "        vertical-align: top;\n",
       "    }\n",
       "\n",
       "    .dataframe thead th {\n",
       "        text-align: right;\n",
       "    }\n",
       "</style>\n",
       "<table border=\"1\" class=\"dataframe\">\n",
       "  <thead>\n",
       "    <tr style=\"text-align: right;\">\n",
       "      <th></th>\n",
       "      <th>BuildingType</th>\n",
       "      <th>Location</th>\n",
       "      <th>Size</th>\n",
       "      <th>AreaSqFt</th>\n",
       "      <th>NoOfBath</th>\n",
       "      <th>NoOfPeople</th>\n",
       "      <th>NoOfBalcony</th>\n",
       "      <th>RentPerMonth</th>\n",
       "      <th>BuildingTypeEncoded</th>\n",
       "    </tr>\n",
       "  </thead>\n",
       "  <tbody>\n",
       "    <tr>\n",
       "      <th>0</th>\n",
       "      <td>Minimum Budget Rooms</td>\n",
       "      <td>Portofino H</td>\n",
       "      <td>1 BHK</td>\n",
       "      <td>400.0</td>\n",
       "      <td>1</td>\n",
       "      <td>1</td>\n",
       "      <td>1</td>\n",
       "      <td>1100.0</td>\n",
       "      <td>3</td>\n",
       "    </tr>\n",
       "    <tr>\n",
       "      <th>1</th>\n",
       "      <td>Minimum Budget Rooms</td>\n",
       "      <td>Portofino H</td>\n",
       "      <td>1 BHK</td>\n",
       "      <td>450.0</td>\n",
       "      <td>1</td>\n",
       "      <td>1</td>\n",
       "      <td>1</td>\n",
       "      <td>1100.0</td>\n",
       "      <td>3</td>\n",
       "    </tr>\n",
       "    <tr>\n",
       "      <th>2</th>\n",
       "      <td>Minimum Budget Rooms</td>\n",
       "      <td>School Street</td>\n",
       "      <td>1 BHK</td>\n",
       "      <td>530.0</td>\n",
       "      <td>1</td>\n",
       "      <td>1</td>\n",
       "      <td>0</td>\n",
       "      <td>1166.0</td>\n",
       "      <td>3</td>\n",
       "    </tr>\n",
       "    <tr>\n",
       "      <th>3</th>\n",
       "      <td>Minimum Budget Rooms</td>\n",
       "      <td>Portofino B</td>\n",
       "      <td>1 BHK</td>\n",
       "      <td>400.0</td>\n",
       "      <td>1</td>\n",
       "      <td>1</td>\n",
       "      <td>0</td>\n",
       "      <td>1400.0</td>\n",
       "      <td>3</td>\n",
       "    </tr>\n",
       "    <tr>\n",
       "      <th>4</th>\n",
       "      <td>Minimum Budget Rooms</td>\n",
       "      <td>School Street</td>\n",
       "      <td>2 BHK</td>\n",
       "      <td>460.0</td>\n",
       "      <td>1</td>\n",
       "      <td>1</td>\n",
       "      <td>0</td>\n",
       "      <td>1500.0</td>\n",
       "      <td>3</td>\n",
       "    </tr>\n",
       "    <tr>\n",
       "      <th>...</th>\n",
       "      <td>...</td>\n",
       "      <td>...</td>\n",
       "      <td>...</td>\n",
       "      <td>...</td>\n",
       "      <td>...</td>\n",
       "      <td>...</td>\n",
       "      <td>...</td>\n",
       "      <td>...</td>\n",
       "      <td>...</td>\n",
       "    </tr>\n",
       "    <tr>\n",
       "      <th>995</th>\n",
       "      <td>Super Furnished Villa</td>\n",
       "      <td>Portofino D</td>\n",
       "      <td>4 BHK</td>\n",
       "      <td>4900.0</td>\n",
       "      <td>4</td>\n",
       "      <td>6</td>\n",
       "      <td>3</td>\n",
       "      <td>70000.0</td>\n",
       "      <td>9</td>\n",
       "    </tr>\n",
       "    <tr>\n",
       "      <th>996</th>\n",
       "      <td>Super Furnished Villa</td>\n",
       "      <td>Portofino B</td>\n",
       "      <td>4 BHK</td>\n",
       "      <td>3750.0</td>\n",
       "      <td>4</td>\n",
       "      <td>5</td>\n",
       "      <td>0</td>\n",
       "      <td>76000.0</td>\n",
       "      <td>9</td>\n",
       "    </tr>\n",
       "    <tr>\n",
       "      <th>997</th>\n",
       "      <td>Super Furnished Villa</td>\n",
       "      <td>School Street</td>\n",
       "      <td>4 BHK</td>\n",
       "      <td>5270.0</td>\n",
       "      <td>4</td>\n",
       "      <td>5</td>\n",
       "      <td>3</td>\n",
       "      <td>80000.0</td>\n",
       "      <td>9</td>\n",
       "    </tr>\n",
       "    <tr>\n",
       "      <th>998</th>\n",
       "      <td>Super Furnished Villa</td>\n",
       "      <td>Portofino B</td>\n",
       "      <td>6 BHK</td>\n",
       "      <td>5100.0</td>\n",
       "      <td>7</td>\n",
       "      <td>6</td>\n",
       "      <td>3</td>\n",
       "      <td>90000.0</td>\n",
       "      <td>9</td>\n",
       "    </tr>\n",
       "    <tr>\n",
       "      <th>999</th>\n",
       "      <td>Super Furnished Villa</td>\n",
       "      <td>Portofino B</td>\n",
       "      <td>7 BHK</td>\n",
       "      <td>6300.0</td>\n",
       "      <td>6</td>\n",
       "      <td>6</td>\n",
       "      <td>3</td>\n",
       "      <td>96000.0</td>\n",
       "      <td>9</td>\n",
       "    </tr>\n",
       "  </tbody>\n",
       "</table>\n",
       "<p>1000 rows × 9 columns</p>\n",
       "</div>"
      ],
      "text/plain": [
       "              BuildingType       Location   Size  AreaSqFt  NoOfBath  \\\n",
       "0     Minimum Budget Rooms    Portofino H  1 BHK     400.0         1   \n",
       "1     Minimum Budget Rooms    Portofino H  1 BHK     450.0         1   \n",
       "2     Minimum Budget Rooms  School Street  1 BHK     530.0         1   \n",
       "3     Minimum Budget Rooms    Portofino B  1 BHK     400.0         1   \n",
       "4     Minimum Budget Rooms  School Street  2 BHK     460.0         1   \n",
       "..                     ...            ...    ...       ...       ...   \n",
       "995  Super Furnished Villa    Portofino D  4 BHK    4900.0         4   \n",
       "996  Super Furnished Villa    Portofino B  4 BHK    3750.0         4   \n",
       "997  Super Furnished Villa  School Street  4 BHK    5270.0         4   \n",
       "998  Super Furnished Villa    Portofino B  6 BHK    5100.0         7   \n",
       "999  Super Furnished Villa    Portofino B  7 BHK    6300.0         6   \n",
       "\n",
       "     NoOfPeople  NoOfBalcony  RentPerMonth  BuildingTypeEncoded  \n",
       "0             1            1        1100.0                    3  \n",
       "1             1            1        1100.0                    3  \n",
       "2             1            0        1166.0                    3  \n",
       "3             1            0        1400.0                    3  \n",
       "4             1            0        1500.0                    3  \n",
       "..          ...          ...           ...                  ...  \n",
       "995           6            3       70000.0                    9  \n",
       "996           5            0       76000.0                    9  \n",
       "997           5            3       80000.0                    9  \n",
       "998           6            3       90000.0                    9  \n",
       "999           6            3       96000.0                    9  \n",
       "\n",
       "[1000 rows x 9 columns]"
      ]
     },
     "execution_count": 14,
     "metadata": {},
     "output_type": "execute_result"
    }
   ],
   "source": [
    "df"
   ]
  },
  {
   "cell_type": "code",
   "execution_count": 16,
   "id": "bdc75be7",
   "metadata": {},
   "outputs": [
    {
     "data": {
      "text/plain": [
       "array(['Semi Furnished Flat'], dtype=object)"
      ]
     },
     "execution_count": 16,
     "metadata": {},
     "output_type": "execute_result"
    }
   ],
   "source": [
    "le_building_type.inverse_transform([4])"
   ]
  },
  {
   "cell_type": "markdown",
   "id": "b48c6e79",
   "metadata": {},
   "source": [
    "DATA SCIENCE\n",
    "BCOM\n",
    "BBA\n",
    "MBA\n",
    "LAW\n",
    "\n",
    "1. Finds all the Unique Entries\n",
    "2. Make it into Alphabetical Order\n",
    "\n",
    "0 BBA\n",
    "1 BCOM\n",
    "2 DATA SCIENCE\n",
    "3 MBA\n",
    "4 LAW\n",
    "\n",
    "3. Assign Values from 0 to n-1, for all n entries"
   ]
  },
  {
   "cell_type": "code",
   "execution_count": 17,
   "id": "03a57381",
   "metadata": {},
   "outputs": [
    {
     "name": "stdout",
     "output_type": "stream",
     "text": [
      "Enter your Building Type: Fully Furnished Villa\n"
     ]
    }
   ],
   "source": [
    "btype = input(\"Enter your Building Type: \")\n"
   ]
  },
  {
   "cell_type": "code",
   "execution_count": 18,
   "id": "0e755ec2",
   "metadata": {},
   "outputs": [
    {
     "data": {
      "text/plain": [
       "array([2])"
      ]
     },
     "execution_count": 18,
     "metadata": {},
     "output_type": "execute_result"
    }
   ],
   "source": [
    "le_building_type.transform([btype])"
   ]
  },
  {
   "cell_type": "code",
   "execution_count": 20,
   "id": "08f25a45",
   "metadata": {},
   "outputs": [],
   "source": [
    "df = df.drop(['Location'], axis = 1)"
   ]
  },
  {
   "cell_type": "code",
   "execution_count": 24,
   "id": "56b37f1e",
   "metadata": {},
   "outputs": [],
   "source": [
    "le_size = LabelEncoder()\n",
    "le_size.fit(df['Size'])\n",
    "encoded_values = le_size.transform(df['Size'])\n",
    "df['SizeEncoded'] = encoded_values"
   ]
  },
  {
   "cell_type": "code",
   "execution_count": 25,
   "id": "6200297f",
   "metadata": {
    "scrolled": true
   },
   "outputs": [
    {
     "data": {
      "text/html": [
       "<div>\n",
       "<style scoped>\n",
       "    .dataframe tbody tr th:only-of-type {\n",
       "        vertical-align: middle;\n",
       "    }\n",
       "\n",
       "    .dataframe tbody tr th {\n",
       "        vertical-align: top;\n",
       "    }\n",
       "\n",
       "    .dataframe thead th {\n",
       "        text-align: right;\n",
       "    }\n",
       "</style>\n",
       "<table border=\"1\" class=\"dataframe\">\n",
       "  <thead>\n",
       "    <tr style=\"text-align: right;\">\n",
       "      <th></th>\n",
       "      <th>BuildingType</th>\n",
       "      <th>Size</th>\n",
       "      <th>AreaSqFt</th>\n",
       "      <th>NoOfBath</th>\n",
       "      <th>NoOfPeople</th>\n",
       "      <th>NoOfBalcony</th>\n",
       "      <th>RentPerMonth</th>\n",
       "      <th>BuildingTypeEncoded</th>\n",
       "      <th>SizeEncoded</th>\n",
       "    </tr>\n",
       "  </thead>\n",
       "  <tbody>\n",
       "    <tr>\n",
       "      <th>0</th>\n",
       "      <td>Minimum Budget Rooms</td>\n",
       "      <td>1 BHK</td>\n",
       "      <td>400.0</td>\n",
       "      <td>1</td>\n",
       "      <td>1</td>\n",
       "      <td>1</td>\n",
       "      <td>1100.0</td>\n",
       "      <td>3</td>\n",
       "      <td>0</td>\n",
       "    </tr>\n",
       "    <tr>\n",
       "      <th>1</th>\n",
       "      <td>Minimum Budget Rooms</td>\n",
       "      <td>1 BHK</td>\n",
       "      <td>450.0</td>\n",
       "      <td>1</td>\n",
       "      <td>1</td>\n",
       "      <td>1</td>\n",
       "      <td>1100.0</td>\n",
       "      <td>3</td>\n",
       "      <td>0</td>\n",
       "    </tr>\n",
       "    <tr>\n",
       "      <th>2</th>\n",
       "      <td>Minimum Budget Rooms</td>\n",
       "      <td>1 BHK</td>\n",
       "      <td>530.0</td>\n",
       "      <td>1</td>\n",
       "      <td>1</td>\n",
       "      <td>0</td>\n",
       "      <td>1166.0</td>\n",
       "      <td>3</td>\n",
       "      <td>0</td>\n",
       "    </tr>\n",
       "    <tr>\n",
       "      <th>3</th>\n",
       "      <td>Minimum Budget Rooms</td>\n",
       "      <td>1 BHK</td>\n",
       "      <td>400.0</td>\n",
       "      <td>1</td>\n",
       "      <td>1</td>\n",
       "      <td>0</td>\n",
       "      <td>1400.0</td>\n",
       "      <td>3</td>\n",
       "      <td>0</td>\n",
       "    </tr>\n",
       "    <tr>\n",
       "      <th>4</th>\n",
       "      <td>Minimum Budget Rooms</td>\n",
       "      <td>2 BHK</td>\n",
       "      <td>460.0</td>\n",
       "      <td>1</td>\n",
       "      <td>1</td>\n",
       "      <td>0</td>\n",
       "      <td>1500.0</td>\n",
       "      <td>3</td>\n",
       "      <td>2</td>\n",
       "    </tr>\n",
       "    <tr>\n",
       "      <th>...</th>\n",
       "      <td>...</td>\n",
       "      <td>...</td>\n",
       "      <td>...</td>\n",
       "      <td>...</td>\n",
       "      <td>...</td>\n",
       "      <td>...</td>\n",
       "      <td>...</td>\n",
       "      <td>...</td>\n",
       "      <td>...</td>\n",
       "    </tr>\n",
       "    <tr>\n",
       "      <th>995</th>\n",
       "      <td>Super Furnished Villa</td>\n",
       "      <td>4 BHK</td>\n",
       "      <td>4900.0</td>\n",
       "      <td>4</td>\n",
       "      <td>6</td>\n",
       "      <td>3</td>\n",
       "      <td>70000.0</td>\n",
       "      <td>9</td>\n",
       "      <td>4</td>\n",
       "    </tr>\n",
       "    <tr>\n",
       "      <th>996</th>\n",
       "      <td>Super Furnished Villa</td>\n",
       "      <td>4 BHK</td>\n",
       "      <td>3750.0</td>\n",
       "      <td>4</td>\n",
       "      <td>5</td>\n",
       "      <td>0</td>\n",
       "      <td>76000.0</td>\n",
       "      <td>9</td>\n",
       "      <td>4</td>\n",
       "    </tr>\n",
       "    <tr>\n",
       "      <th>997</th>\n",
       "      <td>Super Furnished Villa</td>\n",
       "      <td>4 BHK</td>\n",
       "      <td>5270.0</td>\n",
       "      <td>4</td>\n",
       "      <td>5</td>\n",
       "      <td>3</td>\n",
       "      <td>80000.0</td>\n",
       "      <td>9</td>\n",
       "      <td>4</td>\n",
       "    </tr>\n",
       "    <tr>\n",
       "      <th>998</th>\n",
       "      <td>Super Furnished Villa</td>\n",
       "      <td>6 BHK</td>\n",
       "      <td>5100.0</td>\n",
       "      <td>7</td>\n",
       "      <td>6</td>\n",
       "      <td>3</td>\n",
       "      <td>90000.0</td>\n",
       "      <td>9</td>\n",
       "      <td>6</td>\n",
       "    </tr>\n",
       "    <tr>\n",
       "      <th>999</th>\n",
       "      <td>Super Furnished Villa</td>\n",
       "      <td>7 BHK</td>\n",
       "      <td>6300.0</td>\n",
       "      <td>6</td>\n",
       "      <td>6</td>\n",
       "      <td>3</td>\n",
       "      <td>96000.0</td>\n",
       "      <td>9</td>\n",
       "      <td>7</td>\n",
       "    </tr>\n",
       "  </tbody>\n",
       "</table>\n",
       "<p>1000 rows × 9 columns</p>\n",
       "</div>"
      ],
      "text/plain": [
       "              BuildingType   Size  AreaSqFt  NoOfBath  NoOfPeople  \\\n",
       "0     Minimum Budget Rooms  1 BHK     400.0         1           1   \n",
       "1     Minimum Budget Rooms  1 BHK     450.0         1           1   \n",
       "2     Minimum Budget Rooms  1 BHK     530.0         1           1   \n",
       "3     Minimum Budget Rooms  1 BHK     400.0         1           1   \n",
       "4     Minimum Budget Rooms  2 BHK     460.0         1           1   \n",
       "..                     ...    ...       ...       ...         ...   \n",
       "995  Super Furnished Villa  4 BHK    4900.0         4           6   \n",
       "996  Super Furnished Villa  4 BHK    3750.0         4           5   \n",
       "997  Super Furnished Villa  4 BHK    5270.0         4           5   \n",
       "998  Super Furnished Villa  6 BHK    5100.0         7           6   \n",
       "999  Super Furnished Villa  7 BHK    6300.0         6           6   \n",
       "\n",
       "     NoOfBalcony  RentPerMonth  BuildingTypeEncoded  SizeEncoded  \n",
       "0              1        1100.0                    3            0  \n",
       "1              1        1100.0                    3            0  \n",
       "2              0        1166.0                    3            0  \n",
       "3              0        1400.0                    3            0  \n",
       "4              0        1500.0                    3            2  \n",
       "..           ...           ...                  ...          ...  \n",
       "995            3       70000.0                    9            4  \n",
       "996            0       76000.0                    9            4  \n",
       "997            3       80000.0                    9            4  \n",
       "998            3       90000.0                    9            6  \n",
       "999            3       96000.0                    9            7  \n",
       "\n",
       "[1000 rows x 9 columns]"
      ]
     },
     "execution_count": 25,
     "metadata": {},
     "output_type": "execute_result"
    }
   ],
   "source": [
    "df"
   ]
  },
  {
   "cell_type": "markdown",
   "id": "c265fc87",
   "metadata": {},
   "source": [
    "### COPY OF THIS DATAFRAME"
   ]
  },
  {
   "cell_type": "code",
   "execution_count": 27,
   "id": "71abdec0",
   "metadata": {},
   "outputs": [],
   "source": [
    "df_houses = df.drop(['BuildingType', 'Size'], axis = 1)"
   ]
  },
  {
   "cell_type": "code",
   "execution_count": 28,
   "id": "7e0cbe39",
   "metadata": {},
   "outputs": [
    {
     "data": {
      "text/html": [
       "<div>\n",
       "<style scoped>\n",
       "    .dataframe tbody tr th:only-of-type {\n",
       "        vertical-align: middle;\n",
       "    }\n",
       "\n",
       "    .dataframe tbody tr th {\n",
       "        vertical-align: top;\n",
       "    }\n",
       "\n",
       "    .dataframe thead th {\n",
       "        text-align: right;\n",
       "    }\n",
       "</style>\n",
       "<table border=\"1\" class=\"dataframe\">\n",
       "  <thead>\n",
       "    <tr style=\"text-align: right;\">\n",
       "      <th></th>\n",
       "      <th>AreaSqFt</th>\n",
       "      <th>NoOfBath</th>\n",
       "      <th>NoOfPeople</th>\n",
       "      <th>NoOfBalcony</th>\n",
       "      <th>RentPerMonth</th>\n",
       "      <th>BuildingTypeEncoded</th>\n",
       "      <th>SizeEncoded</th>\n",
       "    </tr>\n",
       "  </thead>\n",
       "  <tbody>\n",
       "    <tr>\n",
       "      <th>0</th>\n",
       "      <td>400.0</td>\n",
       "      <td>1</td>\n",
       "      <td>1</td>\n",
       "      <td>1</td>\n",
       "      <td>1100.0</td>\n",
       "      <td>3</td>\n",
       "      <td>0</td>\n",
       "    </tr>\n",
       "    <tr>\n",
       "      <th>1</th>\n",
       "      <td>450.0</td>\n",
       "      <td>1</td>\n",
       "      <td>1</td>\n",
       "      <td>1</td>\n",
       "      <td>1100.0</td>\n",
       "      <td>3</td>\n",
       "      <td>0</td>\n",
       "    </tr>\n",
       "    <tr>\n",
       "      <th>2</th>\n",
       "      <td>530.0</td>\n",
       "      <td>1</td>\n",
       "      <td>1</td>\n",
       "      <td>0</td>\n",
       "      <td>1166.0</td>\n",
       "      <td>3</td>\n",
       "      <td>0</td>\n",
       "    </tr>\n",
       "    <tr>\n",
       "      <th>3</th>\n",
       "      <td>400.0</td>\n",
       "      <td>1</td>\n",
       "      <td>1</td>\n",
       "      <td>0</td>\n",
       "      <td>1400.0</td>\n",
       "      <td>3</td>\n",
       "      <td>0</td>\n",
       "    </tr>\n",
       "    <tr>\n",
       "      <th>4</th>\n",
       "      <td>460.0</td>\n",
       "      <td>1</td>\n",
       "      <td>1</td>\n",
       "      <td>0</td>\n",
       "      <td>1500.0</td>\n",
       "      <td>3</td>\n",
       "      <td>2</td>\n",
       "    </tr>\n",
       "    <tr>\n",
       "      <th>...</th>\n",
       "      <td>...</td>\n",
       "      <td>...</td>\n",
       "      <td>...</td>\n",
       "      <td>...</td>\n",
       "      <td>...</td>\n",
       "      <td>...</td>\n",
       "      <td>...</td>\n",
       "    </tr>\n",
       "    <tr>\n",
       "      <th>995</th>\n",
       "      <td>4900.0</td>\n",
       "      <td>4</td>\n",
       "      <td>6</td>\n",
       "      <td>3</td>\n",
       "      <td>70000.0</td>\n",
       "      <td>9</td>\n",
       "      <td>4</td>\n",
       "    </tr>\n",
       "    <tr>\n",
       "      <th>996</th>\n",
       "      <td>3750.0</td>\n",
       "      <td>4</td>\n",
       "      <td>5</td>\n",
       "      <td>0</td>\n",
       "      <td>76000.0</td>\n",
       "      <td>9</td>\n",
       "      <td>4</td>\n",
       "    </tr>\n",
       "    <tr>\n",
       "      <th>997</th>\n",
       "      <td>5270.0</td>\n",
       "      <td>4</td>\n",
       "      <td>5</td>\n",
       "      <td>3</td>\n",
       "      <td>80000.0</td>\n",
       "      <td>9</td>\n",
       "      <td>4</td>\n",
       "    </tr>\n",
       "    <tr>\n",
       "      <th>998</th>\n",
       "      <td>5100.0</td>\n",
       "      <td>7</td>\n",
       "      <td>6</td>\n",
       "      <td>3</td>\n",
       "      <td>90000.0</td>\n",
       "      <td>9</td>\n",
       "      <td>6</td>\n",
       "    </tr>\n",
       "    <tr>\n",
       "      <th>999</th>\n",
       "      <td>6300.0</td>\n",
       "      <td>6</td>\n",
       "      <td>6</td>\n",
       "      <td>3</td>\n",
       "      <td>96000.0</td>\n",
       "      <td>9</td>\n",
       "      <td>7</td>\n",
       "    </tr>\n",
       "  </tbody>\n",
       "</table>\n",
       "<p>1000 rows × 7 columns</p>\n",
       "</div>"
      ],
      "text/plain": [
       "     AreaSqFt  NoOfBath  NoOfPeople  NoOfBalcony  RentPerMonth  \\\n",
       "0       400.0         1           1            1        1100.0   \n",
       "1       450.0         1           1            1        1100.0   \n",
       "2       530.0         1           1            0        1166.0   \n",
       "3       400.0         1           1            0        1400.0   \n",
       "4       460.0         1           1            0        1500.0   \n",
       "..        ...       ...         ...          ...           ...   \n",
       "995    4900.0         4           6            3       70000.0   \n",
       "996    3750.0         4           5            0       76000.0   \n",
       "997    5270.0         4           5            3       80000.0   \n",
       "998    5100.0         7           6            3       90000.0   \n",
       "999    6300.0         6           6            3       96000.0   \n",
       "\n",
       "     BuildingTypeEncoded  SizeEncoded  \n",
       "0                      3            0  \n",
       "1                      3            0  \n",
       "2                      3            0  \n",
       "3                      3            0  \n",
       "4                      3            2  \n",
       "..                   ...          ...  \n",
       "995                    9            4  \n",
       "996                    9            4  \n",
       "997                    9            4  \n",
       "998                    9            6  \n",
       "999                    9            7  \n",
       "\n",
       "[1000 rows x 7 columns]"
      ]
     },
     "execution_count": 28,
     "metadata": {},
     "output_type": "execute_result"
    }
   ],
   "source": [
    "df_houses"
   ]
  },
  {
   "cell_type": "code",
   "execution_count": 29,
   "id": "d2a5f87e",
   "metadata": {},
   "outputs": [],
   "source": [
    "import seaborn as sns"
   ]
  },
  {
   "cell_type": "code",
   "execution_count": 38,
   "id": "484e8368",
   "metadata": {},
   "outputs": [
    {
     "data": {
      "text/plain": [
       "<AxesSubplot:>"
      ]
     },
     "execution_count": 38,
     "metadata": {},
     "output_type": "execute_result"
    },
    {
     "data": {
      "image/png": "[encoded data removed]",
      "text/plain": [
       "<Figure size 432x288 with 2 Axes>"
      ]
     },
     "metadata": {
      "needs_background": "light"
     },
     "output_type": "display_data"
    }
   ],
   "source": [
    "sns.heatmap(df_houses.corr(), annot=True)"
   ]
  },
  {
   "cell_type": "code",
   "execution_count": 36,
   "id": "361e922e",
   "metadata": {
    "scrolled": true
   },
   "outputs": [
    {
     "data": {
      "text/html": [
       "<div>\n",
       "<style scoped>\n",
       "    .dataframe tbody tr th:only-of-type {\n",
       "        vertical-align: middle;\n",
       "    }\n",
       "\n",
       "    .dataframe tbody tr th {\n",
       "        vertical-align: top;\n",
       "    }\n",
       "\n",
       "    .dataframe thead th {\n",
       "        text-align: right;\n",
       "    }\n",
       "</style>\n",
       "<table border=\"1\" class=\"dataframe\">\n",
       "  <thead>\n",
       "    <tr style=\"text-align: right;\">\n",
       "      <th></th>\n",
       "      <th>AreaSqFt</th>\n",
       "      <th>NoOfBath</th>\n",
       "      <th>NoOfPeople</th>\n",
       "      <th>NoOfBalcony</th>\n",
       "      <th>RentPerMonth</th>\n",
       "      <th>BuildingTypeEncoded</th>\n",
       "      <th>SizeEncoded</th>\n",
       "    </tr>\n",
       "  </thead>\n",
       "  <tbody>\n",
       "    <tr>\n",
       "      <th>AreaSqFt</th>\n",
       "      <td>1.000000</td>\n",
       "      <td>0.375791</td>\n",
       "      <td>0.374907</td>\n",
       "      <td>0.206123</td>\n",
       "      <td>0.473022</td>\n",
       "      <td>0.057975</td>\n",
       "      <td>0.325890</td>\n",
       "    </tr>\n",
       "    <tr>\n",
       "      <th>NoOfBath</th>\n",
       "      <td>0.375791</td>\n",
       "      <td>1.000000</td>\n",
       "      <td>0.480063</td>\n",
       "      <td>0.258885</td>\n",
       "      <td>0.579693</td>\n",
       "      <td>0.012666</td>\n",
       "      <td>0.873126</td>\n",
       "    </tr>\n",
       "    <tr>\n",
       "      <th>NoOfPeople</th>\n",
       "      <td>0.374907</td>\n",
       "      <td>0.480063</td>\n",
       "      <td>1.000000</td>\n",
       "      <td>0.184932</td>\n",
       "      <td>0.782853</td>\n",
       "      <td>0.077638</td>\n",
       "      <td>0.441985</td>\n",
       "    </tr>\n",
       "    <tr>\n",
       "      <th>NoOfBalcony</th>\n",
       "      <td>0.206123</td>\n",
       "      <td>0.258885</td>\n",
       "      <td>0.184932</td>\n",
       "      <td>1.000000</td>\n",
       "      <td>0.193619</td>\n",
       "      <td>0.003866</td>\n",
       "      <td>0.262365</td>\n",
       "    </tr>\n",
       "    <tr>\n",
       "      <th>RentPerMonth</th>\n",
       "      <td>0.473022</td>\n",
       "      <td>0.579693</td>\n",
       "      <td>0.782853</td>\n",
       "      <td>0.193619</td>\n",
       "      <td>1.000000</td>\n",
       "      <td>0.174447</td>\n",
       "      <td>0.508411</td>\n",
       "    </tr>\n",
       "    <tr>\n",
       "      <th>BuildingTypeEncoded</th>\n",
       "      <td>0.057975</td>\n",
       "      <td>0.012666</td>\n",
       "      <td>0.077638</td>\n",
       "      <td>0.003866</td>\n",
       "      <td>0.174447</td>\n",
       "      <td>1.000000</td>\n",
       "      <td>0.031935</td>\n",
       "    </tr>\n",
       "    <tr>\n",
       "      <th>SizeEncoded</th>\n",
       "      <td>0.325890</td>\n",
       "      <td>0.873126</td>\n",
       "      <td>0.441985</td>\n",
       "      <td>0.262365</td>\n",
       "      <td>0.508411</td>\n",
       "      <td>0.031935</td>\n",
       "      <td>1.000000</td>\n",
       "    </tr>\n",
       "  </tbody>\n",
       "</table>\n",
       "</div>"
      ],
      "text/plain": [
       "                     AreaSqFt  NoOfBath  NoOfPeople  NoOfBalcony  \\\n",
       "AreaSqFt             1.000000  0.375791    0.374907     0.206123   \n",
       "NoOfBath             0.375791  1.000000    0.480063     0.258885   \n",
       "NoOfPeople           0.374907  0.480063    1.000000     0.184932   \n",
       "NoOfBalcony          0.206123  0.258885    0.184932     1.000000   \n",
       "RentPerMonth         0.473022  0.579693    0.782853     0.193619   \n",
       "BuildingTypeEncoded  0.057975  0.012666    0.077638     0.003866   \n",
       "SizeEncoded          0.325890  0.873126    0.441985     0.262365   \n",
       "\n",
       "                     RentPerMonth  BuildingTypeEncoded  SizeEncoded  \n",
       "AreaSqFt                 0.473022             0.057975     0.325890  \n",
       "NoOfBath                 0.579693             0.012666     0.873126  \n",
       "NoOfPeople               0.782853             0.077638     0.441985  \n",
       "NoOfBalcony              0.193619             0.003866     0.262365  \n",
       "RentPerMonth             1.000000             0.174447     0.508411  \n",
       "BuildingTypeEncoded      0.174447             1.000000     0.031935  \n",
       "SizeEncoded              0.508411             0.031935     1.000000  "
      ]
     },
     "execution_count": 36,
     "metadata": {},
     "output_type": "execute_result"
    }
   ],
   "source": [
    "df.corr()"
   ]
  },
  {
   "cell_type": "code",
   "execution_count": 48,
   "id": "a6cd096a",
   "metadata": {},
   "outputs": [
    {
     "name": "stderr",
     "output_type": "stream",
     "text": [
      "C:\\Users\\Lenovo\\anaconda3\\lib\\site-packages\\seaborn\\_decorators.py:36: FutureWarning: Pass the following variable as a keyword arg: x. From version 0.12, the only valid positional argument will be `data`, and passing other arguments without an explicit keyword will result in an error or misinterpretation.\n",
      "  warnings.warn(\n"
     ]
    },
    {
     "data": {
      "text/plain": [
       "<AxesSubplot:xlabel='RentPerMonth'>"
      ]
     },
     "execution_count": 48,
     "metadata": {},
     "output_type": "execute_result"
    },
    {
     "data": {
      "image/png": "[encoded data removed]",
      "text/plain": [
       "<Figure size 432x288 with 1 Axes>"
      ]
     },
     "metadata": {
      "needs_background": "light"
     },
     "output_type": "display_data"
    }
   ],
   "source": [
    "sns.boxplot(df['RentPerMonth'])"
   ]
  },
  {
   "cell_type": "code",
   "execution_count": 53,
   "id": "55ea4394",
   "metadata": {
    "scrolled": false
   },
   "outputs": [
    {
     "data": {
      "text/plain": [
       "<AxesSubplot:xlabel='BuildingType', ylabel='RentPerMonth'>"
      ]
     },
     "execution_count": 53,
     "metadata": {},
     "output_type": "execute_result"
    },
    {
     "data": {
      "image/png": "[encoded data removed]",
      "text/plain": [
       "<Figure size 432x288 with 1 Axes>"
      ]
     },
     "metadata": {
      "needs_background": "light"
     },
     "output_type": "display_data"
    }
   ],
   "source": [
    "sns.boxplot(data = df, y = 'RentPerMonth', x = 'BuildingType')"
   ]
  },
  {
   "cell_type": "code",
   "execution_count": 54,
   "id": "56a3f856",
   "metadata": {},
   "outputs": [],
   "source": [
    "import matplotlib.pyplot as plt"
   ]
  },
  {
   "cell_type": "code",
   "execution_count": 60,
   "id": "daad61b8",
   "metadata": {},
   "outputs": [
    {
     "data": {
      "text/plain": [
       "<AxesSubplot:xlabel='RentPerMonth', ylabel='BuildingType'>"
      ]
     },
     "execution_count": 60,
     "metadata": {},
     "output_type": "execute_result"
    },
    {
     "data": {
      "image/png": "[encoded data removed]",
      "text/plain": [
       "<Figure size 1080x360 with 1 Axes>"
      ]
     },
     "metadata": {
      "needs_background": "light"
     },
     "output_type": "display_data"
    }
   ],
   "source": [
    "plt.figure(figsize = (15, 5))\n",
    "sns.boxplot(data = df, x = 'RentPerMonth', y = 'BuildingType')"
   ]
  },
  {
   "cell_type": "code",
   "execution_count": 63,
   "id": "75c4242d",
   "metadata": {
    "scrolled": true
   },
   "outputs": [
    {
     "data": {
      "text/plain": [
       "<AxesSubplot:xlabel='BuildingType', ylabel='AreaSqFt'>"
      ]
     },
     "execution_count": 63,
     "metadata": {},
     "output_type": "execute_result"
    },
    {
     "data": {
      "image/png": "[encoded data removed]",
      "text/plain": [
       "<Figure size 1080x360 with 1 Axes>"
      ]
     },
     "metadata": {
      "needs_background": "light"
     },
     "output_type": "display_data"
    }
   ],
   "source": [
    "plt.figure(figsize = (15, 5))\n",
    "sns.boxplot(data = df, y = 'AreaSqFt', x = 'BuildingType')"
   ]
  },
  {
   "cell_type": "code",
   "execution_count": 64,
   "id": "10df6f10",
   "metadata": {},
   "outputs": [
    {
     "data": {
      "text/plain": [
       "count     1000.000000\n",
       "mean      1548.270010\n",
       "std       1345.141175\n",
       "min        375.000000\n",
       "25%       1090.000000\n",
       "50%       1270.000000\n",
       "75%       1664.250000\n",
       "max      35000.000000\n",
       "Name: AreaSqFt, dtype: float64"
      ]
     },
     "execution_count": 64,
     "metadata": {},
     "output_type": "execute_result"
    }
   ],
   "source": [
    "df['AreaSqFt'].describe()"
   ]
  },
  {
   "cell_type": "markdown",
   "id": "bdc4c4c4",
   "metadata": {},
   "source": [
    "SQL CODE FOR REMOVING THAT PARTICULAR 'OUTLIER VALUE':\n",
    "\n",
    "`REMOVE FROM DF where AREA_SQ_FT==35000` "
   ]
  },
  {
   "cell_type": "code",
   "execution_count": 68,
   "id": "42c83c0d",
   "metadata": {},
   "outputs": [
    {
     "data": {
      "text/html": [
       "<div>\n",
       "<style scoped>\n",
       "    .dataframe tbody tr th:only-of-type {\n",
       "        vertical-align: middle;\n",
       "    }\n",
       "\n",
       "    .dataframe tbody tr th {\n",
       "        vertical-align: top;\n",
       "    }\n",
       "\n",
       "    .dataframe thead th {\n",
       "        text-align: right;\n",
       "    }\n",
       "</style>\n",
       "<table border=\"1\" class=\"dataframe\">\n",
       "  <thead>\n",
       "    <tr style=\"text-align: right;\">\n",
       "      <th></th>\n",
       "      <th>BuildingType</th>\n",
       "      <th>Size</th>\n",
       "      <th>AreaSqFt</th>\n",
       "      <th>NoOfBath</th>\n",
       "      <th>NoOfPeople</th>\n",
       "      <th>NoOfBalcony</th>\n",
       "      <th>RentPerMonth</th>\n",
       "      <th>BuildingTypeEncoded</th>\n",
       "      <th>SizeEncoded</th>\n",
       "    </tr>\n",
       "  </thead>\n",
       "  <tbody>\n",
       "    <tr>\n",
       "      <th>791</th>\n",
       "      <td>Semi Furnished Flat</td>\n",
       "      <td>3 BHK</td>\n",
       "      <td>35000.0</td>\n",
       "      <td>3</td>\n",
       "      <td>2</td>\n",
       "      <td>3</td>\n",
       "      <td>13000.0</td>\n",
       "      <td>4</td>\n",
       "      <td>3</td>\n",
       "    </tr>\n",
       "  </tbody>\n",
       "</table>\n",
       "</div>"
      ],
      "text/plain": [
       "            BuildingType   Size  AreaSqFt  NoOfBath  NoOfPeople  NoOfBalcony  \\\n",
       "791  Semi Furnished Flat  3 BHK   35000.0         3           2            3   \n",
       "\n",
       "     RentPerMonth  BuildingTypeEncoded  SizeEncoded  \n",
       "791       13000.0                    4            3  "
      ]
     },
     "execution_count": 68,
     "metadata": {},
     "output_type": "execute_result"
    }
   ],
   "source": [
    "df[df['AreaSqFt'] == 35000]"
   ]
  },
  {
   "cell_type": "code",
   "execution_count": 70,
   "id": "c9c038bf",
   "metadata": {},
   "outputs": [],
   "source": [
    "df = df.drop([791], axis = 0)"
   ]
  },
  {
   "cell_type": "code",
   "execution_count": 71,
   "id": "5304020c",
   "metadata": {
    "scrolled": true
   },
   "outputs": [
    {
     "data": {
      "text/plain": [
       "<AxesSubplot:xlabel='BuildingType', ylabel='AreaSqFt'>"
      ]
     },
     "execution_count": 71,
     "metadata": {},
     "output_type": "execute_result"
    },
    {
     "data": {
      "image/png": "[encoded data removed]",
      "text/plain": [
       "<Figure size 1080x360 with 1 Axes>"
      ]
     },
     "metadata": {
      "needs_background": "light"
     },
     "output_type": "display_data"
    }
   ],
   "source": [
    "plt.figure(figsize = (15, 5))\n",
    "sns.boxplot(data = df, y = 'AreaSqFt', x = 'BuildingType')"
   ]
  },
  {
   "cell_type": "code",
   "execution_count": 72,
   "id": "25e7a7cb",
   "metadata": {},
   "outputs": [
    {
     "data": {
      "text/plain": [
       "<AxesSubplot:xlabel='BuildingType', ylabel='AreaSqFt'>"
      ]
     },
     "execution_count": 72,
     "metadata": {},
     "output_type": "execute_result"
    },
    {
     "data": {
      "image/png": "[encoded data removed]",
      "text/plain": [
       "<Figure size 1080x360 with 1 Axes>"
      ]
     },
     "metadata": {
      "needs_background": "light"
     },
     "output_type": "display_data"
    }
   ],
   "source": [
    "plt.figure(figsize = (15, 5))\n",
    "sns.violinplot(data = df, y = 'AreaSqFt', x = 'BuildingType')"
   ]
  },
  {
   "cell_type": "code",
   "execution_count": 73,
   "id": "548b1ac6",
   "metadata": {
    "scrolled": true
   },
   "outputs": [
    {
     "data": {
      "text/plain": [
       "<AxesSubplot:xlabel='BuildingType', ylabel='AreaSqFt'>"
      ]
     },
     "execution_count": 73,
     "metadata": {},
     "output_type": "execute_result"
    },
    {
     "data": {
      "image/png": "[encoded data removed]",
      "text/plain": [
       "<Figure size 1080x360 with 1 Axes>"
      ]
     },
     "metadata": {
      "needs_background": "light"
     },
     "output_type": "display_data"
    }
   ],
   "source": [
    "plt.figure(figsize = (15, 5))\n",
    "sns.lineplot(data = df, y = 'AreaSqFt', x = 'BuildingType')"
   ]
  },
  {
   "cell_type": "code",
   "execution_count": 87,
   "id": "d17b4634",
   "metadata": {
    "scrolled": true
   },
   "outputs": [
    {
     "data": {
      "text/plain": [
       "<seaborn.axisgrid.FacetGrid at 0x2143e453c40>"
      ]
     },
     "execution_count": 87,
     "metadata": {},
     "output_type": "execute_result"
    },
    {
     "data": {
      "image/png": "[encoded data removed]",
      "text/plain": [
       "<Figure size 360x360 with 1 Axes>"
      ]
     },
     "metadata": {
      "needs_background": "light"
     },
     "output_type": "display_data"
    }
   ],
   "source": [
    "sns.catplot(data = df, y = 'RentPerMonth', x = 'NoOfPeople', kind='violin')"
   ]
  },
  {
   "cell_type": "code",
   "execution_count": 97,
   "id": "ac96cd4b",
   "metadata": {},
   "outputs": [
    {
     "data": {
      "text/plain": [
       "<seaborn.axisgrid.FacetGrid at 0x2143f9b5d00>"
      ]
     },
     "execution_count": 97,
     "metadata": {},
     "output_type": "execute_result"
    },
    {
     "data": {
      "image/png": "[encoded data removed]",
      "text/plain": [
       "<Figure size 360x360 with 1 Axes>"
      ]
     },
     "metadata": {
      "needs_background": "light"
     },
     "output_type": "display_data"
    }
   ],
   "source": [
    "sns.catplot(data = df, y = 'RentPerMonth', x = 'NoOfPeople', kind='strip')"
   ]
  },
  {
   "cell_type": "code",
   "execution_count": 95,
   "id": "c912c6d1",
   "metadata": {},
   "outputs": [
    {
     "data": {
      "text/plain": [
       "<seaborn.axisgrid.FacetGrid at 0x2143c72c3d0>"
      ]
     },
     "execution_count": 95,
     "metadata": {},
     "output_type": "execute_result"
    },
    {
     "data": {
      "image/png": "[encoded data removed]",
      "text/plain": [
       "<Figure size 360x360 with 1 Axes>"
      ]
     },
     "metadata": {
      "needs_background": "light"
     },
     "output_type": "display_data"
    }
   ],
   "source": [
    "sns.catplot(data = df, x = 'NoOfPeople', y = 'NoOfBath')"
   ]
  },
  {
   "cell_type": "markdown",
   "id": "ed71d4c7",
   "metadata": {},
   "source": [
    "## Playground"
   ]
  },
  {
   "cell_type": "code",
   "execution_count": 44,
   "id": "ca7e8ce7",
   "metadata": {},
   "outputs": [],
   "source": [
    "a = [1, 2, 3, 4, 5, 6, 7, 8]\n",
    "b = [2, 4, 6, 8, 10, 12, 14, 16]\n",
    "c = [2, 4, 8, 16, 32, 64, 128, 256]\n",
    "new_df = pd.DataFrame()"
   ]
  },
  {
   "cell_type": "code",
   "execution_count": 45,
   "id": "ff1b96ca",
   "metadata": {},
   "outputs": [],
   "source": [
    "new_df['feature_1'] = a\n",
    "new_df['feature_2'] = b\n",
    "new_df['feature_3'] = c"
   ]
  },
  {
   "cell_type": "code",
   "execution_count": 46,
   "id": "726763da",
   "metadata": {},
   "outputs": [
    {
     "data": {
      "text/html": [
       "<div>\n",
       "<style scoped>\n",
       "    .dataframe tbody tr th:only-of-type {\n",
       "        vertical-align: middle;\n",
       "    }\n",
       "\n",
       "    .dataframe tbody tr th {\n",
       "        vertical-align: top;\n",
       "    }\n",
       "\n",
       "    .dataframe thead th {\n",
       "        text-align: right;\n",
       "    }\n",
       "</style>\n",
       "<table border=\"1\" class=\"dataframe\">\n",
       "  <thead>\n",
       "    <tr style=\"text-align: right;\">\n",
       "      <th></th>\n",
       "      <th>feature_1</th>\n",
       "      <th>feature_2</th>\n",
       "      <th>feature_3</th>\n",
       "    </tr>\n",
       "  </thead>\n",
       "  <tbody>\n",
       "    <tr>\n",
       "      <th>0</th>\n",
       "      <td>1</td>\n",
       "      <td>2</td>\n",
       "      <td>2</td>\n",
       "    </tr>\n",
       "    <tr>\n",
       "      <th>1</th>\n",
       "      <td>2</td>\n",
       "      <td>4</td>\n",
       "      <td>4</td>\n",
       "    </tr>\n",
       "    <tr>\n",
       "      <th>2</th>\n",
       "      <td>3</td>\n",
       "      <td>6</td>\n",
       "      <td>8</td>\n",
       "    </tr>\n",
       "    <tr>\n",
       "      <th>3</th>\n",
       "      <td>4</td>\n",
       "      <td>8</td>\n",
       "      <td>16</td>\n",
       "    </tr>\n",
       "    <tr>\n",
       "      <th>4</th>\n",
       "      <td>5</td>\n",
       "      <td>10</td>\n",
       "      <td>32</td>\n",
       "    </tr>\n",
       "    <tr>\n",
       "      <th>5</th>\n",
       "      <td>6</td>\n",
       "      <td>12</td>\n",
       "      <td>64</td>\n",
       "    </tr>\n",
       "    <tr>\n",
       "      <th>6</th>\n",
       "      <td>7</td>\n",
       "      <td>14</td>\n",
       "      <td>128</td>\n",
       "    </tr>\n",
       "    <tr>\n",
       "      <th>7</th>\n",
       "      <td>8</td>\n",
       "      <td>16</td>\n",
       "      <td>256</td>\n",
       "    </tr>\n",
       "  </tbody>\n",
       "</table>\n",
       "</div>"
      ],
      "text/plain": [
       "   feature_1  feature_2  feature_3\n",
       "0          1          2          2\n",
       "1          2          4          4\n",
       "2          3          6          8\n",
       "3          4          8         16\n",
       "4          5         10         32\n",
       "5          6         12         64\n",
       "6          7         14        128\n",
       "7          8         16        256"
      ]
     },
     "execution_count": 46,
     "metadata": {},
     "output_type": "execute_result"
    }
   ],
   "source": [
    "new_df"
   ]
  },
  {
   "cell_type": "code",
   "execution_count": 47,
   "id": "7780a6f5",
   "metadata": {},
   "outputs": [
    {
     "data": {
      "text/plain": [
       "<AxesSubplot:>"
      ]
     },
     "execution_count": 47,
     "metadata": {},
     "output_type": "execute_result"
    },
    {
     "data": {
      "image/png": "[encoded data removed]",
      "text/plain": [
       "<Figure size 432x288 with 2 Axes>"
      ]
     },
     "metadata": {
      "needs_background": "light"
     },
     "output_type": "display_data"
    }
   ],
   "source": [
    "sns.heatmap(new_df.corr(), annot = True)"
   ]
  }
 ],
 "metadata": {
  "kernelspec": {
   "display_name": "Python 3",
   "language": "python",
   "name": "python3"
  },
  "language_info": {
   "codemirror_mode": {
    "name": "ipython",
    "version": 3
   },
   "file_extension": ".py",
   "mimetype": "text/x-python",
   "name": "python",
   "nbconvert_exporter": "python",
   "pygments_lexer": "ipython3",
   "version": "3.8.8"
  }
 },
 "nbformat": 4,
 "nbformat_minor": 5
}
